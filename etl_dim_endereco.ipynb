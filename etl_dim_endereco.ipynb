{
 "cells": [
  {
   "cell_type": "code",
   "execution_count": 19,
   "id": "21c0da3b-13d1-4966-ae17-2f6a2ed8c700",
   "metadata": {},
   "outputs": [],
   "source": [
    "import os\n",
    "from pyspark.sql import SparkSession\n",
    "from generate_df import table_to_df\n",
    "from IPython.display import display, HTML\n",
    "from tabulate import tabulate\n",
    "from functools import reduce\n",
    "from pyspark.sql import DataFrame\n",
    "from pyspark.sql.functions import lit\n",
    "from pyspark.sql.functions import regexp_extract, col, substring, instr, length\n",
    "from pyspark.sql import functions as F\n",
    "from pyspark.sql.types import IntegerType"
   ]
  },
  {
   "cell_type": "code",
   "execution_count": 2,
   "id": "7184567f-a4cd-4933-ba77-ff3f7961d2c0",
   "metadata": {},
   "outputs": [
    {
     "name": "stderr",
     "output_type": "stream",
     "text": [
      "24/06/16 15:51:30 WARN Utils: Your hostname, victor-Lenovo-ideapad-330-15IKB resolves to a loopback address: 127.0.1.1; using 192.168.0.125 instead (on interface wlp2s0)\n",
      "24/06/16 15:51:30 WARN Utils: Set SPARK_LOCAL_IP if you need to bind to another address\n",
      "Setting default log level to \"WARN\".\n",
      "To adjust logging level use sc.setLogLevel(newLevel). For SparkR, use setLogLevel(newLevel).\n",
      "24/06/16 15:51:31 WARN NativeCodeLoader: Unable to load native-hadoop library for your platform... using builtin-java classes where applicable\n"
     ]
    },
    {
     "data": {
      "text/html": [
       "\n",
       "            <div>\n",
       "                <p><b>SparkSession - in-memory</b></p>\n",
       "                \n",
       "        <div>\n",
       "            <p><b>SparkContext</b></p>\n",
       "\n",
       "            <p><a href=\"http://192.168.0.125:4040\">Spark UI</a></p>\n",
       "\n",
       "            <dl>\n",
       "              <dt>Version</dt>\n",
       "                <dd><code>v3.5.1</code></dd>\n",
       "              <dt>Master</dt>\n",
       "                <dd><code>local[*]</code></dd>\n",
       "              <dt>AppName</dt>\n",
       "                <dd><code>Exemplo Spark</code></dd>\n",
       "            </dl>\n",
       "        </div>\n",
       "        \n",
       "            </div>\n",
       "        "
      ],
      "text/plain": [
       "<pyspark.sql.session.SparkSession at 0x7775278eac20>"
      ]
     },
     "execution_count": 2,
     "metadata": {},
     "output_type": "execute_result"
    }
   ],
   "source": [
    "# Definir o caminho do Spark corretamente\n",
    "os.environ['SPARK_HOME'] = '/home/daiane/spark-3.5.1-bin-hadoop3/'\n",
    "\n",
    "# Definir o caminho do Java corretamente\n",
    "os.environ['JAVA_HOME'] = '/usr/lib/jvm/java-1.17.0-openjdk-amd64/'\n",
    "\n",
    "# Iniciar uma sessão Spark\n",
    "spark = SparkSession.builder \\\n",
    "    .appName(\"Exemplo Spark\") \\\n",
    "    .getOrCreate()\n",
    "\n",
    "# Testar a sessão Spark\n",
    "spark"
   ]
  },
  {
   "cell_type": "markdown",
   "id": "412e46c4",
   "metadata": {},
   "source": [
    "### Dataframes das tabelas \n"
   ]
  },
  {
   "cell_type": "code",
   "execution_count": 3,
   "id": "627530d3-2874-49da-8408-a5ea665e0f73",
   "metadata": {},
   "outputs": [
    {
     "name": "stderr",
     "output_type": "stream",
     "text": [
      "24/06/16 15:52:27 WARN TaskSetManager: Stage 0 contains a task of very large size (1496 KiB). The maximum recommended task size is 1000 KiB.\n",
      "24/06/16 15:52:31 WARN TaskSetManager: Stage 1 contains a task of very large size (1496 KiB). The maximum recommended task size is 1000 KiB.\n",
      "                                                                                \r"
     ]
    },
    {
     "data": {
      "text/plain": [
       "67453"
      ]
     },
     "execution_count": 3,
     "metadata": {},
     "output_type": "execute_result"
    }
   ],
   "source": [
    "df_agencias = table_to_df('finance_raw_data', 'agencias', spark)\n",
    "df_bancos = table_to_df('finance_raw_data', 'bancos', spark)\n",
    "df_cooperativas_credito = table_to_df('finance_raw_data', 'cooperativas_credito', spark)\n",
    "df_sociedades = table_to_df('finance_raw_data', 'sociedades', spark)\n",
    "df_address_adm_consorcio = table_to_df('finance_raw_data', 'administradoras_consorcio', spark)\n",
    "\n",
    "#colunas para a dim_endereco: id, cnpj, address_type, registration_date, date_end, street,\n",
    "#complement, number,  neighborhood, city, postalcode, state\n",
    "\n",
    "colunas = [\"cnpj\", \"data\", \"endereco\",\"complemento\", \"bairro\",  \"municipio\",\"cep\", \"uf\"]\n",
    "\n",
    "\n",
    "df_address_adm_consorcio_selected = df_address_adm_consorcio.select(colunas).withColumn(\"address_type\", lit(\"sede\"))\n",
    "df_bancos_selected = df_bancos.select(colunas).withColumn(\"address_type\", lit(\"sede\"))\n",
    "df_cooperativas_credito_selected = df_cooperativas_credito.select(colunas).withColumn(\"address_type\", lit(\"sede\"))\n",
    "df_sociedades_selected = df_sociedades.select(colunas).withColumn(\"address_type\", lit(\"sede\"))\n",
    "df_agencias_selected = df_agencias.select(colunas).withColumn(\"address_type\", lit(\"agencia\"))\n",
    "\n",
    "dataframes_selected = [df_address_adm_consorcio_selected, df_bancos_selected, df_cooperativas_credito_selected, df_sociedades_selected, df_agencias_selected]\n",
    "\n",
    "dataframes_selected = [\n",
    "    df.withColumn(\"number\", F.lit(None).cast(\"integer\"))\n",
    "      .withColumn(\"date_end\", F.lit(None).cast(\"date\"))\n",
    "    for df in dataframes_selected\n",
    "]\n",
    "\n",
    "\n",
    "def unionAll(dataframes):\n",
    "    return reduce(DataFrame.unionAll, dataframes)\n",
    "\n",
    "df_enderecos = unionAll(dataframes_selected)\n",
    "\n",
    "#colunas_ordem = [\"cnpj\",  \"address_type\", \"data\", \"date_end\", \"endereco\",\"complemento\", \"number\", \"bairro\",  \"municipio\",\"cep\", \"uf\"]\n",
    "\n",
    "#df_enderecos = df_enderecos.select(colunas_ordem)\n",
    "\n",
    "df_enderecos.persist()\n",
    "\n",
    "df_enderecos.count()\n",
    "\n"
   ]
  },
  {
   "cell_type": "code",
   "execution_count": 4,
   "id": "3fc82b44",
   "metadata": {},
   "outputs": [],
   "source": [
    "df_address_adm_consorcio_sample = df_address_adm_consorcio.createOrReplaceTempView(\"df_address_adm_consorcio_sample\")\n",
    "\n",
    "result_df = spark.sql(\"SELECT * FROM df_address_adm_consorcio_sample LIMIT 10\")\n",
    "\n",
    "rows = result_df.collect()\n",
    "\n",
    "columns = result_df.columns\n",
    "\n",
    "table = tabulate(rows, headers=columns, tablefmt='html')\n",
    "\n",
    "#display(HTML(table))"
   ]
  },
  {
   "cell_type": "markdown",
   "id": "be2648d5",
   "metadata": {},
   "source": [
    "### Tratamento do tipo de logradouro\n"
   ]
  },
  {
   "cell_type": "code",
   "execution_count": 5,
   "id": "6d7e2ccc",
   "metadata": {},
   "outputs": [
    {
     "name": "stderr",
     "output_type": "stream",
     "text": [
      "24/06/16 15:55:39 WARN CacheManager: Asked to cache already cached data.\n"
     ]
    },
    {
     "data": {
      "text/html": [
       "<table>\n",
       "<thead>\n",
       "<tr><th style=\"text-align: right;\">    cnpj</th><th>data                      </th><th>endereco                                              </th><th>complemento                                     </th><th>bairro              </th><th>municipio               </th><th style=\"text-align: right;\">     cep</th><th>uf  </th><th>address_type  </th><th>number  </th><th>date_end  </th></tr>\n",
       "</thead>\n",
       "<tbody>\n",
       "<tr><td style=\"text-align: right;\">92459213</td><td>2024-05-23 19:44:42.617722</td><td>BR/158 KM 60  N. 1.500                                </td><td>                                                </td><td>CERRITO             </td><td>SANTA MARIA             </td><td style=\"text-align: right;\">97060090</td><td>RS  </td><td>sede          </td><td>        </td><td>          </td></tr>\n",
       "<tr><td style=\"text-align: right;\">45441789</td><td>2024-05-23 19:44:42.617722</td><td>AVENIDA SENADOR ROBERTO SIMONSEN 304                  </td><td>                                                </td><td>SANTO ANTONIO       </td><td>SÃO CAETANO DO SUL      </td><td style=\"text-align: right;\">09530401</td><td>SP  </td><td>sede          </td><td>        </td><td>          </td></tr>\n",
       "<tr><td style=\"text-align: right;\">09111444</td><td>2024-05-23 19:44:42.617722</td><td>RUA HORTÊNCIA HELENA DE AMORIM BRITO, NO 13.008       </td><td>SALA 07B SALA 08B SALA 09B SALA 10B             </td><td>JARDIM AMERICA      </td><td>CABEDELO                </td><td style=\"text-align: right;\">58102660</td><td>PB  </td><td>sede          </td><td>        </td><td>          </td></tr>\n",
       "<tr><td style=\"text-align: right;\">13170428</td><td>2024-05-23 19:44:42.617722</td><td>AVENIDA JOÃO RIBEIRO, 652                             </td><td>                                                </td><td>SANTO ANTONIO       </td><td>ARACAJU                 </td><td style=\"text-align: right;\">49065000</td><td>SE  </td><td>sede          </td><td>        </td><td>          </td></tr>\n",
       "<tr><td style=\"text-align: right;\">06046109</td><td>2024-05-23 19:44:42.617722</td><td>RUA RIO GRANDE DO SUL, 448                            </td><td>                                                </td><td>LOURDES             </td><td>GOVERNADOR VALADARES    </td><td style=\"text-align: right;\">35030580</td><td>MG  </td><td>sede          </td><td>        </td><td>          </td></tr>\n",
       "<tr><td style=\"text-align: right;\">33868654</td><td>2024-05-23 19:44:42.617722</td><td>AVENIDA  ALMIRANTE BARROSO  63                        </td><td>17  ANDAR                                       </td><td>CENTRO              </td><td>RIO DE JANEIRO          </td><td style=\"text-align: right;\">20031913</td><td>RJ  </td><td>sede          </td><td>        </td><td>          </td></tr>\n",
       "<tr><td style=\"text-align: right;\">06044551</td><td>2024-05-23 19:44:42.617722</td><td>RUA PEDRELINA DE MACEDO E SILVA  100                  </td><td>SALA 03                                         </td><td>CENTRO              </td><td>DOURADINA               </td><td style=\"text-align: right;\">87485000</td><td>PR  </td><td>sede          </td><td>        </td><td>          </td></tr>\n",
       "<tr><td style=\"text-align: right;\">33350620</td><td>2024-05-23 19:44:42.617722</td><td>SBS-QRA 2-LT.19-BL.A-SL.701/708-ED.CASA DE S.PAULO    </td><td>                                                </td><td>ASA SUL             </td><td>BRASÍLIA                </td><td style=\"text-align: right;\">70078900</td><td>DF  </td><td>sede          </td><td>        </td><td>          </td></tr>\n",
       "<tr><td style=\"text-align: right;\">13548938</td><td>2024-05-23 19:44:42.617722</td><td>RUA BAEPENDI, 162                                     </td><td>CASA                                            </td><td>ONDINA              </td><td>SALVADOR                </td><td style=\"text-align: right;\">40170070</td><td>BA  </td><td>sede          </td><td>        </td><td>          </td></tr>\n",
       "<tr><td style=\"text-align: right;\">08570707</td><td>2024-05-23 19:44:42.617722</td><td>AVENIDA PRUDENTE DE MORAIS, 1610                      </td><td>                                                </td><td>TIROL               </td><td>NATAL                   </td><td style=\"text-align: right;\">59020510</td><td>RN  </td><td>sede          </td><td>        </td><td>          </td></tr>\n",
       "<tr><td style=\"text-align: right;\">68318773</td><td>2024-05-23 19:44:42.617722</td><td>AVENIDA FERNANDO CORREA DA COSTA, 1944                </td><td>SOBRE LOJA                                      </td><td>JARDIM KENNEDY      </td><td>CUIABÁ                  </td><td style=\"text-align: right;\">78065000</td><td>MT  </td><td>sede          </td><td>        </td><td>          </td></tr>\n",
       "<tr><td style=\"text-align: right;\">27268770</td><td>2024-05-23 19:44:42.617722</td><td>AVENIDA N. S. DOS NAVEGANTES, 675, 6.- ANDAR, SALA 602</td><td>                                                </td><td>ENSEADA DO SUÁ      </td><td>VITÓRIA                 </td><td style=\"text-align: right;\">29050912</td><td>ES  </td><td>sede          </td><td>        </td><td>          </td></tr>\n",
       "<tr><td style=\"text-align: right;\">85322204</td><td>2024-05-23 19:44:42.617722</td><td>RUA JOAQUIM VAZ  1615                                 </td><td>                                                </td><td>PRAIA COMPRIDA      </td><td>SÃO JOSÉ                </td><td style=\"text-align: right;\">88102650</td><td>SC  </td><td>sede          </td><td>        </td><td>          </td></tr>\n",
       "<tr><td style=\"text-align: right;\">00266031</td><td>2024-05-23 19:44:42.617722</td><td>AVENIDA ANHANGUERA,Nº3.559, 1º ANDAR                  </td><td>                                                </td><td>LESTE UNIVERSITARIO </td><td>GOIÂNIA                 </td><td style=\"text-align: right;\">74610010</td><td>GO  </td><td>sede          </td><td>        </td><td>          </td></tr>\n",
       "<tr><td style=\"text-align: right;\">07336852</td><td>2024-05-23 19:44:42.617722</td><td>AVENIDA  JOSE JATAHY 777                              </td><td>MEZANINO                                        </td><td>FARIAS BRITO        </td><td>FORTALEZA               </td><td style=\"text-align: right;\">60010843</td><td>CE  </td><td>sede          </td><td>        </td><td>          </td></tr>\n",
       "<tr><td style=\"text-align: right;\">05551841</td><td>2024-05-23 19:44:42.617722</td><td>RUA SENADOR MANOEL BARATA  N  909   3  ANDAR          </td><td>ENTRE AV  PRESIDENTE VARGAS E FREI GIL          </td><td>CAMPINA             </td><td>BELÉM                   </td><td style=\"text-align: right;\">66010147</td><td>PA  </td><td>sede          </td><td>        </td><td>          </td></tr>\n",
       "<tr><td style=\"text-align: right;\">91338228</td><td>2024-05-23 19:44:42.617722</td><td>AVENIDA DORIVAL CANDIDO LUZ DE OLIVEIRA, 501          </td><td>                                                </td><td>CENTRO              </td><td>GRAVATAÍ                </td><td style=\"text-align: right;\">94030001</td><td>RS  </td><td>sede          </td><td>        </td><td>          </td></tr>\n",
       "<tr><td style=\"text-align: right;\">52568821</td><td>2024-05-23 19:44:42.617722</td><td>NUCLEO CIDADE DE DEUS  S N                            </td><td>PREDIO MARRON  TERREO                           </td><td>VILA YARA           </td><td>OSASCO                  </td><td style=\"text-align: right;\">06029900</td><td>SP  </td><td>sede          </td><td>        </td><td>          </td></tr>\n",
       "<tr><td style=\"text-align: right;\">71045363</td><td>2024-05-23 19:44:42.617722</td><td>RODOVIA FERNAO DIAS, KM 2, BR 381, N. 2111            </td><td>QUADRA 000A -  SALA 01                          </td><td>AMAZONAS            </td><td>CONTAGEM                </td><td style=\"text-align: right;\">32240090</td><td>MG  </td><td>sede          </td><td>        </td><td>          </td></tr>\n",
       "<tr><td style=\"text-align: right;\">06940240</td><td>2024-05-23 19:44:42.617722</td><td>AVENIDA FLORISMUNDO DECNOP, 438                       </td><td>SALA 05                                         </td><td>TAVARES             </td><td>SANTO ANTÔNIO DE PÁDUA  </td><td style=\"text-align: right;\">28470000</td><td>RJ  </td><td>sede          </td><td>        </td><td>          </td></tr>\n",
       "<tr><td style=\"text-align: right;\">14723388</td><td>2024-05-23 19:44:42.617722</td><td>AVENIDA HIGIENOPOLIS  2400                            </td><td>                                                </td><td>PARQUE GUANABARA    </td><td>LONDRINA                </td><td style=\"text-align: right;\">86050000</td><td>PR  </td><td>sede          </td><td>        </td><td>          </td></tr>\n",
       "<tr><td style=\"text-align: right;\">16551061</td><td>2024-05-23 19:44:42.617722</td><td>SIG, QUADRA 1, LOTE 985                               </td><td>SALA 302, ED. CENTRO EMPRESARIAL PARQUE BRASÍLIA</td><td>SETOR IND. GRÁFICAS </td><td>BRASÍLIA                </td><td style=\"text-align: right;\">70610410</td><td>DF  </td><td>sede          </td><td>        </td><td>          </td></tr>\n",
       "<tr><td style=\"text-align: right;\">62246228</td><td>2024-05-23 19:44:42.617722</td><td>AVENIDA  PRUDENTE DE MORAIS  3398 A                   </td><td>                                                </td><td>LAGOA NOVA          </td><td>NATAL                   </td><td style=\"text-align: right;\">59054700</td><td>RN  </td><td>sede          </td><td>        </td><td>          </td></tr>\n",
       "<tr><td style=\"text-align: right;\">04058605</td><td>2024-05-23 19:44:42.617722</td><td>AVENIDA FRANCISCO LACERDA DE AGUIAR  96               </td><td>2  ANDAR  SALA 09                               </td><td>GILBERTO MACHADO    </td><td>CACHOEIRO DE ITAPEMIRIM </td><td style=\"text-align: right;\">29303300</td><td>ES  </td><td>sede          </td><td>        </td><td>          </td></tr>\n",
       "<tr><td style=\"text-align: right;\">82942400</td><td>2024-05-23 19:44:42.617722</td><td>RUA FERNANDO MACHADO, 3345 - D                        </td><td>                                                </td><td>BELA VISTA          </td><td>CHAPECÓ                 </td><td style=\"text-align: right;\">89804000</td><td>SC  </td><td>sede          </td><td>        </td><td>          </td></tr>\n",
       "<tr><td style=\"text-align: right;\">03762395</td><td>2024-05-23 19:44:42.617722</td><td>RUA BARAO DO TRIUNFO  129                             </td><td>                                                </td><td>AMERICANO           </td><td>LAJEADO                 </td><td style=\"text-align: right;\">95900576</td><td>RS  </td><td>sede          </td><td>        </td><td>          </td></tr>\n",
       "<tr><td style=\"text-align: right;\">96479258</td><td>2024-05-23 19:44:42.617722</td><td>AVENIDA  JOSE ODORIZZI  151                           </td><td>P36-10                                          </td><td>ASSUNCAO            </td><td>SÃO BERNARDO DO CAMPO   </td><td style=\"text-align: right;\">09810902</td><td>SP  </td><td>sede          </td><td>        </td><td>          </td></tr>\n",
       "<tr><td style=\"text-align: right;\">03832228</td><td>2024-05-23 19:44:42.617722</td><td>RUA 7 DE SETEMBRO 821                                 </td><td>                                                </td><td>CENTRO              </td><td>BARBACENA               </td><td style=\"text-align: right;\">36200078</td><td>MG  </td><td>sede          </td><td>        </td><td>          </td></tr>\n",
       "<tr><td style=\"text-align: right;\">28904092</td><td>2024-05-23 19:44:42.617722</td><td>AVENIDA DR ABREU LIMA 200                             </td><td>SALA 107 SHOPPING POINT 200                     </td><td>CENTRO              </td><td>BOM JESUS DO ITABAPOANA </td><td style=\"text-align: right;\">28360000</td><td>RJ  </td><td>sede          </td><td>        </td><td>          </td></tr>\n",
       "<tr><td style=\"text-align: right;\">84911098</td><td>2024-05-23 19:44:42.617722</td><td>AVENIDA SETE DE SETEMBRO  5870                        </td><td>                                                </td><td>BATEL               </td><td>CURITIBA                </td><td style=\"text-align: right;\">80240001</td><td>PR  </td><td>sede          </td><td>        </td><td>          </td></tr>\n",
       "<tr><td style=\"text-align: right;\">05349595</td><td>2024-05-23 19:44:42.617722</td><td>SHN QUADRA 1, BLOCO E, EDIFICIO CAIXA SEGURADORA      </td><td>11- ANDAR                                       </td><td>ASA NORTE           </td><td>BRASÍLIA                </td><td style=\"text-align: right;\">70701050</td><td>DF  </td><td>sede          </td><td>        </td><td>          </td></tr>\n",
       "<tr><td style=\"text-align: right;\">83553883</td><td>2024-05-23 19:44:42.617722</td><td>RUA XV DE NOVEMBRO  45                                </td><td>SALA 202                                        </td><td>CENTRO              </td><td>RIO DO SUL              </td><td style=\"text-align: right;\">89160000</td><td>SC  </td><td>sede          </td><td>        </td><td>          </td></tr>\n",
       "<tr><td style=\"text-align: right;\">03828278</td><td>2024-05-23 19:44:42.617722</td><td>RUA SERRO AZUL, 2440- PREDIO 3                        </td><td>SALA 03                                         </td><td>LINHA MARRECA       </td><td>CERRO LARGO             </td><td style=\"text-align: right;\">97900000</td><td>RS  </td><td>sede          </td><td>        </td><td>          </td></tr>\n",
       "<tr><td style=\"text-align: right;\">44196293</td><td>2024-05-23 19:44:42.617722</td><td>AVENIDA ARTUR DE QUEIROS  701                         </td><td>SALA 06                                         </td><td>CASA BRANCA         </td><td>SANTO ANDRÉ             </td><td style=\"text-align: right;\">09015510</td><td>SP  </td><td>sede          </td><td>        </td><td>          </td></tr>\n",
       "<tr><td style=\"text-align: right;\">23767155</td><td>2024-05-23 19:44:42.617722</td><td>AVENIDA DARCIO CANTIERI,1750                          </td><td>                                                </td><td>JARDIM SAO JOSE     </td><td>SÃO SEBASTIÃO DO PARAÍSO</td><td style=\"text-align: right;\">37950000</td><td>MG  </td><td>sede          </td><td>        </td><td>          </td></tr>\n",
       "<tr><td style=\"text-align: right;\">76515071</td><td>2024-05-23 19:44:42.617722</td><td>RUA ROCKFELLER  1118  (CP 6604                        </td><td>                                                </td><td>REBOUCAS            </td><td>CURITIBA                </td><td style=\"text-align: right;\">80230130</td><td>PR  </td><td>sede          </td><td>        </td><td>          </td></tr>\n",
       "<tr><td style=\"text-align: right;\">00643742</td><td>2024-05-23 19:44:42.617722</td><td>AVENIDA DUQUE DE CAXIAS                               </td><td>                                                </td><td>SETOR MILITAR URBANO</td><td>BRASÍLIA                </td><td style=\"text-align: right;\">70630902</td><td>DF  </td><td>sede          </td><td>        </td><td>          </td></tr>\n",
       "<tr><td style=\"text-align: right;\">73235962</td><td>2024-05-23 19:44:42.617722</td><td>RUA SAO PAULO, 2001                                   </td><td>                                                </td><td>CENTRO              </td><td>BLUMENAU                </td><td style=\"text-align: right;\">89012001</td><td>SC  </td><td>sede          </td><td>        </td><td>          </td></tr>\n",
       "<tr><td style=\"text-align: right;\">90982679</td><td>2024-05-23 19:44:42.617722</td><td>AVENIDA SETE DE SETEMBRO, 665                         </td><td>                                                </td><td>CENTRO              </td><td>ERECHIM                 </td><td style=\"text-align: right;\">99700000</td><td>RS  </td><td>sede          </td><td>        </td><td>          </td></tr>\n",
       "<tr><td style=\"text-align: right;\">57723801</td><td>2024-05-23 19:44:42.617722</td><td>AVENIDA  PREFEITO LUIZ LATORRE  4 950                 </td><td>1   ANDAR                                       </td><td>JD  DAS HORTENSIAS  </td><td>JUNDIAÍ                 </td><td style=\"text-align: right;\">13209430</td><td>SP  </td><td>sede          </td><td>        </td><td>          </td></tr>\n",
       "<tr><td style=\"text-align: right;\">64479991</td><td>2024-05-23 19:44:42.617722</td><td>AV.ANTONIO PAULINO FERREIRA ,400-A                    </td><td>1- ANDAR                                        </td><td>SAO JOSE            </td><td>NOVA SERRANA            </td><td style=\"text-align: right;\">35519000</td><td>MG  </td><td>sede          </td><td>        </td><td>          </td></tr>\n",
       "<tr><td style=\"text-align: right;\">03586655</td><td>2024-05-23 19:44:42.617722</td><td>AVENIDA MARIPA  5387                                  </td><td>                                                </td><td>JARDIM LA SALLE     </td><td>TOLEDO                  </td><td style=\"text-align: right;\">85902060</td><td>PR  </td><td>sede          </td><td>        </td><td>          </td></tr>\n",
       "<tr><td style=\"text-align: right;\">02010478</td><td>2024-05-23 19:44:42.617722</td><td>SCS QUADRA 4  BLOCO A  N  230  4  ANDAR               </td><td>                                                </td><td>ASA SUL             </td><td>BRASÍLIA                </td><td style=\"text-align: right;\">70304914</td><td>DF  </td><td>sede          </td><td>        </td><td>          </td></tr>\n",
       "<tr><td style=\"text-align: right;\">72461643</td><td>2024-05-23 19:44:42.617722</td><td>RUA EXPEDICIONARIO ALEIXO MABA  60                    </td><td>                                                </td><td>BARRA DO RIO        </td><td>ITAJAÍ                  </td><td style=\"text-align: right;\">88305360</td><td>SC  </td><td>sede          </td><td>        </td><td>          </td></tr>\n",
       "<tr><td style=\"text-align: right;\">87636635</td><td>2024-05-23 19:44:42.617722</td><td>RUA JB CABRAL, 299                                    </td><td>                                                </td><td>CENTRO              </td><td>ERECHIM                 </td><td style=\"text-align: right;\">99700420</td><td>RS  </td><td>sede          </td><td>        </td><td>          </td></tr>\n",
       "<tr><td style=\"text-align: right;\">50827237</td><td>2024-05-23 19:44:42.617722</td><td>RUA NOVIK  221                                        </td><td>                                                </td><td>DISTRITO INDUSTRIAL </td><td>SALTO                   </td><td style=\"text-align: right;\">13329620</td><td>SP  </td><td>sede          </td><td>        </td><td>          </td></tr>\n",
       "<tr><td style=\"text-align: right;\">23367634</td><td>2024-05-23 19:44:42.617722</td><td>RUA SANTA CRUZ 99                                     </td><td>A                                               </td><td>                    </td><td>PRATINHA                </td><td style=\"text-align: right;\">38960000</td><td>MG  </td><td>sede          </td><td>        </td><td>          </td></tr>\n",
       "<tr><td style=\"text-align: right;\">80402746</td><td>2024-05-23 19:44:42.617722</td><td>AVENIDA  PRESIDENTE KENNEDY  2726                     </td><td>                                                </td><td>CENTRO              </td><td>PALOTINA                </td><td style=\"text-align: right;\">85950000</td><td>PR  </td><td>sede          </td><td>        </td><td>          </td></tr>\n",
       "<tr><td style=\"text-align: right;\">00600262</td><td>2024-05-23 19:44:42.617722</td><td>SCR/SUL QUADRA 516 BLOCO C LOJA 75                    </td><td>ASA SUL                                         </td><td>ASA SUL             </td><td>BRASÍLIA                </td><td style=\"text-align: right;\">70381535</td><td>DF  </td><td>sede          </td><td>        </td><td>          </td></tr>\n",
       "<tr><td style=\"text-align: right;\">03870838</td><td>2024-05-23 19:44:42.617722</td><td>AVENIDA SANTA TEREZINHA, 356, SALA 101                </td><td>CENTRO COMERCIAL NERY FUGANTI                   </td><td>CENTRO              </td><td>JOAÇABA                 </td><td style=\"text-align: right;\">89600000</td><td>SC  </td><td>sede          </td><td>        </td><td>          </td></tr>\n",
       "</tbody>\n",
       "</table>"
      ],
      "text/plain": [
       "<IPython.core.display.HTML object>"
      ]
     },
     "metadata": {},
     "output_type": "display_data"
    }
   ],
   "source": [
    "tipos_logradouros = [\"AREA\", \"ACESSO\", \"ACAMPAMENTO\", \"AEROPORTO\", \"ALAMEDA\", \"AVENIDA\", \"BLOCO\",\n",
    "                     \"CANAL\", \"CONDOMINIO\", \"DISTRITO\", \"ESTRADA\", \"RUA\", \"VIA\", \"TRAVESSA\"]\n",
    "\n",
    "#amostra_df = df_enderecos.sample(False, 0.5)\n",
    "\n",
    "#df = amostra_df.filter(df_enderecos[\"endereco\"].contains(\"PC. \"))\n",
    "\n",
    "df_enderecos_corrigido = df_enderecos.withColumn(\n",
    "    \"endereco\",\n",
    "    F.when(\n",
    "        F.col(\"endereco\").rlike(r\"^R\\. \") | F.col(\"endereco\").rlike(r\"^R \"),\n",
    "        F.regexp_replace(F.col(\"endereco\"), r\"^R\\.? \", \"RUA \")\n",
    "    ).when(\n",
    "        F.col(\"endereco\").rlike(r\"^AV\\. \") | F.col(\"endereco\").rlike(r\"^AV \"),\n",
    "        F.regexp_replace(F.col(\"endereco\"), r\"^AV\\.? \", \"AVENIDA \")\n",
    "    ).when(\n",
    "        F.col(\"endereco\").rlike(r\"^TV\\. \") | F.col(\"endereco\").rlike(r\"^TV \"),\n",
    "        F.regexp_replace(F.col(\"endereco\"), r\"^TV\\.? \", \"TRAVESSA \")\n",
    "    ).when(\n",
    "        F.col(\"endereco\").rlike(r\"^PC \"),\n",
    "        F.regexp_replace(F.col(\"endereco\"), r\"^PC \", \"PRACA \")\n",
    "    ).otherwise(F.col(\"endereco\"))\n",
    ")\n",
    "\n",
    "df_enderecos_corrigido.persist()\n",
    "\n",
    "df_enderecos_corrigido_1 = df_enderecos_corrigido.limit(50)\n",
    "\n",
    "table = tabulate(df_enderecos_corrigido_1.collect(), headers=df_enderecos_corrigido_1.columns, tablefmt='html')\n",
    "#table = tabulate(amostra_df.collect(), headers=amostra_df.columns, tablefmt='html')\n",
    "\n",
    "\n",
    "display(HTML(table))"
   ]
  },
  {
   "cell_type": "markdown",
   "id": "af9fdab8",
   "metadata": {},
   "source": [
    "### Tratamento do número do logradouro"
   ]
  },
  {
   "cell_type": "markdown",
   "id": "43db6493",
   "metadata": {},
   "source": [
    "Identificando o número na coluna \"endereco\" e copiando-o pra coluna \"number\"\n"
   ]
  },
  {
   "cell_type": "code",
   "execution_count": 8,
   "id": "cd8d1267",
   "metadata": {
    "scrolled": true
   },
   "outputs": [
    {
     "name": "stderr",
     "output_type": "stream",
     "text": [
      "24/06/16 16:36:21 WARN TaskSetManager: Stage 27 contains a task of very large size (1496 KiB). The maximum recommended task size is 1000 KiB.\n",
      "24/06/16 16:36:23 WARN TaskSetManager: Stage 28 contains a task of very large size (1496 KiB). The maximum recommended task size is 1000 KiB.\n",
      "24/06/16 16:36:23 WARN TaskSetManager: Stage 31 contains a task of very large size (1496 KiB). The maximum recommended task size is 1000 KiB.\n",
      "24/06/16 16:36:24 WARN TaskSetManager: Stage 34 contains a task of very large size (1496 KiB). The maximum recommended task size is 1000 KiB.\n"
     ]
    },
    {
     "name": "stdout",
     "output_type": "stream",
     "text": [
      "Registros não vazios: 47598 (70.56%)\n",
      "Registros vazios: 19855 (29.44%)\n"
     ]
    }
   ],
   "source": [
    "amostra_df = df_enderecos_corrigido.sample(False, 0.3)\n",
    "\n",
    "regex = r\"(\\d+(?:\\.\\d+)?)\"\n",
    "\n",
    "tipos_logradouros = [\"AREA\", \"ACESSO\", \"ACAMPAMENTO\", \"AEROPORTO\", \"ALAMEDA\", \"AVENIDA\", \"BLOCO\",\n",
    "                     \"CANAL\", \"CONDOMINIO\", \"DISTRITO\", \"ESTRADA\", \"RUA\", \"VIA\", \"TRAVESSA\"]\n",
    "\n",
    "df_endereco_numero_tratado = df_enderecos_corrigido.withColumn(\"number\",\n",
    "    F.when(\n",
    "        F.col(\"endereco\").like(\"%BR %\") |\n",
    "        F.col(\"endereco\").like(\"%BR/%\") |\n",
    "        F.col(\"endereco\").like(\"%RODOVIA%\") |\n",
    "        F.col(\"endereco\").rlike(r\"^\\b(\" + \"|\".join(tipos_logradouros) + r\")\\b \\d+\") |\n",
    "        F.col(\"endereco\").rlike(r\"^\\b(\" + \"|\".join(tipos_logradouros) + r\")\\b \\d+[A-Z]*$\") |\n",
    "        (F.col(\"endereco\").like(\"%QUADRA%\") & ~F.col(\"endereco\").like(\"%LOTE%\")),\n",
    "        \"\"\n",
    "    ).when(\n",
    "        F.col(\"endereco\").like(\"%QUADRA%\") & F.col(\"endereco\").like(\"%LOTE%\"),\n",
    "        F.regexp_extract(F.col(\"endereco\"), r\".*LOTE (\\d+)\", 1)\n",
    "    ).when(\n",
    "        F.col(\"endereco\").like(\"%N %\") | F.col(\"endereco\").like(\"%N.\") | F.col(\"endereco\").like(\"%Nº\"),\n",
    "        F.regexp_extract(F.col(\"endereco\"), r\"N[ .º]*?(\\d+)\", 1)\n",
    "    ).otherwise(F.regexp_extract(F.col(\"endereco\"), regex, 0))\n",
    ")\n",
    "\n",
    "df_endereco_numero_tratado.persist()\n",
    "\n",
    "#quadra = amostra.filter(df_enderecos[\"endereco\"].contains(\"BR\"))\n",
    "\n",
    "#rows = df_endereco_numero_tratado.collect()\n",
    "\n",
    "#columns = df_endereco_numero_tratado.columns\n",
    "\n",
    "#table = tabulate(rows, headers=columns, tablefmt='html')\n",
    "\n",
    "#display(HTML(table))\n",
    "\n",
    "# Contar registros não vazios (não nulos e não vazios)\n",
    "non_empty_count = df_endereco_numero_tratado.filter((col(\"number\").isNotNull()) & (col(\"number\") != \"\")).count()\n",
    "\n",
    "# Contar registros vazios (nulos ou vazios)\n",
    "empty_count = df_endereco_numero_tratado.filter((col(\"number\").isNull()) | (col(\"number\") == \"\")).count()\n",
    "\n",
    "total_count = df_endereco_numero_tratado.count()\n",
    "\n",
    "non_empty_percentage = (non_empty_count / total_count) * 100\n",
    "empty_percentage = (empty_count / total_count) * 100\n",
    "\n",
    "\n",
    "print(f\"Registros não vazios: {non_empty_count} ({non_empty_percentage:.2f}%)\")\n",
    "print(f\"Registros vazios: {empty_count} ({empty_percentage:.2f}%)\")"
   ]
  },
  {
   "cell_type": "code",
   "execution_count": 30,
   "id": "b8241731",
   "metadata": {
    "scrolled": true
   },
   "outputs": [
    {
     "name": "stderr",
     "output_type": "stream",
     "text": [
      "24/06/16 18:24:19 WARN CacheManager: Asked to cache already cached data.\n"
     ]
    },
    {
     "name": "stdout",
     "output_type": "stream",
     "text": [
      "+-----------------------------------------+\n",
      "|apos_numero                              |\n",
      "+-----------------------------------------+\n",
      "|R/158 KM 60  N. 1.500                    |\n",
      "|                                         |\n",
      "|                                         |\n",
      "|                                         |\n",
      "|                                         |\n",
      "|                                         |\n",
      "|                                         |\n",
      "|LT.19-BL.A-SL.701/708-ED.CASA DE S.PAULO |\n",
      "|                                         |\n",
      "|                                         |\n",
      "|                                         |\n",
      "| 6.- ANDAR, SALA 602                     |\n",
      "|                                         |\n",
      "| 1º ANDAR                                |\n",
      "|                                         |\n",
      "|  3  ANDAR                               |\n",
      "|                                         |\n",
      "|UCLEO CIDADE DE DEUS  S N                |\n",
      "|ODOVIA FERNAO DIAS, KM 2, BR 381, N. 2111|\n",
      "|                                         |\n",
      "+-----------------------------------------+\n",
      "only showing top 20 rows\n",
      "\n"
     ]
    },
    {
     "name": "stderr",
     "output_type": "stream",
     "text": [
      "24/06/16 18:24:20 WARN TaskSetManager: Stage 50 contains a task of very large size (1496 KiB). The maximum recommended task size is 1000 KiB.\n",
      "[Stage 50:============================================>           (16 + 4) / 20]\r"
     ]
    },
    {
     "name": "stdout",
     "output_type": "stream",
     "text": [
      "+--------------------+-----+\n",
      "|         apos_numero| freq|\n",
      "+--------------------+-----+\n",
      "|                    |40526|\n",
      "|VENIDA BRIGADEIRO...|  541|\n",
      "|     VENIDA PAULISTA|  325|\n",
      "|VENIDA PRESIDENTE...|  269|\n",
      "|                   A|  255|\n",
      "|VENIDA DAS NAÇÕES...|  145|\n",
      "|    RAIA DE BOTAFOGO|  145|\n",
      "|VENIDA TANCREDO N...|  139|\n",
      "|                   -|  121|\n",
      "| UA JOAQUIM FLORIANO|  120|\n",
      "| VENIDA DOM PEDRO II|  111|\n",
      "|   UA XV DE NOVEMBRO|  109|\n",
      "|       LAMEDA SANTOS|  101|\n",
      "|UA LEOPOLDO COUTO...|   93|\n",
      "|VENIDA PRESIDENTE...|   91|\n",
      "|    LAMEDA RIO NEGRO|   77|\n",
      "|   VENIDA DA SAUDADE|   76|\n",
      "|    UA DA ASSEMBLEIA|   76|\n",
      "|VENIDA BRIGADEIRO...|   73|\n",
      "|  UA ALVES GUIMARÃES|   71|\n",
      "+--------------------+-----+\n",
      "only showing top 20 rows\n",
      "\n"
     ]
    },
    {
     "name": "stderr",
     "output_type": "stream",
     "text": [
      "\r",
      "                                                                                \r"
     ]
    }
   ],
   "source": [
    "from pyspark.sql.functions import col, expr, length, substring\n",
    "\n",
    "\n",
    "df = df_endereco_numero_tratado.withColumn(\"apos_numero\", expr(\"substring(endereco, locate(number, endereco) + length(number) + 1, length(endereco))\"))\n",
    "\n",
    "# Cria uma view temporária contendo apenas a coluna temporária \"apos_numero\"\n",
    "df.createOrReplaceTempView(\"view_temporariaa\")\n",
    "\n",
    "df_col_temp.persist()\n",
    "\n",
    "# Exibe o DataFrame resultante\n",
    "#df_col_temp.show(truncate=False)\n",
    "\n",
    "# Exibe a view temporária\n",
    "spark.sql(\"SELECT apos_numero FROM view_temporariaa\").show(truncate=False)\n",
    "\n",
    "\n",
    "spark.sql(\" SELECT apos_numero, COUNT(*) as freq from view_temporariaa group by apos_numero order by freq desc \").show()\n"
   ]
  },
  {
   "cell_type": "code",
   "execution_count": 26,
   "id": "517754e0",
   "metadata": {},
   "outputs": [
    {
     "data": {
      "text/html": [
       "<table>\n",
       "<thead>\n",
       "<tr><th>endereco                                       </th><th>number  </th></tr>\n",
       "</thead>\n",
       "<tbody>\n",
       "<tr><td>RUA C -139, QUADRA 337, LOTE 03                </td><td>03      </td></tr>\n",
       "<tr><td>RODOVIA PRESIDENTE DUTRA N. 2660 (PARTE)       </td><td>        </td></tr>\n",
       "<tr><td>RUA LIBERO BADARÓ, 158                         </td><td>158     </td></tr>\n",
       "<tr><td>AVENIDA CAPITAO ACACIO, 363 - PARTE            </td><td>363     </td></tr>\n",
       "<tr><td>AV BENJAMIN CONSTANT 1058 5 ANDAR              </td><td>        </td></tr>\n",
       "<tr><td>AVENIDA MATO GROSSO 690N                       </td><td>690     </td></tr>\n",
       "<tr><td>RODOVIA PE 35 KM 3                             </td><td>        </td></tr>\n",
       "<tr><td>AV. XV DE NOVEMBRO, 500 - SALA 02 - 1. ANDAR   </td><td>500     </td></tr>\n",
       "<tr><td>RODOVIA MG-22, KM 105                          </td><td>        </td></tr>\n",
       "<tr><td>PRAÇA CAPITÃO VICENTE DIAS, 70 - SOBRE LOJA    </td><td>70      </td></tr>\n",
       "<tr><td>SCS QUADRA 4 BLOCO A N 230 4 ANDAR             </td><td>        </td></tr>\n",
       "<tr><td>RUA RUI BARBOSA 1360 1 ANDAR                   </td><td>1360    </td></tr>\n",
       "<tr><td>AVENIDA JORNALISTA ROBERTO MARINHO 85 3 ANDAR  </td><td>85      </td></tr>\n",
       "<tr><td>AV. ANHANGUERA,Nº3.559, 1º ANDAR               </td><td>3.559   </td></tr>\n",
       "<tr><td>RUA HORTÊNCIA HELENA DE AMORIM BRITO, NO 13.008</td><td>13.008  </td></tr>\n",
       "<tr><td>RUA SENADOR MANOEL BARATA N 909 3 ANDAR        </td><td>909     </td></tr>\n",
       "<tr><td>RUA B N°20 89                                  </td><td>20      </td></tr>\n",
       "</tbody>\n",
       "</table>"
      ],
      "text/plain": [
       "<IPython.core.display.HTML object>"
      ]
     },
     "metadata": {},
     "output_type": "display_data"
    }
   ],
   "source": [
    "from pyspark.sql import SparkSession, Row\n",
    "import pyspark.sql.functions as F\n",
    "from tabulate import tabulate\n",
    "from IPython.display import display, HTML\n",
    "\n",
    "\n",
    "enderecos = [\n",
    "    {\"endereco\": \"RUA C -139, QUADRA 337, LOTE 03\"},\n",
    "    {\"endereco\": \"RODOVIA PRESIDENTE DUTRA N. 2660 (PARTE)\"},\n",
    "    {\"endereco\": \"RUA LIBERO BADARÓ, 158\"},\n",
    "    {\"endereco\": \"AVENIDA CAPITAO ACACIO, 363 - PARTE\"},\n",
    "    {\"endereco\": \"AV BENJAMIN CONSTANT 1058 5 ANDAR\"},\n",
    "    {\"endereco\": \"AVENIDA MATO GROSSO 690N\"},\n",
    "    {\"endereco\": \"RODOVIA PE 35 KM 3\"},\n",
    "    {\"endereco\": \"AV. XV DE NOVEMBRO, 500 - SALA 02 - 1. ANDAR\"},\n",
    "    {\"endereco\": \"RODOVIA MG-22, KM 105\"},\n",
    "    {\"endereco\": \"PRAÇA CAPITÃO VICENTE DIAS, 70 - SOBRE LOJA\"},\n",
    "    {\"endereco\": \"SCS QUADRA 4 BLOCO A N 230 4 ANDAR\"},\n",
    "    {\"endereco\": \"RUA RUI BARBOSA 1360 1 ANDAR\"},\n",
    "    {\"endereco\": \"AVENIDA JORNALISTA ROBERTO MARINHO 85 3 ANDAR\"},\n",
    "    {\"endereco\": \"AV. ANHANGUERA,Nº3.559, 1º ANDAR\"},\n",
    "    {\"endereco\": \"RUA HORTÊNCIA HELENA DE AMORIM BRITO, NO 13.008\"},\n",
    "    {\"endereco\": \"RUA SENADOR MANOEL BARATA N 909 3 ANDAR\"},\n",
    "    {\"endereco\": \"RUA B N°20 89\"}\n",
    "]\n",
    "\n",
    "# Convertendo a lista de dicionários em uma lista de linhas do Spark\n",
    "rows = [Row(**endereco) for endereco in enderecos]\n",
    "\n",
    "# Criando o DataFrame Spark\n",
    "df_enderecos_teste = spark.createDataFrame(rows)\n",
    "\n",
    "regex = r\"(\\d+(?:\\.\\d+)?)\"\n",
    "\n",
    "\n",
    "\n",
    "amostra_teste = df_enderecos_teste.withColumn(\"number\",\n",
    "    F.when(F.col(\"endereco\").like(\"%BR %\"), \"\") \\\n",
    "    .when(F.col(\"endereco\").like(\"%BR/%\"), \"\") \\\n",
    "    .when(F.col(\"endereco\").like(\"%RODOVIA%\"), \"\") \\\n",
    "    .when(F.col(\"endereco\").like(\"%QUADRA%\") & ~F.col(\"endereco\").like(\"%LOTE%\"),\n",
    "          \"\") \\\n",
    "    .when(F.col(\"endereco\").like(\"%QUADRA%\") & F.col(\"endereco\").like(\"%LOTE%\"), \n",
    "          F.regexp_extract(F.col(\"endereco\"), r\".*LOTE (\\d+)\", 1)) \\\n",
    "    .when(F.col(\"endereco\").like(\"%N %\") | F.col(\"endereco\").like(\"%N.\") | F.col(\"endereco\").like(\"%Nº\"),\n",
    "          F.regexp_extract(F.col(\"endereco\"), r\"N[ .º]*?(\\d+)\", 1)) \\\n",
    "    .otherwise(F.regexp_extract(F.col(\"endereco\"), regex, 0))).limit(60)\n",
    "\n",
    "#quadra = amostra.filter(df_enderecos[\"endereco\"].contains(\"BR\"))\n",
    "\n",
    "rows_ = amostra_teste.collect()\n",
    "\n",
    "columns_ = amostra_teste.columns\n",
    "\n",
    "table_ = tabulate(rows_, headers=columns_, tablefmt='html')\n",
    "\n",
    "display(HTML(table_))"
   ]
  },
  {
   "cell_type": "code",
   "execution_count": null,
   "id": "3d4a93de",
   "metadata": {},
   "outputs": [],
   "source": []
  },
  {
   "cell_type": "code",
   "execution_count": null,
   "id": "5f261d67",
   "metadata": {},
   "outputs": [],
   "source": []
  }
 ],
 "metadata": {
  "kernelspec": {
   "display_name": "Python 3 (ipykernel)",
   "language": "python",
   "name": "python3"
  },
  "language_info": {
   "codemirror_mode": {
    "name": "ipython",
    "version": 3
   },
   "file_extension": ".py",
   "mimetype": "text/x-python",
   "name": "python",
   "nbconvert_exporter": "python",
   "pygments_lexer": "ipython3",
   "version": "3.10.12"
  }
 },
 "nbformat": 4,
 "nbformat_minor": 5
}
