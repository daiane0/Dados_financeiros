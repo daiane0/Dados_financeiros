{
 "cells": [
  {
   "cell_type": "code",
   "execution_count": 1,
   "id": "3115815c-4a18-4001-afee-6c5ae8456f6a",
   "metadata": {},
   "outputs": [],
   "source": [
    "from pyspark.sql import SparkSession\n",
    "from pyspark.sql import functions as F\n",
    "from pyspark.sql import types as T\n",
    "import generate_df as G\n",
    "from IPython.display import display, HTML\n",
    "from tabulate import tabulate\n",
    "from unidecode import unidecode\n"
   ]
  },
  {
   "cell_type": "code",
   "execution_count": 2,
   "id": "599a6418-6f7c-49a2-9c0d-eeb5b6ddebec",
   "metadata": {},
   "outputs": [
    {
     "name": "stderr",
     "output_type": "stream",
     "text": [
      "24/07/21 19:49:19 WARN Utils: Your hostname, victor-Lenovo-ideapad-330-15IKB resolves to a loopback address: 127.0.1.1; using 192.168.0.125 instead (on interface wlp2s0)\n",
      "24/07/21 19:49:19 WARN Utils: Set SPARK_LOCAL_IP if you need to bind to another address\n",
      "24/07/21 19:49:20 WARN NativeCodeLoader: Unable to load native-hadoop library for your platform... using builtin-java classes where applicable\n",
      "Setting default log level to \"WARN\".\n",
      "To adjust logging level use sc.setLogLevel(newLevel). For SparkR, use setLogLevel(newLevel).\n"
     ]
    }
   ],
   "source": [
    "spark = SparkSession.builder.appName(\"finance_data_processing\")\\\n",
    ".config(\"spark.jars\",\"/home/daiane/Downloads/postgresql-42.7.3.jar\").getOrCreate()\n"
   ]
  },
  {
   "cell_type": "code",
   "execution_count": 3,
   "id": "e81ed59a-dbff-4aa4-a4d0-f81696d6a5c3",
   "metadata": {},
   "outputs": [],
   "source": [
    "def cnpj_completo(cnpj_base_input):\n",
    "    #adiciona \"0001\" e calcula dígitos verificadores, retorna cnpj com 14 dígitos\n",
    "    pesos1 = [5, 4, 3, 2, 9, 8, 7, 6, 5, 4, 3, 2]\n",
    "    pesos2 = [6, 5, 4, 3, 2, 9, 8, 7, 6, 5, 4, 3, 2]\n",
    "\n",
    "    cnpj1 = cnpj_base_input + \"0001\"\n",
    "    cnpj_base = cnpj1.zfill(12)\n",
    "\n",
    "    #1° dígito verficador\n",
    "    soma1 = sum(int(digito) * peso for digito, peso in zip(cnpj_base, pesos1))\n",
    "    resto1 = soma1 % 11\n",
    "    digito1 = 0 if resto1 < 2 else 11 - resto1\n",
    "\n",
    "    #2° dígito verificador\n",
    "    soma2 = sum(int(digito) * peso for digito, peso in zip(cnpj_base + str(digito1), pesos2))\n",
    "    resto2 = soma2 % 11\n",
    "    digito2 = 0 if resto2 < 2 else 11 - resto2\n",
    "\n",
    "    cnpj = cnpj_base  + str(digito1) + str(digito2)\n",
    "    return cnpj\n",
    "\n",
    "cnpj_udf = F.udf(cnpj_completo, T.StringType())\n"
   ]
  },
  {
   "cell_type": "code",
   "execution_count": 6,
   "id": "31eb7cfc-6d96-459f-bcb2-8b65a22f2e18",
   "metadata": {
    "scrolled": true
   },
   "outputs": [
    {
     "name": "stderr",
     "output_type": "stream",
     "text": [
      "24/07/21 20:02:17 WARN TaskSetManager: Stage 5 contains a task of very large size (11648 KiB). The maximum recommended task size is 1000 KiB.\n",
      "24/07/21 20:02:23 WARN TaskSetManager: Stage 6 contains a task of very large size (11648 KiB). The maximum recommended task size is 1000 KiB.\n",
      "24/07/21 20:02:33 WARN TaskSetManager: Stage 7 contains a task of very large size (11648 KiB). The maximum recommended task size is 1000 KiB.\n",
      "                                                                                \r"
     ]
    },
    {
     "data": {
      "text/html": [
       "<table>\n",
       "<thead>\n",
       "<tr><th>instituicao                                                                                             </th><th style=\"text-align: right;\">  codigo</th><th>conglomerado  </th><th style=\"text-align: right;\">  codigo_conglomerado_financeiro</th><th>codigo_conglomerado_prudencial  </th><th>tcb  </th><th style=\"text-align: right;\">  tc</th><th style=\"text-align: right;\">  ti</th><th>cidade            </th><th>uf  </th><th>rendas_operacoes_credito_a1  </th><th style=\"text-align: right;\">  rendas_operacoes_arrendamento_mercantil_a2</th><th>rendas_operacoes_com_tvm_a3  </th><th style=\"text-align: right;\">  rendas_operacoes_instrumentos_financeiros_derivativos_a4</th><th style=\"text-align: right;\">  resultado_operacoes_cambio_a5</th><th style=\"text-align: right;\">  rendas_aplicacoes_compulsorias_a6</th><th>receitas_intermediacao_financeira_soma_a1_a2_a3_a4_a5_a6  </th><th>despesas_captacao_b1  </th><th style=\"text-align: right;\">  despesas_obrigacoes_por_emprestimos_e_repasses_b2</th><th>despesas_operacoes_arrendamento_mercantil_b3  </th><th style=\"text-align: right;\">  resultado_operacoes_cambio_b4</th><th style=\"text-align: right;\">  resultado_de_provisao_para_creditos_dificil_liquidacao_b5</th><th>despesas__intermediacao_financeira_soma_b1_b2_b3_b4_b5  </th><th>resultao_intermediacao_financeira_c_soma_a_b  </th><th style=\"text-align: right;\">  rendas_prestacao_servico_d1</th><th style=\"text-align: right;\">  rendas_tarifas_bancarias_d2</th><th style=\"text-align: right;\">  despesas_de_pessoal_d3</th><th style=\"text-align: right;\">  despesas_administrativas_d4</th><th style=\"text-align: right;\">  despesas_tributarias_d5</th><th style=\"text-align: right;\">  resultado_de_participacoes_d6</th><th style=\"text-align: right;\">  outras_receitas_operacionais_d7</th><th style=\"text-align: right;\">  outras_receitas_operacionais_d8</th><th>soma_d1_d2_d3_d4_d5_d6_d7_d8  </th><th style=\"text-align: right;\">  resultado_operacional_soma_c_d</th><th style=\"text-align: right;\">  resultado_nao_operacional_f</th><th style=\"text-align: right;\">       g</th><th style=\"text-align: right;\">  imposto_renda_contribuicao_social_h</th><th style=\"text-align: right;\">  participacao_lucros_i</th><th style=\"text-align: right;\">  lucro_liquido_soma_g_h_i</th><th style=\"text-align: right;\">  juros_capital_social_cooperativas_k</th><th>data_format_d  </th><th style=\"text-align: right;\">  cnpj_completo</th></tr>\n",
       "</thead>\n",
       "<tbody>\n",
       "<tr><td>BANCO DO ESTADO DO RIO GRANDE DO SUL S.A.                                                               </td><td style=\"text-align: right;\">92702067</td><td>BANRISUL      </td><td style=\"text-align: right;\">                           30173</td><td>                                </td><td>b1   </td><td style=\"text-align: right;\">   1</td><td style=\"text-align: right;\">   8</td><td>PORTO ALEGRE      </td><td>RS  </td><td>2.312.069                    </td><td style=\"text-align: right;\">                                      23.751</td><td>575.854                      </td><td style=\"text-align: right;\">                                                   411.517</td><td style=\"text-align: right;\">                         73.295</td><td style=\"text-align: right;\">                            155.856</td><td>3.552.342                                                 </td><td>-906.021              </td><td style=\"text-align: right;\">                                           -377.249</td><td>-18.288                                       </td><td style=\"text-align: right;\">                          0    </td><td style=\"text-align: right;\">                                                   -116.754</td><td>-1.418.312                                              </td><td>2.134.030                                     </td><td style=\"text-align: right;\">                       59.925</td><td style=\"text-align: right;\">                      277.478</td><td style=\"text-align: right;\">                -572.906</td><td style=\"text-align: right;\">                     -378.365</td><td style=\"text-align: right;\">                 -118.611</td><td style=\"text-align: right;\">                         32.491</td><td style=\"text-align: right;\">                           68.76 </td><td style=\"text-align: right;\">                         -878.76 </td><td>-1.509.987                    </td><td style=\"text-align: right;\">                         624.043</td><td style=\"text-align: right;\">                       -5.868</td><td style=\"text-align: right;\"> 618.176</td><td style=\"text-align: right;\">                             -167.235</td><td style=\"text-align: right;\">                -31.349</td><td style=\"text-align: right;\">                   419.591</td><td style=\"text-align: right;\">                             -130.439</td><td>2012-06-01     </td><td style=\"text-align: right;\"> 92702067000196</td></tr>\n",
       "<tr><td>BANCO CITIBANK S.A.                                                                                     </td><td style=\"text-align: right;\">33479023</td><td>CITIBANK      </td><td style=\"text-align: right;\">                           30403</td><td>                                </td><td>b1   </td><td style=\"text-align: right;\">   3</td><td style=\"text-align: right;\">   8</td><td>SAO PAULO         </td><td>SP  </td><td>1.192.420                    </td><td style=\"text-align: right;\">                                       0    </td><td>1.325.709                    </td><td style=\"text-align: right;\">                                                   357.507</td><td style=\"text-align: right;\">                        403.575</td><td style=\"text-align: right;\">                            112.065</td><td>3.391.276                                                 </td><td>-1.001.730            </td><td style=\"text-align: right;\">                                           -757.013</td><td>0                                             </td><td style=\"text-align: right;\">                          0    </td><td style=\"text-align: right;\">                                                   -218.973</td><td>-1.977.716                                              </td><td>1.413.560                                     </td><td style=\"text-align: right;\">                      209.56 </td><td style=\"text-align: right;\">                       95.592</td><td style=\"text-align: right;\">                -533.147</td><td style=\"text-align: right;\">                     -538.692</td><td style=\"text-align: right;\">                 -112.544</td><td style=\"text-align: right;\">                        146.861</td><td style=\"text-align: right;\">                          120.604</td><td style=\"text-align: right;\">                         -244.557</td><td>-856.322                      </td><td style=\"text-align: right;\">                         557.238</td><td style=\"text-align: right;\">                      555    </td><td style=\"text-align: right;\"> 557.793</td><td style=\"text-align: right;\">                             -179.4  </td><td style=\"text-align: right;\">                -15.105</td><td style=\"text-align: right;\">                   363.288</td><td style=\"text-align: right;\">                                0    </td><td>2012-06-01     </td><td style=\"text-align: right;\"> 33479023000180</td></tr>\n",
       "<tr><td>SANTANDER LEASING S.A. ARRENDAMENTO MERCANTIL                                                           </td><td style=\"text-align: right;\">47193149</td><td>SANTANDER     </td><td style=\"text-align: right;\">                           30379</td><td>                                </td><td>n1   </td><td style=\"text-align: right;\">   3</td><td style=\"text-align: right;\">  19</td><td>SAO PAULO         </td><td>SP  </td><td>48.697                       </td><td style=\"text-align: right;\">                                     671.467</td><td>1.771.099                    </td><td style=\"text-align: right;\">                                                  -433    </td><td style=\"text-align: right;\">                          0    </td><td style=\"text-align: right;\">                              0    </td><td>2.490.830                                                 </td><td>-1.517.067            </td><td style=\"text-align: right;\">                                              0    </td><td>-1.247.819                                    </td><td style=\"text-align: right;\">                          0    </td><td style=\"text-align: right;\">                                                     33.17 </td><td>-2.731.716                                              </td><td>-240.886                                      </td><td style=\"text-align: right;\">                        1.643</td><td style=\"text-align: right;\">                      445    </td><td style=\"text-align: right;\">                   0    </td><td style=\"text-align: right;\">                      -30.999</td><td style=\"text-align: right;\">                  -48.482</td><td style=\"text-align: right;\">                          0    </td><td style=\"text-align: right;\">                           98.038</td><td style=\"text-align: right;\">                         -147.887</td><td>-127.242                      </td><td style=\"text-align: right;\">                        -368.127</td><td style=\"text-align: right;\">                      901.994</td><td style=\"text-align: right;\"> 533.867</td><td style=\"text-align: right;\">                             -104.795</td><td style=\"text-align: right;\">                  0    </td><td style=\"text-align: right;\">                   429.072</td><td style=\"text-align: right;\">                                0    </td><td>2012-06-01     </td><td style=\"text-align: right;\"> 47193149000106</td></tr>\n",
       "<tr><td>BANCO PANAMERICANO S.A.                                                                                 </td><td style=\"text-align: right;\">59285411</td><td>PANAMERICANO  </td><td style=\"text-align: right;\">                           31323</td><td>                                </td><td>b1   </td><td style=\"text-align: right;\">   2</td><td style=\"text-align: right;\">   8</td><td>SAO PAULO         </td><td>SP  </td><td>912.329                      </td><td style=\"text-align: right;\">                                       0    </td><td>643.665                      </td><td style=\"text-align: right;\">                                                   192.188</td><td style=\"text-align: right;\">                         36.193</td><td style=\"text-align: right;\">                              0    </td><td>1.784.375                                                 </td><td>-1.214.881            </td><td style=\"text-align: right;\">                                           -190    </td><td>0                                             </td><td style=\"text-align: right;\">                          0    </td><td style=\"text-align: right;\">                                                   -584.835</td><td>-1.799.906                                              </td><td>-15.531                                       </td><td style=\"text-align: right;\">                       34.328</td><td style=\"text-align: right;\">                       92.362</td><td style=\"text-align: right;\">                 -53.843</td><td style=\"text-align: right;\">                     -512.995</td><td style=\"text-align: right;\">                  -45.55 </td><td style=\"text-align: right;\">                         -5.179</td><td style=\"text-align: right;\">                          105.027</td><td style=\"text-align: right;\">                         -131.031</td><td>-516.882                      </td><td style=\"text-align: right;\">                        -532.412</td><td style=\"text-align: right;\">                      -38.245</td><td style=\"text-align: right;\">-570.657</td><td style=\"text-align: right;\">                              248.08 </td><td style=\"text-align: right;\">                  0    </td><td style=\"text-align: right;\">                  -322.576</td><td style=\"text-align: right;\">                                0    </td><td>2012-06-01     </td><td style=\"text-align: right;\"> 59285411000113</td></tr>\n",
       "<tr><td>BANCO RABOBANK INTERNATIONAL BRASIL S.A.                                                                </td><td style=\"text-align: right;\"> 1023570</td><td>              </td><td style=\"text-align: right;\">                                </td><td>                                </td><td>b1   </td><td style=\"text-align: right;\">   3</td><td style=\"text-align: right;\">   8</td><td>SAO PAULO         </td><td>SP  </td><td>439.647                      </td><td style=\"text-align: right;\">                                       0    </td><td>286.731                      </td><td style=\"text-align: right;\">                                                    45.49 </td><td style=\"text-align: right;\">                        143.593</td><td style=\"text-align: right;\">                              0    </td><td>915.462                                                   </td><td>-170.044              </td><td style=\"text-align: right;\">                                           -470.752</td><td>0                                             </td><td style=\"text-align: right;\">                          0    </td><td style=\"text-align: right;\">                                                    -17.293</td><td>-658.089                                                </td><td>257.372                                       </td><td style=\"text-align: right;\">                       21.745</td><td style=\"text-align: right;\">                        2.488</td><td style=\"text-align: right;\">                 -59.956</td><td style=\"text-align: right;\">                      -34.192</td><td style=\"text-align: right;\">                  -13.057</td><td style=\"text-align: right;\">                          3.59 </td><td style=\"text-align: right;\">                           10    </td><td style=\"text-align: right;\">                           -9.538</td><td>-88.909                       </td><td style=\"text-align: right;\">                         168.464</td><td style=\"text-align: right;\">                     -165    </td><td style=\"text-align: right;\"> 168.299</td><td style=\"text-align: right;\">                              -68.4  </td><td style=\"text-align: right;\">                 -2.925</td><td style=\"text-align: right;\">                    96.973</td><td style=\"text-align: right;\">                                0    </td><td>2012-06-01     </td><td style=\"text-align: right;\"> 01023570000160</td></tr>\n",
       "<tr><td>BRB - BANCO DE BRASILIA S.A.                                                                            </td><td style=\"text-align: right;\">     208</td><td>BRB           </td><td style=\"text-align: right;\">                           31976</td><td>                                </td><td>b1   </td><td style=\"text-align: right;\">   1</td><td style=\"text-align: right;\">   8</td><td>BRASILIA          </td><td>DF  </td><td>731.134                      </td><td style=\"text-align: right;\">                                       0    </td><td>123.593                      </td><td style=\"text-align: right;\">                                                     0    </td><td style=\"text-align: right;\">                          1.024</td><td style=\"text-align: right;\">                             10.255</td><td>866.005                                                   </td><td>-263.189              </td><td style=\"text-align: right;\">                                             -1.223</td><td>0                                             </td><td style=\"text-align: right;\">                          0    </td><td style=\"text-align: right;\">                                                   -100.709</td><td>-365.121                                                </td><td>500.884                                       </td><td style=\"text-align: right;\">                        8.159</td><td style=\"text-align: right;\">                       48.689</td><td style=\"text-align: right;\">                -235.237</td><td style=\"text-align: right;\">                     -121.188</td><td style=\"text-align: right;\">                  -34.16 </td><td style=\"text-align: right;\">                         20.123</td><td style=\"text-align: right;\">                           27.191</td><td style=\"text-align: right;\">                          -56.482</td><td>-342.906                      </td><td style=\"text-align: right;\">                         157.978</td><td style=\"text-align: right;\">                       -4.252</td><td style=\"text-align: right;\"> 153.726</td><td style=\"text-align: right;\">                              -21.55 </td><td style=\"text-align: right;\">                -17.106</td><td style=\"text-align: right;\">                   115.07 </td><td style=\"text-align: right;\">                              -23.291</td><td>2012-06-01     </td><td style=\"text-align: right;\"> 00000208000100</td></tr>\n",
       "<tr><td>BANCO ABC BRASIL S.A.                                                                                   </td><td style=\"text-align: right;\">28195667</td><td>ABC-BRASIL    </td><td style=\"text-align: right;\">                           41856</td><td>                                </td><td>b1   </td><td style=\"text-align: right;\">   3</td><td style=\"text-align: right;\">   8</td><td>SAO PAULO         </td><td>SP  </td><td>586.633                      </td><td style=\"text-align: right;\">                                       0    </td><td>136.244                      </td><td style=\"text-align: right;\">                                                    17.992</td><td style=\"text-align: right;\">                          0    </td><td style=\"text-align: right;\">                              0    </td><td>740.870                                                   </td><td>-478.364              </td><td style=\"text-align: right;\">                                           -125.013</td><td>0                                             </td><td style=\"text-align: right;\">                        -21.457</td><td style=\"text-align: right;\">                                                    -49.168</td><td>-674.003                                                </td><td>66.867                                        </td><td style=\"text-align: right;\">                       58.063</td><td style=\"text-align: right;\">                        3.379</td><td style=\"text-align: right;\">                 -63.004</td><td style=\"text-align: right;\">                      -35.801</td><td style=\"text-align: right;\">                  -16.799</td><td style=\"text-align: right;\">                         63.057</td><td style=\"text-align: right;\">                          233.782</td><td style=\"text-align: right;\">                         -149.999</td><td>92.678                        </td><td style=\"text-align: right;\">                         159.546</td><td style=\"text-align: right;\">                       -4.74 </td><td style=\"text-align: right;\"> 154.805</td><td style=\"text-align: right;\">                              -19.741</td><td style=\"text-align: right;\">                -23.14 </td><td style=\"text-align: right;\">                   111.924</td><td style=\"text-align: right;\">                              -44.482</td><td>2012-06-01     </td><td style=\"text-align: right;\"> 28195667000106</td></tr>\n",
       "<tr><td>HIPERCARD BANCO MÚLTIPLO S.A.                                                                           </td><td style=\"text-align: right;\"> 3012230</td><td>ITAU          </td><td style=\"text-align: right;\">                           10069</td><td>                                </td><td>b1   </td><td style=\"text-align: right;\">   2</td><td style=\"text-align: right;\">   8</td><td>SAO PAULO         </td><td>SP  </td><td>555.057                      </td><td style=\"text-align: right;\">                                       0    </td><td>134.599                      </td><td style=\"text-align: right;\">                                                     0    </td><td style=\"text-align: right;\">                          0    </td><td style=\"text-align: right;\">                             11.53 </td><td>701.186                                                   </td><td>-205.667              </td><td style=\"text-align: right;\">                                              0    </td><td>0                                             </td><td style=\"text-align: right;\">                          0    </td><td style=\"text-align: right;\">                                                   -263.718</td><td>-469.385                                                </td><td>231.800                                       </td><td style=\"text-align: right;\">                      295.557</td><td style=\"text-align: right;\">                       12.288</td><td style=\"text-align: right;\">                  -4.801</td><td style=\"text-align: right;\">                     -469.343</td><td style=\"text-align: right;\">                  -53.137</td><td style=\"text-align: right;\">                          5.131</td><td style=\"text-align: right;\">                          261.033</td><td style=\"text-align: right;\">                         -199.678</td><td>-152.950                      </td><td style=\"text-align: right;\">                          78.85 </td><td style=\"text-align: right;\">                     -134    </td><td style=\"text-align: right;\">  78.716</td><td style=\"text-align: right;\">                              -26.903</td><td style=\"text-align: right;\">               -545    </td><td style=\"text-align: right;\">                    51.268</td><td style=\"text-align: right;\">                                0    </td><td>2012-06-01     </td><td style=\"text-align: right;\"> 03012230000169</td></tr>\n",
       "<tr><td>BANCO J. SAFRA S.A.                                                                                     </td><td style=\"text-align: right;\"> 3017677</td><td>SAFRA         </td><td style=\"text-align: right;\">                           10083</td><td>                                </td><td>b1   </td><td style=\"text-align: right;\">   2</td><td style=\"text-align: right;\">   8</td><td>SAO PAULO         </td><td>SP  </td><td>684.166                      </td><td style=\"text-align: right;\">                                       0    </td><td>55.261                       </td><td style=\"text-align: right;\">                                                   -69.543</td><td style=\"text-align: right;\">                          0    </td><td style=\"text-align: right;\">                             22.664</td><td>692.549                                                   </td><td>-367.200              </td><td style=\"text-align: right;\">                                            -43.938</td><td>0                                             </td><td style=\"text-align: right;\">                          0    </td><td style=\"text-align: right;\">                                                   -135.005</td><td>-546.143                                                </td><td>146.406                                       </td><td style=\"text-align: right;\">                       72.266</td><td style=\"text-align: right;\">                       28.732</td><td style=\"text-align: right;\">                 -66.65 </td><td style=\"text-align: right;\">                      -57.067</td><td style=\"text-align: right;\">                  -22.446</td><td style=\"text-align: right;\">                          0    </td><td style=\"text-align: right;\">                           12.676</td><td style=\"text-align: right;\">                          -23.982</td><td>-56.473                       </td><td style=\"text-align: right;\">                          89.933</td><td style=\"text-align: right;\">                     -710    </td><td style=\"text-align: right;\">  89.223</td><td style=\"text-align: right;\">                              -82.385</td><td style=\"text-align: right;\">                  0    </td><td style=\"text-align: right;\">                     6.838</td><td style=\"text-align: right;\">                                0    </td><td>2012-06-01     </td><td style=\"text-align: right;\"> 03017677000120</td></tr>\n",
       "<tr><td>PERNAMBUCANAS FINANCIADORA S.A. - CRÉDITO, FINANCIAMENTO E INVESTIMENTO                                 </td><td style=\"text-align: right;\">43180355</td><td>PERNAMBUCANAS </td><td style=\"text-align: right;\">                           40699</td><td>                                </td><td>n1   </td><td style=\"text-align: right;\">   2</td><td style=\"text-align: right;\">  14</td><td>SAO PAULO         </td><td>SP  </td><td>435.138                      </td><td style=\"text-align: right;\">                                       0    </td><td>7.767                        </td><td style=\"text-align: right;\">                                                     0    </td><td style=\"text-align: right;\">                          0    </td><td style=\"text-align: right;\">                              0    </td><td>442.905                                                   </td><td>-21.897               </td><td style=\"text-align: right;\">                                              0    </td><td>0                                             </td><td style=\"text-align: right;\">                         -1    </td><td style=\"text-align: right;\">                                                   -167.483</td><td>-189.381                                                </td><td>253.523                                       </td><td style=\"text-align: right;\">                        2.596</td><td style=\"text-align: right;\">                       18.625</td><td style=\"text-align: right;\">                 -28.108</td><td style=\"text-align: right;\">                      -63.625</td><td style=\"text-align: right;\">                 -987    </td><td style=\"text-align: right;\">                       -127    </td><td style=\"text-align: right;\">                           22.509</td><td style=\"text-align: right;\">                          -57.997</td><td>-107.114                      </td><td style=\"text-align: right;\">                         146.409</td><td style=\"text-align: right;\">                      -12    </td><td style=\"text-align: right;\"> 146.397</td><td style=\"text-align: right;\">                              -59.091</td><td style=\"text-align: right;\">                  0    </td><td style=\"text-align: right;\">                    87.306</td><td style=\"text-align: right;\">                                0    </td><td>2012-06-01     </td><td style=\"text-align: right;\"> 43180355000112</td></tr>\n",
       "<tr><td>BANCO RURAL S.A.                                                                                        </td><td style=\"text-align: right;\">33124959</td><td>RURAL         </td><td style=\"text-align: right;\">                           31244</td><td>                                </td><td>b1   </td><td style=\"text-align: right;\">   2</td><td style=\"text-align: right;\">   8</td><td>BELO HORIZONTE    </td><td>MG  </td><td>274.953                      </td><td style=\"text-align: right;\">                                     530    </td><td>60.939                       </td><td style=\"text-align: right;\">                                                    -4.284</td><td style=\"text-align: right;\">                         18.034</td><td style=\"text-align: right;\">                              0    </td><td>350.171                                                   </td><td>-194.294              </td><td style=\"text-align: right;\">                                            -31.457</td><td>-492                                          </td><td style=\"text-align: right;\">                          0    </td><td style=\"text-align: right;\">                                                    -86.574</td><td>-312.817                                                </td><td>37.354                                        </td><td style=\"text-align: right;\">                        1.907</td><td style=\"text-align: right;\">                        7.885</td><td style=\"text-align: right;\">                 -74.829</td><td style=\"text-align: right;\">                      -68.286</td><td style=\"text-align: right;\">                 -822    </td><td style=\"text-align: right;\">                         21.053</td><td style=\"text-align: right;\">                           30.332</td><td style=\"text-align: right;\">                          -28.024</td><td>-110.784                      </td><td style=\"text-align: right;\">                         -73.43 </td><td style=\"text-align: right;\">                        4.428</td><td style=\"text-align: right;\"> -69.001</td><td style=\"text-align: right;\">                               36.102</td><td style=\"text-align: right;\">                  0    </td><td style=\"text-align: right;\">                   -32.899</td><td style=\"text-align: right;\">                                0    </td><td>2012-06-01     </td><td style=\"text-align: right;\"> 33124959000198</td></tr>\n",
       "<tr><td>BANCO TOYOTA DO BRASIL S.A.                                                                             </td><td style=\"text-align: right;\"> 2977348</td><td>TOYOTA        </td><td style=\"text-align: right;\">                           51334</td><td>                                </td><td>b2   </td><td style=\"text-align: right;\">   3</td><td style=\"text-align: right;\">   8</td><td>SAO PAULO         </td><td>SP  </td><td>189.757                      </td><td style=\"text-align: right;\">                                       0    </td><td>49.025                       </td><td style=\"text-align: right;\">                                                    74.406</td><td style=\"text-align: right;\">                          0    </td><td style=\"text-align: right;\">                              0    </td><td>313.188                                                   </td><td>-76.491               </td><td style=\"text-align: right;\">                                           -149.546</td><td>0                                             </td><td style=\"text-align: right;\">                          0    </td><td style=\"text-align: right;\">                                                    -15.559</td><td>-241.596                                                </td><td>71.593                                        </td><td style=\"text-align: right;\">                        3    </td><td style=\"text-align: right;\">                       10.243</td><td style=\"text-align: right;\">                 -12.01 </td><td style=\"text-align: right;\">                      -37.222</td><td style=\"text-align: right;\">                   -7.047</td><td style=\"text-align: right;\">                          2.59 </td><td style=\"text-align: right;\">                            6.752</td><td style=\"text-align: right;\">                         -934    </td><td>-37.625                       </td><td style=\"text-align: right;\">                          33.967</td><td style=\"text-align: right;\">                       -2.973</td><td style=\"text-align: right;\">  30.995</td><td style=\"text-align: right;\">                              -10.833</td><td style=\"text-align: right;\">                 -1.565</td><td style=\"text-align: right;\">                    18.597</td><td style=\"text-align: right;\">                                0    </td><td>2012-06-01     </td><td style=\"text-align: right;\"> 02977348000169</td></tr>\n",
       "<tr><td>OMNI S.A. - CREDITO FINANCIAMENTO E INVESTIMENTO                                                        </td><td style=\"text-align: right;\">92228410</td><td>OMNI          </td><td style=\"text-align: right;\">                           50940</td><td>                                </td><td>n1   </td><td style=\"text-align: right;\">   2</td><td style=\"text-align: right;\">  14</td><td>SAO PAULO         </td><td>SP  </td><td>161.807                      </td><td style=\"text-align: right;\">                                       0    </td><td>41.620                       </td><td style=\"text-align: right;\">                                                  -586    </td><td style=\"text-align: right;\">                          0    </td><td style=\"text-align: right;\">                              0    </td><td>202.842                                                   </td><td>-70.080               </td><td style=\"text-align: right;\">                                              0    </td><td>0                                             </td><td style=\"text-align: right;\">                          0    </td><td style=\"text-align: right;\">                                                    -33.324</td><td>-103.403                                                </td><td>99.439                                        </td><td style=\"text-align: right;\">                        6.616</td><td style=\"text-align: right;\">                       17.746</td><td style=\"text-align: right;\">                  -3.562</td><td style=\"text-align: right;\">                      -90.112</td><td style=\"text-align: right;\">                  -13.719</td><td style=\"text-align: right;\">                          6.184</td><td style=\"text-align: right;\">                            3.805</td><td style=\"text-align: right;\">                          -13.965</td><td>-87.007                       </td><td style=\"text-align: right;\">                          12.432</td><td style=\"text-align: right;\">                       -1.569</td><td style=\"text-align: right;\">  10.864</td><td style=\"text-align: right;\">                             -986    </td><td style=\"text-align: right;\">                  0    </td><td style=\"text-align: right;\">                     9.878</td><td style=\"text-align: right;\">                                0    </td><td>2012-06-01     </td><td style=\"text-align: right;\"> 92228410000102</td></tr>\n",
       "<tr><td>CITIBANK DISTRIBUIDORA DE TITULOS E VALORES MOBILIARIOS S.A                                             </td><td style=\"text-align: right;\">33868597</td><td>CITIBANK      </td><td style=\"text-align: right;\">                           30403</td><td>                                </td><td>n2   </td><td style=\"text-align: right;\">   3</td><td style=\"text-align: right;\">  16</td><td>SAO PAULO         </td><td>SP  </td><td>0                            </td><td style=\"text-align: right;\">                                       0    </td><td>168.684                      </td><td style=\"text-align: right;\">                                                     0    </td><td style=\"text-align: right;\">                          0    </td><td style=\"text-align: right;\">                              0    </td><td>168.684                                                   </td><td>0                     </td><td style=\"text-align: right;\">                                              0    </td><td>0                                             </td><td style=\"text-align: right;\">                          0    </td><td style=\"text-align: right;\">                                                      0    </td><td>0                                                       </td><td>168.684                                       </td><td style=\"text-align: right;\">                       53.824</td><td style=\"text-align: right;\">                      304    </td><td style=\"text-align: right;\">                 -24.579</td><td style=\"text-align: right;\">                       -5.292</td><td style=\"text-align: right;\">                  -12.333</td><td style=\"text-align: right;\">                          0    </td><td style=\"text-align: right;\">                            1.554</td><td style=\"text-align: right;\">                           -3.516</td><td>9.961                         </td><td style=\"text-align: right;\">                         178.645</td><td style=\"text-align: right;\">                        7    </td><td style=\"text-align: right;\"> 178.652</td><td style=\"text-align: right;\">                              -70.889</td><td style=\"text-align: right;\">                 -1.48 </td><td style=\"text-align: right;\">                   106.284</td><td style=\"text-align: right;\">                                0    </td><td>2012-06-01     </td><td style=\"text-align: right;\"> 33868597000140</td></tr>\n",
       "<tr><td>BANCO COMMERCIAL INVESTMENT TRUST DO BRASIL S.A. - BANCO MÚLTIPLO                                       </td><td style=\"text-align: right;\">43818780</td><td>              </td><td style=\"text-align: right;\">                                </td><td>                                </td><td>b2   </td><td style=\"text-align: right;\">   3</td><td style=\"text-align: right;\">   8</td><td>BARUERI           </td><td>SP  </td><td>2.511                        </td><td style=\"text-align: right;\">                                     146.027</td><td>2.862                        </td><td style=\"text-align: right;\">                                                     0    </td><td style=\"text-align: right;\">                          0    </td><td style=\"text-align: right;\">                              0    </td><td>151.400                                                   </td><td>-14.304               </td><td style=\"text-align: right;\">                                            -13.42 </td><td>-107.422                                      </td><td style=\"text-align: right;\">                          0    </td><td style=\"text-align: right;\">                                                     -2.669</td><td>-137.815                                                </td><td>13.585                                        </td><td style=\"text-align: right;\">                        9    </td><td style=\"text-align: right;\">                        1    </td><td style=\"text-align: right;\">                  -9.27 </td><td style=\"text-align: right;\">                       -5.486</td><td style=\"text-align: right;\">                   -1.773</td><td style=\"text-align: right;\">                          0    </td><td style=\"text-align: right;\">                           13.943</td><td style=\"text-align: right;\">                           -4.044</td><td>-6.620                        </td><td style=\"text-align: right;\">                           6.965</td><td style=\"text-align: right;\">                        5.815</td><td style=\"text-align: right;\">  12.78 </td><td style=\"text-align: right;\">                               -3.467</td><td style=\"text-align: right;\">               -984    </td><td style=\"text-align: right;\">                     8.328</td><td style=\"text-align: right;\">                                0    </td><td>2012-06-01     </td><td style=\"text-align: right;\"> 43818780000194</td></tr>\n",
       "<tr><td>BANCO MODAL S.A.                                                                                        </td><td style=\"text-align: right;\">30723886</td><td>              </td><td style=\"text-align: right;\">                                </td><td>                                </td><td>b1   </td><td style=\"text-align: right;\">   2</td><td style=\"text-align: right;\">   8</td><td>RIO DE JANEIRO    </td><td>RJ  </td><td>24.185                       </td><td style=\"text-align: right;\">                                       0    </td><td>34.110                       </td><td style=\"text-align: right;\">                                                    35.904</td><td style=\"text-align: right;\">                          1.472</td><td style=\"text-align: right;\">                              0    </td><td>95.671                                                    </td><td>-47.365               </td><td style=\"text-align: right;\">                                             -5.69 </td><td>0                                             </td><td style=\"text-align: right;\">                          0    </td><td style=\"text-align: right;\">                                                     -3.509</td><td>-56.564                                                 </td><td>39.107                                        </td><td style=\"text-align: right;\">                        7.069</td><td style=\"text-align: right;\">                      379    </td><td style=\"text-align: right;\">                 -11.215</td><td style=\"text-align: right;\">                      -13.028</td><td style=\"text-align: right;\">                   -1.178</td><td style=\"text-align: right;\">                          1.536</td><td style=\"text-align: right;\">                            4.674</td><td style=\"text-align: right;\">                           -1.853</td><td>-13.615                       </td><td style=\"text-align: right;\">                          25.492</td><td style=\"text-align: right;\">                       20    </td><td style=\"text-align: right;\">  25.512</td><td style=\"text-align: right;\">                               -4.567</td><td style=\"text-align: right;\">                 -5.664</td><td style=\"text-align: right;\">                    15.281</td><td style=\"text-align: right;\">                               -7.2  </td><td>2012-06-01     </td><td style=\"text-align: right;\"> 30723886000162</td></tr>\n",
       "<tr><td>BANCO GUANABARA S.A.                                                                                    </td><td style=\"text-align: right;\">31880826</td><td>              </td><td style=\"text-align: right;\">                                </td><td>                                </td><td>b1   </td><td style=\"text-align: right;\">   2</td><td style=\"text-align: right;\">   8</td><td>RIO DE JANEIRO    </td><td>RJ  </td><td>38.777                       </td><td style=\"text-align: right;\">                                      26.463</td><td>17.404                       </td><td style=\"text-align: right;\">                                                     0    </td><td style=\"text-align: right;\">                          0    </td><td style=\"text-align: right;\">                              0    </td><td>82.644                                                    </td><td>-22.761               </td><td style=\"text-align: right;\">                                             -7.187</td><td>-23.916                                       </td><td style=\"text-align: right;\">                          0    </td><td style=\"text-align: right;\">                                                    -19.776</td><td>-73.641                                                 </td><td>9.003                                         </td><td style=\"text-align: right;\">                       70    </td><td style=\"text-align: right;\">                      350    </td><td style=\"text-align: right;\">                  -5.935</td><td style=\"text-align: right;\">                       -5.821</td><td style=\"text-align: right;\">                   -1.152</td><td style=\"text-align: right;\">                          0    </td><td style=\"text-align: right;\">                            5.419</td><td style=\"text-align: right;\">                         -393    </td><td>-7.462                        </td><td style=\"text-align: right;\">                           1.541</td><td style=\"text-align: right;\">                      150    </td><td style=\"text-align: right;\">   1.691</td><td style=\"text-align: right;\">                               -7.412</td><td style=\"text-align: right;\">                -15    </td><td style=\"text-align: right;\">                    -5.735</td><td style=\"text-align: right;\">                               -3.968</td><td>2012-06-01     </td><td style=\"text-align: right;\"> 31880826000116</td></tr>\n",
       "<tr><td>COOPERATIVA DE CRÉDITO DE LIVRE ADMISSÃO DE ASSOCIADOS PIONEIRA DA SERRA GAÚCHA   SICREDI PIONEIRA RS   </td><td style=\"text-align: right;\">91586982</td><td>              </td><td style=\"text-align: right;\">                                </td><td>                                </td><td>b3S  </td><td style=\"text-align: right;\">   2</td><td style=\"text-align: right;\">   9</td><td>NOVA PETROPOLIS   </td><td>RS  </td><td>54.376                       </td><td style=\"text-align: right;\">                                       0    </td><td>17.721                       </td><td style=\"text-align: right;\">                                                     0    </td><td style=\"text-align: right;\">                          0    </td><td style=\"text-align: right;\">                              0    </td><td>72.097                                                    </td><td>-22.159               </td><td style=\"text-align: right;\">                                             -1.365</td><td>0                                             </td><td style=\"text-align: right;\">                          0    </td><td style=\"text-align: right;\">                                                    -10.516</td><td>-34.041                                                 </td><td>38.056                                        </td><td style=\"text-align: right;\">                        8.744</td><td style=\"text-align: right;\">                        4.346</td><td style=\"text-align: right;\">                 -19.445</td><td style=\"text-align: right;\">                      -13.252</td><td style=\"text-align: right;\">                 -199    </td><td style=\"text-align: right;\">                          0    </td><td style=\"text-align: right;\">                            5.327</td><td style=\"text-align: right;\">                           -9.324</td><td>-23.803                       </td><td style=\"text-align: right;\">                          14.253</td><td style=\"text-align: right;\">                     -218    </td><td style=\"text-align: right;\">  14.035</td><td style=\"text-align: right;\">                             -644    </td><td style=\"text-align: right;\">                  0    </td><td style=\"text-align: right;\">                    13.391</td><td style=\"text-align: right;\">                                0    </td><td>2012-06-01     </td><td style=\"text-align: right;\"> 91586982000109</td></tr>\n",
       "<tr><td>BANCO CLASSICO S.A.                                                                                     </td><td style=\"text-align: right;\">31597552</td><td>              </td><td style=\"text-align: right;\">                                </td><td>                                </td><td>b1   </td><td style=\"text-align: right;\">   2</td><td style=\"text-align: right;\">   8</td><td>RIO DE JANEIRO    </td><td>RJ  </td><td>34                           </td><td style=\"text-align: right;\">                                       0    </td><td>55.543                       </td><td style=\"text-align: right;\">                                                     0    </td><td style=\"text-align: right;\">                          0    </td><td style=\"text-align: right;\">                              0    </td><td>55.577                                                    </td><td>0                     </td><td style=\"text-align: right;\">                                              0    </td><td>0                                             </td><td style=\"text-align: right;\">                          0    </td><td style=\"text-align: right;\">                                                      0    </td><td>0                                                       </td><td>55.577                                        </td><td style=\"text-align: right;\">                        1    </td><td style=\"text-align: right;\">                        0    </td><td style=\"text-align: right;\">                -255    </td><td style=\"text-align: right;\">                     -747    </td><td style=\"text-align: right;\">                   -1.292</td><td style=\"text-align: right;\">                          0    </td><td style=\"text-align: right;\">                           40    </td><td style=\"text-align: right;\">                            0    </td><td>-2.254                        </td><td style=\"text-align: right;\">                          53.323</td><td style=\"text-align: right;\">                        0    </td><td style=\"text-align: right;\">  53.323</td><td style=\"text-align: right;\">                             -434    </td><td style=\"text-align: right;\">                  0    </td><td style=\"text-align: right;\">                    52.889</td><td style=\"text-align: right;\">                                0    </td><td>2012-06-01     </td><td style=\"text-align: right;\"> 31597552000152</td></tr>\n",
       "<tr><td>COOPERATIVA DE CRÉDITO DE LIVRE ADMISSÃO DE ASSOCIADOS DA REGIÃO DOS VALES - SICREDI REGIÃO DOS VALES RS</td><td style=\"text-align: right;\">89126130</td><td>              </td><td style=\"text-align: right;\">                                </td><td>                                </td><td>b3S  </td><td style=\"text-align: right;\">   2</td><td style=\"text-align: right;\">   9</td><td>ENCANTADO         </td><td>RS  </td><td>24.933                       </td><td style=\"text-align: right;\">                                       0    </td><td>20.181                       </td><td style=\"text-align: right;\">                                                     0    </td><td style=\"text-align: right;\">                          0    </td><td style=\"text-align: right;\">                              4    </td><td>45.118                                                    </td><td>-18.185               </td><td style=\"text-align: right;\">                                             -1.472</td><td>0                                             </td><td style=\"text-align: right;\">                          0    </td><td style=\"text-align: right;\">                                                     -4.571</td><td>-24.229                                                 </td><td>20.889                                        </td><td style=\"text-align: right;\">                        5.057</td><td style=\"text-align: right;\">                      699    </td><td style=\"text-align: right;\">                 -10.943</td><td style=\"text-align: right;\">                       -4.816</td><td style=\"text-align: right;\">                  -90    </td><td style=\"text-align: right;\">                          0    </td><td style=\"text-align: right;\">                            4.307</td><td style=\"text-align: right;\">                           -3.735</td><td>-9.523                        </td><td style=\"text-align: right;\">                          11.366</td><td style=\"text-align: right;\">                       88    </td><td style=\"text-align: right;\">  11.455</td><td style=\"text-align: right;\">                             -539    </td><td style=\"text-align: right;\">                  0    </td><td style=\"text-align: right;\">                    10.916</td><td style=\"text-align: right;\">                                0    </td><td>2012-06-01     </td><td style=\"text-align: right;\"> 89126130000189</td></tr>\n",
       "<tr><td>BANCO BANDEPE S.A.                                                                                      </td><td style=\"text-align: right;\">10866788</td><td>SANTANDER     </td><td style=\"text-align: right;\">                           30379</td><td>                                </td><td>b1   </td><td style=\"text-align: right;\">   3</td><td style=\"text-align: right;\">   8</td><td>SAO PAULO         </td><td>SP  </td><td>0                            </td><td style=\"text-align: right;\">                                       0    </td><td>43.277                       </td><td style=\"text-align: right;\">                                                     0    </td><td style=\"text-align: right;\">                          0    </td><td style=\"text-align: right;\">                              0    </td><td>43.277                                                    </td><td>0                     </td><td style=\"text-align: right;\">                                              0    </td><td>0                                             </td><td style=\"text-align: right;\">                          0    </td><td style=\"text-align: right;\">                                                      0    </td><td>0                                                       </td><td>43.277                                        </td><td style=\"text-align: right;\">                        0    </td><td style=\"text-align: right;\">                        0    </td><td style=\"text-align: right;\">                 -64    </td><td style=\"text-align: right;\">                     -741    </td><td style=\"text-align: right;\">                   -5.423</td><td style=\"text-align: right;\">                         91.9  </td><td style=\"text-align: right;\">                            3.589</td><td style=\"text-align: right;\">                          -13    </td><td>89.248                        </td><td style=\"text-align: right;\">                         132.525</td><td style=\"text-align: right;\">                        0    </td><td style=\"text-align: right;\"> 132.525</td><td style=\"text-align: right;\">                             -876    </td><td style=\"text-align: right;\">                  0    </td><td style=\"text-align: right;\">                   131.65 </td><td style=\"text-align: right;\">                              -35    </td><td>2012-06-01     </td><td style=\"text-align: right;\"> 10866788000177</td></tr>\n",
       "<tr><td>COOPERATIVA CENTRAL DE CRÉDITO DE MATO GROSSO, PARÁ E RONDÔNIA - CENTRAL SICREDI MT/PA/RO               </td><td style=\"text-align: right;\">33667205</td><td>              </td><td style=\"text-align: right;\">                                </td><td>                                </td><td>b3C  </td><td style=\"text-align: right;\">   2</td><td style=\"text-align: right;\">   9</td><td>CUIABA            </td><td>MT  </td><td>1.279                        </td><td style=\"text-align: right;\">                                       0    </td><td>38.630                       </td><td style=\"text-align: right;\">                                                     0    </td><td style=\"text-align: right;\">                          0    </td><td style=\"text-align: right;\">                              0    </td><td>39.909                                                    </td><td>-38.586               </td><td style=\"text-align: right;\">                                              0    </td><td>0                                             </td><td style=\"text-align: right;\">                          0    </td><td style=\"text-align: right;\">                                                     93    </td><td>-38.493                                                 </td><td>1.416                                         </td><td style=\"text-align: right;\">                        0    </td><td style=\"text-align: right;\">                        0    </td><td style=\"text-align: right;\">                 -15.814</td><td style=\"text-align: right;\">                       25.236</td><td style=\"text-align: right;\">                    0    </td><td style=\"text-align: right;\">                        278    </td><td style=\"text-align: right;\">                            4.156</td><td style=\"text-align: right;\">                          -15.257</td><td>-1.400                        </td><td style=\"text-align: right;\">                          16    </td><td style=\"text-align: right;\">                        0    </td><td style=\"text-align: right;\">  15    </td><td style=\"text-align: right;\">                                0    </td><td style=\"text-align: right;\">                  0    </td><td style=\"text-align: right;\">                    15    </td><td style=\"text-align: right;\">                                0    </td><td>2012-06-01     </td><td style=\"text-align: right;\"> 33667205000184</td></tr>\n",
       "<tr><td>COOPERATIVA DE CRÉDITO DE LIVRE ADMISSÃO DE ASSOCIADOS OURO VERDE DE MATO GROSSO - SICREDI OURO VERDE MT</td><td style=\"text-align: right;\">26565770</td><td>              </td><td style=\"text-align: right;\">                                </td><td>                                </td><td>b3S  </td><td style=\"text-align: right;\">   2</td><td style=\"text-align: right;\">   9</td><td>LUCAS DO RIO VERDE</td><td>MT  </td><td>32.929                       </td><td style=\"text-align: right;\">                                       0    </td><td>5.099                        </td><td style=\"text-align: right;\">                                                     0    </td><td style=\"text-align: right;\">                          0    </td><td style=\"text-align: right;\">                              0    </td><td>38.028                                                    </td><td>-2.464                </td><td style=\"text-align: right;\">                                             -8.917</td><td>0                                             </td><td style=\"text-align: right;\">                          0    </td><td style=\"text-align: right;\">                                                     -5.17 </td><td>-16.550                                                 </td><td>21.478                                        </td><td style=\"text-align: right;\">                        4.181</td><td style=\"text-align: right;\">                        1.287</td><td style=\"text-align: right;\">                  -7.1  </td><td style=\"text-align: right;\">                       -5.243</td><td style=\"text-align: right;\">                 -105    </td><td style=\"text-align: right;\">                          0    </td><td style=\"text-align: right;\">                           32.106</td><td style=\"text-align: right;\">                          -33.352</td><td>-8.225                        </td><td style=\"text-align: right;\">                          13.252</td><td style=\"text-align: right;\">                       88    </td><td style=\"text-align: right;\">  13.34 </td><td style=\"text-align: right;\">                             -321    </td><td style=\"text-align: right;\">                  0    </td><td style=\"text-align: right;\">                    13.019</td><td style=\"text-align: right;\">                                0    </td><td>2012-06-01     </td><td style=\"text-align: right;\"> 26565770000175</td></tr>\n",
       "<tr><td>BANCO LUSO BRASILEIRO S.A.                                                                              </td><td style=\"text-align: right;\">59118133</td><td>              </td><td style=\"text-align: right;\">                                </td><td>                                </td><td>b1   </td><td style=\"text-align: right;\">   2</td><td style=\"text-align: right;\">   8</td><td>SAO PAULO         </td><td>SP  </td><td>27.326                       </td><td style=\"text-align: right;\">                                       0    </td><td>5.617                        </td><td style=\"text-align: right;\">                                                     0    </td><td style=\"text-align: right;\">                          0    </td><td style=\"text-align: right;\">                              0    </td><td>32.943                                                    </td><td>-18.775               </td><td style=\"text-align: right;\">                                              0    </td><td>0                                             </td><td style=\"text-align: right;\">                          0    </td><td style=\"text-align: right;\">                                                     -4.993</td><td>-23.767                                                 </td><td>9.175                                         </td><td style=\"text-align: right;\">                        1.034</td><td style=\"text-align: right;\">                       19    </td><td style=\"text-align: right;\">                  -8.483</td><td style=\"text-align: right;\">                       -7.462</td><td style=\"text-align: right;\">                 -816    </td><td style=\"text-align: right;\">                          0    </td><td style=\"text-align: right;\">                            1.249</td><td style=\"text-align: right;\">                           -4.087</td><td>-18.546                       </td><td style=\"text-align: right;\">                          -9.37 </td><td style=\"text-align: right;\">                        6    </td><td style=\"text-align: right;\">  -9.364</td><td style=\"text-align: right;\">                                3.99 </td><td style=\"text-align: right;\">                  0    </td><td style=\"text-align: right;\">                    -5.374</td><td style=\"text-align: right;\">                                0    </td><td>2012-06-01     </td><td style=\"text-align: right;\"> 59118133000100</td></tr>\n",
       "<tr><td>COOPERATIVA CENTRAL DE CRÉDITO DO NORTE/NORDESTE - UNICRED CENTRAL NORTE/NORDESTE                       </td><td style=\"text-align: right;\">70119680</td><td>              </td><td style=\"text-align: right;\">                                </td><td>                                </td><td>b3C  </td><td style=\"text-align: right;\">   2</td><td style=\"text-align: right;\">   9</td><td>CABEDELO          </td><td>PB  </td><td>5.892                        </td><td style=\"text-align: right;\">                                       0    </td><td>26.061                       </td><td style=\"text-align: right;\">                                                     0    </td><td style=\"text-align: right;\">                          0    </td><td style=\"text-align: right;\">                              0    </td><td>31.953                                                    </td><td>-26.546               </td><td style=\"text-align: right;\">                                              0    </td><td>0                                             </td><td style=\"text-align: right;\">                          0    </td><td style=\"text-align: right;\">                                                   -128    </td><td>-26.673                                                 </td><td>5.280                                         </td><td style=\"text-align: right;\">                       73    </td><td style=\"text-align: right;\">                        0    </td><td style=\"text-align: right;\">                  -3.792</td><td style=\"text-align: right;\">                        4.417</td><td style=\"text-align: right;\">                   -3    </td><td style=\"text-align: right;\">                          0    </td><td style=\"text-align: right;\">                           72    </td><td style=\"text-align: right;\">                         -883    </td><td>-117                          </td><td style=\"text-align: right;\">                           5.163</td><td style=\"text-align: right;\">                       -2    </td><td style=\"text-align: right;\">   5.161</td><td style=\"text-align: right;\">                               -3    </td><td style=\"text-align: right;\">                -99    </td><td style=\"text-align: right;\">                     5.059</td><td style=\"text-align: right;\">                               -2.996</td><td>2012-06-01     </td><td style=\"text-align: right;\"> 70119680000142</td></tr>\n",
       "<tr><td>CITIGROUP GLOBAL MARKETS BRASIL, CORRETORA DE CÂMBIO, TÍTULOS E VALORES MOBILIÁRIOS S.A.                </td><td style=\"text-align: right;\">33709114</td><td>CITIBANK      </td><td style=\"text-align: right;\">                           30403</td><td>                                </td><td>n2   </td><td style=\"text-align: right;\">   3</td><td style=\"text-align: right;\">  15</td><td>SAO PAULO         </td><td>SP  </td><td>248                          </td><td style=\"text-align: right;\">                                       0    </td><td>30.129                       </td><td style=\"text-align: right;\">                                                     0    </td><td style=\"text-align: right;\">                          0    </td><td style=\"text-align: right;\">                              0    </td><td>30.378                                                    </td><td>0                     </td><td style=\"text-align: right;\">                                           -433    </td><td>0                                             </td><td style=\"text-align: right;\">                          0    </td><td style=\"text-align: right;\">                                                    -10    </td><td>-444                                                    </td><td>29.934                                        </td><td style=\"text-align: right;\">                       57.805</td><td style=\"text-align: right;\">                        6.432</td><td style=\"text-align: right;\">                 -25.429</td><td style=\"text-align: right;\">                      -28.791</td><td style=\"text-align: right;\">                   -6.601</td><td style=\"text-align: right;\">                          0    </td><td style=\"text-align: right;\">                          329    </td><td style=\"text-align: right;\">                           -2.077</td><td>1.667                         </td><td style=\"text-align: right;\">                          31.601</td><td style=\"text-align: right;\">                     -105    </td><td style=\"text-align: right;\">  31.496</td><td style=\"text-align: right;\">                              -12.74 </td><td style=\"text-align: right;\">               -216    </td><td style=\"text-align: right;\">                    18.54 </td><td style=\"text-align: right;\">                                0    </td><td>2012-06-01     </td><td style=\"text-align: right;\"> 33709114000164</td></tr>\n",
       "<tr><td>DIFERENCIAL CORRETORA DE TITULOS E VALORES MOBILIARIOS S.A                                              </td><td style=\"text-align: right;\">92885631</td><td>              </td><td style=\"text-align: right;\">                                </td><td>                                </td><td>n2   </td><td style=\"text-align: right;\">   2</td><td style=\"text-align: right;\">  15</td><td>PORTO ALEGRE      </td><td>RS  </td><td>0                            </td><td style=\"text-align: right;\">                                       0    </td><td>28.590                       </td><td style=\"text-align: right;\">                                                     0    </td><td style=\"text-align: right;\">                          0    </td><td style=\"text-align: right;\">                              0    </td><td>28.590                                                    </td><td>-333                  </td><td style=\"text-align: right;\">                                              0    </td><td>0                                             </td><td style=\"text-align: right;\">                        -10    </td><td style=\"text-align: right;\">                                                      0    </td><td>-343                                                    </td><td>28.247                                        </td><td style=\"text-align: right;\">                        6.792</td><td style=\"text-align: right;\">                        0    </td><td style=\"text-align: right;\">                  -1.359</td><td style=\"text-align: right;\">                      -31.548</td><td style=\"text-align: right;\">                   -1.965</td><td style=\"text-align: right;\">                          0    </td><td style=\"text-align: right;\">                          611    </td><td style=\"text-align: right;\">                         -510    </td><td>-27.979                       </td><td style=\"text-align: right;\">                         268    </td><td style=\"text-align: right;\">                        3.029</td><td style=\"text-align: right;\">   3.297</td><td style=\"text-align: right;\">                             -125    </td><td style=\"text-align: right;\">                -92    </td><td style=\"text-align: right;\">                     3.079</td><td style=\"text-align: right;\">                                0    </td><td>2012-06-01     </td><td style=\"text-align: right;\"> 92885631000153</td></tr>\n",
       "<tr><td>COOPERATIVA DE CRÉDITO SUL RIOGRANDENSE - SICREDI UNIÃO METROPOLITANA RS                                </td><td style=\"text-align: right;\">92796564</td><td>              </td><td style=\"text-align: right;\">                                </td><td>                                </td><td>b3S  </td><td style=\"text-align: right;\">   2</td><td style=\"text-align: right;\">   9</td><td>PORTO ALEGRE      </td><td>RS  </td><td>18.322                       </td><td style=\"text-align: right;\">                                       0    </td><td>7.703                        </td><td style=\"text-align: right;\">                                                     0    </td><td style=\"text-align: right;\">                          0    </td><td style=\"text-align: right;\">                              0    </td><td>26.025                                                    </td><td>-8.460                </td><td style=\"text-align: right;\">                                           -273    </td><td>0                                             </td><td style=\"text-align: right;\">                          0    </td><td style=\"text-align: right;\">                                                     -5.427</td><td>-14.161                                                 </td><td>11.864                                        </td><td style=\"text-align: right;\">                        3.681</td><td style=\"text-align: right;\">                        1.202</td><td style=\"text-align: right;\">                  -8.127</td><td style=\"text-align: right;\">                       -6.528</td><td style=\"text-align: right;\">                 -113    </td><td style=\"text-align: right;\">                          0    </td><td style=\"text-align: right;\">                            2.066</td><td style=\"text-align: right;\">                           -6.272</td><td>-14.092                       </td><td style=\"text-align: right;\">                          -2.228</td><td style=\"text-align: right;\">                      -14    </td><td style=\"text-align: right;\">  -2.242</td><td style=\"text-align: right;\">                             -189    </td><td style=\"text-align: right;\">                  0    </td><td style=\"text-align: right;\">                    -2.431</td><td style=\"text-align: right;\">                                0    </td><td>2012-06-01     </td><td style=\"text-align: right;\"> 92796564000109</td></tr>\n",
       "<tr><td>BANCO BRASCAN S.A.                                                                                      </td><td style=\"text-align: right;\">33923111</td><td>BRASCAN       </td><td style=\"text-align: right;\">                           50885</td><td>                                </td><td>b1   </td><td style=\"text-align: right;\">   3</td><td style=\"text-align: right;\">   8</td><td>RIO DE JANEIRO    </td><td>RJ  </td><td>1.442                        </td><td style=\"text-align: right;\">                                       0    </td><td>23.699                       </td><td style=\"text-align: right;\">                                                    10    </td><td style=\"text-align: right;\">                        179    </td><td style=\"text-align: right;\">                              0    </td><td>25.331                                                    </td><td>-20.471               </td><td style=\"text-align: right;\">                                             -2.038</td><td>0                                             </td><td style=\"text-align: right;\">                          0    </td><td style=\"text-align: right;\">                                                     33    </td><td>-22.476                                                 </td><td>2.855                                         </td><td style=\"text-align: right;\">                        1.589</td><td style=\"text-align: right;\">                        0    </td><td style=\"text-align: right;\">                  -6.167</td><td style=\"text-align: right;\">                       -4.156</td><td style=\"text-align: right;\">                 -123    </td><td style=\"text-align: right;\">                         -1.27 </td><td style=\"text-align: right;\">                           99    </td><td style=\"text-align: right;\">                         -350    </td><td>-10.377                       </td><td style=\"text-align: right;\">                          -7.522</td><td style=\"text-align: right;\">                        0    </td><td style=\"text-align: right;\">  -7.522</td><td style=\"text-align: right;\">                              -65    </td><td style=\"text-align: right;\">                  0    </td><td style=\"text-align: right;\">                    -7.587</td><td style=\"text-align: right;\">                                0    </td><td>2012-06-01     </td><td style=\"text-align: right;\"> 33923111000129</td></tr>\n",
       "<tr><td>BANCO CEDULA S.A.                                                                                       </td><td style=\"text-align: right;\">33132044</td><td>              </td><td style=\"text-align: right;\">                                </td><td>                                </td><td>b1   </td><td style=\"text-align: right;\">   2</td><td style=\"text-align: right;\">   8</td><td>RIO DE JANEIRO    </td><td>RJ  </td><td>15.020                       </td><td style=\"text-align: right;\">                                       1.656</td><td>2.131                        </td><td style=\"text-align: right;\">                                                   328    </td><td style=\"text-align: right;\">                          0    </td><td style=\"text-align: right;\">                              0    </td><td>19.136                                                    </td><td>-8.178                </td><td style=\"text-align: right;\">                                              0    </td><td>-730                                          </td><td style=\"text-align: right;\">                          0    </td><td style=\"text-align: right;\">                                                     -4.895</td><td>-13.803                                                 </td><td>5.333                                         </td><td style=\"text-align: right;\">                        0    </td><td style=\"text-align: right;\">                      119    </td><td style=\"text-align: right;\">                  -1.683</td><td style=\"text-align: right;\">                       -2.966</td><td style=\"text-align: right;\">                   -1.214</td><td style=\"text-align: right;\">                          0    </td><td style=\"text-align: right;\">                            0    </td><td style=\"text-align: right;\">                         -467    </td><td>-6.211                        </td><td style=\"text-align: right;\">                        -878    </td><td style=\"text-align: right;\">                      278    </td><td style=\"text-align: right;\">-600    </td><td style=\"text-align: right;\">                             -442    </td><td style=\"text-align: right;\">                  0    </td><td style=\"text-align: right;\">                    -1.042</td><td style=\"text-align: right;\">                             -363    </td><td>2012-06-01     </td><td style=\"text-align: right;\"> 33132044000124</td></tr>\n",
       "</tbody>\n",
       "</table>"
      ],
      "text/plain": [
       "<IPython.core.display.HTML object>"
      ]
     },
     "metadata": {},
     "output_type": "display_data"
    }
   ],
   "source": [
    "df_demonstracao_result_ = G.table_to_df(\"finance_raw_data\", \"demonstracao_resultado_receita_lucro\", spark)\n",
    "df_demonstracao_result_.persist()\n",
    "\n",
    "df_date_with_day = df_demonstracao_result_.withColumn(\"data_format_d\", F.concat(F.lit(\"01/\"), df_demonstracao_result_[\"data\"]))\n",
    "\n",
    "df_date_format = df_date_with_day.withColumn(\"data_format_d\", F.to_date(df_date_with_day[\"data_format_d\"], \"dd/MM/yyyy\"))\n",
    "df_demonstracao_result = df_date_format.withColumn(\"cnpj_completo\", cnpj_udf(df_date_format[\"codigo\"]))\n",
    "\n",
    "df_demonstracao_result = df_demonstracao_result.drop(\"data\").filter(F.col(\"data_format_d\").isNotNull())\n",
    "\n",
    "df_demonstracao_result.persist()\n",
    "\n",
    "\n",
    "t2 = df_demonstracao_result.sample(False, 0.1).limit(30)\n",
    "# t = dfSample_demonstracao_result.withColumn(\"cnpj_completo\", cnpj_udf(dfSample_demonstracao_result[\"codigo\"]))\n",
    "\n",
    "# t2 = t.select(\"instituicao\", \"codigo\", \"cnpj_completo\")\n",
    "table = tabulate(t2.collect(), headers=t2.columns, tablefmt='html')\n",
    "\n",
    "# t2.printSchema()\n",
    "display(HTML(table))\n",
    "# print(dfSample_demonstracao_result.count())\n",
    "\n",
    "\n"
   ]
  },
  {
   "cell_type": "code",
   "execution_count": null,
   "id": "742f6277-b1c4-4828-933a-ba366663400f",
   "metadata": {},
   "outputs": [],
   "source": []
  },
  {
   "cell_type": "code",
   "execution_count": 8,
   "id": "d34878eb-46d3-459e-929b-49c8f6c00618",
   "metadata": {
    "scrolled": true
   },
   "outputs": [
    {
     "data": {
      "text/plain": [
       "DataFrame[data: string, codigo_cadastro_bacen: string, codigo_sisbacen: string, codigo_pais_sede: string, nome_pais_sede: string, nome_uf_sede: string, codigo_municipio_sede: string, nome_municipio_sede: string, nome_entidade: string, nome_entidade_nao_formatado: string, cnpj: string, cnpj_raiz: string, codigo_situacao: string, descricao_situacao: string, codigo_tipo_entidade_segmento: string, nome_tipo_entidade: string, codigo_natureza_juridica: string, descricao_natureza_juridica: string, codigo_esfera_publica: string, nome_reduzido: string, sigla_entidade: string, nome_fantasia: string, empresa_publica: string]"
      ]
     },
     "execution_count": 8,
     "metadata": {},
     "output_type": "execute_result"
    }
   ],
   "source": [
    "df_info_cadastral = G.table_to_df(\"finance_raw_data\", \"info_cadastral_entidades\", spark)\n",
    "df_info_cadastral.persist()\n",
    "\n",
    "# dfSample_info_cadastral_entidades = df_info_cadastra l.sample(False, 0.1).limit(30)\n",
    "# table = tabulate(dfSample_info_cadastral_entidades.collect(), headers=dfSample_info_cadastral_entidades.columns, tablefmt='html')\n",
    "# display(HTML(table))\n",
    "\n",
    "# df_info_cadastral.count()\n",
    "# dfSample_info_cadastral_entidades.printSchema()\n"
   ]
  },
  {
   "cell_type": "code",
   "execution_count": 9,
   "id": "fbb624b1-9cdd-42e0-9ff3-68fb3b89d990",
   "metadata": {
    "scrolled": true
   },
   "outputs": [],
   "source": [
    "df_info_cadastral_select_ = df_info_cadastral.select(\"cnpj\", \"data\", \"cnpj_raiz\", \"codigo_sisbacen\", \"nome_tipo_entidade\", \"descricao_situacao\", \"nome_entidade\", \"nome_fantasia\")\n",
    "\n",
    "\n",
    "df_info_cadastral_select = df_info_cadastral_select_.withColumn(\"data_format\", F.to_date(df_info_cadastral_select_[\"data\"], \"yyyy-MM-dd\"))\n",
    "# a = df_info_cadastral_select.sample(False, 0.1).limit(50)\n",
    "# table = tabulate(a.collect(), headers=a.columns, tablefmt='html')\n",
    "# df_info_cadastral_select.filter(df_info_cadastral_select[\"cnpj\"].isNull()).count()\n",
    "# display(HTML(table))\n"
   ]
  },
  {
   "cell_type": "markdown",
   "id": "2b836308-4542-4593-a583-92d08ee08011",
   "metadata": {},
   "source": [
    "### Duplicação"
   ]
  },
  {
   "cell_type": "code",
   "execution_count": 12,
   "id": "2dd041e0-d8c8-455e-a082-b6e504b01a65",
   "metadata": {},
   "outputs": [
    {
     "name": "stderr",
     "output_type": "stream",
     "text": [
      "24/07/21 20:07:36 WARN TaskSetManager: Stage 8 contains a task of very large size (12111 KiB). The maximum recommended task size is 1000 KiB.\n",
      "24/07/21 20:07:40 WARN TaskSetManager: Stage 9 contains a task of very large size (12111 KiB). The maximum recommended task size is 1000 KiB.\n",
      "                                                                                \r"
     ]
    },
    {
     "data": {
      "text/html": [
       "<table>\n",
       "<thead>\n",
       "<tr><th style=\"text-align: right;\">          cnpj</th><th style=\"text-align: right;\">  cnpj_raiz</th><th>data_format  </th></tr>\n",
       "</thead>\n",
       "<tbody>\n",
       "<tr><td style=\"text-align: right;\">19307785000178</td><td style=\"text-align: right;\">   19307785</td><td>2024-05-23   </td></tr>\n",
       "<tr><td style=\"text-align: right;\">66788142001650</td><td style=\"text-align: right;\">   66788142</td><td>2024-05-23   </td></tr>\n",
       "<tr><td style=\"text-align: right;\">04237413000145</td><td style=\"text-align: right;\">   04237413</td><td>2024-05-23   </td></tr>\n",
       "<tr><td style=\"text-align: right;\">01667352000168</td><td style=\"text-align: right;\">   01667352</td><td>2024-05-23   </td></tr>\n",
       "<tr><td style=\"text-align: right;\">08363543000185</td><td style=\"text-align: right;\">   08363543</td><td>2024-05-25   </td></tr>\n",
       "<tr><td style=\"text-align: right;\">77984870001815</td><td style=\"text-align: right;\">   77984870</td><td>2024-05-25   </td></tr>\n",
       "<tr><td style=\"text-align: right;\">66398496000969</td><td style=\"text-align: right;\">   66398496</td><td>2024-05-25   </td></tr>\n",
       "<tr><td style=\"text-align: right;\">25387713000180</td><td style=\"text-align: right;\">   25387713</td><td>2024-05-25   </td></tr>\n",
       "<tr><td style=\"text-align: right;\">23241540000162</td><td style=\"text-align: right;\">   23241540</td><td>2024-05-25   </td></tr>\n",
       "<tr><td style=\"text-align: right;\">03427097000101</td><td style=\"text-align: right;\">   03427097</td><td>2024-05-25   </td></tr>\n",
       "<tr><td style=\"text-align: right;\">70241658000766</td><td style=\"text-align: right;\">   70241658</td><td>2024-05-26   </td></tr>\n",
       "<tr><td style=\"text-align: right;\">52586293000134</td><td style=\"text-align: right;\">   52586293</td><td>2024-05-26   </td></tr>\n",
       "<tr><td style=\"text-align: right;\">08075352000118</td><td style=\"text-align: right;\">   08075352</td><td>2024-05-27   </td></tr>\n",
       "<tr><td style=\"text-align: right;\">80271455000180</td><td style=\"text-align: right;\">   80271455</td><td>2024-05-27   </td></tr>\n",
       "<tr><td style=\"text-align: right;\">18966739000118</td><td style=\"text-align: right;\">   18966739</td><td>2024-05-27   </td></tr>\n",
       "<tr><td style=\"text-align: right;\">07268732000106</td><td style=\"text-align: right;\">   07268732</td><td>2024-05-23   </td></tr>\n",
       "<tr><td style=\"text-align: right;\">05582619005134</td><td style=\"text-align: right;\">   05582619</td><td>2024-05-23   </td></tr>\n",
       "<tr><td style=\"text-align: right;\">04751943000107</td><td style=\"text-align: right;\">   04751943</td><td>2024-05-23   </td></tr>\n",
       "<tr><td style=\"text-align: right;\">01807464000177</td><td style=\"text-align: right;\">   01807464</td><td>2024-05-23   </td></tr>\n",
       "<tr><td style=\"text-align: right;\">33885724000119</td><td style=\"text-align: right;\">   33885724</td><td>2024-05-25   </td></tr>\n",
       "<tr><td style=\"text-align: right;\">04853988000192</td><td style=\"text-align: right;\">   04853988</td><td>2024-05-25   </td></tr>\n",
       "<tr><td style=\"text-align: right;\">02382755000123</td><td style=\"text-align: right;\">   02382755</td><td>2024-05-25   </td></tr>\n",
       "<tr><td style=\"text-align: right;\">10868663000186</td><td style=\"text-align: right;\">   10868663</td><td>2024-05-25   </td></tr>\n",
       "<tr><td style=\"text-align: right;\">11406965000103</td><td style=\"text-align: right;\">   11406965</td><td>2024-05-26   </td></tr>\n",
       "<tr><td style=\"text-align: right;\">07913550000140</td><td style=\"text-align: right;\">   07913550</td><td>2024-05-26   </td></tr>\n",
       "<tr><td style=\"text-align: right;\">83316810000189</td><td style=\"text-align: right;\">   83316810</td><td>2024-05-26   </td></tr>\n",
       "<tr><td style=\"text-align: right;\">33021064002090</td><td style=\"text-align: right;\">   33021064</td><td>2024-05-26   </td></tr>\n",
       "<tr><td style=\"text-align: right;\">03645752000106</td><td style=\"text-align: right;\">   03645752</td><td>2024-05-26   </td></tr>\n",
       "<tr><td style=\"text-align: right;\">03502131000165</td><td style=\"text-align: right;\">   03502131</td><td>2024-05-26   </td></tr>\n",
       "<tr><td style=\"text-align: right;\">01187961000110</td><td style=\"text-align: right;\">   01187961</td><td>2024-05-26   </td></tr>\n",
       "</tbody>\n",
       "</table>"
      ],
      "text/plain": [
       "<IPython.core.display.HTML object>"
      ]
     },
     "metadata": {},
     "output_type": "display_data"
    },
    {
     "name": "stderr",
     "output_type": "stream",
     "text": [
      "24/07/21 20:07:42 WARN TaskSetManager: Stage 12 contains a task of very large size (11648 KiB). The maximum recommended task size is 1000 KiB.\n",
      "                                                                                \r"
     ]
    },
    {
     "data": {
      "text/html": [
       "<table>\n",
       "<thead>\n",
       "<tr><th>instituicao                                                                                                            </th><th style=\"text-align: right;\">  cnpj_completo</th><th>data_trimestral  </th></tr>\n",
       "</thead>\n",
       "<tbody>\n",
       "<tr><td>BANCO DO ESTADO DO RIO GRANDE DO SUL S.A.                                                                              </td><td style=\"text-align: right;\"> 92702067000196</td><td>2023-03-01       </td></tr>\n",
       "<tr><td>BANCO WESTERN UNION DO BRASIL S.A.                                                                                     </td><td style=\"text-align: right;\"> 13720915000113</td><td>2022-09-01       </td></tr>\n",
       "<tr><td>BANCO CREFISA S.A.                                                                                                     </td><td style=\"text-align: right;\"> 61033106000186</td><td>2021-09-01       </td></tr>\n",
       "<tr><td>CM CAPITAL MARKETS CORRETORA DE CÂMBIO, TÍTULOS E VALORES MOBILIÁRIOS LTDA                                             </td><td style=\"text-align: right;\"> 02685483000130</td><td>2021-12-01       </td></tr>\n",
       "<tr><td>HAITONG DO BRASIL DISTRIBUIDORA DE TÍTULOS E VALORES MOBILIÁRIOS S.A.                                                  </td><td style=\"text-align: right;\"> 11406965000103</td><td>2021-12-01       </td></tr>\n",
       "<tr><td>CREDIT SUISSE (BRASIL) S.A. CORRETORA DE TÍTULOS E VALORES MOBILIÁRIOS                                                 </td><td style=\"text-align: right;\"> 42584318000107</td><td>2021-12-01       </td></tr>\n",
       "<tr><td>AGIPLAN FINANCEIRA S.A. - CREDITO FINANCIAMENTO E INVESTIMENTO                                                         </td><td style=\"text-align: right;\"> 13660104000174</td><td>2012-06-01       </td></tr>\n",
       "<tr><td>BRICKELL S.A. CRÉDITO, FINANCIAMENTO E INVESTIMENTO                                                                    </td><td style=\"text-align: right;\"> 12865507000197</td><td>2012-06-01       </td></tr>\n",
       "<tr><td>COOPERATIVA DE CRÉDITO RURAL GANDU - SICOOB CREDIGANDU                                                                 </td><td style=\"text-align: right;\"> 02876918000124</td><td>2012-06-01       </td></tr>\n",
       "<tr><td>COOPERATIVA DE ECONOMIA E CRÉDITO MÚTUO DOS SERVIDORES DA UNESP - COOPUNESP                                            </td><td style=\"text-align: right;\"> 69136075000109</td><td>2012-06-01       </td></tr>\n",
       "<tr><td>COOPERATIVA DE ECONOMIA E CRÉDITO MÚTUO DOS TRABALHADORES EM SANEAMENTO BÁSICO NO ESTADO DO ESPÍRITO SANTO - CECMESB-ES</td><td style=\"text-align: right;\"> 27418557000101</td><td>2012-06-01       </td></tr>\n",
       "<tr><td>BANCO DO ESTADO DE SAO PAULO S.A. - BANESPA                                                                            </td><td style=\"text-align: right;\"> 61411633000187</td><td>2002-06-01       </td></tr>\n",
       "<tr><td>CCR PLANTADORES DE CANA DO VALE DO SAO PATRICIO LTDA                                                                   </td><td style=\"text-align: right;\"> 00968602000137</td><td>2002-06-01       </td></tr>\n",
       "<tr><td>BANCO TRICURY S.A.                                                                                                     </td><td style=\"text-align: right;\"> 57839805000140</td><td>2002-06-01       </td></tr>\n",
       "<tr><td>CECM MEDICOS OUTROS PROFISSIONARIOS AREA SAUDE GOIANIA LTDA.                                                           </td><td style=\"text-align: right;\"> 37395399000167</td><td>2002-06-01       </td></tr>\n",
       "<tr><td>CCR IBIRAIARAS                                                                                                         </td><td style=\"text-align: right;\"> 89990501000176</td><td>2002-06-01       </td></tr>\n",
       "<tr><td>MESA DISTRIBUIDORA DE TITULOS E VALORES MOBILIARIOS LTDA                                                               </td><td style=\"text-align: right;\"> 57851669000104</td><td>2002-06-01       </td></tr>\n",
       "<tr><td>CECMS DO SESC DO RIO DE JANEIRO                                                                                        </td><td style=\"text-align: right;\"> 34081562000129</td><td>2002-06-01       </td></tr>\n",
       "<tr><td>BANCO DE INVEST CREDIT SUISSE FIRST BOSTON GARANTIA S.A.                                                               </td><td style=\"text-align: right;\"> 33987793000133</td><td>2000-09-01       </td></tr>\n",
       "<tr><td>BANCO DE PERNAMBUCO S.A. - BANDEPE                                                                                     </td><td style=\"text-align: right;\"> 10866788000177</td><td>2000-09-01       </td></tr>\n",
       "<tr><td>MERCANTIL DO BRASIL FINANCEIRA S/A - CRED FINAN E INVS                                                                 </td><td style=\"text-align: right;\"> 33040601000187</td><td>2000-09-01       </td></tr>\n",
       "<tr><td>UBS WARBURG CORRETORA DE CAMBIO E VALORES MOBILIARIOS S/A                                                              </td><td style=\"text-align: right;\"> 35754969000132</td><td>2000-09-01       </td></tr>\n",
       "<tr><td>PAO DE ACUCAR S/A DISTRIBUIDORA DE TIT.E VALORES MOBILIARIOS                                                           </td><td style=\"text-align: right;\"> 62201553000160</td><td>2000-09-01       </td></tr>\n",
       "<tr><td>CECMC COOPEDER LTDA.                                                                                                   </td><td style=\"text-align: right;\"> 21130869000120</td><td>2000-09-01       </td></tr>\n",
       "<tr><td>CRCR VALE DO RIO GRANDE LTDA                                                                                           </td><td style=\"text-align: right;\"> 25683475000150</td><td>2000-09-01       </td></tr>\n",
       "<tr><td>CREDMISTRA - CECMS DEL REGIONAL TRABALHO NO ESTADO DO PARA                                                             </td><td style=\"text-align: right;\"> 83329979000173</td><td>2000-09-01       </td></tr>\n",
       "<tr><td>CECMF DA NITRO QUIMICA                                                                                                 </td><td style=\"text-align: right;\"> 52935442000123</td><td>2000-09-01       </td></tr>\n",
       "<tr><td>CECM MEDICOS E DEMAIS PROFISSIONAIS SAUDE AQUIDAUANA-MS LTDA                                                           </td><td style=\"text-align: right;\"> 01828555000199</td><td>2000-09-01       </td></tr>\n",
       "<tr><td>CECME MG MASTER LTDA.                                                                                                  </td><td style=\"text-align: right;\"> 02232228000132</td><td>2000-09-01       </td></tr>\n",
       "<tr><td>BANCO COOPERATIVO SICREDI S.A.                                                                                         </td><td style=\"text-align: right;\"> 01181521000155</td><td>2006-09-01       </td></tr>\n",
       "</tbody>\n",
       "</table>"
      ],
      "text/plain": [
       "<IPython.core.display.HTML object>"
      ]
     },
     "metadata": {},
     "output_type": "display_data"
    }
   ],
   "source": [
    "# df_info_cadastral\n",
    "\n",
    "df_info_ordered = df_info_cadastral_select.orderBy(F.col(\"data_format\").desc())\n",
    "\n",
    "columns_info = df_info_ordered.columns\n",
    "columns_info.remove(\"data\")\n",
    "\n",
    "df_unique_info_ = df_info_ordered.dropDuplicates(subset=columns_info)\n",
    "\n",
    "# df_demonstracao_result\n",
    "\n",
    "df_demonstracao_ordered = df_demonstracao_result.orderBy(F.col(\"data_format_d\"))\n",
    "columns_demonstracao = df_demonstracao_result.columns\n",
    "columns_demonstracao.remove(\"data_format_d\")\n",
    "\n",
    "df_formatado = df_demonstracao_result.withColumnRenamed(\"data_format_d\", \"data_trimestral\")\n",
    "\n",
    "df_unique_demonstracao_ = df_formatado.dropDuplicates(subset=columns_demonstracao)\n",
    "\n",
    "# df_unique_info_.printSchema()\n",
    "# df_unique_demonstracao_.printSchema()\n",
    "\n",
    "# sample_info = df_unique_info_.sample(False, 0.1).limit(50)\n",
    "\n",
    "# sample_info = df_unique_info_.filter(F.col(\"cnpj_raiz\") == '00000000')\n",
    "\n",
    "# tb_info = tabulate(sample_info.collect(), headers=sample_info.columns, tablefmt='html')\n",
    "# display(HTML(tb_info))\n",
    "\n",
    "df1 = df_unique_info_.select(\"cnpj\", \"cnpj_raiz\", \"data_format\").limit(30)\n",
    "df2 = df_unique_demonstracao_.select(\"instituicao\", \"cnpj_completo\", \"data_trimestral\").limit(30)\n",
    "\n",
    "tb1 = tabulate(df1.collect(), headers=df1.columns, tablefmt='html')\n",
    "display(HTML(tb1))\n",
    "\n",
    "tb2 = tabulate(df2.collect(), headers=df2.columns, tablefmt='html')\n",
    "display(HTML(tb2))"
   ]
  },
  {
   "cell_type": "markdown",
   "id": "7034cebf-01ca-4240-9f2c-ca6b4a87a6ff",
   "metadata": {},
   "source": [
    "### Remover acentos"
   ]
  },
  {
   "cell_type": "code",
   "execution_count": 13,
   "id": "f5fbe04c-5658-4dba-8d6b-b4ea594f0302",
   "metadata": {},
   "outputs": [],
   "source": [
    "def clean_accent_(texto):\n",
    "    return unidecode(texto) if texto else None\n",
    "\n",
    "clean_accent = F.udf(clean_accent_, F.StringType())\n",
    "\n",
    "df_unique_info = df_unique_info_.select([F.upper(F.trim(clean_accent(F.col(column)))).alias(column) for column in df_unique_info_.columns])\n",
    "\n",
    "df_unique_demonstracao = df_unique_demonstracao_.select([F.upper(F.trim(clean_accent(F.col(column)))).alias(column) for column in df_unique_demonstracao_.columns])"
   ]
  },
  {
   "cell_type": "code",
   "execution_count": 9,
   "id": "80ef2a40-1af5-49fc-94ff-0b8fc223ae34",
   "metadata": {},
   "outputs": [
    {
     "name": "stderr",
     "output_type": "stream",
     "text": [
      "24/07/18 17:09:42 WARN TaskSetManager: Stage 60 contains a task of very large size (12111 KiB). The maximum recommended task size is 1000 KiB.\n",
      "24/07/18 17:09:44 WARN TaskSetManager: Stage 61 contains a task of very large size (11648 KiB). The maximum recommended task size is 1000 KiB.\n",
      "                                                                                \r"
     ]
    },
    {
     "name": "stdout",
     "output_type": "stream",
     "text": [
      "0\n"
     ]
    },
    {
     "name": "stderr",
     "output_type": "stream",
     "text": [
      "24/07/18 17:09:48 WARN TaskSetManager: Stage 68 contains a task of very large size (12111 KiB). The maximum recommended task size is 1000 KiB.\n",
      "24/07/18 17:09:49 WARN TaskSetManager: Stage 69 contains a task of very large size (11648 KiB). The maximum recommended task size is 1000 KiB.\n",
      "                                                                                \r"
     ]
    },
    {
     "name": "stdout",
     "output_type": "stream",
     "text": [
      "2357\n"
     ]
    },
    {
     "name": "stderr",
     "output_type": "stream",
     "text": [
      "24/07/18 17:09:54 WARN TaskSetManager: Stage 77 contains a task of very large size (12111 KiB). The maximum recommended task size is 1000 KiB.\n",
      "24/07/18 17:09:54 WARN TaskSetManager: Stage 78 contains a task of very large size (11648 KiB). The maximum recommended task size is 1000 KiB.\n",
      "                                                                                \r"
     ]
    },
    {
     "name": "stdout",
     "output_type": "stream",
     "text": [
      "9698\n"
     ]
    },
    {
     "name": "stderr",
     "output_type": "stream",
     "text": [
      "24/07/18 17:10:00 WARN TaskSetManager: Stage 86 contains a task of very large size (12111 KiB). The maximum recommended task size is 1000 KiB.\n",
      "24/07/18 17:10:00 WARN TaskSetManager: Stage 87 contains a task of very large size (11648 KiB). The maximum recommended task size is 1000 KiB.\n",
      "[Stage 96:===================>                                      (1 + 2) / 3]\r"
     ]
    },
    {
     "name": "stdout",
     "output_type": "stream",
     "text": [
      "total 12055\n"
     ]
    },
    {
     "name": "stderr",
     "output_type": "stream",
     "text": [
      "                                                                                \r"
     ]
    }
   ],
   "source": [
    "df_join_ = df_unique_info.join(df_unique_demonstracao, df_unique_info[\"cnpj_raiz\"] == F.trim(df_unique_demonstracao[\"codigo\"]), \"full_outer\")\\\n",
    ".select(df_unique_demonstracao[\"instituicao\"], df_unique_demonstracao[\"tc\"], df_unique_demonstracao[\"conglomerado\"], df_unique_demonstracao[\"codigo\"],\\\n",
    "        *df_unique_info.columns)\n",
    "\n",
    "df_join = df_join_.dropDuplicates()\n",
    "\n",
    "# Filtrar registros que estão apenas no DataFrame \"demonstracao_result\"\n",
    "only_demonstracao_result = df_join.filter(\n",
    "    F.col(\"nome_entidade\").isNull() &\n",
    "    F.col(\"instituicao\").isNotNull() &\n",
    "    (F.trim(F.col(\"instituicao\")) != \"\")\n",
    ")\n",
    "\n",
    "# Filtrar registros que estão apenas no DataFrame \"info_cadastral\"\n",
    "only_info_cadastral = df_join.filter(\n",
    "    F.col(\"instituicao\").isNull() &\n",
    "    F.col(\"nome_entidade\").isNotNull() &\n",
    "    (F.trim(F.col(\"nome_entidade\")) != \"\")\n",
    ")\n",
    "\n",
    "# Filtrar registros que estão presentes em ambos DataFrames\n",
    "intersecao = df_join.filter(\n",
    "    F.col(\"instituicao\").isNotNull() &\n",
    "    (F.trim(F.col(\"instituicao\")) != \"\") &\n",
    "    F.col(\"nome_entidade\").isNotNull() &\n",
    "    (F.trim(F.col(\"nome_entidade\")) != \"\")\n",
    ")\n",
    "print(only_demonstracao_result.count())\n",
    "\n",
    "print(only_info_cadastral.count())\n",
    "\n",
    "print(intersecao.count())\n",
    "\n",
    "print(\"total\", df_join.count())\n",
    "\n",
    "\n",
    "# testee = df_sem_acento.filter(F.col(\"nome_entidade\") == \"COOPERATIVA DE CRÉDITO RURAL COM INTERAÇÃO SOLIDÁRIA DE CASTRO - CRESOL CASTRO\")\n",
    "\n",
    "# table = tabulate(testee.collect(), headers=testee.columns, tablefmt='html')\n",
    "# display(HTML(table))\n",
    "\n"
   ]
  },
  {
   "cell_type": "code",
   "execution_count": 61,
   "id": "2d8f9918-019d-488c-9cd7-9abf17db79d8",
   "metadata": {
    "editable": true,
    "scrolled": true,
    "slideshow": {
     "slide_type": ""
    },
    "tags": []
   },
   "outputs": [
    {
     "name": "stderr",
     "output_type": "stream",
     "text": [
      "24/07/18 15:42:29 WARN TaskSetManager: Stage 371 contains a task of very large size (12111 KiB). The maximum recommended task size is 1000 KiB.\n",
      "24/07/18 15:42:29 WARN TaskSetManager: Stage 372 contains a task of very large size (11648 KiB). The maximum recommended task size is 1000 KiB.\n",
      "24/07/18 15:42:32 WARN TaskSetManager: Stage 377 contains a task of very large size (12111 KiB). The maximum recommended task size is 1000 KiB.\n",
      "24/07/18 15:42:33 WARN TaskSetManager: Stage 378 contains a task of very large size (11648 KiB). The maximum recommended task size is 1000 KiB.\n",
      "24/07/18 15:42:36 WARN TaskSetManager: Stage 383 contains a task of very large size (12111 KiB). The maximum recommended task size is 1000 KiB.\n",
      "24/07/18 15:42:37 WARN TaskSetManager: Stage 384 contains a task of very large size (11648 KiB). The maximum recommended task size is 1000 KiB.\n",
      "                                                                                \r"
     ]
    },
    {
     "data": {
      "text/html": [
       "<table>\n",
       "<thead>\n",
       "<tr></tr>\n",
       "</thead>\n",
       "<tbody>\n",
       "</tbody>\n",
       "</table>"
      ],
      "text/plain": [
       "<IPython.core.display.HTML object>"
      ]
     },
     "metadata": {},
     "output_type": "display_data"
    },
    {
     "data": {
      "text/html": [
       "<table>\n",
       "<thead>\n",
       "<tr><th>instituicao  </th><th>tc  </th><th>conglomerado  </th><th>codigo  </th><th style=\"text-align: right;\">          cnpj</th><th>data      </th><th style=\"text-align: right;\">  cnpj_raiz</th><th>codigo_sisbacen  </th><th>nome_tipo_entidade                                </th><th>descricao_situacao                       </th><th>nome_entidade                                                                                    </th><th>nome_fantasia                           </th></tr>\n",
       "</thead>\n",
       "<tbody>\n",
       "<tr><td>             </td><td>    </td><td>              </td><td>        </td><td style=\"text-align: right;\">10664027000132</td><td>2024-05-23</td><td style=\"text-align: right;\">   10664027</td><td>                 </td><td>Sociedade Corretora de TVM                        </td><td>Cancelada/Encerrada                      </td><td>ABERTURA CORRETORA DE CAMBIO E VALORES MOBILIARIOS LTDA                                          </td><td>                                        </td></tr>\n",
       "<tr><td>             </td><td>    </td><td>              </td><td>        </td><td style=\"text-align: right;\">11547213000154</td><td>2024-05-23</td><td style=\"text-align: right;\">   11547213</td><td>                 </td><td>Administradora de Consórcio                       </td><td>Cancelada/Encerrada                      </td><td>ALMEIDA ADMINISTRACAO DE CONSORCIOS LTDA - IMPEDIDA CRIAR NOVOS GRUPOS                           </td><td>                                        </td></tr>\n",
       "<tr><td>             </td><td>    </td><td>              </td><td>        </td><td style=\"text-align: right;\">33756370000102</td><td>2024-05-23</td><td style=\"text-align: right;\">   33756370</td><td>                 </td><td>Sociedade Corretora de TVM                        </td><td>Cancelada/Encerrada                      </td><td>ARIJU S/A CORRETORA DE CAMBIO, TITULOS E VALORES MOBILIARIOS                                     </td><td>                                        </td></tr>\n",
       "<tr><td>             </td><td>    </td><td>              </td><td>        </td><td style=\"text-align: right;\">17338450000191</td><td>2024-05-23</td><td style=\"text-align: right;\">   17338450</td><td>                 </td><td>Sociedade Distribuidora de TVM                    </td><td>Regime Especial Encerrado                </td><td>ASTRA DISTRIBUIDORA DE TITULOS E VALORES MOBILIARIOS LTDA                                        </td><td>ASTRA DIST. TITLS. VALS. MOBILIARIOS LTD</td></tr>\n",
       "<tr><td>             </td><td>    </td><td>              </td><td>        </td><td style=\"text-align: right;\">38726063000100</td><td>2024-05-23</td><td style=\"text-align: right;\">   38726063</td><td>                 </td><td>Administradora de Consórcio                       </td><td>Cancelada/Encerrada                      </td><td>AUTO &amp; MOVEL CONSORCIOS LTDA                                                                     </td><td>                                        </td></tr>\n",
       "<tr><td>             </td><td>    </td><td>              </td><td>        </td><td style=\"text-align: right;\">15208309000149</td><td>2024-05-23</td><td style=\"text-align: right;\">   15208309</td><td>                 </td><td>Sociedade de Crédito, Financiamento e Investimento</td><td>Cancelada/Encerrada                      </td><td>BAHIA LUCRO S/A - CREDITO, FINANCIAMENTO E INVESTIMENTOS                                         </td><td>                                        </td></tr>\n",
       "<tr><td>             </td><td>    </td><td>              </td><td>        </td><td style=\"text-align: right;\">61415428000190</td><td>2024-05-23</td><td style=\"text-align: right;\">   61415428</td><td>                 </td><td>Banco Múltiplo                                    </td><td>Cancelada/Encerrada                      </td><td>BANCO DE TOKYO S.A.                                                                              </td><td>                                        </td></tr>\n",
       "<tr><td>             </td><td>    </td><td>              </td><td>        </td><td style=\"text-align: right;\">45666609000132</td><td>2024-05-23</td><td style=\"text-align: right;\">   45666609</td><td>                 </td><td>Banco Comercial Estrangeiro - Filial no país      </td><td>Cancelada/Encerrada                      </td><td>BANCO HISPANO AMERICANO S.A.                                                                     </td><td>                                        </td></tr>\n",
       "<tr><td>             </td><td>    </td><td>              </td><td>        </td><td style=\"text-align: right;\">60700556000465</td><td>2024-05-23</td><td style=\"text-align: right;\">   60700556</td><td>                 </td><td>Banco Múltiplo                                    </td><td>Cancelada/Encerrada                      </td><td>BANCO SANTANDER NOROESTE S.A.                                                                    </td><td>                                        </td></tr>\n",
       "<tr><td>             </td><td>    </td><td>              </td><td>        </td><td style=\"text-align: right;\">74419714000175</td><td>2024-05-23</td><td style=\"text-align: right;\">   74419714</td><td>                 </td><td>Banco de Investimento                             </td><td>Cancelada/Encerrada                      </td><td>BANCO SINTESE DE INVESTIMENTO S.A.                                                               </td><td>                                        </td></tr>\n",
       "<tr><td>             </td><td>    </td><td>              </td><td>        </td><td style=\"text-align: right;\">33801796000130</td><td>2024-05-23</td><td style=\"text-align: right;\">   33801796</td><td>                 </td><td>Banco de Investimento                             </td><td>Cancelada/Encerrada                      </td><td>BANERJ - BANCO DE INVESTIMENTOS S/A                                                              </td><td>                                        </td></tr>\n",
       "<tr><td>             </td><td>    </td><td>              </td><td>        </td><td style=\"text-align: right;\">59233502000105</td><td>2024-05-23</td><td style=\"text-align: right;\">   59233502</td><td>                 </td><td>Banco de Investimento                             </td><td>Cancelada/Encerrada                      </td><td>BBA-CREDITANSTALT BANCO DE INVESTIMENTO S/A                                                      </td><td>                                        </td></tr>\n",
       "<tr><td>             </td><td>    </td><td>              </td><td>        </td><td style=\"text-align: right;\">68327295000149</td><td>2024-05-23</td><td style=\"text-align: right;\">   68327295</td><td>                 </td><td>Administradora de Consórcio                       </td><td>Cancelada/Encerrada                      </td><td>BEMFACIL ADMINISTRADORA DE CONSORCIOS S/C LTDA                                                   </td><td>                                        </td></tr>\n",
       "<tr><td>             </td><td>    </td><td>              </td><td>        </td><td style=\"text-align: right;\">50603067000199</td><td>2024-05-23</td><td style=\"text-align: right;\">   50603067</td><td>                 </td><td>                                                  </td><td>Falta de integridade referencial na fonte</td><td>CARMOTO PARTICIPACOES E INTERMEDIACOES DE BENS MOVEIS LTDA                                       </td><td>CARMOTO                                 </td></tr>\n",
       "<tr><td>             </td><td>    </td><td>              </td><td>        </td><td style=\"text-align: right;\">21593744000137</td><td>2024-05-23</td><td style=\"text-align: right;\">   21593744</td><td>                 </td><td>Sociedade Distribuidora de TVM                    </td><td>Cancelada/Encerrada                      </td><td>CEDISVAL DISTRIBUIDORA DE TITULOS E VALORES MOBILIARIOS LTDA                                     </td><td>                                        </td></tr>\n",
       "<tr><td>             </td><td>    </td><td>              </td><td>        </td><td style=\"text-align: right;\">33858630000150</td><td>2024-05-23</td><td style=\"text-align: right;\">   33858630</td><td>                 </td><td>Sociedade Distribuidora de TVM                    </td><td>Cancelada/Encerrada                      </td><td>CEDRO DISTRIBUIDORA DE TÍTULOS E VALORES MOBILIÁRIOS LTDA                                        </td><td>                                        </td></tr>\n",
       "<tr><td>             </td><td>    </td><td>              </td><td>        </td><td style=\"text-align: right;\">61606976000105</td><td>2024-05-23</td><td style=\"text-align: right;\">   61606976</td><td>                 </td><td>                                                  </td><td>Falta de integridade referencial na fonte</td><td>CNDP PARTICIPACOES LTDA                                                                          </td><td>                                        </td></tr>\n",
       "<tr><td>             </td><td>    </td><td>              </td><td>        </td><td style=\"text-align: right;\">25693912000117</td><td>2024-05-23</td><td style=\"text-align: right;\">   25693912</td><td>                 </td><td>Administradora de Consórcio                       </td><td>Cancelada/Encerrada                      </td><td>CONSÓRCIO NORTE SUL LTDA - IMPEDIDA CRIAR NOVOS GRUPOS                                           </td><td>                                        </td></tr>\n",
       "<tr><td>             </td><td>    </td><td>              </td><td>        </td><td style=\"text-align: right;\">88655261000190</td><td>2024-05-23</td><td style=\"text-align: right;\">   88655261</td><td>                 </td><td>Sociedade Distribuidora de TVM                    </td><td>Cancelada/Encerrada                      </td><td>CONTE DISTRIBUIDORA DE TITULOS E VALORES MOBILIARIOS LTDA                                        </td><td>                                        </td></tr>\n",
       "<tr><td>             </td><td>    </td><td>              </td><td>        </td><td style=\"text-align: right;\">28952679000138</td><td>2024-05-23</td><td style=\"text-align: right;\">   28952679</td><td>                 </td><td>Cooperativa de Crédito                            </td><td>Cancelada/Encerrada                      </td><td>COOPERATIVA DE CREDITO DOS LAVRADORES DE CANA DE ACUCAR DO ESTADO DO RIO JANEIRO LTDA-COOPERCREDI</td><td>                                        </td></tr>\n",
       "<tr><td>             </td><td>    </td><td>              </td><td>        </td><td style=\"text-align: right;\">36904191000163</td><td>2024-05-23</td><td style=\"text-align: right;\">   36904191</td><td>                 </td><td>Cooperativa de Crédito                            </td><td>Cancelada/Encerrada                      </td><td>COOPERATIVA DE CREDITO RURAL DE ALTA FLORESTA LTDA.                                              </td><td>                                        </td></tr>\n",
       "<tr><td>             </td><td>    </td><td>              </td><td>        </td><td style=\"text-align: right;\">86739414000152</td><td>2024-05-23</td><td style=\"text-align: right;\">   86739414</td><td>                 </td><td>Cooperativa de Crédito                            </td><td>Cancelada/Encerrada                      </td><td>COOPERATIVA DE CREDITO RURAL DE DUQUE DE CAXIAS LTDA                                             </td><td>                                        </td></tr>\n",
       "<tr><td>             </td><td>    </td><td>              </td><td>        </td><td style=\"text-align: right;\">32470924000148</td><td>2024-05-23</td><td style=\"text-align: right;\">   32470924</td><td>                 </td><td>Cooperativa de Crédito                            </td><td>Cancelada/Encerrada                      </td><td>COOPERATIVA DE CREDITO RURAL DE ITAGUACU - SICOOB ITAGUACU                                       </td><td>                                        </td></tr>\n",
       "<tr><td>             </td><td>    </td><td>              </td><td>        </td><td style=\"text-align: right;\">36513018000134</td><td>2024-05-23</td><td style=\"text-align: right;\">   36513018</td><td>                 </td><td>Cooperativa de Crédito                            </td><td>Cancelada/Encerrada                      </td><td>COOPERATIVA DE CREDITO RURAL DE RESENDE LTDA                                                     </td><td>                                        </td></tr>\n",
       "<tr><td>             </td><td>    </td><td>              </td><td>        </td><td style=\"text-align: right;\">05003587000106</td><td>2024-05-23</td><td style=\"text-align: right;\">   05003587</td><td>                 </td><td>Cooperativa de Crédito                            </td><td>Cancelada/Encerrada                      </td><td>COOPERATIVA DE CREDITO RURAL DE SANTANA DO LIVRAMENTO LTDA                                       </td><td>                                        </td></tr>\n",
       "<tr><td>             </td><td>    </td><td>              </td><td>        </td><td style=\"text-align: right;\">26408153000166</td><td>2024-05-23</td><td style=\"text-align: right;\">   26408153</td><td>                 </td><td>Cooperativa de Crédito                            </td><td>Cancelada/Encerrada                      </td><td>COOPERATIVA DE CREDITO RURAL DE SIDROLANDIA LTDA                                                 </td><td>                                        </td></tr>\n",
       "<tr><td>             </td><td>    </td><td>              </td><td>        </td><td style=\"text-align: right;\">              </td><td>2024-05-23</td><td style=\"text-align: right;\">           </td><td>                 </td><td>Cooperativa de Crédito                            </td><td>Cancelada/Encerrada                      </td><td>COOPERATIVA DE CRÉDITO DOS FORNECEDORES/FUNCIONÁRIOS DA PREFEITURA MUNICIPAL DE PAULINIA         </td><td>                                        </td></tr>\n",
       "<tr><td>             </td><td>    </td><td>              </td><td>        </td><td style=\"text-align: right;\">09418427000189</td><td>2024-05-23</td><td style=\"text-align: right;\">   09418427</td><td>                 </td><td>Cooperativa de Crédito                            </td><td>Cancelada/Encerrada                      </td><td>COOPERATIVA DE CRÉDITO MÚTUO DOS SÓCIOS DA ASSOCIAÇÃO DOS CICLISTAS CEARENSES LTDA               </td><td>                                        </td></tr>\n",
       "<tr><td>             </td><td>    </td><td>              </td><td>        </td><td style=\"text-align: right;\">91692186000142</td><td>2024-05-23</td><td style=\"text-align: right;\">   91692186</td><td>                 </td><td>Cooperativa de Crédito                            </td><td>Cancelada/Encerrada                      </td><td>COOPERATIVA DE ECONOMIA E CREDITO MUTUO DOS EMPREGADOS DA FIRMA HAAS LTDA                        </td><td>                                        </td></tr>\n",
       "<tr><td>             </td><td>    </td><td>              </td><td>        </td><td style=\"text-align: right;\">14882179000162</td><td>2024-05-23</td><td style=\"text-align: right;\">   14882179</td><td>                 </td><td>Cooperativa de Crédito                            </td><td>Cancelada/Encerrada                      </td><td>COOPERATIVA DE ECONOMIA E CREDITO MUTUO DOS FUNCIONARIOS DAS EMPRESAS ITAU EM CORUMBA LTDA       </td><td>                                        </td></tr>\n",
       "</tbody>\n",
       "</table>"
      ],
      "text/plain": [
       "<IPython.core.display.HTML object>"
      ]
     },
     "metadata": {},
     "output_type": "display_data"
    },
    {
     "data": {
      "text/html": [
       "<table>\n",
       "<thead>\n",
       "<tr><th>instituicao                                                                     </th><th style=\"text-align: right;\">  tc</th><th>conglomerado                   </th><th style=\"text-align: right;\">  codigo</th><th style=\"text-align: right;\">          cnpj</th><th>data      </th><th style=\"text-align: right;\">  cnpj_raiz</th><th style=\"text-align: right;\">  codigo_sisbacen</th><th>nome_tipo_entidade                                         </th><th>descricao_situacao                       </th><th>nome_entidade                                                                   </th><th>nome_fantasia                                  </th></tr>\n",
       "</thead>\n",
       "<tbody>\n",
       "<tr><td>QUANTO NETWORK INSTITUICAO DE PAGAMENTO LTDA.                                   </td><td style=\"text-align: right;\">   2</td><td>QUANTO NETWORK IP - PRUDENCIAL </td><td style=\"text-align: right;\">42064545</td><td style=\"text-align: right;\">42064545000101</td><td>2024-05-23</td><td style=\"text-align: right;\">   42064545</td><td style=\"text-align: right;\">            00005</td><td>Instituição de Pagamento                                   </td><td>Autorizada em Atividade                  </td><td>QUANTO NETWORK INSTITUICAO DE PAGAMENTO LTDA.                                   </td><td>QUANTO                                         </td></tr>\n",
       "<tr><td>BLU INSTITUIÇÃO DE PAGAMENTO LTDA.                                              </td><td style=\"text-align: right;\">   2</td><td>BLU IP - PRUDENCIAL            </td><td style=\"text-align: right;\">10506341</td><td style=\"text-align: right;\">10506341000197</td><td>2024-05-23</td><td style=\"text-align: right;\">   10506341</td><td style=\"text-align: right;\">            00059</td><td>Instituição de Pagamento                                   </td><td>Autorizada em Atividade                  </td><td>BLU INSTITUIÇÃO DE PAGAMENTO LTDA.                                              </td><td>BLU IP                                         </td></tr>\n",
       "<tr><td>ZOOP TECNOLOGIA &amp; INSTITUICAO DE PAGAMENTO S.A.                                 </td><td style=\"text-align: right;\">   2</td><td>ZOOP TECNOLOGIA IP - PRUDENCIAL</td><td style=\"text-align: right;\">19468242</td><td style=\"text-align: right;\">19468242000213</td><td>2024-05-23</td><td style=\"text-align: right;\">   19468242</td><td style=\"text-align: right;\">            00137</td><td>Instituição de Pagamento                                   </td><td>Autorizada em Atividade                  </td><td>ZOOP TECNOLOGIA &amp; INSTITUICAO DE PAGAMENTO S.A.                                 </td><td>ZOOP TECNOLOGIA &amp; INSTITUIÇÃO DE PAGAMENTO S.A.</td></tr>\n",
       "<tr><td>BANCO BANERJ S.A.                                                               </td><td style=\"text-align: right;\">   2</td><td>ITAU                           </td><td style=\"text-align: right;\">33885724</td><td style=\"text-align: right;\">33885724000119</td><td>2024-05-23</td><td style=\"text-align: right;\">   33885724</td><td style=\"text-align: right;\">            04029</td><td>Banco Múltiplo                                             </td><td>Autorizada em Atividade                  </td><td>BANCO ITAÚ CONSIGNADO S.A.                                                      </td><td>BANCO ITAÚ CONSIGNADO S.A.                     </td></tr>\n",
       "<tr><td>BANCO ITAÚ BMG CONSIGNADO S.A.                                                  </td><td style=\"text-align: right;\">   2</td><td>ITAU                           </td><td style=\"text-align: right;\">33885724</td><td style=\"text-align: right;\">33885724000119</td><td>2024-05-23</td><td style=\"text-align: right;\">   33885724</td><td style=\"text-align: right;\">            04029</td><td>Banco Múltiplo                                             </td><td>Autorizada em Atividade                  </td><td>BANCO ITAÚ CONSIGNADO S.A.                                                      </td><td>BANCO ITAÚ CONSIGNADO S.A.                     </td></tr>\n",
       "<tr><td>UBS PACTUAL CORRETORA DE TÍTULOS E VALORES MOBILIÁRIOS S.A.                     </td><td style=\"text-align: right;\">   3</td><td>UBS PACTUAL                    </td><td style=\"text-align: right;\">43815158</td><td style=\"text-align: right;\">43815158000122</td><td>2024-05-23</td><td style=\"text-align: right;\">   43815158</td><td style=\"text-align: right;\">            05211</td><td>Sociedade Corretora de TVM                                 </td><td>Autorizada em Atividade                  </td><td>BTG PACTUAL CORRETORA DE TÍTULOS E VALORES MOBILIÁRIOS S.A.                     </td><td>BTG PACTUAL CTVM S.A.                          </td></tr>\n",
       "<tr><td>BTG PACTUAL CORRETORA DE TÍTULOS E VALORES MOBILIÁRIOS S.A.                     </td><td style=\"text-align: right;\">   2</td><td>BTG PACTUAL                    </td><td style=\"text-align: right;\">43815158</td><td style=\"text-align: right;\">43815158000122</td><td>2024-05-23</td><td style=\"text-align: right;\">   43815158</td><td style=\"text-align: right;\">            05211</td><td>Sociedade Corretora de TVM                                 </td><td>Autorizada em Atividade                  </td><td>BTG PACTUAL CORRETORA DE TÍTULOS E VALORES MOBILIÁRIOS S.A.                     </td><td>BTG PACTUAL CTVM S.A.                          </td></tr>\n",
       "<tr><td>BANCO GE CAPITAL S.A.                                                           </td><td style=\"text-align: right;\">   2</td><td>BMG                            </td><td style=\"text-align: right;\">62421979</td><td style=\"text-align: right;\">62421979000129</td><td>2024-05-23</td><td style=\"text-align: right;\">   62421979</td><td style=\"text-align: right;\">            05233</td><td>Banco Múltiplo                                             </td><td>Autorizada em Atividade                  </td><td>BANCO CIFRA S.A.                                                                </td><td>BANCO CIFRA                                    </td></tr>\n",
       "<tr><td>BANCO LETSBANK S.A.                                                             </td><td style=\"text-align: right;\">   2</td><td>BANCO VOITER - PRUDENCIAL      </td><td style=\"text-align: right;\">58497702</td><td style=\"text-align: right;\">58497702000102</td><td>2024-05-23</td><td style=\"text-align: right;\">   58497702</td><td style=\"text-align: right;\">            05630</td><td>Banco Múltiplo                                             </td><td>Autorizada em Atividade                  </td><td>BANCO LETSBANK S.A.                                                             </td><td>LETSBANK                                       </td></tr>\n",
       "<tr><td>BANCO ITAUBANK S.A.                                                             </td><td style=\"text-align: right;\">   2</td><td>ITAU - PRUDENCIAL              </td><td style=\"text-align: right;\">60394079</td><td style=\"text-align: right;\">60394079000104</td><td>2024-05-23</td><td style=\"text-align: right;\">   60394079</td><td style=\"text-align: right;\">            06479</td><td>Banco Múltiplo                                             </td><td>Autorizada em Atividade                  </td><td>BANCO ITAUBANK S.A.                                                             </td><td>ITAUBANK                                       </td></tr>\n",
       "<tr><td>COMPANHIA AMERICA DO SUL DE ARRENDAMENTO MERCANTIL                              </td><td style=\"text-align: right;\">   3</td><td>SUDAMERIS                      </td><td style=\"text-align: right;\">62307848</td><td style=\"text-align: right;\">62307848000115</td><td>2024-05-23</td><td style=\"text-align: right;\">   62307848</td><td style=\"text-align: right;\">            08336</td><td>Banco Múltiplo                                             </td><td>Autorizada em Atividade                  </td><td>BANCO RCI BRASIL S.A.                                                           </td><td>MOBILIZE FINANCIAL SERVICES                    </td></tr>\n",
       "<tr><td>J&amp;F DISTRIBUIDORA DE TÍTULOS E VALORES MOBILIÁRIOS LTDA                         </td><td style=\"text-align: right;\">   2</td><td>BANCO ORIGINAL - PRUDENCIAL    </td><td style=\"text-align: right;\">07138049</td><td style=\"text-align: right;\">07138049000154</td><td>2024-05-23</td><td style=\"text-align: right;\">   07138049</td><td style=\"text-align: right;\">            12261</td><td>Sociedade Distribuidora de TVM                             </td><td>Autorizada em Atividade                  </td><td>PICPAY INVEST DISTRIBUIDORA DE TÍTULOS E VALORES MOBILIÁRIOS LTDA               </td><td>PICPAY INVEST                                  </td></tr>\n",
       "<tr><td>SANTANDER ASSET MANAGEMENT DISTRIBUIDORA DE TÍTULOS E VALORES MOBILIÁRIOS LTDA. </td><td style=\"text-align: right;\">   3</td><td>SANTANDER BANESPA              </td><td style=\"text-align: right;\">73159642</td><td style=\"text-align: right;\">73159642000101</td><td>2024-05-23</td><td style=\"text-align: right;\">   73159642</td><td style=\"text-align: right;\">            24475</td><td>Sociedade Distribuidora de TVM                             </td><td>Cancelada/Encerrada                      </td><td>SANTANDER ASSET MANAGEMENT DISTRIBUIDORA DE TÍTULOS E VALORES MOBILIÁRIOS LTDA. </td><td>SANTANDER BANESPA                              </td></tr>\n",
       "<tr><td>WESTERN UNION CORRETORA DE CÂMBIO S.A.                                          </td><td style=\"text-align: right;\">   3</td><td>WESTERN UNION - PRUDENCIAL     </td><td style=\"text-align: right;\">13728156</td><td style=\"text-align: right;\">13728156009515</td><td>2024-05-23</td><td style=\"text-align: right;\">   13728156</td><td style=\"text-align: right;\">            28996</td><td>Sociedade Corretora de Câmbio                              </td><td>Autorizada em Atividade                  </td><td>WESTERN UNION CORRETORA DE CÂMBIO S.A.                                          </td><td>WESTERN UNION CORRETORA                        </td></tr>\n",
       "<tr><td>BANCO LOSANGO S.A. - BANCO MÚLTIPLO                                             </td><td style=\"text-align: right;\">   3</td><td>HSBC                           </td><td style=\"text-align: right;\">33254319</td><td style=\"text-align: right;\">33254319008420</td><td>2024-05-23</td><td style=\"text-align: right;\">   33254319</td><td style=\"text-align: right;\">            31168</td><td>Banco Múltiplo                                             </td><td>Autorizada em Atividade                  </td><td>BANCO LOSANGO S.A. - BANCO MÚLTIPLO                                             </td><td>BANCO LOSANGO S.A.                             </td></tr>\n",
       "<tr><td>BANCO OURINVEST S.A.                                                            </td><td style=\"text-align: right;\">   2</td><td>OURINVEST                      </td><td style=\"text-align: right;\">78632767</td><td style=\"text-align: right;\">78632767000120</td><td>2024-05-23</td><td style=\"text-align: right;\">   78632767</td><td style=\"text-align: right;\">            31712</td><td>Banco Múltiplo                                             </td><td>Autorizada em Atividade                  </td><td>BANCO OURINVEST S.A.                                                            </td><td>OURIBANK                                       </td></tr>\n",
       "<tr><td>COINVALORES DISTRIBUIDORA DE TÍTULOS E VALORES MOBILIÁRIOS LTDA                 </td><td style=\"text-align: right;\">   2</td><td>COINVALORES                    </td><td style=\"text-align: right;\">59148775</td><td style=\"text-align: right;\">59148775000151</td><td>2024-05-23</td><td style=\"text-align: right;\">   59148775</td><td style=\"text-align: right;\">            37096</td><td>Administradora de Fundos não sujeita a autorização pelo BCB</td><td>Falta de integridade referencial na fonte</td><td>COINVEST SERVICOS E NEGOCIOS LTDA.                                              </td><td>COINVEST EMPREENDIMENTOS                       </td></tr>\n",
       "<tr><td>FRIZZO PECUNIA - DISTRIBUIDORA DE TÍTULOS E VALORES MOBILIÁRIOS LTDA.           </td><td style=\"text-align: right;\">   2</td><td>PECUNIA                        </td><td style=\"text-align: right;\">62264924</td><td style=\"text-align: right;\">62264924000152</td><td>2024-05-23</td><td style=\"text-align: right;\">   62264924</td><td style=\"text-align: right;\">            37541</td><td>Sociedade Distribuidora de TVM                             </td><td>Autorizada em Atividade                  </td><td>CP &amp; FRIZZO - DISTRIBUIDORA DE TÍTULOS E VALORES MOBILIÁRIOS LTDA               </td><td>CP &amp; FRIZZO - DTVM LTDA                        </td></tr>\n",
       "<tr><td>BTG PACTUAL ASSET MANAGEMENT S.A. DISTRIBUIDORA DE TÍTULOS E VALORES MOBILIÁRIOS</td><td style=\"text-align: right;\">   2</td><td>BTG PACTUAL                    </td><td style=\"text-align: right;\">29650082</td><td style=\"text-align: right;\">29650082000363</td><td>2024-05-23</td><td style=\"text-align: right;\">   29650082</td><td style=\"text-align: right;\">            37811</td><td>Sociedade Distribuidora de TVM                             </td><td>Autorizada em Atividade                  </td><td>BTG PACTUAL ASSET MANAGEMENT S.A. DISTRIBUIDORA DE TÍTULOS E VALORES MOBILIÁRIOS</td><td>BTG PACTUAL ASSET MANAGEMENT S.A. DTVM         </td></tr>\n",
       "<tr><td>PACTUAL S.A.-DISTRIBUIDORA DE TITULOS E VALORES MOBILIARIOS                     </td><td style=\"text-align: right;\">   2</td><td>PACTUAL                        </td><td style=\"text-align: right;\">29650082</td><td style=\"text-align: right;\">29650082000363</td><td>2024-05-23</td><td style=\"text-align: right;\">   29650082</td><td style=\"text-align: right;\">            37811</td><td>Sociedade Distribuidora de TVM                             </td><td>Autorizada em Atividade                  </td><td>BTG PACTUAL ASSET MANAGEMENT S.A. DISTRIBUIDORA DE TÍTULOS E VALORES MOBILIÁRIOS</td><td>BTG PACTUAL ASSET MANAGEMENT S.A. DTVM         </td></tr>\n",
       "<tr><td>BANCO OLÉ CONSIGNADO S.A.                                                       </td><td style=\"text-align: right;\">   3</td><td>SANTANDER                      </td><td style=\"text-align: right;\">71371686</td><td style=\"text-align: right;\">71371686000175</td><td>2024-05-23</td><td style=\"text-align: right;\">   71371686</td><td style=\"text-align: right;\">            38022</td><td>Banco Múltiplo                                             </td><td>Cancelada/Encerrada                      </td><td>BANCO OLÉ CONSIGNADO S.A.                                                       </td><td>OLÉ CONSIGNADO                                 </td></tr>\n",
       "<tr><td>BMP SOCIEDADE DE CRÉDITO DIRETO S.A                                             </td><td style=\"text-align: right;\">   2</td><td>BMP SCMEPP LTDA - PRUDENCIAL   </td><td style=\"text-align: right;\">34337707</td><td style=\"text-align: right;\">34337707000100</td><td>2024-05-23</td><td style=\"text-align: right;\">   34337707</td><td style=\"text-align: right;\">            42687</td><td>Sociedade de Crédito Direto                                </td><td>Autorizada em Atividade                  </td><td>BMP SOCIEDADE DE CRÉDITO DIRETO S.A                                             </td><td>BMP                                            </td></tr>\n",
       "<tr><td>DMCARD SOCIEDADE DE CRÉDITO DIRETO S.A.                                         </td><td style=\"text-align: right;\">   2</td><td>DMCARD SCD - PRUDENCIAL        </td><td style=\"text-align: right;\">37555231</td><td style=\"text-align: right;\">37555231000171</td><td>2024-05-23</td><td style=\"text-align: right;\">   37555231</td><td style=\"text-align: right;\">            42823</td><td>Sociedade de Crédito Direto                                </td><td>Autorizada em Atividade                  </td><td>DM SOCIEDADE DE CRÉDITO DIRETO S.A.                                             </td><td>DM                                             </td></tr>\n",
       "<tr><td>ADIQ SOLUCOES DE PAGAMENTO S.A.                                                 </td><td style=\"text-align: right;\">   2</td><td>BS2 - PRUDENCIAL               </td><td style=\"text-align: right;\">20520298</td><td style=\"text-align: right;\">20520298000178</td><td>2024-05-23</td><td style=\"text-align: right;\">   20520298</td><td style=\"text-align: right;\">            42872</td><td>Instituição de Pagamento                                   </td><td>Autorizada em Atividade                  </td><td>ADIQ INSTITUIÇÃO DE PAGAMENTO S.A.                                              </td><td>ADIQ SOLUÇÕES DE PAGAMENTO                     </td></tr>\n",
       "<tr><td>CREDIFIT SOCIEDADE DE CRÉDITO DIRETO S.A.                                       </td><td style=\"text-align: right;\">   2</td><td>CREDIFIT SCD - PRUDENCIAL      </td><td style=\"text-align: right;\">39676772</td><td style=\"text-align: right;\">39676772000183</td><td>2024-05-23</td><td style=\"text-align: right;\">   39676772</td><td style=\"text-align: right;\">            42935</td><td>Sociedade de Crédito Direto                                </td><td>Autorizada em Atividade                  </td><td>CREDIFIT SOCIEDADE DE CRÉDITO DIRETO S.A.                                       </td><td>CREDIFIT                                       </td></tr>\n",
       "<tr><td>QISTA S.A. - CRÉDITO, FINANCIAMENTO E INVESTIMENTO                              </td><td style=\"text-align: right;\">   2</td><td>QISTA S.A. CFI - PRUDENCIAL    </td><td style=\"text-align: right;\">36583700</td><td style=\"text-align: right;\">36583700000101</td><td>2024-05-23</td><td style=\"text-align: right;\">   36583700</td><td style=\"text-align: right;\">            43205</td><td>Sociedade de Crédito, Financiamento e Investimento         </td><td>Autorizada em Atividade                  </td><td>QISTA S.A. - CRÉDITO, FINANCIAMENTO E INVESTIMENTO                              </td><td>QISTA                                          </td></tr>\n",
       "<tr><td>INTER AMERICAN EXPRESS ARRENDAMENTO MERCANTIL S.A.                              </td><td style=\"text-align: right;\">   3</td><td>INTER AMEX                     </td><td style=\"text-align: right;\">27098060</td><td style=\"text-align: right;\">27098060000145</td><td>2024-05-23</td><td style=\"text-align: right;\">   27098060</td><td style=\"text-align: right;\">            53049</td><td>Banco Múltiplo                                             </td><td>Autorizada em Atividade                  </td><td>BANCO DIGIO S.A.                                                                </td><td>BANCO CBSS                                     </td></tr>\n",
       "<tr><td>CCB BRASIL ARRENDAMENTO MERCANTIL S/A.                                          </td><td style=\"text-align: right;\">   3</td><td>CCB - PRUDENCIAL               </td><td style=\"text-align: right;\">69720910</td><td style=\"text-align: right;\">69720910000145</td><td>2024-05-23</td><td style=\"text-align: right;\">   69720910</td><td style=\"text-align: right;\">            53124</td><td>Sociedade de Arrendamento Mercantil                        </td><td>Autorizada em Atividade                  </td><td>CCB BRASIL ARRENDAMENTO MERCANTIL S/A.                                          </td><td>CCB LEASING                                    </td></tr>\n",
       "<tr><td>FATOR S/A - CORRETORA DE VALORES                                                </td><td style=\"text-align: right;\">   2</td><td>FATOR                          </td><td style=\"text-align: right;\">63062749</td><td style=\"text-align: right;\">63062749000183</td><td>2024-05-23</td><td style=\"text-align: right;\">   63062749</td><td style=\"text-align: right;\">            57095</td><td>Sociedade Corretora de TVM                                 </td><td>Autorizada em Atividade                  </td><td>FXC CORRETORA DE VALORES S.A.                                                   </td><td>FXC CV S.A.                                    </td></tr>\n",
       "<tr><td>FXC CORRETORA DE VALORES S.A.                                                   </td><td style=\"text-align: right;\">   2</td><td>BTG PACTUAL - PRUDENCIAL       </td><td style=\"text-align: right;\">63062749</td><td style=\"text-align: right;\">63062749000183</td><td>2024-05-23</td><td style=\"text-align: right;\">   63062749</td><td style=\"text-align: right;\">            57095</td><td>Sociedade Corretora de TVM                                 </td><td>Autorizada em Atividade                  </td><td>FXC CORRETORA DE VALORES S.A.                                                   </td><td>FXC CV S.A.                                    </td></tr>\n",
       "</tbody>\n",
       "</table>"
      ],
      "text/plain": [
       "<IPython.core.display.HTML object>"
      ]
     },
     "metadata": {},
     "output_type": "display_data"
    }
   ],
   "source": [
    "sample_only_demonstracao_result = only_demonstracao_result.sample(False, 0.1).limit(30)\n",
    "\n",
    "tb_only_demonstracao_result = tabulate(only_demonstracao_result.collect(), headers=only_demonstracao_result.columns, tablefmt='html')\n",
    "\n",
    "sample_only_info_cadastral = only_info_cadastral.sample(False, 0.1).limit(30)\n",
    "\n",
    "tb_only_info_cadastral = tabulate(sample_only_info_cadastral.collect(), headers=sample_only_info_cadastral.columns, tablefmt='html')\n",
    "\n",
    "sample_intersecao =intersecao.sample(False, 0.1).limit(30)\n",
    "\n",
    "tb_intersecao = tabulate(sample_intersecao.collect(), headers=sample_intersecao.columns, tablefmt='html')\n",
    "\n",
    "display(HTML(tb_only_demonstracao_result))\n",
    "display(HTML(tb_only_info_cadastral))\n",
    "display(HTML(tb_intersecao))\n",
    "\n"
   ]
  },
  {
   "cell_type": "code",
   "execution_count": 13,
   "id": "596c374b-e32d-4fc4-bac1-28f7b7576005",
   "metadata": {
    "scrolled": true
   },
   "outputs": [
    {
     "name": "stdout",
     "output_type": "stream",
     "text": [
      "root\n",
      " |-- instituicao: string (nullable = true)\n",
      " |-- tc: string (nullable = true)\n",
      " |-- conglomerado: string (nullable = true)\n",
      " |-- codigo: string (nullable = true)\n",
      " |-- cnpj: string (nullable = true)\n",
      " |-- data: string (nullable = true)\n",
      " |-- cnpj_raiz: string (nullable = true)\n",
      " |-- codigo_sisbacen: string (nullable = true)\n",
      " |-- nome_tipo_entidade: string (nullable = true)\n",
      " |-- descricao_situacao: string (nullable = true)\n",
      " |-- nome_entidade: string (nullable = true)\n",
      " |-- nome_fantasia: string (nullable = true)\n",
      "\n"
     ]
    },
    {
     "name": "stderr",
     "output_type": "stream",
     "text": [
      "24/07/18 17:15:04 WARN TaskSetManager: Stage 110 contains a task of very large size (12111 KiB). The maximum recommended task size is 1000 KiB.\n",
      "24/07/18 17:15:04 WARN TaskSetManager: Stage 111 contains a task of very large size (11648 KiB). The maximum recommended task size is 1000 KiB.\n",
      "                                                                                \r"
     ]
    },
    {
     "data": {
      "text/html": [
       "<table>\n",
       "<thead>\n",
       "<tr><th>instituicao                                                                            </th><th style=\"text-align: right;\">  tc</th><th>conglomerado                                   </th><th style=\"text-align: right;\">  codigo</th><th style=\"text-align: right;\">          cnpj</th><th>data      </th><th style=\"text-align: right;\">  cnpj_raiz</th><th style=\"text-align: right;\">  codigo_sisbacen</th><th>nome_tipo_entidade                                         </th><th>descricao_situacao                       </th><th>nome_entidade                                                                         </th><th>nome_fantasia                           </th></tr>\n",
       "</thead>\n",
       "<tbody>\n",
       "<tr><td>CATERPILLAR FINANCIAL S.A. ARRENDAMENTO MERCANTIL                                      </td><td style=\"text-align: right;\">   3</td><td>CATERPILLAR                                    </td><td style=\"text-align: right;\">02658435</td><td style=\"text-align: right;\">02658435000153</td><td>2024-05-23</td><td style=\"text-align: right;\">   02658435</td><td style=\"text-align: right;\">            53154</td><td>Banco Múltiplo                                             </td><td>Autorizada em Atividade                  </td><td>BANCO CATERPILLAR S.A.                                                                </td><td>BANCO CATERPILLAR S.A.                  </td></tr>\n",
       "<tr><td>BANCO PRIME DE INVESTIMENTO S.A.                                                       </td><td style=\"text-align: right;\">   2</td><td>PRIME                                          </td><td style=\"text-align: right;\">45246410</td><td style=\"text-align: right;\">45246410000155</td><td>2024-05-23</td><td style=\"text-align: right;\">   45246410</td><td style=\"text-align: right;\">            31710</td><td>Banco Múltiplo                                             </td><td>Autorizada em Atividade                  </td><td>BANCO GENIAL S.A.                                                                     </td><td>PLURAL BANCO                            </td></tr>\n",
       "<tr><td>CM CAPITAL MARKETS CORRETORA DE CAMBIO LTDA                                            </td><td style=\"text-align: right;\">   3</td><td>CM CAPITAL MARKETS                             </td><td style=\"text-align: right;\">02671743</td><td style=\"text-align: right;\">02671743000119</td><td>2024-06-12</td><td style=\"text-align: right;\">   02671743</td><td style=\"text-align: right;\">            57538</td><td>Sociedade Distribuidora de TVM                             </td><td>Autorizada em Atividade                  </td><td>BANVOX DISTRIBUIDORA DE TÍTULOS E VALORES MOBILIÁRIOS LTDA                            </td><td>BANVOX DTVM                             </td></tr>\n",
       "<tr><td>BANCO FINAXIS S.A.                                                                     </td><td style=\"text-align: right;\">   2</td><td>FINAXIS - PRUDENCIAL                           </td><td style=\"text-align: right;\">11758741</td><td style=\"text-align: right;\">11758741000152</td><td>2024-05-23</td><td style=\"text-align: right;\">   11758741</td><td style=\"text-align: right;\">            27731</td><td>Banco Comercial                                            </td><td>Autorizada em Atividade                  </td><td>BANCO FINAXIS S.A.                                                                    </td><td>BANCO FINAXIS S.A.                      </td></tr>\n",
       "<tr><td>BANCO INDUSVAL S.A.                                                                    </td><td style=\"text-align: right;\">   2</td><td>INDUSVAL                                       </td><td style=\"text-align: right;\">61024352</td><td style=\"text-align: right;\">61024352000171</td><td>2024-05-23</td><td style=\"text-align: right;\">   61024352</td><td style=\"text-align: right;\">            05653</td><td>Banco Múltiplo                                             </td><td>Autorizada em Atividade                  </td><td>BANCO VOITER S.A.                                                                     </td><td>VOITER                                  </td></tr>\n",
       "<tr><td>BANKPAR BANCO MÚLTIPLO S.A.                                                            </td><td style=\"text-align: right;\">   2</td><td>BRADESCO                                       </td><td style=\"text-align: right;\">59438325</td><td style=\"text-align: right;\">59438325000101</td><td>2024-05-23</td><td style=\"text-align: right;\">   59438325</td><td style=\"text-align: right;\">            07204</td><td>Banco Múltiplo                                             </td><td>Cancelada/Encerrada                      </td><td>BANCO BRADESCO CARTÕES S.A.                                                           </td><td>BRADESCO CARTÕES                        </td></tr>\n",
       "<tr><td>STONE SOCIEDADE DE CRÉDITO DIRETO S.A.                                                 </td><td style=\"text-align: right;\">   2</td><td>STONE PAGAMENTOS - PRUDENCIAL                  </td><td style=\"text-align: right;\">34590184</td><td style=\"text-align: right;\">34590184000109</td><td>2024-05-23</td><td style=\"text-align: right;\">   34590184</td><td style=\"text-align: right;\">            42504</td><td>Sociedade de Crédito Direto                                </td><td>Autorizada em Atividade                  </td><td>STONE SOCIEDADE DE CRÉDITO DIRETO S.A.                                                </td><td>STONE SCD                               </td></tr>\n",
       "<tr><td>SAFRA DISTRIBUIDORA DE TITULOS E VALORES MOBILIARIOS LTDA                              </td><td style=\"text-align: right;\">   2</td><td>SAFRA                                          </td><td style=\"text-align: right;\">62180047</td><td style=\"text-align: right;\">62180047000131</td><td>2024-05-23</td><td style=\"text-align: right;\">   62180047</td><td style=\"text-align: right;\">            37383</td><td>Sociedade Distribuidora de TVM                             </td><td>Cancelada/Encerrada                      </td><td>SAFRA ASSET MANAGEMENT LTDA                                                           </td><td>SAFRA ASSET MANAGEMENT                  </td></tr>\n",
       "<tr><td>M18 INSTITUIÇÃO DE PAGAMENTO S.A.                                                      </td><td style=\"text-align: right;\">   2</td><td>M18 IP - PRUDENCIAL                            </td><td style=\"text-align: right;\">22575466</td><td style=\"text-align: right;\">22575466000158</td><td>2024-05-23</td><td style=\"text-align: right;\">   22575466</td><td style=\"text-align: right;\">            41921</td><td>Instituição de Pagamento                                   </td><td>Autorizada em Atividade                  </td><td>SRM BANK INSTITUIÇÃO DE PAGAMENTO S/A                                                 </td><td>SRM BANK                                </td></tr>\n",
       "<tr><td>SANTANDER SECURITIES (BRASIL)CORRETORA DE VALORES MOBILIÁRIOS S.A.                     </td><td style=\"text-align: right;\">   3</td><td>SANTANDER                                      </td><td style=\"text-align: right;\">61733515</td><td style=\"text-align: right;\">61733515000195</td><td>2024-05-23</td><td style=\"text-align: right;\">   61733515</td><td style=\"text-align: right;\">            57054</td><td>Sociedade Corretora de TVM                                 </td><td>Cancelada/Encerrada                      </td><td>SANTANDER SECURITIES (BRASIL)CORRETORA DE VALORES MOBILIÁRIOS S.A.                    </td><td>SANTANDER SECURITIES CVM                </td></tr>\n",
       "<tr><td>BANCO PSA FINANCE BRASIL S.A.                                                          </td><td style=\"text-align: right;\">   3</td><td>SANTANDER                                      </td><td style=\"text-align: right;\">03502961</td><td style=\"text-align: right;\">03502961000192</td><td>2024-05-23</td><td style=\"text-align: right;\">   03502961</td><td style=\"text-align: right;\">            10567</td><td>Sociedade de Crédito, Financiamento e Investimento         </td><td>Autorizada em Atividade                  </td><td>STELLANTIS FINANCIAMENTOS SOCIEDADE DE CRÉDITO, FINANCIAMENTO E INVESTIMENTO S.A      </td><td>STELLANTIS FINANCIAMENTOS               </td></tr>\n",
       "<tr><td>OZ CORRETORA DE CÂMBIO S.A.                                                            </td><td style=\"text-align: right;\">   2</td><td>OZ CC - PRUDENCIAL                             </td><td style=\"text-align: right;\">04062902</td><td style=\"text-align: right;\">04062902000103</td><td>2024-05-23</td><td style=\"text-align: right;\">   04062902</td><td style=\"text-align: right;\">            12407</td><td>Sociedade Corretora de Câmbio                              </td><td>Autorizada em Atividade                  </td><td>OZ CORRETORA DE CÂMBIO S.A.                                                           </td><td>OZ CÂMBIO                               </td></tr>\n",
       "<tr><td>FISERV DO BRASIL  INSTITUIÇÃO DE PAGAMENTO LTDA                                        </td><td style=\"text-align: right;\">   2</td><td>FISERV DO BRASIL IP - PRUDENCIAL               </td><td style=\"text-align: right;\">04962772</td><td style=\"text-align: right;\">04962772000165</td><td>2024-05-23</td><td style=\"text-align: right;\">   04962772</td><td style=\"text-align: right;\">            00042</td><td>Instituição de Pagamento                                   </td><td>Autorizada em Atividade                  </td><td>FISERV DO BRASIL  INSTITUIÇÃO DE PAGAMENTO LTDA                                       </td><td>FISERV                                  </td></tr>\n",
       "<tr><td>LECCA DISTRIBUIDORA DE TITULOS E VALORES MOBILIARIOS LTDA                              </td><td style=\"text-align: right;\">   2</td><td>LECCA                                          </td><td style=\"text-align: right;\">07138049</td><td style=\"text-align: right;\">07138049000154</td><td>2024-05-23</td><td style=\"text-align: right;\">   07138049</td><td style=\"text-align: right;\">            12261</td><td>Sociedade Distribuidora de TVM                             </td><td>Autorizada em Atividade                  </td><td>PICPAY INVEST DISTRIBUIDORA DE TÍTULOS E VALORES MOBILIÁRIOS LTDA                     </td><td>PICPAY INVEST                           </td></tr>\n",
       "<tr><td>TYCOON TECHNOLOGY INSTITUICAO DE PAGAMENTO S.A                                         </td><td style=\"text-align: right;\">   2</td><td>TYCOON TECHNOLOGY IP - PRUDENCIAL              </td><td style=\"text-align: right;\">26615279</td><td style=\"text-align: right;\">26615279000101</td><td>2024-05-23</td><td style=\"text-align: right;\">   26615279</td><td style=\"text-align: right;\">            00124</td><td>Instituição de Pagamento                                   </td><td>Autorizada em Atividade                  </td><td>TYCOON TECHNOLOGY INSTITUICAO DE PAGAMENTO S.A                                        </td><td>ZEIT                                    </td></tr>\n",
       "<tr><td>NU FINANCEIRA S.A. - SOCIEDADE DE CRÉDITO, FINANCIAMENTO E INVESTIMENTO                </td><td style=\"text-align: right;\">   2</td><td>NU PAGAMENTOS - PRUDENCIAL                     </td><td style=\"text-align: right;\">30680829</td><td style=\"text-align: right;\">30680829000143</td><td>2024-05-23</td><td style=\"text-align: right;\">   30680829</td><td style=\"text-align: right;\">            41593</td><td>Sociedade de Crédito, Financiamento e Investimento         </td><td>Autorizada em Atividade                  </td><td>NU FINANCEIRA S.A. - SOCIEDADE DE CRÉDITO, FINANCIAMENTO E INVESTIMENTO               </td><td>NUBANK                                  </td></tr>\n",
       "<tr><td>HARMONIA DISTRIBUIDORA DE TÍTULOS E VALORES MOBILIÁRIOS S.A.                           </td><td style=\"text-align: right;\">   2</td><td>GREEN ALTERNATIVE INVESTMENTS DTVM - PRUDENCIAL</td><td style=\"text-align: right;\">37800856</td><td style=\"text-align: right;\">37800856000151</td><td>2024-05-23</td><td style=\"text-align: right;\">   37800856</td><td style=\"text-align: right;\">            43383</td><td>Sociedade Distribuidora de TVM                             </td><td>Autorizada em Atividade                  </td><td>GREEN ALTERNATIVE INVESTMENTS DISTRIBUIDORA DE TÍTULOS E VALORES MOBILIÁRIOS S.A.     </td><td>GREEN ALTERNATIVE INVESTMENTS DTVM S.A. </td></tr>\n",
       "<tr><td>ACG INSTITUIÇÃO DE PAGAMENTO S.A.                                                      </td><td style=\"text-align: right;\">   2</td><td>ACG IP - PRUDENCIAL                            </td><td style=\"text-align: right;\">10868663</td><td style=\"text-align: right;\">10868663000186</td><td>2024-05-23</td><td style=\"text-align: right;\">   10868663</td><td style=\"text-align: right;\">            00012</td><td>Instituição de Pagamento                                   </td><td>Autorizada em Atividade                  </td><td>ACG INSTITUIÇÃO DE PAGAMENTO S.A.                                                     </td><td>ACG ADMINISTRADORA DE CARTÕES S/A       </td></tr>\n",
       "<tr><td>BANCO BANERJ S.A.                                                                      </td><td style=\"text-align: right;\">   2</td><td>ITAU                                           </td><td style=\"text-align: right;\">33885724</td><td style=\"text-align: right;\">33885724000119</td><td>2024-05-23</td><td style=\"text-align: right;\">   33885724</td><td style=\"text-align: right;\">            04029</td><td>Banco Múltiplo                                             </td><td>Autorizada em Atividade                  </td><td>BANCO ITAÚ CONSIGNADO S.A.                                                            </td><td>BANCO ITAÚ CONSIGNADO S.A.              </td></tr>\n",
       "<tr><td>CCB BRASIL ARRENDAMENTO MERCANTIL S/A                                                  </td><td style=\"text-align: right;\">   3</td><td>CCB - PRUDENCIAL                               </td><td style=\"text-align: right;\">69720910</td><td style=\"text-align: right;\">69720910000145</td><td>2024-05-23</td><td style=\"text-align: right;\">   69720910</td><td style=\"text-align: right;\">            53124</td><td>Sociedade de Arrendamento Mercantil                        </td><td>Autorizada em Atividade                  </td><td>CCB BRASIL ARRENDAMENTO MERCANTIL S/A.                                                </td><td>CCB LEASING                             </td></tr>\n",
       "<tr><td>ESPÍRITO SANTO SERVIÇOS FINANCEIROS DISTRIBUIDORA DE TÍTULOS E VALORES MOBILIÁRIOS S.A.</td><td style=\"text-align: right;\">   3</td><td>BES                                            </td><td style=\"text-align: right;\">11406965</td><td style=\"text-align: right;\">11406965000103</td><td>2024-05-23</td><td style=\"text-align: right;\">   11406965</td><td style=\"text-align: right;\">            27703</td><td>Sociedade Distribuidora de TVM                             </td><td>Autorizada em Atividade                  </td><td>HAITONG DO BRASIL DISTRIBUIDORA DE TÍTULOS E VALORES MOBILIÁRIOS S.A.                 </td><td>ESPÍRITO SANTO SERVIÇOS FINANCEIROS DTVM</td></tr>\n",
       "<tr><td>NEON CORRETORA DE TÍTULOS E VALORES MOBILIÁRIOS S.A.                                   </td><td style=\"text-align: right;\">   2</td><td>NEON PAGAMENTOS IP - PRUDENCIAL                </td><td style=\"text-align: right;\">61723847</td><td style=\"text-align: right;\">61723847000199</td><td>2024-05-23</td><td style=\"text-align: right;\">   61723847</td><td style=\"text-align: right;\">            57161</td><td>Sociedade Corretora de TVM                                 </td><td>Autorizada em Atividade                  </td><td>NEON CORRETORA DE TÍTULOS E VALORES MOBILIÁRIOS S.A.                                  </td><td>MAGLIANO                                </td></tr>\n",
       "<tr><td>TRINUS CAPITAL DISTRIBUIDORA DE TÍTULOS E VALORES MOBILIÁRIOS S.A.                     </td><td style=\"text-align: right;\">   2</td><td>TRINUS CAPITAL DTVM - PRUDENCIAL               </td><td style=\"text-align: right;\">02276653</td><td style=\"text-align: right;\">02276653000123</td><td>2024-05-23</td><td style=\"text-align: right;\">   02276653</td><td style=\"text-align: right;\">            24072</td><td>Sociedade Distribuidora de TVM                             </td><td>Autorizada em Atividade                  </td><td>TRINUS CAPITAL DISTRIBUIDORA DE TÍTULOS E VALORES MOBILIÁRIOS S.A.                    </td><td>BAHIA DTVM                              </td></tr>\n",
       "<tr><td>ASPECIR - SOCIEDADE DE CRÉDITO AO MICROEMPREENDEDOR E À EMPRESA DE PEQUENO PORTE LTDA. </td><td style=\"text-align: right;\">   2</td><td>ASPECIR SCMEPP LTDA. - PRUDENCIAL              </td><td style=\"text-align: right;\">05289612</td><td style=\"text-align: right;\">05289612000160</td><td>2024-05-23</td><td style=\"text-align: right;\">   05289612</td><td style=\"text-align: right;\">            16688</td><td>Sociedade de Crédito ao Microempreendedor                  </td><td>Autorizada em Atividade                  </td><td>ASPECIR - SOCIEDADE DE CRÉDITO AO MICROEMPREENDEDOR E À EMPRESA DE PEQUENO PORTE LTDA.</td><td>ASPECIR EMPRÉSTIMOS                     </td></tr>\n",
       "<tr><td>PORTOSEG S.A. - CREDITO, FINANCIAMENTO E INVESTIMENTO                                  </td><td style=\"text-align: right;\">   2</td><td>PORTO SEGURO - PRUDENCIAL                      </td><td style=\"text-align: right;\">04862600</td><td style=\"text-align: right;\">04862600000110</td><td>2024-05-23</td><td style=\"text-align: right;\">   04862600</td><td style=\"text-align: right;\">            15554</td><td>Sociedade de Crédito, Financiamento e Investimento         </td><td>Autorizada em Atividade                  </td><td>PORTOSEG S.A. - CREDITO, FINANCIAMENTO E INVESTIMENTO                                 </td><td>PORTO SEGURO                            </td></tr>\n",
       "<tr><td>ADIQ SOLUCOES DE PAGAMENTO S.A.                                                        </td><td style=\"text-align: right;\">   2</td><td>BS2 - PRUDENCIAL                               </td><td style=\"text-align: right;\">20520298</td><td style=\"text-align: right;\">20520298000178</td><td>2024-05-23</td><td style=\"text-align: right;\">   20520298</td><td style=\"text-align: right;\">            42872</td><td>Instituição de Pagamento                                   </td><td>Autorizada em Atividade                  </td><td>ADIQ INSTITUIÇÃO DE PAGAMENTO S.A.                                                    </td><td>ADIQ SOLUÇÕES DE PAGAMENTO              </td></tr>\n",
       "<tr><td>MONEY PLUS SOCIEDADE DE CRÉDITO AO MICROEMPREENDEDOR E A EMPRESA DE PEQUENO PORTE LTDA.</td><td style=\"text-align: right;\">   2</td><td>MONEY PLUS                                     </td><td style=\"text-align: right;\">11581339</td><td style=\"text-align: right;\">11581339000145</td><td>2024-05-23</td><td style=\"text-align: right;\">   11581339</td><td style=\"text-align: right;\">            27360</td><td>Sociedade de Crédito ao Microempreendedor                  </td><td>Autorizada em Atividade                  </td><td>BMP SOCIEDADE DE CRÉDITO AO MICROEMPREENDEDOR E A EMPRESA DE PEQUENO PORTE LTDA.      </td><td>BMP SCM                                 </td></tr>\n",
       "<tr><td>ALESTA SOCIEDADE DE CREDITO DIRETO S.A.                                                </td><td style=\"text-align: right;\">   2</td><td>ALESTA SOCIEDADE DE CREDITO DIRETO - PRUDENCIAL</td><td style=\"text-align: right;\">38316293</td><td style=\"text-align: right;\">38316293000193</td><td>2024-05-23</td><td style=\"text-align: right;\">   38316293</td><td style=\"text-align: right;\">            43934</td><td>Sociedade de Crédito Direto                                </td><td>Autorizada em Atividade                  </td><td>ALESTA SOCIEDADE DE CREDITO DIRETO S.A.                                               </td><td>ALESTA                                  </td></tr>\n",
       "<tr><td>COINVALORES DISTRIBUIDORA DE TÍTULOS E VALORES MOBILIÁRIOS LTDA                        </td><td style=\"text-align: right;\">   2</td><td>COINVALORES                                    </td><td style=\"text-align: right;\">59148775</td><td style=\"text-align: right;\">59148775000151</td><td>2024-05-23</td><td style=\"text-align: right;\">   59148775</td><td style=\"text-align: right;\">            37096</td><td>Administradora de Fundos não sujeita a autorização pelo BCB</td><td>Falta de integridade referencial na fonte</td><td>COINVEST SERVICOS E NEGOCIOS LTDA.                                                    </td><td>COINVEST EMPREENDIMENTOS                </td></tr>\n",
       "<tr><td>ASAAS GESTAO FINANCEIRA S.A.                                                           </td><td style=\"text-align: right;\">   2</td><td>ASAAS GESTAO FINANCEIRA IP - PRUDENCIAL        </td><td style=\"text-align: right;\">19540550</td><td style=\"text-align: right;\">19540550000121</td><td>2024-05-23</td><td style=\"text-align: right;\">   19540550</td><td style=\"text-align: right;\">            43384</td><td>Instituição de Pagamento                                   </td><td>Autorizada em Atividade                  </td><td>ASAAS GESTÃO FINANCEIRA INSTITUIÇÃO DE PAGAMENTO S.A.                                 </td><td>ASAAS GESTÃO FINANCEIRA S.A.            </td></tr>\n",
       "</tbody>\n",
       "</table>"
      ],
      "text/plain": [
       "<IPython.core.display.HTML object>"
      ]
     },
     "metadata": {},
     "output_type": "display_data"
    }
   ],
   "source": [
    "df_join.printSchema()\n",
    "df_join_sample = df_join.sample(False, 0.1).limit(30)\n",
    "\n",
    "tb = tabulate(df_join_sample.collect(), headers=df_join_sample.columns, tablefmt='html')\n",
    "\n",
    "display(HTML(tb))"
   ]
  },
  {
   "cell_type": "code",
   "execution_count": null,
   "id": "07955860-1353-4d69-bd17-d8ebbeedcc65",
   "metadata": {},
   "outputs": [],
   "source": []
  },
  {
   "cell_type": "code",
   "execution_count": 39,
   "id": "dcf099c1-d111-4192-9f8c-432f0206774d",
   "metadata": {},
   "outputs": [
    {
     "name": "stdout",
     "output_type": "stream",
     "text": [
      "['codigo_cadastro_bacen', 'codigo_sisbacen', 'codigo_pais_sede', 'nome_pais_sede', 'nome_uf_sede', 'codigo_municipio_sede', 'nome_municipio_sede', 'nome_entidade', 'nome_entidade_nao_formatado', 'cnpj', 'cnpj_raiz', 'codigo_situacao', 'descricao_situacao', 'codigo_tipo_entidade_segmento', 'nome_tipo_entidade', 'codigo_natureza_juridica', 'descricao_natureza_juridica', 'codigo_esfera_publica', 'nome_reduzido', 'sigla_entidade', 'nome_fantasia', 'empresa_publica']\n",
      "<class 'list'>\n"
     ]
    }
   ],
   "source": [
    "\n",
    "\n"
   ]
  },
  {
   "cell_type": "code",
   "execution_count": 58,
   "id": "4da53cf3-fdba-4846-b52f-0c6a50177a79",
   "metadata": {},
   "outputs": [
    {
     "name": "stdout",
     "output_type": "stream",
     "text": [
      "+--------+\n",
      "|codigo  |\n",
      "+--------+\n",
      "|00000001|\n",
      "|00000123|\n",
      "|00012345|\n",
      "|12345678|\n",
      "+--------+\n",
      "\n"
     ]
    }
   ],
   "source": [
    "data = [(\"1\",), (\"123\",), (\"12345\",), (\"12345678\",)]\n",
    "columns = [\"codigo\"]\n",
    "df = spark.createDataFrame(data, columns)\n",
    "\n",
    "# Adicionar zeros à esquerda para que todos os valores na coluna \"codigo\" tenham exatamente 8 dígitos\n",
    "df_formatado = df.withColumn(\"codigo\", F.lpad(df[\"codigo\"], 8, '0'))\n",
    "\n",
    "# Exibir o DataFrame formatado\n",
    "df_formatado.show(truncate=False)"
   ]
  },
  {
   "cell_type": "code",
   "execution_count": null,
   "id": "942c9ffc-b78d-42a0-920e-365249ec4eba",
   "metadata": {},
   "outputs": [],
   "source": []
  }
 ],
 "metadata": {
  "kernelspec": {
   "display_name": "Python 3 (ipykernel)",
   "language": "python",
   "name": "python3"
  },
  "language_info": {
   "codemirror_mode": {
    "name": "ipython",
    "version": 3
   },
   "file_extension": ".py",
   "mimetype": "text/x-python",
   "name": "python",
   "nbconvert_exporter": "python",
   "pygments_lexer": "ipython3",
   "version": "3.11.7"
  }
 },
 "nbformat": 4,
 "nbformat_minor": 5
}
