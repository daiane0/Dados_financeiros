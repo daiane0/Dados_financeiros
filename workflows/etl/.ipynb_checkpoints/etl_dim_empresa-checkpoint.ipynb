{
 "cells": [
  {
   "cell_type": "code",
   "execution_count": 1,
   "id": "3115815c-4a18-4001-afee-6c5ae8456f6a",
   "metadata": {},
   "outputs": [],
   "source": [
    "from pyspark.sql import SparkSession\n",
    "from pyspark.sql import functions as F\n",
    "from pyspark.sql import types as T\n",
    "import generate_df as G\n",
    "from IPython.display import display, HTML\n",
    "from tabulate import tabulate\n",
    "from unidecode import unidecode\n"
   ]
  },
  {
   "cell_type": "code",
   "execution_count": 2,
   "id": "599a6418-6f7c-49a2-9c0d-eeb5b6ddebec",
   "metadata": {},
   "outputs": [
    {
     "name": "stderr",
     "output_type": "stream",
     "text": [
      "24/07/22 11:31:07 WARN Utils: Your hostname, victor-Lenovo-ideapad-330-15IKB resolves to a loopback address: 127.0.1.1; using 192.168.0.125 instead (on interface wlp2s0)\n",
      "24/07/22 11:31:07 WARN Utils: Set SPARK_LOCAL_IP if you need to bind to another address\n",
      "24/07/22 11:31:08 WARN NativeCodeLoader: Unable to load native-hadoop library for your platform... using builtin-java classes where applicable\n",
      "Setting default log level to \"WARN\".\n",
      "To adjust logging level use sc.setLogLevel(newLevel). For SparkR, use setLogLevel(newLevel).\n"
     ]
    }
   ],
   "source": [
    "spark = SparkSession.builder.appName(\"finance_data_processing\")\\\n",
    ".config(\"spark.jars\",\"/home/daiane/Downloads/postgresql-42.7.3.jar\").getOrCreate()\n"
   ]
  },
  {
   "cell_type": "code",
   "execution_count": 3,
   "id": "e81ed59a-dbff-4aa4-a4d0-f81696d6a5c3",
   "metadata": {},
   "outputs": [],
   "source": [
    "def cnpj_completo(cnpj_base_input):\n",
    "    #adiciona \"0001\" e calcula dígitos verificadores, retorna cnpj com 14 dígitos\n",
    "    pesos1 = [5, 4, 3, 2, 9, 8, 7, 6, 5, 4, 3, 2]\n",
    "    pesos2 = [6, 5, 4, 3, 2, 9, 8, 7, 6, 5, 4, 3, 2]\n",
    "\n",
    "    cnpj1 = cnpj_base_input + \"0001\"\n",
    "    cnpj_base = cnpj1.zfill(12)\n",
    "\n",
    "    #1° dígito verficador\n",
    "    soma1 = sum(int(digito) * peso for digito, peso in zip(cnpj_base, pesos1))\n",
    "    resto1 = soma1 % 11\n",
    "    digito1 = 0 if resto1 < 2 else 11 - resto1\n",
    "\n",
    "    #2° dígito verificador\n",
    "    soma2 = sum(int(digito) * peso for digito, peso in zip(cnpj_base + str(digito1), pesos2))\n",
    "    resto2 = soma2 % 11\n",
    "    digito2 = 0 if resto2 < 2 else 11 - resto2\n",
    "\n",
    "    cnpj = cnpj_base  + str(digito1) + str(digito2)\n",
    "    return cnpj\n",
    "\n",
    "cnpj_udf = F.udf(cnpj_completo, T.StringType())\n"
   ]
  },
  {
   "cell_type": "code",
   "execution_count": 4,
   "id": "31eb7cfc-6d96-459f-bcb2-8b65a22f2e18",
   "metadata": {
    "scrolled": true
   },
   "outputs": [
    {
     "name": "stderr",
     "output_type": "stream",
     "text": [
      "24/07/22 11:31:29 WARN SparkStringUtils: Truncated the string representation of a plan since it was too large. This behavior can be adjusted by setting 'spark.sql.debug.maxToStringFields'.\n",
      "24/07/22 11:31:31 WARN TaskSetManager: Stage 0 contains a task of very large size (11648 KiB). The maximum recommended task size is 1000 KiB.\n",
      "24/07/22 11:31:42 WARN TaskSetManager: Stage 1 contains a task of very large size (11648 KiB). The maximum recommended task size is 1000 KiB.\n",
      "24/07/22 11:31:57 WARN TaskSetManager: Stage 2 contains a task of very large size (11648 KiB). The maximum recommended task size is 1000 KiB.\n",
      "                                                                                \r"
     ]
    },
    {
     "data": {
      "text/html": [
       "<table>\n",
       "<thead>\n",
       "<tr><th>instituicao                                                                                                                                                       </th><th style=\"text-align: right;\">  codigo</th><th>conglomerado  </th><th style=\"text-align: right;\">  codigo_conglomerado_financeiro</th><th>codigo_conglomerado_prudencial  </th><th>tcb  </th><th style=\"text-align: right;\">  tc</th><th style=\"text-align: right;\">  ti</th><th>cidade        </th><th>uf  </th><th>rendas_operacoes_credito_a1  </th><th>rendas_operacoes_arrendamento_mercantil_a2  </th><th>rendas_operacoes_com_tvm_a3  </th><th style=\"text-align: right;\">  rendas_operacoes_instrumentos_financeiros_derivativos_a4</th><th style=\"text-align: right;\">  resultado_operacoes_cambio_a5</th><th>rendas_aplicacoes_compulsorias_a6  </th><th>receitas_intermediacao_financeira_soma_a1_a2_a3_a4_a5_a6  </th><th>despesas_captacao_b1  </th><th>despesas_obrigacoes_por_emprestimos_e_repasses_b2  </th><th style=\"text-align: right;\">  despesas_operacoes_arrendamento_mercantil_b3</th><th style=\"text-align: right;\">  resultado_operacoes_cambio_b4</th><th>resultado_de_provisao_para_creditos_dificil_liquidacao_b5  </th><th>despesas__intermediacao_financeira_soma_b1_b2_b3_b4_b5  </th><th>resultao_intermediacao_financeira_c_soma_a_b  </th><th>rendas_prestacao_servico_d1  </th><th>rendas_tarifas_bancarias_d2  </th><th>despesas_de_pessoal_d3  </th><th>despesas_administrativas_d4  </th><th>despesas_tributarias_d5  </th><th>resultado_de_participacoes_d6  </th><th>outras_receitas_operacionais_d7  </th><th>outras_receitas_operacionais_d8  </th><th>soma_d1_d2_d3_d4_d5_d6_d7_d8  </th><th>resultado_operacional_soma_c_d  </th><th style=\"text-align: right;\">  resultado_nao_operacional_f</th><th>g        </th><th>imposto_renda_contribuicao_social_h  </th><th>participacao_lucros_i  </th><th>lucro_liquido_soma_g_h_i  </th><th style=\"text-align: right;\">  juros_capital_social_cooperativas_k</th><th>data_trimestral  </th><th style=\"text-align: right;\">  cnpj_completo</th></tr>\n",
       "</thead>\n",
       "<tbody>\n",
       "<tr><td>ITAÚ UNIBANCO S.A.                                                                                                                                                </td><td style=\"text-align: right;\">60701190</td><td>ITAU          </td><td style=\"text-align: right;\">                           10069</td><td>                                </td><td>b1   </td><td style=\"text-align: right;\">   2</td><td style=\"text-align: right;\">   8</td><td>SAO PAULO     </td><td>SP  </td><td>19.228.499                   </td><td>271.585                                     </td><td>19.302.802                   </td><td style=\"text-align: right;\">                                                  -335.861</td><td style=\"text-align: right;\">                        785.415</td><td>3.071.041                          </td><td>42.323.482                                                </td><td>-31.245.319           </td><td>-797.347                                           </td><td style=\"text-align: right;\">                                      -245.058</td><td style=\"text-align: right;\">                          0    </td><td>-6.922.283                                                 </td><td>-39.210.007                                             </td><td>3.113.474                                     </td><td>2.020.141                    </td><td>1.752.754                    </td><td>-2.900.983              </td><td>-5.444.745                   </td><td>-855.103                 </td><td>4.645.111                      </td><td>2.039.229                        </td><td>-2.984.698                       </td><td>-1.728.294                    </td><td>1.385.180                       </td><td style=\"text-align: right;\">                       22.253</td><td>1.407.433</td><td>1.772.843                            </td><td>-1.758.429             </td><td>1.421.847                 </td><td style=\"text-align: right;\">                                0    </td><td>2012-06-01       </td><td style=\"text-align: right;\"> 60701190000104</td></tr>\n",
       "<tr><td>CAIXA ECONOMICA FEDERAL                                                                                                                                           </td><td style=\"text-align: right;\">  360305</td><td>              </td><td style=\"text-align: right;\">                                </td><td>                                </td><td>b1   </td><td style=\"text-align: right;\">   1</td><td style=\"text-align: right;\">   6</td><td>BRASILIA      </td><td>DF  </td><td>16.590.307                   </td><td>0                                           </td><td>9.834.965                    </td><td style=\"text-align: right;\">                                                  -904.021</td><td style=\"text-align: right;\">                          9.522</td><td>3.022.332                          </td><td>28.553.104                                                </td><td>-13.375.359           </td><td>-3.359.229                                         </td><td style=\"text-align: right;\">                                         0    </td><td style=\"text-align: right;\">                          0    </td><td>-3.634.996                                                 </td><td>-20.369.584                                             </td><td>8.183.520                                     </td><td>5.769.030                    </td><td>1.080.237                    </td><td>-6.217.996              </td><td>-3.615.086                   </td><td>-971.182                 </td><td>152.975                        </td><td>3.181.067                        </td><td>-4.688.674                       </td><td>-5.309.628                    </td><td>2.873.893                       </td><td style=\"text-align: right;\">                      -92.146</td><td>2.781.746</td><td>358.028                              </td><td>-293.426               </td><td>2.846.348                 </td><td style=\"text-align: right;\">                             -552.065</td><td>2012-06-01       </td><td style=\"text-align: right;\"> 00360305000104</td></tr>\n",
       "<tr><td>BANCO SANTANDER (BRASIL) S.A.                                                                                                                                     </td><td style=\"text-align: right;\">90400888</td><td>SANTANDER     </td><td style=\"text-align: right;\">                           30379</td><td>                                </td><td>b1   </td><td style=\"text-align: right;\">   3</td><td style=\"text-align: right;\">   8</td><td>SAO PAULO     </td><td>SP  </td><td>17.402.999                   </td><td>29.180                                      </td><td>9.178.279                    </td><td style=\"text-align: right;\">                                                  -601.775</td><td style=\"text-align: right;\">                        758.3  </td><td>1.768.617                          </td><td>28.535.601                                                </td><td>-16.638.807           </td><td>-386.590                                           </td><td style=\"text-align: right;\">                                       -77.682</td><td style=\"text-align: right;\">                          0    </td><td>-6.535.144                                                 </td><td>-23.638.223                                             </td><td>4.897.377                                     </td><td>3.060.487                    </td><td>1.194.884                    </td><td>-2.840.882              </td><td>-5.568.687                   </td><td>-1.227.217               </td><td>2.993.538                      </td><td>3.598.007                        </td><td>-5.508.673                       </td><td>-4.298.543                    </td><td>598.835                         </td><td style=\"text-align: right;\">                       80.425</td><td>679.259  </td><td>1.254.016                            </td><td>-534.118               </td><td>1.399.158                 </td><td style=\"text-align: right;\">                             -570    </td><td>2012-06-01       </td><td style=\"text-align: right;\"> 90400888000142</td></tr>\n",
       "<tr><td>BANCO ITAUCARD S.A.                                                                                                                                               </td><td style=\"text-align: right;\">17192451</td><td>ITAU          </td><td style=\"text-align: right;\">                           10069</td><td>                                </td><td>b2   </td><td style=\"text-align: right;\">   2</td><td style=\"text-align: right;\">   8</td><td>SAO PAULO     </td><td>SP  </td><td>7.039.377                    </td><td>1.135.047                                   </td><td>493.685                      </td><td style=\"text-align: right;\">                                                   -41.837</td><td style=\"text-align: right;\">                          0    </td><td>0                                  </td><td>8.626.272                                                 </td><td>-3.687.431            </td><td>-316.909                                           </td><td style=\"text-align: right;\">                                      -899.819</td><td style=\"text-align: right;\">                          0    </td><td>-2.733.829                                                 </td><td>-7.637.989                                              </td><td>988.284                                       </td><td>1.903.653                    </td><td>749.785                      </td><td>-19.412                 </td><td>-2.242.883                   </td><td>-308.291                 </td><td>1.438.991                      </td><td>567.829                          </td><td>-2.159.353                       </td><td>-69.681                       </td><td>918.602                         </td><td style=\"text-align: right;\">                       18.826</td><td>937.429  </td><td>167.060                              </td><td>-4.600                 </td><td>1.099.888                 </td><td style=\"text-align: right;\">                                0    </td><td>2012-06-01       </td><td style=\"text-align: right;\"> 17192451000170</td></tr>\n",
       "<tr><td>BANCO DO ESTADO DO RIO GRANDE DO SUL S.A.                                                                                                                         </td><td style=\"text-align: right;\">92702067</td><td>BANRISUL      </td><td style=\"text-align: right;\">                           30173</td><td>                                </td><td>b1   </td><td style=\"text-align: right;\">   1</td><td style=\"text-align: right;\">   8</td><td>PORTO ALEGRE  </td><td>RS  </td><td>2.312.069                    </td><td>23.751                                      </td><td>575.854                      </td><td style=\"text-align: right;\">                                                   411.517</td><td style=\"text-align: right;\">                         73.295</td><td>155.856                            </td><td>3.552.342                                                 </td><td>-906.021              </td><td>-377.249                                           </td><td style=\"text-align: right;\">                                       -18.288</td><td style=\"text-align: right;\">                          0    </td><td>-116.754                                                   </td><td>-1.418.312                                              </td><td>2.134.030                                     </td><td>59.925                       </td><td>277.478                      </td><td>-572.906                </td><td>-378.365                     </td><td>-118.611                 </td><td>32.491                         </td><td>68.760                           </td><td>-878.760                         </td><td>-1.509.987                    </td><td>624.043                         </td><td style=\"text-align: right;\">                       -5.868</td><td>618.176  </td><td>-167.235                             </td><td>-31.349                </td><td>419.591                   </td><td style=\"text-align: right;\">                             -130.439</td><td>2012-06-01       </td><td style=\"text-align: right;\"> 92702067000196</td></tr>\n",
       "<tr><td>UNIBANCO - UNIÃO DE BANCOS BRASILEIROS S.A.                                                                                                                       </td><td style=\"text-align: right;\">33700394</td><td>ITAU          </td><td style=\"text-align: right;\">                           10069</td><td>                                </td><td>b1   </td><td style=\"text-align: right;\">   2</td><td style=\"text-align: right;\">   8</td><td>SAO PAULO     </td><td>SP  </td><td>0                            </td><td>0                                           </td><td>1.500.644                    </td><td style=\"text-align: right;\">                                                     0    </td><td style=\"text-align: right;\">                          0    </td><td>0                                  </td><td>1.500.644                                                 </td><td>0                     </td><td>0                                                  </td><td style=\"text-align: right;\">                                         0    </td><td style=\"text-align: right;\">                          0    </td><td>0                                                          </td><td>0                                                       </td><td>1.500.644                                     </td><td>0                            </td><td>0                            </td><td>0                       </td><td>-327                         </td><td>-70.285                  </td><td>-63                            </td><td>10.858                           </td><td>-13.992                          </td><td>-73.808                       </td><td>1.426.835                       </td><td style=\"text-align: right;\">                        0    </td><td>1.426.835</td><td>-570.747                             </td><td>0                      </td><td>856.088                   </td><td style=\"text-align: right;\">                                0    </td><td>2012-06-01       </td><td style=\"text-align: right;\"> 33700394000140</td></tr>\n",
       "<tr><td>BANCO ALVORADA S.A.                                                                                                                                               </td><td style=\"text-align: right;\">33870163</td><td>BRADESCO      </td><td style=\"text-align: right;\">                           10045</td><td>                                </td><td>b1   </td><td style=\"text-align: right;\">   2</td><td style=\"text-align: right;\">   8</td><td>OSASCO        </td><td>SP  </td><td>13.669                       </td><td>481.622                                     </td><td>627.634                      </td><td style=\"text-align: right;\">                                                     0    </td><td style=\"text-align: right;\">                          0    </td><td>0                                  </td><td>1.122.925                                                 </td><td>0                     </td><td>-3                                                 </td><td style=\"text-align: right;\">                                      -463.487</td><td style=\"text-align: right;\">                          0    </td><td>30.437                                                     </td><td>-433.054                                                </td><td>689.872                                       </td><td>0                            </td><td>0                            </td><td>-1.103                  </td><td>-4.026                       </td><td>-37.380                  </td><td>781.074                        </td><td>24.159                           </td><td>-14.783                          </td><td>747.943                       </td><td>1.437.814                       </td><td style=\"text-align: right;\">                        1.784</td><td>1.439.598</td><td>-259.919                             </td><td>0                      </td><td>1.179.679                 </td><td style=\"text-align: right;\">                                0    </td><td>2012-06-01       </td><td style=\"text-align: right;\"> 33870163000184</td></tr>\n",
       "<tr><td>BANCO BRADESCO CARTÕES S.A.                                                                                                                                       </td><td style=\"text-align: right;\">59438325</td><td>BRADESCO      </td><td style=\"text-align: right;\">                           10045</td><td>                                </td><td>b1   </td><td style=\"text-align: right;\">   2</td><td style=\"text-align: right;\">   8</td><td>OSASCO        </td><td>SP  </td><td>1.012.716                    </td><td>0                                           </td><td>24.603                       </td><td style=\"text-align: right;\">                                                     2.605</td><td style=\"text-align: right;\">                          0    </td><td>70                                 </td><td>1.039.993                                                 </td><td>-140.151              </td><td>-7                                                 </td><td style=\"text-align: right;\">                                         0    </td><td style=\"text-align: right;\">                          0    </td><td>-665.291                                                   </td><td>-805.449                                                </td><td>234.543                                       </td><td>452.174                      </td><td>428.261                      </td><td>-58.063                 </td><td>-335.561                     </td><td>-88.607                  </td><td>179.479                        </td><td>114.288                          </td><td>-568.406                         </td><td>123.566                       </td><td>358.110                         </td><td style=\"text-align: right;\">                      280    </td><td>358.389  </td><td>-106.539                             </td><td>0                      </td><td>251.850                   </td><td style=\"text-align: right;\">                                0    </td><td>2012-06-01       </td><td style=\"text-align: right;\"> 59438325000101</td></tr>\n",
       "<tr><td>BANCO ABC BRASIL S.A.                                                                                                                                             </td><td style=\"text-align: right;\">28195667</td><td>ABC-BRASIL    </td><td style=\"text-align: right;\">                           41856</td><td>                                </td><td>b1   </td><td style=\"text-align: right;\">   3</td><td style=\"text-align: right;\">   8</td><td>SAO PAULO     </td><td>SP  </td><td>586.633                      </td><td>0                                           </td><td>136.244                      </td><td style=\"text-align: right;\">                                                    17.992</td><td style=\"text-align: right;\">                          0    </td><td>0                                  </td><td>740.870                                                   </td><td>-478.364              </td><td>-125.013                                           </td><td style=\"text-align: right;\">                                         0    </td><td style=\"text-align: right;\">                        -21.457</td><td>-49.168                                                    </td><td>-674.003                                                </td><td>66.867                                        </td><td>58.063                       </td><td>3.379                        </td><td>-63.004                 </td><td>-35.801                      </td><td>-16.799                  </td><td>63.057                         </td><td>233.782                          </td><td>-149.999                         </td><td>92.678                        </td><td>159.546                         </td><td style=\"text-align: right;\">                       -4.74 </td><td>154.805  </td><td>-19.741                              </td><td>-23.140                </td><td>111.924                   </td><td style=\"text-align: right;\">                              -44.482</td><td>2012-06-01       </td><td style=\"text-align: right;\"> 28195667000106</td></tr>\n",
       "<tr><td>DEUTSCHE BANK S.A. - BANCO ALEMAO                                                                                                                                 </td><td style=\"text-align: right;\">62331228</td><td>DEUTSCHE      </td><td style=\"text-align: right;\">                           51183</td><td>                                </td><td>b1   </td><td style=\"text-align: right;\">   3</td><td style=\"text-align: right;\">   8</td><td>SAO PAULO     </td><td>SP  </td><td>139.054                      </td><td>0                                           </td><td>374.694                      </td><td style=\"text-align: right;\">                                                   162.964</td><td style=\"text-align: right;\">                          0    </td><td>0                                  </td><td>676.711                                                   </td><td>-337.051              </td><td>-133.426                                           </td><td style=\"text-align: right;\">                                         0    </td><td style=\"text-align: right;\">                        -59.598</td><td>-18.741                                                    </td><td>-548.816                                                </td><td>127.896                                       </td><td>94.952                       </td><td>74                           </td><td>-103.422                </td><td>-29.066                      </td><td>-10.946                  </td><td>34.039                         </td><td>24.824                           </td><td>-55.263                          </td><td>-44.807                       </td><td>83.089                          </td><td style=\"text-align: right;\">                      -14    </td><td>83.074   </td><td>-32.048                              </td><td>0                      </td><td>51.027                    </td><td style=\"text-align: right;\">                                0    </td><td>2012-06-01       </td><td style=\"text-align: right;\"> 62331228000111</td></tr>\n",
       "<tr><td>BANESTES S.A. BANCO DO ESTADO DO ESPIRITO SANTO                                                                                                                   </td><td style=\"text-align: right;\">28127603</td><td>BANESTES      </td><td style=\"text-align: right;\">                           30159</td><td>                                </td><td>b1   </td><td style=\"text-align: right;\">   1</td><td style=\"text-align: right;\">   8</td><td>VITORIA       </td><td>ES  </td><td>332.822                      </td><td>32.138                                      </td><td>267.877                      </td><td style=\"text-align: right;\">                                                    24    </td><td style=\"text-align: right;\">                          8.795</td><td>12.506                             </td><td>654.162                                                   </td><td>-342.343              </td><td>-7.153                                             </td><td style=\"text-align: right;\">                                       -21.998</td><td style=\"text-align: right;\">                          0    </td><td>-119.743                                                   </td><td>-491.237                                                </td><td>162.925                                       </td><td>69.671                       </td><td>29.320                       </td><td>-108.233                </td><td>-101.743                     </td><td>-22.189                  </td><td>4.237                          </td><td>11.763                           </td><td>-27.578                          </td><td>-144.752                      </td><td>18.173                          </td><td style=\"text-align: right;\">                     -272    </td><td>17.900   </td><td>5.123                                </td><td>-3.470                 </td><td>19.554                    </td><td style=\"text-align: right;\">                              -24.897</td><td>2012-06-01       </td><td style=\"text-align: right;\"> 28127603000178</td></tr>\n",
       "<tr><td>CETELEM BRASIL S.A. - CREDITO, FINANCIAMENTO E INVESTIMENTO                                                                                                       </td><td style=\"text-align: right;\"> 3722919</td><td>BNP PARIBAS   </td><td style=\"text-align: right;\">                           51516</td><td>                                </td><td>n1   </td><td style=\"text-align: right;\">   3</td><td style=\"text-align: right;\">  14</td><td>SAO PAULO     </td><td>SP  </td><td>262.257                      </td><td>0                                           </td><td>2.803                        </td><td style=\"text-align: right;\">                                                     0    </td><td style=\"text-align: right;\">                         29    </td><td>0                                  </td><td>265.090                                                   </td><td>-157.153              </td><td>0                                                  </td><td style=\"text-align: right;\">                                         0    </td><td style=\"text-align: right;\">                          0    </td><td>-16.226                                                    </td><td>-173.379                                                </td><td>91.711                                        </td><td>38.831                       </td><td>22.076                       </td><td>-22.482                 </td><td>-104.401                     </td><td>-12.425                  </td><td>3.098                          </td><td>15.857                           </td><td>-45.520                          </td><td>-104.966                      </td><td>-13.255                         </td><td style=\"text-align: right;\">                      229    </td><td>-13.026  </td><td>4.992                                </td><td>-2.828                 </td><td>-10.862                   </td><td style=\"text-align: right;\">                                0    </td><td>2012-06-01       </td><td style=\"text-align: right;\"> 03722919000187</td></tr>\n",
       "<tr><td>PANAMERICANO - ARRENDAMENTO MERCANTIL S.A.                                                                                                                        </td><td style=\"text-align: right;\"> 2682287</td><td>PANAMERICANO  </td><td style=\"text-align: right;\">                           31323</td><td>                                </td><td>n1   </td><td style=\"text-align: right;\">   2</td><td style=\"text-align: right;\">  19</td><td>SAO PAULO     </td><td>SP  </td><td>7.540                        </td><td>233.550                                     </td><td>0                            </td><td style=\"text-align: right;\">                                                     0    </td><td style=\"text-align: right;\">                          0    </td><td>0                                  </td><td>241.089                                                   </td><td>-25.841               </td><td>0                                                  </td><td style=\"text-align: right;\">                                      -178.739</td><td style=\"text-align: right;\">                          0    </td><td>-45.926                                                    </td><td>-250.505                                                </td><td>-9.416                                        </td><td>12                           </td><td>0                            </td><td>-2.536                  </td><td>-21.151                      </td><td>-4.586                   </td><td>670                            </td><td>12.109                           </td><td>-26.087                          </td><td>-41.569                       </td><td>-50.986                         </td><td style=\"text-align: right;\">                        2.079</td><td>-48.907  </td><td>19.834                               </td><td>0                      </td><td>-29.072                   </td><td style=\"text-align: right;\">                                0    </td><td>2012-06-01       </td><td style=\"text-align: right;\"> 02682287000102</td></tr>\n",
       "<tr><td>BANCO ITAUCRED FINANCIAMENTOS S.A.                                                                                                                                </td><td style=\"text-align: right;\">59461152</td><td>ITAU          </td><td style=\"text-align: right;\">                           10069</td><td>                                </td><td>b2   </td><td style=\"text-align: right;\">   2</td><td style=\"text-align: right;\">   8</td><td>SAO PAULO     </td><td>SP  </td><td>25.591                       </td><td>0                                           </td><td>214.453                      </td><td style=\"text-align: right;\">                                                     0    </td><td style=\"text-align: right;\">                          0    </td><td>0                                  </td><td>240.044                                                   </td><td>-3.362                </td><td>0                                                  </td><td style=\"text-align: right;\">                                         0    </td><td style=\"text-align: right;\">                          0    </td><td>-6.729                                                     </td><td>-10.091                                                 </td><td>229.954                                       </td><td>72                           </td><td>0                            </td><td>-4.400                  </td><td>-16.722                      </td><td>-12.423                  </td><td>0                              </td><td>4.025                            </td><td>-15.792                          </td><td>-45.240                       </td><td>184.714                         </td><td style=\"text-align: right;\">                     -659    </td><td>184.055  </td><td>-74.215                              </td><td>0                      </td><td>109.840                   </td><td style=\"text-align: right;\">                                0    </td><td>2012-06-01       </td><td style=\"text-align: right;\"> 59461152000134</td></tr>\n",
       "<tr><td>BANCO DE DESENVOLVIMENTO DE MINAS GERAIS S.A.-BDMG                                                                                                                </td><td style=\"text-align: right;\">38486817</td><td>              </td><td style=\"text-align: right;\">                                </td><td>                                </td><td>b4   </td><td style=\"text-align: right;\">   1</td><td style=\"text-align: right;\">   5</td><td>BELO HORIZONTE</td><td>MG  </td><td>159.163                      </td><td>227                                         </td><td>25.637                       </td><td style=\"text-align: right;\">                                                     0    </td><td style=\"text-align: right;\">                          6    </td><td>0                                  </td><td>185.033                                                   </td><td>-6.014                </td><td>-44.156                                            </td><td style=\"text-align: right;\">                                      -179    </td><td style=\"text-align: right;\">                          0    </td><td>-31.248                                                    </td><td>-81.597                                                 </td><td>103.435                                       </td><td>24.747                       </td><td>2.511                        </td><td>-37.459                 </td><td>-17.099                      </td><td>-8.582                   </td><td>0                              </td><td>11.803                           </td><td>-18.733                          </td><td>-42.812                       </td><td>60.623                          </td><td style=\"text-align: right;\">                       -1.065</td><td>59.558   </td><td>-25.053                              </td><td>-1.643                 </td><td>32.862                    </td><td style=\"text-align: right;\">                                0    </td><td>2012-06-01       </td><td style=\"text-align: right;\"> 38486817000194</td></tr>\n",
       "<tr><td>FAI - FINANCEIRA AMERICANAS ITAÚ S.A. CRÉDITO, FINANCIAMENTO E INVESTIMENTO                                                                                       </td><td style=\"text-align: right;\"> 7221678</td><td>ITAU          </td><td style=\"text-align: right;\">                           10069</td><td>                                </td><td>n1   </td><td style=\"text-align: right;\">   2</td><td style=\"text-align: right;\">  14</td><td>SAO PAULO     </td><td>SP  </td><td>158.824                      </td><td>0                                           </td><td>779                          </td><td style=\"text-align: right;\">                                                     0    </td><td style=\"text-align: right;\">                          0    </td><td>0                                  </td><td>159.603                                                   </td><td>-16.450               </td><td>-102                                               </td><td style=\"text-align: right;\">                                         0    </td><td style=\"text-align: right;\">                          0    </td><td>-102.909                                                   </td><td>-119.461                                                </td><td>40.143                                        </td><td>27.574                       </td><td>32.745                       </td><td>-649                    </td><td>-60.431                      </td><td>-11.297                  </td><td>-3.393                         </td><td>16.086                           </td><td>-42.263                          </td><td>-41.629                       </td><td>-1.486                          </td><td style=\"text-align: right;\">                     -495    </td><td>-1.981   </td><td>-1.064                               </td><td>-386                   </td><td>-3.431                    </td><td style=\"text-align: right;\">                                0    </td><td>2012-06-01       </td><td style=\"text-align: right;\"> 07221678000143</td></tr>\n",
       "<tr><td>BANCO CIFRA S/A                                                                                                                                                   </td><td style=\"text-align: right;\">62421979</td><td>BMG           </td><td style=\"text-align: right;\">                           30290</td><td>                                </td><td>b1   </td><td style=\"text-align: right;\">   2</td><td style=\"text-align: right;\">   8</td><td>BELO HORIZONTE</td><td>MG  </td><td>105.467                      </td><td>0                                           </td><td>970                          </td><td style=\"text-align: right;\">                                                     0    </td><td style=\"text-align: right;\">                          0    </td><td>0                                  </td><td>106.437                                                   </td><td>-29.766               </td><td>0                                                  </td><td style=\"text-align: right;\">                                         0    </td><td style=\"text-align: right;\">                          0    </td><td>-25.159                                                    </td><td>-54.926                                                 </td><td>51.511                                        </td><td>365                          </td><td>89                           </td><td>-9.414                  </td><td>-40.632                      </td><td>-3.065                   </td><td>0                              </td><td>17.707                           </td><td>-15.724                          </td><td>-50.674                       </td><td>837                             </td><td style=\"text-align: right;\">                      120    </td><td>957      </td><td>-363                                 </td><td>0                      </td><td>594                       </td><td style=\"text-align: right;\">                                0    </td><td>2012-06-01       </td><td style=\"text-align: right;\"> 62421979000129</td></tr>\n",
       "<tr><td>COOPERATIVA DE CRÉDITO DE LIVRE ADMISSÃO DE ASSOCIADOS SERRO AZUL - SICREDI UNIÃO RS                                                                              </td><td style=\"text-align: right;\">88894548</td><td>              </td><td style=\"text-align: right;\">                                </td><td>                                </td><td>b3S  </td><td style=\"text-align: right;\">   2</td><td style=\"text-align: right;\">   9</td><td>CERRO LARGO   </td><td>RS  </td><td>54.472                       </td><td>0                                           </td><td>12.570                       </td><td style=\"text-align: right;\">                                                     0    </td><td style=\"text-align: right;\">                          0    </td><td>44                                 </td><td>67.086                                                    </td><td>-15.551               </td><td>-4.138                                             </td><td style=\"text-align: right;\">                                         0    </td><td style=\"text-align: right;\">                          0    </td><td>-13.822                                                    </td><td>-33.511                                                 </td><td>33.574                                        </td><td>9.613                        </td><td>3.470                        </td><td>-19.444                 </td><td>-11.869                      </td><td>-195                     </td><td>0                              </td><td>5.377                            </td><td>-11.919                          </td><td>-24.968                       </td><td>8.606                           </td><td style=\"text-align: right;\">                       45    </td><td>8.651    </td><td>-1.181                               </td><td>0                      </td><td>7.471                     </td><td style=\"text-align: right;\">                                0    </td><td>2012-06-01       </td><td style=\"text-align: right;\"> 88894548000173</td></tr>\n",
       "<tr><td>STANDARD CHARTERED BANK (BRASIL) S.A. ? BANCO DE INVESTIMENTO                                                                                                     </td><td style=\"text-align: right;\">11932017</td><td>              </td><td style=\"text-align: right;\">                                </td><td>                                </td><td>b2   </td><td style=\"text-align: right;\">   3</td><td style=\"text-align: right;\">  13</td><td>SAO PAULO     </td><td>SP  </td><td>0                            </td><td>0                                           </td><td>40.194                       </td><td style=\"text-align: right;\">                                                    18.312</td><td style=\"text-align: right;\">                          0    </td><td>0                                  </td><td>58.506                                                    </td><td>-18.267               </td><td>-1.216                                             </td><td style=\"text-align: right;\">                                         0    </td><td style=\"text-align: right;\">                        -15.679</td><td>0                                                          </td><td>-35.163                                                 </td><td>23.343                                        </td><td>16.885                       </td><td>0                            </td><td>-19.270                 </td><td>-6.887                       </td><td>-2.474                   </td><td>0                              </td><td>492                              </td><td>-212                             </td><td>-11.465                       </td><td>11.877                          </td><td style=\"text-align: right;\">                        0    </td><td>11.877   </td><td>-9.043                               </td><td>0                      </td><td>2.835                     </td><td style=\"text-align: right;\">                                0    </td><td>2012-06-01       </td><td style=\"text-align: right;\"> 11932017000101</td></tr>\n",
       "<tr><td>BANCO A.J. RENNER S.A.                                                                                                                                            </td><td style=\"text-align: right;\">92874270</td><td>              </td><td style=\"text-align: right;\">                                </td><td>                                </td><td>b1   </td><td style=\"text-align: right;\">   2</td><td style=\"text-align: right;\">   8</td><td>PORTO ALEGRE  </td><td>RS  </td><td>50.037                       </td><td>0                                           </td><td>3.783                        </td><td style=\"text-align: right;\">                                                     0    </td><td style=\"text-align: right;\">                          0    </td><td>0                                  </td><td>53.820                                                    </td><td>-20.555               </td><td>0                                                  </td><td style=\"text-align: right;\">                                         0    </td><td style=\"text-align: right;\">                          0    </td><td>-10.680                                                    </td><td>-31.234                                                 </td><td>22.585                                        </td><td>177                          </td><td>9.601                        </td><td>-11.190                 </td><td>-16.484                      </td><td>-2.374                   </td><td>121                            </td><td>17                               </td><td>-20                              </td><td>-20.153                       </td><td>2.432                           </td><td style=\"text-align: right;\">                       28    </td><td>2.460    </td><td>924                                  </td><td>-226                   </td><td>3.158                     </td><td style=\"text-align: right;\">                             -350    </td><td>2012-06-01       </td><td style=\"text-align: right;\"> 92874270000140</td></tr>\n",
       "<tr><td>SICOOB CREDICOM - COOPERATIVA DE ECONOMIA E CRÉDITO MÚTUO DOS MÉDICOS E PROFISSIONAIS DA ÁREA DE SAÚDE DE BELO HORIZONTE E CIDADES PÓLO DE MINAS GERAIS LTDA.     </td><td style=\"text-align: right;\">42898825</td><td>              </td><td style=\"text-align: right;\">                                </td><td>                                </td><td>b3S  </td><td style=\"text-align: right;\">   2</td><td style=\"text-align: right;\">   9</td><td>BELO HORIZONTE</td><td>MG  </td><td>22.705                       </td><td>0                                           </td><td>23.195                       </td><td style=\"text-align: right;\">                                                     0    </td><td style=\"text-align: right;\">                          0    </td><td>0                                  </td><td>45.901                                                    </td><td>-22.631               </td><td>-11                                                </td><td style=\"text-align: right;\">                                         0    </td><td style=\"text-align: right;\">                          0    </td><td>-1.960                                                     </td><td>-24.602                                                 </td><td>21.299                                        </td><td>1.261                        </td><td>1.472                        </td><td>-9.087                  </td><td>-10.212                      </td><td>-132                     </td><td>0                              </td><td>496                              </td><td>-1.561                           </td><td>-17.764                       </td><td>3.535                           </td><td style=\"text-align: right;\">                       72    </td><td>3.607    </td><td>-28                                  </td><td>0                      </td><td>3.579                     </td><td style=\"text-align: right;\">                               -2.737</td><td>2012-06-01       </td><td style=\"text-align: right;\"> 42898825000115</td></tr>\n",
       "<tr><td>ITAÚ DISTRIBUIDORA DE TÍTULOS E VALORES MOBILIÁRIOS S.A.                                                                                                          </td><td style=\"text-align: right;\">33311713</td><td>ITAU          </td><td style=\"text-align: right;\">                           10069</td><td>                                </td><td>n2   </td><td style=\"text-align: right;\">   2</td><td style=\"text-align: right;\">  16</td><td>SAO PAULO     </td><td>SP  </td><td>0                            </td><td>0                                           </td><td>39.773                       </td><td style=\"text-align: right;\">                                                     0    </td><td style=\"text-align: right;\">                          0    </td><td>0                                  </td><td>39.773                                                    </td><td>0                     </td><td>0                                                  </td><td style=\"text-align: right;\">                                         0    </td><td style=\"text-align: right;\">                          0    </td><td>0                                                          </td><td>0                                                       </td><td>39.773                                        </td><td>15.170                       </td><td>0                            </td><td>1                       </td><td>-3.055                       </td><td>-3.346                   </td><td>0                              </td><td>405                              </td><td>-286                             </td><td>8.887                         </td><td>48.660                          </td><td style=\"text-align: right;\">                      101    </td><td>48.761   </td><td>-19.498                              </td><td>0                      </td><td>29.263                    </td><td style=\"text-align: right;\">                                0    </td><td>2012-06-01       </td><td style=\"text-align: right;\"> 33311713000125</td></tr>\n",
       "<tr><td>BANCO YAMAHA MOTOR DO BRASIL S.A.                                                                                                                                 </td><td style=\"text-align: right;\">10371492</td><td>              </td><td style=\"text-align: right;\">                                </td><td>                                </td><td>b2   </td><td style=\"text-align: right;\">   3</td><td style=\"text-align: right;\">   8</td><td>GUARULHOS     </td><td>SP  </td><td>38.739                       </td><td>0                                           </td><td>1.661                        </td><td style=\"text-align: right;\">                                                    -1.02 </td><td style=\"text-align: right;\">                          0    </td><td>0                                  </td><td>39.380                                                    </td><td>-15.285               </td><td>0                                                  </td><td style=\"text-align: right;\">                                         0    </td><td style=\"text-align: right;\">                          0    </td><td>-16.563                                                    </td><td>-31.848                                                 </td><td>7.533                                         </td><td>15                           </td><td>8.625                        </td><td>-4.016                  </td><td>-7.893                       </td><td>-1.979                   </td><td>0                              </td><td>567                              </td><td>-620                             </td><td>-5.301                        </td><td>2.231                           </td><td style=\"text-align: right;\">                     -154    </td><td>2.077    </td><td>-807                                 </td><td>0                      </td><td>1.270                     </td><td style=\"text-align: right;\">                                0    </td><td>2012-06-01       </td><td style=\"text-align: right;\"> 10371492000185</td></tr>\n",
       "<tr><td>COOPERATIVA DE ECONOMIA E CREDITO MUTUO DOS MEDICOS DE PORTO ALEGRE LTDA-UNICRED PORTO ALEGRE                                                                     </td><td style=\"text-align: right;\">94433109</td><td>              </td><td style=\"text-align: right;\">                                </td><td>                                </td><td>b3S  </td><td style=\"text-align: right;\">   2</td><td style=\"text-align: right;\">   9</td><td>PORTO ALEGRE  </td><td>RS  </td><td>17.982                       </td><td>0                                           </td><td>7.733                        </td><td style=\"text-align: right;\">                                                     0    </td><td style=\"text-align: right;\">                          0    </td><td>0                                  </td><td>25.715                                                    </td><td>-11.825               </td><td>0                                                  </td><td style=\"text-align: right;\">                                         0    </td><td style=\"text-align: right;\">                          0    </td><td>-277                                                       </td><td>-12.102                                                 </td><td>13.613                                        </td><td>297                          </td><td>380                          </td><td>-3.784                  </td><td>-4.372                       </td><td>-24                      </td><td>0                              </td><td>34                               </td><td>-347                             </td><td>-7.816                        </td><td>5.797                           </td><td style=\"text-align: right;\">                        2    </td><td>5.798    </td><td>-43                                  </td><td>-110                   </td><td>5.645                     </td><td style=\"text-align: right;\">                               -1.769</td><td>2012-06-01       </td><td style=\"text-align: right;\"> 94433109000166</td></tr>\n",
       "<tr><td>COOPERATIVA CENTRAL DE CREDITO DO ESPIRITO SANTO - SICOOB CENTRAL ES                                                                                              </td><td style=\"text-align: right;\">32428294</td><td>              </td><td style=\"text-align: right;\">                                </td><td>                                </td><td>b3C  </td><td style=\"text-align: right;\">   2</td><td style=\"text-align: right;\">   9</td><td>VITORIA       </td><td>ES  </td><td>1.055                        </td><td>0                                           </td><td>22.069                       </td><td style=\"text-align: right;\">                                                     0    </td><td style=\"text-align: right;\">                          0    </td><td>641                                </td><td>23.764                                                    </td><td>-22.025               </td><td>-641                                               </td><td style=\"text-align: right;\">                                         0    </td><td style=\"text-align: right;\">                          0    </td><td>29                                                         </td><td>-22.637                                                 </td><td>1.128                                         </td><td>24                           </td><td>0                            </td><td>-3.220                  </td><td>-1.476                       </td><td>-17                      </td><td>1.255                          </td><td>6.555                            </td><td>-189                             </td><td>2.934                         </td><td>4.061                           </td><td style=\"text-align: right;\">                       18    </td><td>4.079    </td><td>-21                                  </td><td>0                      </td><td>4.058                     </td><td style=\"text-align: right;\">                                0    </td><td>2012-06-01       </td><td style=\"text-align: right;\"> 32428294000143</td></tr>\n",
       "<tr><td>COOPERATIVA DE CRÉDITO DE LIVRE ADMISSÃO DE ASSOCIADOS SUDOESTE DO RIO GRANDE DO SUL - SICREDI SUDOESTE RS                                                        </td><td style=\"text-align: right;\">87903316</td><td>              </td><td style=\"text-align: right;\">                                </td><td>                                </td><td>b3S  </td><td style=\"text-align: right;\">   2</td><td style=\"text-align: right;\">   9</td><td>ALEGRETE      </td><td>RS  </td><td>14.150                       </td><td>0                                           </td><td>4.628                        </td><td style=\"text-align: right;\">                                                     0    </td><td style=\"text-align: right;\">                          0    </td><td>0                                  </td><td>18.778                                                    </td><td>-3.779                </td><td>-1.912                                             </td><td style=\"text-align: right;\">                                         0    </td><td style=\"text-align: right;\">                          0    </td><td>-2.465                                                     </td><td>-8.156                                                  </td><td>10.622                                        </td><td>2.025                        </td><td>893                          </td><td>-4.809                  </td><td>-2.806                       </td><td>-63                      </td><td>0                              </td><td>2.285                            </td><td>-3.541                           </td><td>-6.017                        </td><td>4.606                           </td><td style=\"text-align: right;\">                       35    </td><td>4.641    </td><td>-307                                 </td><td>0                      </td><td>4.334                     </td><td style=\"text-align: right;\">                                0    </td><td>2012-06-01       </td><td style=\"text-align: right;\"> 87903316000171</td></tr>\n",
       "<tr><td>COOPERATIVA DE ECONOMIA E CRÉDITO MÚTUO DOS PROFISSIONAIS DA SAÚDE DAS REGIÕES METROPOLITANAS DA BAIXADA SANTISTA E GRANDE SÃO PAULO LTDA. - UNICRED METROPOLITANA</td><td style=\"text-align: right;\">  259231</td><td>              </td><td style=\"text-align: right;\">                                </td><td>                                </td><td>b3S  </td><td style=\"text-align: right;\">   2</td><td style=\"text-align: right;\">   9</td><td>SANTOS        </td><td>SP  </td><td>14.423                       </td><td>0                                           </td><td>3.490                        </td><td style=\"text-align: right;\">                                                     0    </td><td style=\"text-align: right;\">                          0    </td><td>0                                  </td><td>17.913                                                    </td><td>-5.688                </td><td>0                                                  </td><td style=\"text-align: right;\">                                         0    </td><td style=\"text-align: right;\">                          0    </td><td>-1.172                                                     </td><td>-6.861                                                  </td><td>11.052                                        </td><td>0                            </td><td>2                            </td><td>-3.356                  </td><td>-3.673                       </td><td>-363                     </td><td>0                              </td><td>601                              </td><td>-93                              </td><td>-6.883                        </td><td>4.169                           </td><td style=\"text-align: right;\">                        0    </td><td>4.169    </td><td>-19                                  </td><td>-120                   </td><td>4.030                     </td><td style=\"text-align: right;\">                               -1.393</td><td>2012-06-01       </td><td style=\"text-align: right;\"> 00259231000114</td></tr>\n",
       "<tr><td>COOPERATIVA DE CRÉDITO DE LIVRE ADMISSÃO DE ASSOCIADOS DO SUL DE MATO GROSSO - SICREDI SUL MT                                                                     </td><td style=\"text-align: right;\">26549311</td><td>              </td><td style=\"text-align: right;\">                                </td><td>                                </td><td>b3S  </td><td style=\"text-align: right;\">   2</td><td style=\"text-align: right;\">   9</td><td>RONDONOPOLIS  </td><td>MT  </td><td>14.570                       </td><td>0                                           </td><td>2.927                        </td><td style=\"text-align: right;\">                                                     0    </td><td style=\"text-align: right;\">                          0    </td><td>0                                  </td><td>17.497                                                    </td><td>-2.904                </td><td>-2.043                                             </td><td style=\"text-align: right;\">                                         0    </td><td style=\"text-align: right;\">                          0    </td><td>-711                                                       </td><td>-5.657                                                  </td><td>11.840                                        </td><td>2.261                        </td><td>876                          </td><td>-4.374                  </td><td>-3.224                       </td><td>-59                      </td><td>0                              </td><td>3.582                            </td><td>-5.509                           </td><td>-6.449                        </td><td>5.392                           </td><td style=\"text-align: right;\">                       62    </td><td>5.453    </td><td>-166                                 </td><td>0                      </td><td>5.287                     </td><td style=\"text-align: right;\">                                0    </td><td>2012-06-01       </td><td style=\"text-align: right;\"> 26549311000106</td></tr>\n",
       "<tr><td>AGÊNCIA DE FOMENTO DO ESTADO DO AMAZONAS S.A. - AFEAM                                                                                                             </td><td style=\"text-align: right;\"> 3183937</td><td>              </td><td style=\"text-align: right;\">                                </td><td>                                </td><td>n1   </td><td style=\"text-align: right;\">   1</td><td style=\"text-align: right;\">  30</td><td>MANAUS        </td><td>AM  </td><td>11.805                       </td><td>0                                           </td><td>5.642                        </td><td style=\"text-align: right;\">                                                   -33    </td><td style=\"text-align: right;\">                          0    </td><td>0                                  </td><td>17.414                                                    </td><td>0                     </td><td>-3.405                                             </td><td style=\"text-align: right;\">                                         0    </td><td style=\"text-align: right;\">                          0    </td><td>-4.792                                                     </td><td>-8.197                                                  </td><td>9.217                                         </td><td>8.060                        </td><td>128                          </td><td>-8.707                  </td><td>-3.593                       </td><td>-852                     </td><td>-1.323                         </td><td>240                              </td><td>-526                             </td><td>-6.573                        </td><td>2.644                           </td><td style=\"text-align: right;\">                     -627    </td><td>2.017    </td><td>-2.733                               </td><td>0                      </td><td>-717                      </td><td style=\"text-align: right;\">                                0    </td><td>2012-06-01       </td><td style=\"text-align: right;\"> 03183937000138</td></tr>\n",
       "<tr><td>ICAP DO BRASIL CORRETORA DE TÍTULOS E VALORES MOBILIÁRIOS LTDA.                                                                                                   </td><td style=\"text-align: right;\"> 9105360</td><td>              </td><td style=\"text-align: right;\">                                </td><td>                                </td><td>n2   </td><td style=\"text-align: right;\">   3</td><td style=\"text-align: right;\">  15</td><td>RIO DE JANEIRO</td><td>RJ  </td><td>1.283                        </td><td>0                                           </td><td>13.758                       </td><td style=\"text-align: right;\">                                                     2.044</td><td style=\"text-align: right;\">                          0    </td><td>0                                  </td><td>17.084                                                    </td><td>-1.676                </td><td>-33                                                </td><td style=\"text-align: right;\">                                         0    </td><td style=\"text-align: right;\">                          0    </td><td>-3.647                                                     </td><td>-5.356                                                  </td><td>11.728                                        </td><td>40.466                       </td><td>7.210                        </td><td>-15.280                 </td><td>-51.913                      </td><td>-4.597                   </td><td>0                              </td><td>633                              </td><td>-5.287                           </td><td>-28.769                       </td><td>-17.041                         </td><td style=\"text-align: right;\">                        0    </td><td>-17.041  </td><td>0                                    </td><td>0                      </td><td>-17.041                   </td><td style=\"text-align: right;\">                                0    </td><td>2012-06-01       </td><td style=\"text-align: right;\"> 09105360000122</td></tr>\n",
       "</tbody>\n",
       "</table>"
      ],
      "text/plain": [
       "<IPython.core.display.HTML object>"
      ]
     },
     "metadata": {},
     "output_type": "display_data"
    }
   ],
   "source": [
    "df_demonstracao_result_ = G.table_to_df(\"finance_raw_data\", \"demonstracao_resultado_receita_lucro\", spark)\n",
    "df_demonstracao_result_.persist()\n",
    "\n",
    "df_date_with_day = df_demonstracao_result_.withColumn(\"data_format_d\", F.concat(F.lit(\"01/\"), df_demonstracao_result_[\"data\"]))\n",
    "\n",
    "df_date_format = df_date_with_day.withColumn(\"data_format_d\", F.to_date(df_date_with_day[\"data_format_d\"], \"dd/MM/yyyy\"))\n",
    "df_demonstracao_result = df_date_format.withColumn(\"cnpj_completo\", cnpj_udf(df_date_format[\"codigo\"]))\n",
    "\n",
    "df_demonstracao_result = df_demonstracao_result.drop(\"data\").filter(F.col(\"data_format_d\").isNotNull())\n",
    "\n",
    "df_demonstracao_result = df_demonstracao_result.withColumnRenamed(\"data_format_d\", \"data_trimestral\")\n",
    "\n",
    "\n",
    "df_demonstracao_result.persist()\n",
    "\n",
    "\n",
    "t2 = df_demonstracao_result.sample(False, 0.1).limit(30)\n",
    "# t = dfSample_demonstracao_result.withColumn(\"cnpj_completo\", cnpj_udf(dfSample_demonstracao_result[\"codigo\"]))\n",
    "\n",
    "# t2 = t.select(\"instituicao\", \"codigo\", \"cnpj_completo\")\n",
    "table = tabulate(t2.collect(), headers=t2.columns, tablefmt='html')\n",
    "\n",
    "# t2.printSchema()\n",
    "display(HTML(table))\n",
    "# print(dfSample_demonstracao_result.count())\n",
    "\n",
    "\n"
   ]
  },
  {
   "cell_type": "code",
   "execution_count": null,
   "id": "742f6277-b1c4-4828-933a-ba366663400f",
   "metadata": {},
   "outputs": [],
   "source": []
  },
  {
   "cell_type": "code",
   "execution_count": 5,
   "id": "d34878eb-46d3-459e-929b-49c8f6c00618",
   "metadata": {
    "scrolled": true
   },
   "outputs": [
    {
     "data": {
      "text/plain": [
       "DataFrame[data: string, codigo_cadastro_bacen: string, codigo_sisbacen: string, codigo_pais_sede: string, nome_pais_sede: string, nome_uf_sede: string, codigo_municipio_sede: string, nome_municipio_sede: string, nome_entidade: string, nome_entidade_nao_formatado: string, cnpj: string, cnpj_raiz: string, codigo_situacao: string, descricao_situacao: string, codigo_tipo_entidade_segmento: string, nome_tipo_entidade: string, codigo_natureza_juridica: string, descricao_natureza_juridica: string, codigo_esfera_publica: string, nome_reduzido: string, sigla_entidade: string, nome_fantasia: string, empresa_publica: string]"
      ]
     },
     "execution_count": 5,
     "metadata": {},
     "output_type": "execute_result"
    }
   ],
   "source": [
    "df_info_cadastral = G.table_to_df(\"finance_raw_data\", \"info_cadastral_entidades\", spark)\n",
    "df_info_cadastral.persist()\n",
    "\n",
    "# dfSample_info_cadastral_entidades = df_info_cadastra l.sample(False, 0.1).limit(30)\n",
    "# table = tabulate(dfSample_info_cadastral_entidades.collect(), headers=dfSample_info_cadastral_entidades.columns, tablefmt='html')\n",
    "# display(HTML(table))\n",
    "\n",
    "# df_info_cadastral.count()\n",
    "# dfSample_info_cadastral_entidades.printSchema()\n"
   ]
  },
  {
   "cell_type": "code",
   "execution_count": 7,
   "id": "fbb624b1-9cdd-42e0-9ff3-68fb3b89d990",
   "metadata": {
    "scrolled": true
   },
   "outputs": [
    {
     "name": "stdout",
     "output_type": "stream",
     "text": [
      "root\n",
      " |-- cnpj: string (nullable = true)\n",
      " |-- cnpj_raiz: string (nullable = true)\n",
      " |-- codigo_sisbacen: string (nullable = true)\n",
      " |-- nome_tipo_entidade: string (nullable = true)\n",
      " |-- descricao_situacao: string (nullable = true)\n",
      " |-- nome_entidade: string (nullable = true)\n",
      " |-- nome_fantasia: string (nullable = true)\n",
      " |-- data_format: date (nullable = true)\n",
      "\n"
     ]
    }
   ],
   "source": [
    "df_info_cadastral_select_ = df_info_cadastral.select(\"cnpj\", \"data\", \"cnpj_raiz\", \"codigo_sisbacen\", \"nome_tipo_entidade\", \"descricao_situacao\", \"nome_entidade\", \"nome_fantasia\")\n",
    "\n",
    "\n",
    "df_info_cadastral_select = df_info_cadastral_select_.withColumn(\"data_format\", F.to_date(df_info_cadastral_select_[\"data\"], \"yyyy-MM-dd\"))\n",
    "df_info_cadastral_select = df_info_cadastral_select.drop(\"data\")\n",
    "# a = df_info_cadastral_select.sample(False, 0.1).limit(50)\n",
    "# table = tabulate(a.collect(), headers=a.columns, tablefmt='html')\n",
    "# df_info_cadastral_select.filter(df_info_cadastral_select[\"cnpj\"].isNull()).count()\n",
    "# display(HTML(table))\n",
    "\n",
    "df_info_cadastral_select.printSchema()\n"
   ]
  },
  {
   "cell_type": "markdown",
   "id": "2b836308-4542-4593-a583-92d08ee08011",
   "metadata": {},
   "source": [
    "### Duplicação"
   ]
  },
  {
   "cell_type": "code",
   "execution_count": 15,
   "id": "2dd041e0-d8c8-455e-a082-b6e504b01a65",
   "metadata": {
    "scrolled": true
   },
   "outputs": [
    {
     "name": "stdout",
     "output_type": "stream",
     "text": [
      "root\n",
      " |-- cnpj: string (nullable = true)\n",
      " |-- cnpj_raiz: string (nullable = true)\n",
      " |-- codigo_sisbacen: string (nullable = true)\n",
      " |-- nome_tipo_entidade: string (nullable = true)\n",
      " |-- descricao_situacao: string (nullable = true)\n",
      " |-- nome_entidade: string (nullable = true)\n",
      " |-- nome_fantasia: string (nullable = true)\n",
      " |-- data_format: date (nullable = true)\n",
      " |-- ano_info: integer (nullable = true)\n",
      " |-- mes_info: integer (nullable = true)\n",
      "\n",
      "root\n",
      " |-- instituicao: string (nullable = true)\n",
      " |-- codigo: string (nullable = true)\n",
      " |-- conglomerado: string (nullable = true)\n",
      " |-- codigo_conglomerado_financeiro: string (nullable = true)\n",
      " |-- codigo_conglomerado_prudencial: string (nullable = true)\n",
      " |-- tcb: string (nullable = true)\n",
      " |-- tc: string (nullable = true)\n",
      " |-- ti: string (nullable = true)\n",
      " |-- cidade: string (nullable = true)\n",
      " |-- uf: string (nullable = true)\n",
      " |-- rendas_operacoes_credito_a1: string (nullable = true)\n",
      " |-- rendas_operacoes_arrendamento_mercantil_a2: string (nullable = true)\n",
      " |-- rendas_operacoes_com_tvm_a3: string (nullable = true)\n",
      " |-- rendas_operacoes_instrumentos_financeiros_derivativos_a4: string (nullable = true)\n",
      " |-- resultado_operacoes_cambio_a5: string (nullable = true)\n",
      " |-- rendas_aplicacoes_compulsorias_a6: string (nullable = true)\n",
      " |-- receitas_intermediacao_financeira_soma_a1_a2_a3_a4_a5_a6: string (nullable = true)\n",
      " |-- despesas_captacao_b1: string (nullable = true)\n",
      " |-- despesas_obrigacoes_por_emprestimos_e_repasses_b2: string (nullable = true)\n",
      " |-- despesas_operacoes_arrendamento_mercantil_b3: string (nullable = true)\n",
      " |-- resultado_operacoes_cambio_b4: string (nullable = true)\n",
      " |-- resultado_de_provisao_para_creditos_dificil_liquidacao_b5: string (nullable = true)\n",
      " |-- despesas__intermediacao_financeira_soma_b1_b2_b3_b4_b5: string (nullable = true)\n",
      " |-- resultao_intermediacao_financeira_c_soma_a_b: string (nullable = true)\n",
      " |-- rendas_prestacao_servico_d1: string (nullable = true)\n",
      " |-- rendas_tarifas_bancarias_d2: string (nullable = true)\n",
      " |-- despesas_de_pessoal_d3: string (nullable = true)\n",
      " |-- despesas_administrativas_d4: string (nullable = true)\n",
      " |-- despesas_tributarias_d5: string (nullable = true)\n",
      " |-- resultado_de_participacoes_d6: string (nullable = true)\n",
      " |-- outras_receitas_operacionais_d7: string (nullable = true)\n",
      " |-- outras_receitas_operacionais_d8: string (nullable = true)\n",
      " |-- soma_d1_d2_d3_d4_d5_d6_d7_d8: string (nullable = true)\n",
      " |-- resultado_operacional_soma_c_d: string (nullable = true)\n",
      " |-- resultado_nao_operacional_f: string (nullable = true)\n",
      " |-- g: string (nullable = true)\n",
      " |-- imposto_renda_contribuicao_social_h: string (nullable = true)\n",
      " |-- participacao_lucros_i: string (nullable = true)\n",
      " |-- lucro_liquido_soma_g_h_i: string (nullable = true)\n",
      " |-- juros_capital_social_cooperativas_k: string (nullable = true)\n",
      " |-- data_trimestral: date (nullable = true)\n",
      " |-- cnpj_completo: string (nullable = true)\n",
      " |-- ano: integer (nullable = true)\n",
      " |-- mes: integer (nullable = true)\n",
      "\n"
     ]
    }
   ],
   "source": [
    "# df_info_cadastral\n",
    "\n",
    "df_info_ordered = df_info_cadastral_select.orderBy(F.col(\"cnpj\").asc())\n",
    "\n",
    "columns_info = df_info_ordered.columns\n",
    "columns_info.remove(\"data_format\")\n",
    "\n",
    "df_unique_info_ = df_info_ordered.dropDuplicates(subset=columns_info)\n",
    "\n",
    "# df_demonstracao_result\n",
    "\n",
    "df_demonstracao_ordered = df_demonstracao_result.orderBy(F.col(\"cnpj_completo\").asc())\n",
    "columns_demonstracao = df_demonstracao_result.columns\n",
    "columns_demonstracao.remove(\"data_trimestral\")\n",
    "\n",
    "\n",
    "df_unique_demonstracao_ = df_demonstracao_ordered.dropDuplicates(subset=columns_demonstracao)\n",
    "\n",
    "\n",
    "# sample_info = df_unique_info_.sample(False, 0.1).limit(50)\n",
    "\n",
    "# sample_info = df_unique_info_.filter(F.col(\"cnpj_raiz\") == '00000000')\n",
    "\n",
    "# tb_info = tabulate(sample_info.collect(), headers=sample_info.columns, tablefmt='html')\n",
    "# display(HTML(tb_info))\n",
    "\n",
    "# df1 = df_unique_info_.select(\"cnpj\", \"cnpj_raiz\", \"data_format\").limit(30)\n",
    "# df2 = df_unique_demonstracao_.select(\"instituicao\", \"cnpj_completo\", \"data_trimestral\").limit(30)\n",
    "\n",
    "df_unique_info_ = df_unique_info_.withColumn(\"ano_info\", F.year(\"data_format\")).withColumn(\"mes_info\", F.month(\"data_format\"))\n",
    "df_unique_demonstracao_ = df_unique_demonstracao_.withColumn(\"ano\", F.year(\"data_trimestral\")).withColumn(\"mes\", F.month(\"data_trimestral\"))\n",
    "\n",
    "df_unique_info_.printSchema()\n",
    "df_unique_demonstracao_.printSchema()\n",
    "\n",
    "# tb1 = tabulate(df1.collect(), headers=df1.columns, tablefmt='html')\n",
    "# display(HTML(tb1))\n",
    "\n",
    "# tb2 = tabulate(df2.collect(), headers=df2.columns, tablefmt='html')\n",
    "# display(HTML(tb2))\n",
    "\n"
   ]
  },
  {
   "cell_type": "markdown",
   "id": "7034cebf-01ca-4240-9f2c-ca6b4a87a6ff",
   "metadata": {},
   "source": [
    "### Remover acentos"
   ]
  },
  {
   "cell_type": "code",
   "execution_count": 18,
   "id": "f5fbe04c-5658-4dba-8d6b-b4ea594f0302",
   "metadata": {},
   "outputs": [],
   "source": [
    "def clean_accent_(texto):\n",
    "    return unidecode(texto) if texto else None\n",
    "\n",
    "clean_accent = F.udf(clean_accent_, F.StringType())\n",
    "\n",
    "df_unique_info = df_unique_info_.select([F.upper(F.trim(clean_accent(F.col(column)))).alias(column) for column in df_unique_info_.columns])\n",
    "\n",
    "df_unique_demonstracao = df_unique_demonstracao_.select([F.upper(F.trim(clean_accent(F.col(column)))).alias(column) for column in df_unique_demonstracao_.columns])"
   ]
  },
  {
   "cell_type": "code",
   "execution_count": 23,
   "id": "80ef2a40-1af5-49fc-94ff-0b8fc223ae34",
   "metadata": {},
   "outputs": [
    {
     "ename": "AssertionError",
     "evalue": "on should be Column or list of Column",
     "output_type": "error",
     "traceback": [
      "\u001b[0;31m---------------------------------------------------------------------------\u001b[0m",
      "\u001b[0;31mAssertionError\u001b[0m                            Traceback (most recent call last)",
      "Cell \u001b[0;32mIn[23], line 1\u001b[0m\n\u001b[0;32m----> 1\u001b[0m df_join_ \u001b[38;5;241m=\u001b[39m df_unique_info\u001b[38;5;241m.\u001b[39mjoin(\\\n\u001b[1;32m      2\u001b[0m     df_unique_demonstracao,\\\n\u001b[1;32m      3\u001b[0m     (df_unique_info[\u001b[38;5;124m\"\u001b[39m\u001b[38;5;124mcnpj_raiz\u001b[39m\u001b[38;5;124m\"\u001b[39m] \u001b[38;5;241m==\u001b[39m (df_unique_demonstracao[\u001b[38;5;124m\"\u001b[39m\u001b[38;5;124mcodigo\u001b[39m\u001b[38;5;124m\"\u001b[39m]) \u001b[38;5;241m&\u001b[39m\\\n\u001b[1;32m      4\u001b[0m     (df_unique_info[\u001b[38;5;124m\"\u001b[39m\u001b[38;5;124mano_info\u001b[39m\u001b[38;5;124m\"\u001b[39m] \u001b[38;5;241m==\u001b[39m df_unique_demonstracao[\u001b[38;5;124m\"\u001b[39m\u001b[38;5;124mano\u001b[39m\u001b[38;5;124m\"\u001b[39m]) \u001b[38;5;241m&\u001b[39m\\\n\u001b[1;32m      5\u001b[0m     (df_unique_info[\u001b[38;5;124m\"\u001b[39m\u001b[38;5;124mmes_info\u001b[39m\u001b[38;5;124m\"\u001b[39m] \u001b[38;5;241m==\u001b[39m df_unique_demonstracao[\u001b[38;5;124m\"\u001b[39m\u001b[38;5;124mmes\u001b[39m\u001b[38;5;124m\"\u001b[39m]),\\\n\u001b[1;32m      6\u001b[0m     \u001b[38;5;124m\"\u001b[39m\u001b[38;5;124mfull_outer\u001b[39m\u001b[38;5;124m\"\u001b[39m))\u001b[38;5;241m.\u001b[39mselect(\\\n\u001b[1;32m      7\u001b[0m     df_unique_demonstracao[\u001b[38;5;124m\"\u001b[39m\u001b[38;5;124minstituicao\u001b[39m\u001b[38;5;124m\"\u001b[39m],\\\n\u001b[1;32m      8\u001b[0m     df_unique_demonstracao[\u001b[38;5;124m\"\u001b[39m\u001b[38;5;124mtc\u001b[39m\u001b[38;5;124m\"\u001b[39m],\\\n\u001b[1;32m      9\u001b[0m     df_unique_demonstracao[\u001b[38;5;124m\"\u001b[39m\u001b[38;5;124mconglomerado\u001b[39m\u001b[38;5;124m\"\u001b[39m],\\\n\u001b[1;32m     10\u001b[0m     df_unique_demonstracao[\u001b[38;5;124m\"\u001b[39m\u001b[38;5;124mcnpj_completo\u001b[39m\u001b[38;5;124m\"\u001b[39m],\\\n\u001b[1;32m     11\u001b[0m     \u001b[38;5;241m*\u001b[39mdf_unique_info\u001b[38;5;241m.\u001b[39mcolumns)\n\u001b[1;32m     13\u001b[0m df_join \u001b[38;5;241m=\u001b[39m df_join_\u001b[38;5;241m.\u001b[39mdropDuplicates()\n\u001b[1;32m     15\u001b[0m \u001b[38;5;66;03m# Filtrar registros que estão apenas no DataFrame \"demonstracao_result\"\u001b[39;00m\n",
      "File \u001b[0;32m~/anaconda3/lib/python3.11/site-packages/pyspark/sql/dataframe.py:2479\u001b[0m, in \u001b[0;36mDataFrame.join\u001b[0;34m(self, other, on, how)\u001b[0m\n\u001b[1;32m   2477\u001b[0m     on \u001b[38;5;241m=\u001b[39m \u001b[38;5;28mself\u001b[39m\u001b[38;5;241m.\u001b[39m_jseq(cast(List[\u001b[38;5;28mstr\u001b[39m], on))\n\u001b[1;32m   2478\u001b[0m \u001b[38;5;28;01melse\u001b[39;00m:\n\u001b[0;32m-> 2479\u001b[0m     \u001b[38;5;28;01massert\u001b[39;00m \u001b[38;5;28misinstance\u001b[39m(on[\u001b[38;5;241m0\u001b[39m], Column), \u001b[38;5;124m\"\u001b[39m\u001b[38;5;124mon should be Column or list of Column\u001b[39m\u001b[38;5;124m\"\u001b[39m\n\u001b[1;32m   2480\u001b[0m     on \u001b[38;5;241m=\u001b[39m reduce(\u001b[38;5;28;01mlambda\u001b[39;00m x, y: x\u001b[38;5;241m.\u001b[39m\u001b[38;5;21m__and__\u001b[39m(y), cast(List[Column], on))\n\u001b[1;32m   2481\u001b[0m     on \u001b[38;5;241m=\u001b[39m on\u001b[38;5;241m.\u001b[39m_jc\n",
      "\u001b[0;31mAssertionError\u001b[0m: on should be Column or list of Column"
     ]
    }
   ],
   "source": [
    "df_join_ = df_unique_info.join(df_unique_demonstracao,\\\n",
    "    (df_unique_info[\"cnpj_raiz\"] == (df_unique_demonstracao[\"codigo\"]) &\\\n",
    "    (df_unique_info[\"ano_info\"] == df_unique_demonstracao[\"ano\"]) &\\\n",
    "    (df_unique_info[\"mes_info\"] == df_unique_demonstracao[\"mes\"]),\\\n",
    "    \"full_outer\")).select(\\\n",
    "    df_unique_demonstracao[\"instituicao\"],\\\n",
    "    df_unique_demonstracao[\"tc\"],\\\n",
    "    df_unique_demonstracao[\"conglomerado\"],\\\n",
    "    df_unique_demonstracao[\"cnpj_completo\"],\\\n",
    "    *df_unique_info.columns)\n",
    "\n",
    "df_join = df_join_.dropDuplicates()\n",
    "\n",
    "# Filtrar registros que estão apenas no DataFrame \"demonstracao_result\"\n",
    "only_demonstracao_result = df_join.filter(\n",
    "    F.col(\"nome_entidade\").isNull() &\n",
    "    F.col(\"instituicao\").isNotNull() &\n",
    "    (F.trim(F.col(\"instituicao\")) != \"\")\n",
    ")\n",
    "\n",
    "# Filtrar registros que estão apenas no DataFrame \"info_cadastral\"\n",
    "only_info_cadastral = df_join.filter(\n",
    "    F.col(\"instituicao\").isNull() &\n",
    "    F.col(\"nome_entidade\").isNotNull() &\n",
    "    (F.trim(F.col(\"nome_entidade\")) != \"\")\n",
    ")\n",
    "\n",
    "# Filtrar registros que estão presentes em ambos DataFrames\n",
    "intersecao = df_join.filter(\n",
    "    F.col(\"instituicao\").isNotNull() &\n",
    "    (F.trim(F.col(\"instituicao\")) != \"\") &\n",
    "    F.col(\"nome_entidade\").isNotNull() &\n",
    "    (F.trim(F.col(\"nome_entidade\")) != \"\")\n",
    ")\n",
    "print(only_demonstracao_result.count())\n",
    "\n",
    "print(only_info_cadastral.count())\n",
    "\n",
    "print(intersecao.count())\n",
    "\n",
    "print(\"total\", df_join.count())\n",
    "\n",
    "\n",
    "# testee = df_sem_acento.filter(F.col(\"nome_entidade\") == \"COOPERATIVA DE CRÉDITO RURAL COM INTERAÇÃO SOLIDÁRIA DE CASTRO - CRESOL CASTRO\")\n",
    "\n",
    "# table = tabulate(testee.collect(), headers=testee.columns, tablefmt='html')\n",
    "# display(HTML(table))\n",
    "\n"
   ]
  },
  {
   "cell_type": "code",
   "execution_count": 61,
   "id": "2d8f9918-019d-488c-9cd7-9abf17db79d8",
   "metadata": {
    "editable": true,
    "scrolled": true,
    "slideshow": {
     "slide_type": ""
    },
    "tags": []
   },
   "outputs": [
    {
     "name": "stderr",
     "output_type": "stream",
     "text": [
      "24/07/18 15:42:29 WARN TaskSetManager: Stage 371 contains a task of very large size (12111 KiB). The maximum recommended task size is 1000 KiB.\n",
      "24/07/18 15:42:29 WARN TaskSetManager: Stage 372 contains a task of very large size (11648 KiB). The maximum recommended task size is 1000 KiB.\n",
      "24/07/18 15:42:32 WARN TaskSetManager: Stage 377 contains a task of very large size (12111 KiB). The maximum recommended task size is 1000 KiB.\n",
      "24/07/18 15:42:33 WARN TaskSetManager: Stage 378 contains a task of very large size (11648 KiB). The maximum recommended task size is 1000 KiB.\n",
      "24/07/18 15:42:36 WARN TaskSetManager: Stage 383 contains a task of very large size (12111 KiB). The maximum recommended task size is 1000 KiB.\n",
      "24/07/18 15:42:37 WARN TaskSetManager: Stage 384 contains a task of very large size (11648 KiB). The maximum recommended task size is 1000 KiB.\n",
      "                                                                                \r"
     ]
    },
    {
     "data": {
      "text/html": [
       "<table>\n",
       "<thead>\n",
       "<tr></tr>\n",
       "</thead>\n",
       "<tbody>\n",
       "</tbody>\n",
       "</table>"
      ],
      "text/plain": [
       "<IPython.core.display.HTML object>"
      ]
     },
     "metadata": {},
     "output_type": "display_data"
    },
    {
     "data": {
      "text/html": [
       "<table>\n",
       "<thead>\n",
       "<tr><th>instituicao  </th><th>tc  </th><th>conglomerado  </th><th>codigo  </th><th style=\"text-align: right;\">          cnpj</th><th>data      </th><th style=\"text-align: right;\">  cnpj_raiz</th><th>codigo_sisbacen  </th><th>nome_tipo_entidade                                </th><th>descricao_situacao                       </th><th>nome_entidade                                                                                    </th><th>nome_fantasia                           </th></tr>\n",
       "</thead>\n",
       "<tbody>\n",
       "<tr><td>             </td><td>    </td><td>              </td><td>        </td><td style=\"text-align: right;\">10664027000132</td><td>2024-05-23</td><td style=\"text-align: right;\">   10664027</td><td>                 </td><td>Sociedade Corretora de TVM                        </td><td>Cancelada/Encerrada                      </td><td>ABERTURA CORRETORA DE CAMBIO E VALORES MOBILIARIOS LTDA                                          </td><td>                                        </td></tr>\n",
       "<tr><td>             </td><td>    </td><td>              </td><td>        </td><td style=\"text-align: right;\">11547213000154</td><td>2024-05-23</td><td style=\"text-align: right;\">   11547213</td><td>                 </td><td>Administradora de Consórcio                       </td><td>Cancelada/Encerrada                      </td><td>ALMEIDA ADMINISTRACAO DE CONSORCIOS LTDA - IMPEDIDA CRIAR NOVOS GRUPOS                           </td><td>                                        </td></tr>\n",
       "<tr><td>             </td><td>    </td><td>              </td><td>        </td><td style=\"text-align: right;\">33756370000102</td><td>2024-05-23</td><td style=\"text-align: right;\">   33756370</td><td>                 </td><td>Sociedade Corretora de TVM                        </td><td>Cancelada/Encerrada                      </td><td>ARIJU S/A CORRETORA DE CAMBIO, TITULOS E VALORES MOBILIARIOS                                     </td><td>                                        </td></tr>\n",
       "<tr><td>             </td><td>    </td><td>              </td><td>        </td><td style=\"text-align: right;\">17338450000191</td><td>2024-05-23</td><td style=\"text-align: right;\">   17338450</td><td>                 </td><td>Sociedade Distribuidora de TVM                    </td><td>Regime Especial Encerrado                </td><td>ASTRA DISTRIBUIDORA DE TITULOS E VALORES MOBILIARIOS LTDA                                        </td><td>ASTRA DIST. TITLS. VALS. MOBILIARIOS LTD</td></tr>\n",
       "<tr><td>             </td><td>    </td><td>              </td><td>        </td><td style=\"text-align: right;\">38726063000100</td><td>2024-05-23</td><td style=\"text-align: right;\">   38726063</td><td>                 </td><td>Administradora de Consórcio                       </td><td>Cancelada/Encerrada                      </td><td>AUTO &amp; MOVEL CONSORCIOS LTDA                                                                     </td><td>                                        </td></tr>\n",
       "<tr><td>             </td><td>    </td><td>              </td><td>        </td><td style=\"text-align: right;\">15208309000149</td><td>2024-05-23</td><td style=\"text-align: right;\">   15208309</td><td>                 </td><td>Sociedade de Crédito, Financiamento e Investimento</td><td>Cancelada/Encerrada                      </td><td>BAHIA LUCRO S/A - CREDITO, FINANCIAMENTO E INVESTIMENTOS                                         </td><td>                                        </td></tr>\n",
       "<tr><td>             </td><td>    </td><td>              </td><td>        </td><td style=\"text-align: right;\">61415428000190</td><td>2024-05-23</td><td style=\"text-align: right;\">   61415428</td><td>                 </td><td>Banco Múltiplo                                    </td><td>Cancelada/Encerrada                      </td><td>BANCO DE TOKYO S.A.                                                                              </td><td>                                        </td></tr>\n",
       "<tr><td>             </td><td>    </td><td>              </td><td>        </td><td style=\"text-align: right;\">45666609000132</td><td>2024-05-23</td><td style=\"text-align: right;\">   45666609</td><td>                 </td><td>Banco Comercial Estrangeiro - Filial no país      </td><td>Cancelada/Encerrada                      </td><td>BANCO HISPANO AMERICANO S.A.                                                                     </td><td>                                        </td></tr>\n",
       "<tr><td>             </td><td>    </td><td>              </td><td>        </td><td style=\"text-align: right;\">60700556000465</td><td>2024-05-23</td><td style=\"text-align: right;\">   60700556</td><td>                 </td><td>Banco Múltiplo                                    </td><td>Cancelada/Encerrada                      </td><td>BANCO SANTANDER NOROESTE S.A.                                                                    </td><td>                                        </td></tr>\n",
       "<tr><td>             </td><td>    </td><td>              </td><td>        </td><td style=\"text-align: right;\">74419714000175</td><td>2024-05-23</td><td style=\"text-align: right;\">   74419714</td><td>                 </td><td>Banco de Investimento                             </td><td>Cancelada/Encerrada                      </td><td>BANCO SINTESE DE INVESTIMENTO S.A.                                                               </td><td>                                        </td></tr>\n",
       "<tr><td>             </td><td>    </td><td>              </td><td>        </td><td style=\"text-align: right;\">33801796000130</td><td>2024-05-23</td><td style=\"text-align: right;\">   33801796</td><td>                 </td><td>Banco de Investimento                             </td><td>Cancelada/Encerrada                      </td><td>BANERJ - BANCO DE INVESTIMENTOS S/A                                                              </td><td>                                        </td></tr>\n",
       "<tr><td>             </td><td>    </td><td>              </td><td>        </td><td style=\"text-align: right;\">59233502000105</td><td>2024-05-23</td><td style=\"text-align: right;\">   59233502</td><td>                 </td><td>Banco de Investimento                             </td><td>Cancelada/Encerrada                      </td><td>BBA-CREDITANSTALT BANCO DE INVESTIMENTO S/A                                                      </td><td>                                        </td></tr>\n",
       "<tr><td>             </td><td>    </td><td>              </td><td>        </td><td style=\"text-align: right;\">68327295000149</td><td>2024-05-23</td><td style=\"text-align: right;\">   68327295</td><td>                 </td><td>Administradora de Consórcio                       </td><td>Cancelada/Encerrada                      </td><td>BEMFACIL ADMINISTRADORA DE CONSORCIOS S/C LTDA                                                   </td><td>                                        </td></tr>\n",
       "<tr><td>             </td><td>    </td><td>              </td><td>        </td><td style=\"text-align: right;\">50603067000199</td><td>2024-05-23</td><td style=\"text-align: right;\">   50603067</td><td>                 </td><td>                                                  </td><td>Falta de integridade referencial na fonte</td><td>CARMOTO PARTICIPACOES E INTERMEDIACOES DE BENS MOVEIS LTDA                                       </td><td>CARMOTO                                 </td></tr>\n",
       "<tr><td>             </td><td>    </td><td>              </td><td>        </td><td style=\"text-align: right;\">21593744000137</td><td>2024-05-23</td><td style=\"text-align: right;\">   21593744</td><td>                 </td><td>Sociedade Distribuidora de TVM                    </td><td>Cancelada/Encerrada                      </td><td>CEDISVAL DISTRIBUIDORA DE TITULOS E VALORES MOBILIARIOS LTDA                                     </td><td>                                        </td></tr>\n",
       "<tr><td>             </td><td>    </td><td>              </td><td>        </td><td style=\"text-align: right;\">33858630000150</td><td>2024-05-23</td><td style=\"text-align: right;\">   33858630</td><td>                 </td><td>Sociedade Distribuidora de TVM                    </td><td>Cancelada/Encerrada                      </td><td>CEDRO DISTRIBUIDORA DE TÍTULOS E VALORES MOBILIÁRIOS LTDA                                        </td><td>                                        </td></tr>\n",
       "<tr><td>             </td><td>    </td><td>              </td><td>        </td><td style=\"text-align: right;\">61606976000105</td><td>2024-05-23</td><td style=\"text-align: right;\">   61606976</td><td>                 </td><td>                                                  </td><td>Falta de integridade referencial na fonte</td><td>CNDP PARTICIPACOES LTDA                                                                          </td><td>                                        </td></tr>\n",
       "<tr><td>             </td><td>    </td><td>              </td><td>        </td><td style=\"text-align: right;\">25693912000117</td><td>2024-05-23</td><td style=\"text-align: right;\">   25693912</td><td>                 </td><td>Administradora de Consórcio                       </td><td>Cancelada/Encerrada                      </td><td>CONSÓRCIO NORTE SUL LTDA - IMPEDIDA CRIAR NOVOS GRUPOS                                           </td><td>                                        </td></tr>\n",
       "<tr><td>             </td><td>    </td><td>              </td><td>        </td><td style=\"text-align: right;\">88655261000190</td><td>2024-05-23</td><td style=\"text-align: right;\">   88655261</td><td>                 </td><td>Sociedade Distribuidora de TVM                    </td><td>Cancelada/Encerrada                      </td><td>CONTE DISTRIBUIDORA DE TITULOS E VALORES MOBILIARIOS LTDA                                        </td><td>                                        </td></tr>\n",
       "<tr><td>             </td><td>    </td><td>              </td><td>        </td><td style=\"text-align: right;\">28952679000138</td><td>2024-05-23</td><td style=\"text-align: right;\">   28952679</td><td>                 </td><td>Cooperativa de Crédito                            </td><td>Cancelada/Encerrada                      </td><td>COOPERATIVA DE CREDITO DOS LAVRADORES DE CANA DE ACUCAR DO ESTADO DO RIO JANEIRO LTDA-COOPERCREDI</td><td>                                        </td></tr>\n",
       "<tr><td>             </td><td>    </td><td>              </td><td>        </td><td style=\"text-align: right;\">36904191000163</td><td>2024-05-23</td><td style=\"text-align: right;\">   36904191</td><td>                 </td><td>Cooperativa de Crédito                            </td><td>Cancelada/Encerrada                      </td><td>COOPERATIVA DE CREDITO RURAL DE ALTA FLORESTA LTDA.                                              </td><td>                                        </td></tr>\n",
       "<tr><td>             </td><td>    </td><td>              </td><td>        </td><td style=\"text-align: right;\">86739414000152</td><td>2024-05-23</td><td style=\"text-align: right;\">   86739414</td><td>                 </td><td>Cooperativa de Crédito                            </td><td>Cancelada/Encerrada                      </td><td>COOPERATIVA DE CREDITO RURAL DE DUQUE DE CAXIAS LTDA                                             </td><td>                                        </td></tr>\n",
       "<tr><td>             </td><td>    </td><td>              </td><td>        </td><td style=\"text-align: right;\">32470924000148</td><td>2024-05-23</td><td style=\"text-align: right;\">   32470924</td><td>                 </td><td>Cooperativa de Crédito                            </td><td>Cancelada/Encerrada                      </td><td>COOPERATIVA DE CREDITO RURAL DE ITAGUACU - SICOOB ITAGUACU                                       </td><td>                                        </td></tr>\n",
       "<tr><td>             </td><td>    </td><td>              </td><td>        </td><td style=\"text-align: right;\">36513018000134</td><td>2024-05-23</td><td style=\"text-align: right;\">   36513018</td><td>                 </td><td>Cooperativa de Crédito                            </td><td>Cancelada/Encerrada                      </td><td>COOPERATIVA DE CREDITO RURAL DE RESENDE LTDA                                                     </td><td>                                        </td></tr>\n",
       "<tr><td>             </td><td>    </td><td>              </td><td>        </td><td style=\"text-align: right;\">05003587000106</td><td>2024-05-23</td><td style=\"text-align: right;\">   05003587</td><td>                 </td><td>Cooperativa de Crédito                            </td><td>Cancelada/Encerrada                      </td><td>COOPERATIVA DE CREDITO RURAL DE SANTANA DO LIVRAMENTO LTDA                                       </td><td>                                        </td></tr>\n",
       "<tr><td>             </td><td>    </td><td>              </td><td>        </td><td style=\"text-align: right;\">26408153000166</td><td>2024-05-23</td><td style=\"text-align: right;\">   26408153</td><td>                 </td><td>Cooperativa de Crédito                            </td><td>Cancelada/Encerrada                      </td><td>COOPERATIVA DE CREDITO RURAL DE SIDROLANDIA LTDA                                                 </td><td>                                        </td></tr>\n",
       "<tr><td>             </td><td>    </td><td>              </td><td>        </td><td style=\"text-align: right;\">              </td><td>2024-05-23</td><td style=\"text-align: right;\">           </td><td>                 </td><td>Cooperativa de Crédito                            </td><td>Cancelada/Encerrada                      </td><td>COOPERATIVA DE CRÉDITO DOS FORNECEDORES/FUNCIONÁRIOS DA PREFEITURA MUNICIPAL DE PAULINIA         </td><td>                                        </td></tr>\n",
       "<tr><td>             </td><td>    </td><td>              </td><td>        </td><td style=\"text-align: right;\">09418427000189</td><td>2024-05-23</td><td style=\"text-align: right;\">   09418427</td><td>                 </td><td>Cooperativa de Crédito                            </td><td>Cancelada/Encerrada                      </td><td>COOPERATIVA DE CRÉDITO MÚTUO DOS SÓCIOS DA ASSOCIAÇÃO DOS CICLISTAS CEARENSES LTDA               </td><td>                                        </td></tr>\n",
       "<tr><td>             </td><td>    </td><td>              </td><td>        </td><td style=\"text-align: right;\">91692186000142</td><td>2024-05-23</td><td style=\"text-align: right;\">   91692186</td><td>                 </td><td>Cooperativa de Crédito                            </td><td>Cancelada/Encerrada                      </td><td>COOPERATIVA DE ECONOMIA E CREDITO MUTUO DOS EMPREGADOS DA FIRMA HAAS LTDA                        </td><td>                                        </td></tr>\n",
       "<tr><td>             </td><td>    </td><td>              </td><td>        </td><td style=\"text-align: right;\">14882179000162</td><td>2024-05-23</td><td style=\"text-align: right;\">   14882179</td><td>                 </td><td>Cooperativa de Crédito                            </td><td>Cancelada/Encerrada                      </td><td>COOPERATIVA DE ECONOMIA E CREDITO MUTUO DOS FUNCIONARIOS DAS EMPRESAS ITAU EM CORUMBA LTDA       </td><td>                                        </td></tr>\n",
       "</tbody>\n",
       "</table>"
      ],
      "text/plain": [
       "<IPython.core.display.HTML object>"
      ]
     },
     "metadata": {},
     "output_type": "display_data"
    },
    {
     "data": {
      "text/html": [
       "<table>\n",
       "<thead>\n",
       "<tr><th>instituicao                                                                     </th><th style=\"text-align: right;\">  tc</th><th>conglomerado                   </th><th style=\"text-align: right;\">  codigo</th><th style=\"text-align: right;\">          cnpj</th><th>data      </th><th style=\"text-align: right;\">  cnpj_raiz</th><th style=\"text-align: right;\">  codigo_sisbacen</th><th>nome_tipo_entidade                                         </th><th>descricao_situacao                       </th><th>nome_entidade                                                                   </th><th>nome_fantasia                                  </th></tr>\n",
       "</thead>\n",
       "<tbody>\n",
       "<tr><td>QUANTO NETWORK INSTITUICAO DE PAGAMENTO LTDA.                                   </td><td style=\"text-align: right;\">   2</td><td>QUANTO NETWORK IP - PRUDENCIAL </td><td style=\"text-align: right;\">42064545</td><td style=\"text-align: right;\">42064545000101</td><td>2024-05-23</td><td style=\"text-align: right;\">   42064545</td><td style=\"text-align: right;\">            00005</td><td>Instituição de Pagamento                                   </td><td>Autorizada em Atividade                  </td><td>QUANTO NETWORK INSTITUICAO DE PAGAMENTO LTDA.                                   </td><td>QUANTO                                         </td></tr>\n",
       "<tr><td>BLU INSTITUIÇÃO DE PAGAMENTO LTDA.                                              </td><td style=\"text-align: right;\">   2</td><td>BLU IP - PRUDENCIAL            </td><td style=\"text-align: right;\">10506341</td><td style=\"text-align: right;\">10506341000197</td><td>2024-05-23</td><td style=\"text-align: right;\">   10506341</td><td style=\"text-align: right;\">            00059</td><td>Instituição de Pagamento                                   </td><td>Autorizada em Atividade                  </td><td>BLU INSTITUIÇÃO DE PAGAMENTO LTDA.                                              </td><td>BLU IP                                         </td></tr>\n",
       "<tr><td>ZOOP TECNOLOGIA &amp; INSTITUICAO DE PAGAMENTO S.A.                                 </td><td style=\"text-align: right;\">   2</td><td>ZOOP TECNOLOGIA IP - PRUDENCIAL</td><td style=\"text-align: right;\">19468242</td><td style=\"text-align: right;\">19468242000213</td><td>2024-05-23</td><td style=\"text-align: right;\">   19468242</td><td style=\"text-align: right;\">            00137</td><td>Instituição de Pagamento                                   </td><td>Autorizada em Atividade                  </td><td>ZOOP TECNOLOGIA &amp; INSTITUICAO DE PAGAMENTO S.A.                                 </td><td>ZOOP TECNOLOGIA &amp; INSTITUIÇÃO DE PAGAMENTO S.A.</td></tr>\n",
       "<tr><td>BANCO BANERJ S.A.                                                               </td><td style=\"text-align: right;\">   2</td><td>ITAU                           </td><td style=\"text-align: right;\">33885724</td><td style=\"text-align: right;\">33885724000119</td><td>2024-05-23</td><td style=\"text-align: right;\">   33885724</td><td style=\"text-align: right;\">            04029</td><td>Banco Múltiplo                                             </td><td>Autorizada em Atividade                  </td><td>BANCO ITAÚ CONSIGNADO S.A.                                                      </td><td>BANCO ITAÚ CONSIGNADO S.A.                     </td></tr>\n",
       "<tr><td>BANCO ITAÚ BMG CONSIGNADO S.A.                                                  </td><td style=\"text-align: right;\">   2</td><td>ITAU                           </td><td style=\"text-align: right;\">33885724</td><td style=\"text-align: right;\">33885724000119</td><td>2024-05-23</td><td style=\"text-align: right;\">   33885724</td><td style=\"text-align: right;\">            04029</td><td>Banco Múltiplo                                             </td><td>Autorizada em Atividade                  </td><td>BANCO ITAÚ CONSIGNADO S.A.                                                      </td><td>BANCO ITAÚ CONSIGNADO S.A.                     </td></tr>\n",
       "<tr><td>UBS PACTUAL CORRETORA DE TÍTULOS E VALORES MOBILIÁRIOS S.A.                     </td><td style=\"text-align: right;\">   3</td><td>UBS PACTUAL                    </td><td style=\"text-align: right;\">43815158</td><td style=\"text-align: right;\">43815158000122</td><td>2024-05-23</td><td style=\"text-align: right;\">   43815158</td><td style=\"text-align: right;\">            05211</td><td>Sociedade Corretora de TVM                                 </td><td>Autorizada em Atividade                  </td><td>BTG PACTUAL CORRETORA DE TÍTULOS E VALORES MOBILIÁRIOS S.A.                     </td><td>BTG PACTUAL CTVM S.A.                          </td></tr>\n",
       "<tr><td>BTG PACTUAL CORRETORA DE TÍTULOS E VALORES MOBILIÁRIOS S.A.                     </td><td style=\"text-align: right;\">   2</td><td>BTG PACTUAL                    </td><td style=\"text-align: right;\">43815158</td><td style=\"text-align: right;\">43815158000122</td><td>2024-05-23</td><td style=\"text-align: right;\">   43815158</td><td style=\"text-align: right;\">            05211</td><td>Sociedade Corretora de TVM                                 </td><td>Autorizada em Atividade                  </td><td>BTG PACTUAL CORRETORA DE TÍTULOS E VALORES MOBILIÁRIOS S.A.                     </td><td>BTG PACTUAL CTVM S.A.                          </td></tr>\n",
       "<tr><td>BANCO GE CAPITAL S.A.                                                           </td><td style=\"text-align: right;\">   2</td><td>BMG                            </td><td style=\"text-align: right;\">62421979</td><td style=\"text-align: right;\">62421979000129</td><td>2024-05-23</td><td style=\"text-align: right;\">   62421979</td><td style=\"text-align: right;\">            05233</td><td>Banco Múltiplo                                             </td><td>Autorizada em Atividade                  </td><td>BANCO CIFRA S.A.                                                                </td><td>BANCO CIFRA                                    </td></tr>\n",
       "<tr><td>BANCO LETSBANK S.A.                                                             </td><td style=\"text-align: right;\">   2</td><td>BANCO VOITER - PRUDENCIAL      </td><td style=\"text-align: right;\">58497702</td><td style=\"text-align: right;\">58497702000102</td><td>2024-05-23</td><td style=\"text-align: right;\">   58497702</td><td style=\"text-align: right;\">            05630</td><td>Banco Múltiplo                                             </td><td>Autorizada em Atividade                  </td><td>BANCO LETSBANK S.A.                                                             </td><td>LETSBANK                                       </td></tr>\n",
       "<tr><td>BANCO ITAUBANK S.A.                                                             </td><td style=\"text-align: right;\">   2</td><td>ITAU - PRUDENCIAL              </td><td style=\"text-align: right;\">60394079</td><td style=\"text-align: right;\">60394079000104</td><td>2024-05-23</td><td style=\"text-align: right;\">   60394079</td><td style=\"text-align: right;\">            06479</td><td>Banco Múltiplo                                             </td><td>Autorizada em Atividade                  </td><td>BANCO ITAUBANK S.A.                                                             </td><td>ITAUBANK                                       </td></tr>\n",
       "<tr><td>COMPANHIA AMERICA DO SUL DE ARRENDAMENTO MERCANTIL                              </td><td style=\"text-align: right;\">   3</td><td>SUDAMERIS                      </td><td style=\"text-align: right;\">62307848</td><td style=\"text-align: right;\">62307848000115</td><td>2024-05-23</td><td style=\"text-align: right;\">   62307848</td><td style=\"text-align: right;\">            08336</td><td>Banco Múltiplo                                             </td><td>Autorizada em Atividade                  </td><td>BANCO RCI BRASIL S.A.                                                           </td><td>MOBILIZE FINANCIAL SERVICES                    </td></tr>\n",
       "<tr><td>J&amp;F DISTRIBUIDORA DE TÍTULOS E VALORES MOBILIÁRIOS LTDA                         </td><td style=\"text-align: right;\">   2</td><td>BANCO ORIGINAL - PRUDENCIAL    </td><td style=\"text-align: right;\">07138049</td><td style=\"text-align: right;\">07138049000154</td><td>2024-05-23</td><td style=\"text-align: right;\">   07138049</td><td style=\"text-align: right;\">            12261</td><td>Sociedade Distribuidora de TVM                             </td><td>Autorizada em Atividade                  </td><td>PICPAY INVEST DISTRIBUIDORA DE TÍTULOS E VALORES MOBILIÁRIOS LTDA               </td><td>PICPAY INVEST                                  </td></tr>\n",
       "<tr><td>SANTANDER ASSET MANAGEMENT DISTRIBUIDORA DE TÍTULOS E VALORES MOBILIÁRIOS LTDA. </td><td style=\"text-align: right;\">   3</td><td>SANTANDER BANESPA              </td><td style=\"text-align: right;\">73159642</td><td style=\"text-align: right;\">73159642000101</td><td>2024-05-23</td><td style=\"text-align: right;\">   73159642</td><td style=\"text-align: right;\">            24475</td><td>Sociedade Distribuidora de TVM                             </td><td>Cancelada/Encerrada                      </td><td>SANTANDER ASSET MANAGEMENT DISTRIBUIDORA DE TÍTULOS E VALORES MOBILIÁRIOS LTDA. </td><td>SANTANDER BANESPA                              </td></tr>\n",
       "<tr><td>WESTERN UNION CORRETORA DE CÂMBIO S.A.                                          </td><td style=\"text-align: right;\">   3</td><td>WESTERN UNION - PRUDENCIAL     </td><td style=\"text-align: right;\">13728156</td><td style=\"text-align: right;\">13728156009515</td><td>2024-05-23</td><td style=\"text-align: right;\">   13728156</td><td style=\"text-align: right;\">            28996</td><td>Sociedade Corretora de Câmbio                              </td><td>Autorizada em Atividade                  </td><td>WESTERN UNION CORRETORA DE CÂMBIO S.A.                                          </td><td>WESTERN UNION CORRETORA                        </td></tr>\n",
       "<tr><td>BANCO LOSANGO S.A. - BANCO MÚLTIPLO                                             </td><td style=\"text-align: right;\">   3</td><td>HSBC                           </td><td style=\"text-align: right;\">33254319</td><td style=\"text-align: right;\">33254319008420</td><td>2024-05-23</td><td style=\"text-align: right;\">   33254319</td><td style=\"text-align: right;\">            31168</td><td>Banco Múltiplo                                             </td><td>Autorizada em Atividade                  </td><td>BANCO LOSANGO S.A. - BANCO MÚLTIPLO                                             </td><td>BANCO LOSANGO S.A.                             </td></tr>\n",
       "<tr><td>BANCO OURINVEST S.A.                                                            </td><td style=\"text-align: right;\">   2</td><td>OURINVEST                      </td><td style=\"text-align: right;\">78632767</td><td style=\"text-align: right;\">78632767000120</td><td>2024-05-23</td><td style=\"text-align: right;\">   78632767</td><td style=\"text-align: right;\">            31712</td><td>Banco Múltiplo                                             </td><td>Autorizada em Atividade                  </td><td>BANCO OURINVEST S.A.                                                            </td><td>OURIBANK                                       </td></tr>\n",
       "<tr><td>COINVALORES DISTRIBUIDORA DE TÍTULOS E VALORES MOBILIÁRIOS LTDA                 </td><td style=\"text-align: right;\">   2</td><td>COINVALORES                    </td><td style=\"text-align: right;\">59148775</td><td style=\"text-align: right;\">59148775000151</td><td>2024-05-23</td><td style=\"text-align: right;\">   59148775</td><td style=\"text-align: right;\">            37096</td><td>Administradora de Fundos não sujeita a autorização pelo BCB</td><td>Falta de integridade referencial na fonte</td><td>COINVEST SERVICOS E NEGOCIOS LTDA.                                              </td><td>COINVEST EMPREENDIMENTOS                       </td></tr>\n",
       "<tr><td>FRIZZO PECUNIA - DISTRIBUIDORA DE TÍTULOS E VALORES MOBILIÁRIOS LTDA.           </td><td style=\"text-align: right;\">   2</td><td>PECUNIA                        </td><td style=\"text-align: right;\">62264924</td><td style=\"text-align: right;\">62264924000152</td><td>2024-05-23</td><td style=\"text-align: right;\">   62264924</td><td style=\"text-align: right;\">            37541</td><td>Sociedade Distribuidora de TVM                             </td><td>Autorizada em Atividade                  </td><td>CP &amp; FRIZZO - DISTRIBUIDORA DE TÍTULOS E VALORES MOBILIÁRIOS LTDA               </td><td>CP &amp; FRIZZO - DTVM LTDA                        </td></tr>\n",
       "<tr><td>BTG PACTUAL ASSET MANAGEMENT S.A. DISTRIBUIDORA DE TÍTULOS E VALORES MOBILIÁRIOS</td><td style=\"text-align: right;\">   2</td><td>BTG PACTUAL                    </td><td style=\"text-align: right;\">29650082</td><td style=\"text-align: right;\">29650082000363</td><td>2024-05-23</td><td style=\"text-align: right;\">   29650082</td><td style=\"text-align: right;\">            37811</td><td>Sociedade Distribuidora de TVM                             </td><td>Autorizada em Atividade                  </td><td>BTG PACTUAL ASSET MANAGEMENT S.A. DISTRIBUIDORA DE TÍTULOS E VALORES MOBILIÁRIOS</td><td>BTG PACTUAL ASSET MANAGEMENT S.A. DTVM         </td></tr>\n",
       "<tr><td>PACTUAL S.A.-DISTRIBUIDORA DE TITULOS E VALORES MOBILIARIOS                     </td><td style=\"text-align: right;\">   2</td><td>PACTUAL                        </td><td style=\"text-align: right;\">29650082</td><td style=\"text-align: right;\">29650082000363</td><td>2024-05-23</td><td style=\"text-align: right;\">   29650082</td><td style=\"text-align: right;\">            37811</td><td>Sociedade Distribuidora de TVM                             </td><td>Autorizada em Atividade                  </td><td>BTG PACTUAL ASSET MANAGEMENT S.A. DISTRIBUIDORA DE TÍTULOS E VALORES MOBILIÁRIOS</td><td>BTG PACTUAL ASSET MANAGEMENT S.A. DTVM         </td></tr>\n",
       "<tr><td>BANCO OLÉ CONSIGNADO S.A.                                                       </td><td style=\"text-align: right;\">   3</td><td>SANTANDER                      </td><td style=\"text-align: right;\">71371686</td><td style=\"text-align: right;\">71371686000175</td><td>2024-05-23</td><td style=\"text-align: right;\">   71371686</td><td style=\"text-align: right;\">            38022</td><td>Banco Múltiplo                                             </td><td>Cancelada/Encerrada                      </td><td>BANCO OLÉ CONSIGNADO S.A.                                                       </td><td>OLÉ CONSIGNADO                                 </td></tr>\n",
       "<tr><td>BMP SOCIEDADE DE CRÉDITO DIRETO S.A                                             </td><td style=\"text-align: right;\">   2</td><td>BMP SCMEPP LTDA - PRUDENCIAL   </td><td style=\"text-align: right;\">34337707</td><td style=\"text-align: right;\">34337707000100</td><td>2024-05-23</td><td style=\"text-align: right;\">   34337707</td><td style=\"text-align: right;\">            42687</td><td>Sociedade de Crédito Direto                                </td><td>Autorizada em Atividade                  </td><td>BMP SOCIEDADE DE CRÉDITO DIRETO S.A                                             </td><td>BMP                                            </td></tr>\n",
       "<tr><td>DMCARD SOCIEDADE DE CRÉDITO DIRETO S.A.                                         </td><td style=\"text-align: right;\">   2</td><td>DMCARD SCD - PRUDENCIAL        </td><td style=\"text-align: right;\">37555231</td><td style=\"text-align: right;\">37555231000171</td><td>2024-05-23</td><td style=\"text-align: right;\">   37555231</td><td style=\"text-align: right;\">            42823</td><td>Sociedade de Crédito Direto                                </td><td>Autorizada em Atividade                  </td><td>DM SOCIEDADE DE CRÉDITO DIRETO S.A.                                             </td><td>DM                                             </td></tr>\n",
       "<tr><td>ADIQ SOLUCOES DE PAGAMENTO S.A.                                                 </td><td style=\"text-align: right;\">   2</td><td>BS2 - PRUDENCIAL               </td><td style=\"text-align: right;\">20520298</td><td style=\"text-align: right;\">20520298000178</td><td>2024-05-23</td><td style=\"text-align: right;\">   20520298</td><td style=\"text-align: right;\">            42872</td><td>Instituição de Pagamento                                   </td><td>Autorizada em Atividade                  </td><td>ADIQ INSTITUIÇÃO DE PAGAMENTO S.A.                                              </td><td>ADIQ SOLUÇÕES DE PAGAMENTO                     </td></tr>\n",
       "<tr><td>CREDIFIT SOCIEDADE DE CRÉDITO DIRETO S.A.                                       </td><td style=\"text-align: right;\">   2</td><td>CREDIFIT SCD - PRUDENCIAL      </td><td style=\"text-align: right;\">39676772</td><td style=\"text-align: right;\">39676772000183</td><td>2024-05-23</td><td style=\"text-align: right;\">   39676772</td><td style=\"text-align: right;\">            42935</td><td>Sociedade de Crédito Direto                                </td><td>Autorizada em Atividade                  </td><td>CREDIFIT SOCIEDADE DE CRÉDITO DIRETO S.A.                                       </td><td>CREDIFIT                                       </td></tr>\n",
       "<tr><td>QISTA S.A. - CRÉDITO, FINANCIAMENTO E INVESTIMENTO                              </td><td style=\"text-align: right;\">   2</td><td>QISTA S.A. CFI - PRUDENCIAL    </td><td style=\"text-align: right;\">36583700</td><td style=\"text-align: right;\">36583700000101</td><td>2024-05-23</td><td style=\"text-align: right;\">   36583700</td><td style=\"text-align: right;\">            43205</td><td>Sociedade de Crédito, Financiamento e Investimento         </td><td>Autorizada em Atividade                  </td><td>QISTA S.A. - CRÉDITO, FINANCIAMENTO E INVESTIMENTO                              </td><td>QISTA                                          </td></tr>\n",
       "<tr><td>INTER AMERICAN EXPRESS ARRENDAMENTO MERCANTIL S.A.                              </td><td style=\"text-align: right;\">   3</td><td>INTER AMEX                     </td><td style=\"text-align: right;\">27098060</td><td style=\"text-align: right;\">27098060000145</td><td>2024-05-23</td><td style=\"text-align: right;\">   27098060</td><td style=\"text-align: right;\">            53049</td><td>Banco Múltiplo                                             </td><td>Autorizada em Atividade                  </td><td>BANCO DIGIO S.A.                                                                </td><td>BANCO CBSS                                     </td></tr>\n",
       "<tr><td>CCB BRASIL ARRENDAMENTO MERCANTIL S/A.                                          </td><td style=\"text-align: right;\">   3</td><td>CCB - PRUDENCIAL               </td><td style=\"text-align: right;\">69720910</td><td style=\"text-align: right;\">69720910000145</td><td>2024-05-23</td><td style=\"text-align: right;\">   69720910</td><td style=\"text-align: right;\">            53124</td><td>Sociedade de Arrendamento Mercantil                        </td><td>Autorizada em Atividade                  </td><td>CCB BRASIL ARRENDAMENTO MERCANTIL S/A.                                          </td><td>CCB LEASING                                    </td></tr>\n",
       "<tr><td>FATOR S/A - CORRETORA DE VALORES                                                </td><td style=\"text-align: right;\">   2</td><td>FATOR                          </td><td style=\"text-align: right;\">63062749</td><td style=\"text-align: right;\">63062749000183</td><td>2024-05-23</td><td style=\"text-align: right;\">   63062749</td><td style=\"text-align: right;\">            57095</td><td>Sociedade Corretora de TVM                                 </td><td>Autorizada em Atividade                  </td><td>FXC CORRETORA DE VALORES S.A.                                                   </td><td>FXC CV S.A.                                    </td></tr>\n",
       "<tr><td>FXC CORRETORA DE VALORES S.A.                                                   </td><td style=\"text-align: right;\">   2</td><td>BTG PACTUAL - PRUDENCIAL       </td><td style=\"text-align: right;\">63062749</td><td style=\"text-align: right;\">63062749000183</td><td>2024-05-23</td><td style=\"text-align: right;\">   63062749</td><td style=\"text-align: right;\">            57095</td><td>Sociedade Corretora de TVM                                 </td><td>Autorizada em Atividade                  </td><td>FXC CORRETORA DE VALORES S.A.                                                   </td><td>FXC CV S.A.                                    </td></tr>\n",
       "</tbody>\n",
       "</table>"
      ],
      "text/plain": [
       "<IPython.core.display.HTML object>"
      ]
     },
     "metadata": {},
     "output_type": "display_data"
    }
   ],
   "source": [
    "sample_only_demonstracao_result = only_demonstracao_result.sample(False, 0.1).limit(30)\n",
    "\n",
    "tb_only_demonstracao_result = tabulate(only_demonstracao_result.collect(), headers=only_demonstracao_result.columns, tablefmt='html')\n",
    "\n",
    "sample_only_info_cadastral = only_info_cadastral.sample(False, 0.1).limit(30)\n",
    "\n",
    "tb_only_info_cadastral = tabulate(sample_only_info_cadastral.collect(), headers=sample_only_info_cadastral.columns, tablefmt='html')\n",
    "\n",
    "sample_intersecao =intersecao.sample(False, 0.1).limit(30)\n",
    "\n",
    "tb_intersecao = tabulate(sample_intersecao.collect(), headers=sample_intersecao.columns, tablefmt='html')\n",
    "\n",
    "display(HTML(tb_only_demonstracao_result))\n",
    "display(HTML(tb_only_info_cadastral))\n",
    "display(HTML(tb_intersecao))\n",
    "\n"
   ]
  },
  {
   "cell_type": "code",
   "execution_count": 13,
   "id": "596c374b-e32d-4fc4-bac1-28f7b7576005",
   "metadata": {
    "scrolled": true
   },
   "outputs": [
    {
     "name": "stdout",
     "output_type": "stream",
     "text": [
      "root\n",
      " |-- instituicao: string (nullable = true)\n",
      " |-- tc: string (nullable = true)\n",
      " |-- conglomerado: string (nullable = true)\n",
      " |-- codigo: string (nullable = true)\n",
      " |-- cnpj: string (nullable = true)\n",
      " |-- data: string (nullable = true)\n",
      " |-- cnpj_raiz: string (nullable = true)\n",
      " |-- codigo_sisbacen: string (nullable = true)\n",
      " |-- nome_tipo_entidade: string (nullable = true)\n",
      " |-- descricao_situacao: string (nullable = true)\n",
      " |-- nome_entidade: string (nullable = true)\n",
      " |-- nome_fantasia: string (nullable = true)\n",
      "\n"
     ]
    },
    {
     "name": "stderr",
     "output_type": "stream",
     "text": [
      "24/07/18 17:15:04 WARN TaskSetManager: Stage 110 contains a task of very large size (12111 KiB). The maximum recommended task size is 1000 KiB.\n",
      "24/07/18 17:15:04 WARN TaskSetManager: Stage 111 contains a task of very large size (11648 KiB). The maximum recommended task size is 1000 KiB.\n",
      "                                                                                \r"
     ]
    },
    {
     "data": {
      "text/html": [
       "<table>\n",
       "<thead>\n",
       "<tr><th>instituicao                                                                            </th><th style=\"text-align: right;\">  tc</th><th>conglomerado                                   </th><th style=\"text-align: right;\">  codigo</th><th style=\"text-align: right;\">          cnpj</th><th>data      </th><th style=\"text-align: right;\">  cnpj_raiz</th><th style=\"text-align: right;\">  codigo_sisbacen</th><th>nome_tipo_entidade                                         </th><th>descricao_situacao                       </th><th>nome_entidade                                                                         </th><th>nome_fantasia                           </th></tr>\n",
       "</thead>\n",
       "<tbody>\n",
       "<tr><td>CATERPILLAR FINANCIAL S.A. ARRENDAMENTO MERCANTIL                                      </td><td style=\"text-align: right;\">   3</td><td>CATERPILLAR                                    </td><td style=\"text-align: right;\">02658435</td><td style=\"text-align: right;\">02658435000153</td><td>2024-05-23</td><td style=\"text-align: right;\">   02658435</td><td style=\"text-align: right;\">            53154</td><td>Banco Múltiplo                                             </td><td>Autorizada em Atividade                  </td><td>BANCO CATERPILLAR S.A.                                                                </td><td>BANCO CATERPILLAR S.A.                  </td></tr>\n",
       "<tr><td>BANCO PRIME DE INVESTIMENTO S.A.                                                       </td><td style=\"text-align: right;\">   2</td><td>PRIME                                          </td><td style=\"text-align: right;\">45246410</td><td style=\"text-align: right;\">45246410000155</td><td>2024-05-23</td><td style=\"text-align: right;\">   45246410</td><td style=\"text-align: right;\">            31710</td><td>Banco Múltiplo                                             </td><td>Autorizada em Atividade                  </td><td>BANCO GENIAL S.A.                                                                     </td><td>PLURAL BANCO                            </td></tr>\n",
       "<tr><td>CM CAPITAL MARKETS CORRETORA DE CAMBIO LTDA                                            </td><td style=\"text-align: right;\">   3</td><td>CM CAPITAL MARKETS                             </td><td style=\"text-align: right;\">02671743</td><td style=\"text-align: right;\">02671743000119</td><td>2024-06-12</td><td style=\"text-align: right;\">   02671743</td><td style=\"text-align: right;\">            57538</td><td>Sociedade Distribuidora de TVM                             </td><td>Autorizada em Atividade                  </td><td>BANVOX DISTRIBUIDORA DE TÍTULOS E VALORES MOBILIÁRIOS LTDA                            </td><td>BANVOX DTVM                             </td></tr>\n",
       "<tr><td>BANCO FINAXIS S.A.                                                                     </td><td style=\"text-align: right;\">   2</td><td>FINAXIS - PRUDENCIAL                           </td><td style=\"text-align: right;\">11758741</td><td style=\"text-align: right;\">11758741000152</td><td>2024-05-23</td><td style=\"text-align: right;\">   11758741</td><td style=\"text-align: right;\">            27731</td><td>Banco Comercial                                            </td><td>Autorizada em Atividade                  </td><td>BANCO FINAXIS S.A.                                                                    </td><td>BANCO FINAXIS S.A.                      </td></tr>\n",
       "<tr><td>BANCO INDUSVAL S.A.                                                                    </td><td style=\"text-align: right;\">   2</td><td>INDUSVAL                                       </td><td style=\"text-align: right;\">61024352</td><td style=\"text-align: right;\">61024352000171</td><td>2024-05-23</td><td style=\"text-align: right;\">   61024352</td><td style=\"text-align: right;\">            05653</td><td>Banco Múltiplo                                             </td><td>Autorizada em Atividade                  </td><td>BANCO VOITER S.A.                                                                     </td><td>VOITER                                  </td></tr>\n",
       "<tr><td>BANKPAR BANCO MÚLTIPLO S.A.                                                            </td><td style=\"text-align: right;\">   2</td><td>BRADESCO                                       </td><td style=\"text-align: right;\">59438325</td><td style=\"text-align: right;\">59438325000101</td><td>2024-05-23</td><td style=\"text-align: right;\">   59438325</td><td style=\"text-align: right;\">            07204</td><td>Banco Múltiplo                                             </td><td>Cancelada/Encerrada                      </td><td>BANCO BRADESCO CARTÕES S.A.                                                           </td><td>BRADESCO CARTÕES                        </td></tr>\n",
       "<tr><td>STONE SOCIEDADE DE CRÉDITO DIRETO S.A.                                                 </td><td style=\"text-align: right;\">   2</td><td>STONE PAGAMENTOS - PRUDENCIAL                  </td><td style=\"text-align: right;\">34590184</td><td style=\"text-align: right;\">34590184000109</td><td>2024-05-23</td><td style=\"text-align: right;\">   34590184</td><td style=\"text-align: right;\">            42504</td><td>Sociedade de Crédito Direto                                </td><td>Autorizada em Atividade                  </td><td>STONE SOCIEDADE DE CRÉDITO DIRETO S.A.                                                </td><td>STONE SCD                               </td></tr>\n",
       "<tr><td>SAFRA DISTRIBUIDORA DE TITULOS E VALORES MOBILIARIOS LTDA                              </td><td style=\"text-align: right;\">   2</td><td>SAFRA                                          </td><td style=\"text-align: right;\">62180047</td><td style=\"text-align: right;\">62180047000131</td><td>2024-05-23</td><td style=\"text-align: right;\">   62180047</td><td style=\"text-align: right;\">            37383</td><td>Sociedade Distribuidora de TVM                             </td><td>Cancelada/Encerrada                      </td><td>SAFRA ASSET MANAGEMENT LTDA                                                           </td><td>SAFRA ASSET MANAGEMENT                  </td></tr>\n",
       "<tr><td>M18 INSTITUIÇÃO DE PAGAMENTO S.A.                                                      </td><td style=\"text-align: right;\">   2</td><td>M18 IP - PRUDENCIAL                            </td><td style=\"text-align: right;\">22575466</td><td style=\"text-align: right;\">22575466000158</td><td>2024-05-23</td><td style=\"text-align: right;\">   22575466</td><td style=\"text-align: right;\">            41921</td><td>Instituição de Pagamento                                   </td><td>Autorizada em Atividade                  </td><td>SRM BANK INSTITUIÇÃO DE PAGAMENTO S/A                                                 </td><td>SRM BANK                                </td></tr>\n",
       "<tr><td>SANTANDER SECURITIES (BRASIL)CORRETORA DE VALORES MOBILIÁRIOS S.A.                     </td><td style=\"text-align: right;\">   3</td><td>SANTANDER                                      </td><td style=\"text-align: right;\">61733515</td><td style=\"text-align: right;\">61733515000195</td><td>2024-05-23</td><td style=\"text-align: right;\">   61733515</td><td style=\"text-align: right;\">            57054</td><td>Sociedade Corretora de TVM                                 </td><td>Cancelada/Encerrada                      </td><td>SANTANDER SECURITIES (BRASIL)CORRETORA DE VALORES MOBILIÁRIOS S.A.                    </td><td>SANTANDER SECURITIES CVM                </td></tr>\n",
       "<tr><td>BANCO PSA FINANCE BRASIL S.A.                                                          </td><td style=\"text-align: right;\">   3</td><td>SANTANDER                                      </td><td style=\"text-align: right;\">03502961</td><td style=\"text-align: right;\">03502961000192</td><td>2024-05-23</td><td style=\"text-align: right;\">   03502961</td><td style=\"text-align: right;\">            10567</td><td>Sociedade de Crédito, Financiamento e Investimento         </td><td>Autorizada em Atividade                  </td><td>STELLANTIS FINANCIAMENTOS SOCIEDADE DE CRÉDITO, FINANCIAMENTO E INVESTIMENTO S.A      </td><td>STELLANTIS FINANCIAMENTOS               </td></tr>\n",
       "<tr><td>OZ CORRETORA DE CÂMBIO S.A.                                                            </td><td style=\"text-align: right;\">   2</td><td>OZ CC - PRUDENCIAL                             </td><td style=\"text-align: right;\">04062902</td><td style=\"text-align: right;\">04062902000103</td><td>2024-05-23</td><td style=\"text-align: right;\">   04062902</td><td style=\"text-align: right;\">            12407</td><td>Sociedade Corretora de Câmbio                              </td><td>Autorizada em Atividade                  </td><td>OZ CORRETORA DE CÂMBIO S.A.                                                           </td><td>OZ CÂMBIO                               </td></tr>\n",
       "<tr><td>FISERV DO BRASIL  INSTITUIÇÃO DE PAGAMENTO LTDA                                        </td><td style=\"text-align: right;\">   2</td><td>FISERV DO BRASIL IP - PRUDENCIAL               </td><td style=\"text-align: right;\">04962772</td><td style=\"text-align: right;\">04962772000165</td><td>2024-05-23</td><td style=\"text-align: right;\">   04962772</td><td style=\"text-align: right;\">            00042</td><td>Instituição de Pagamento                                   </td><td>Autorizada em Atividade                  </td><td>FISERV DO BRASIL  INSTITUIÇÃO DE PAGAMENTO LTDA                                       </td><td>FISERV                                  </td></tr>\n",
       "<tr><td>LECCA DISTRIBUIDORA DE TITULOS E VALORES MOBILIARIOS LTDA                              </td><td style=\"text-align: right;\">   2</td><td>LECCA                                          </td><td style=\"text-align: right;\">07138049</td><td style=\"text-align: right;\">07138049000154</td><td>2024-05-23</td><td style=\"text-align: right;\">   07138049</td><td style=\"text-align: right;\">            12261</td><td>Sociedade Distribuidora de TVM                             </td><td>Autorizada em Atividade                  </td><td>PICPAY INVEST DISTRIBUIDORA DE TÍTULOS E VALORES MOBILIÁRIOS LTDA                     </td><td>PICPAY INVEST                           </td></tr>\n",
       "<tr><td>TYCOON TECHNOLOGY INSTITUICAO DE PAGAMENTO S.A                                         </td><td style=\"text-align: right;\">   2</td><td>TYCOON TECHNOLOGY IP - PRUDENCIAL              </td><td style=\"text-align: right;\">26615279</td><td style=\"text-align: right;\">26615279000101</td><td>2024-05-23</td><td style=\"text-align: right;\">   26615279</td><td style=\"text-align: right;\">            00124</td><td>Instituição de Pagamento                                   </td><td>Autorizada em Atividade                  </td><td>TYCOON TECHNOLOGY INSTITUICAO DE PAGAMENTO S.A                                        </td><td>ZEIT                                    </td></tr>\n",
       "<tr><td>NU FINANCEIRA S.A. - SOCIEDADE DE CRÉDITO, FINANCIAMENTO E INVESTIMENTO                </td><td style=\"text-align: right;\">   2</td><td>NU PAGAMENTOS - PRUDENCIAL                     </td><td style=\"text-align: right;\">30680829</td><td style=\"text-align: right;\">30680829000143</td><td>2024-05-23</td><td style=\"text-align: right;\">   30680829</td><td style=\"text-align: right;\">            41593</td><td>Sociedade de Crédito, Financiamento e Investimento         </td><td>Autorizada em Atividade                  </td><td>NU FINANCEIRA S.A. - SOCIEDADE DE CRÉDITO, FINANCIAMENTO E INVESTIMENTO               </td><td>NUBANK                                  </td></tr>\n",
       "<tr><td>HARMONIA DISTRIBUIDORA DE TÍTULOS E VALORES MOBILIÁRIOS S.A.                           </td><td style=\"text-align: right;\">   2</td><td>GREEN ALTERNATIVE INVESTMENTS DTVM - PRUDENCIAL</td><td style=\"text-align: right;\">37800856</td><td style=\"text-align: right;\">37800856000151</td><td>2024-05-23</td><td style=\"text-align: right;\">   37800856</td><td style=\"text-align: right;\">            43383</td><td>Sociedade Distribuidora de TVM                             </td><td>Autorizada em Atividade                  </td><td>GREEN ALTERNATIVE INVESTMENTS DISTRIBUIDORA DE TÍTULOS E VALORES MOBILIÁRIOS S.A.     </td><td>GREEN ALTERNATIVE INVESTMENTS DTVM S.A. </td></tr>\n",
       "<tr><td>ACG INSTITUIÇÃO DE PAGAMENTO S.A.                                                      </td><td style=\"text-align: right;\">   2</td><td>ACG IP - PRUDENCIAL                            </td><td style=\"text-align: right;\">10868663</td><td style=\"text-align: right;\">10868663000186</td><td>2024-05-23</td><td style=\"text-align: right;\">   10868663</td><td style=\"text-align: right;\">            00012</td><td>Instituição de Pagamento                                   </td><td>Autorizada em Atividade                  </td><td>ACG INSTITUIÇÃO DE PAGAMENTO S.A.                                                     </td><td>ACG ADMINISTRADORA DE CARTÕES S/A       </td></tr>\n",
       "<tr><td>BANCO BANERJ S.A.                                                                      </td><td style=\"text-align: right;\">   2</td><td>ITAU                                           </td><td style=\"text-align: right;\">33885724</td><td style=\"text-align: right;\">33885724000119</td><td>2024-05-23</td><td style=\"text-align: right;\">   33885724</td><td style=\"text-align: right;\">            04029</td><td>Banco Múltiplo                                             </td><td>Autorizada em Atividade                  </td><td>BANCO ITAÚ CONSIGNADO S.A.                                                            </td><td>BANCO ITAÚ CONSIGNADO S.A.              </td></tr>\n",
       "<tr><td>CCB BRASIL ARRENDAMENTO MERCANTIL S/A                                                  </td><td style=\"text-align: right;\">   3</td><td>CCB - PRUDENCIAL                               </td><td style=\"text-align: right;\">69720910</td><td style=\"text-align: right;\">69720910000145</td><td>2024-05-23</td><td style=\"text-align: right;\">   69720910</td><td style=\"text-align: right;\">            53124</td><td>Sociedade de Arrendamento Mercantil                        </td><td>Autorizada em Atividade                  </td><td>CCB BRASIL ARRENDAMENTO MERCANTIL S/A.                                                </td><td>CCB LEASING                             </td></tr>\n",
       "<tr><td>ESPÍRITO SANTO SERVIÇOS FINANCEIROS DISTRIBUIDORA DE TÍTULOS E VALORES MOBILIÁRIOS S.A.</td><td style=\"text-align: right;\">   3</td><td>BES                                            </td><td style=\"text-align: right;\">11406965</td><td style=\"text-align: right;\">11406965000103</td><td>2024-05-23</td><td style=\"text-align: right;\">   11406965</td><td style=\"text-align: right;\">            27703</td><td>Sociedade Distribuidora de TVM                             </td><td>Autorizada em Atividade                  </td><td>HAITONG DO BRASIL DISTRIBUIDORA DE TÍTULOS E VALORES MOBILIÁRIOS S.A.                 </td><td>ESPÍRITO SANTO SERVIÇOS FINANCEIROS DTVM</td></tr>\n",
       "<tr><td>NEON CORRETORA DE TÍTULOS E VALORES MOBILIÁRIOS S.A.                                   </td><td style=\"text-align: right;\">   2</td><td>NEON PAGAMENTOS IP - PRUDENCIAL                </td><td style=\"text-align: right;\">61723847</td><td style=\"text-align: right;\">61723847000199</td><td>2024-05-23</td><td style=\"text-align: right;\">   61723847</td><td style=\"text-align: right;\">            57161</td><td>Sociedade Corretora de TVM                                 </td><td>Autorizada em Atividade                  </td><td>NEON CORRETORA DE TÍTULOS E VALORES MOBILIÁRIOS S.A.                                  </td><td>MAGLIANO                                </td></tr>\n",
       "<tr><td>TRINUS CAPITAL DISTRIBUIDORA DE TÍTULOS E VALORES MOBILIÁRIOS S.A.                     </td><td style=\"text-align: right;\">   2</td><td>TRINUS CAPITAL DTVM - PRUDENCIAL               </td><td style=\"text-align: right;\">02276653</td><td style=\"text-align: right;\">02276653000123</td><td>2024-05-23</td><td style=\"text-align: right;\">   02276653</td><td style=\"text-align: right;\">            24072</td><td>Sociedade Distribuidora de TVM                             </td><td>Autorizada em Atividade                  </td><td>TRINUS CAPITAL DISTRIBUIDORA DE TÍTULOS E VALORES MOBILIÁRIOS S.A.                    </td><td>BAHIA DTVM                              </td></tr>\n",
       "<tr><td>ASPECIR - SOCIEDADE DE CRÉDITO AO MICROEMPREENDEDOR E À EMPRESA DE PEQUENO PORTE LTDA. </td><td style=\"text-align: right;\">   2</td><td>ASPECIR SCMEPP LTDA. - PRUDENCIAL              </td><td style=\"text-align: right;\">05289612</td><td style=\"text-align: right;\">05289612000160</td><td>2024-05-23</td><td style=\"text-align: right;\">   05289612</td><td style=\"text-align: right;\">            16688</td><td>Sociedade de Crédito ao Microempreendedor                  </td><td>Autorizada em Atividade                  </td><td>ASPECIR - SOCIEDADE DE CRÉDITO AO MICROEMPREENDEDOR E À EMPRESA DE PEQUENO PORTE LTDA.</td><td>ASPECIR EMPRÉSTIMOS                     </td></tr>\n",
       "<tr><td>PORTOSEG S.A. - CREDITO, FINANCIAMENTO E INVESTIMENTO                                  </td><td style=\"text-align: right;\">   2</td><td>PORTO SEGURO - PRUDENCIAL                      </td><td style=\"text-align: right;\">04862600</td><td style=\"text-align: right;\">04862600000110</td><td>2024-05-23</td><td style=\"text-align: right;\">   04862600</td><td style=\"text-align: right;\">            15554</td><td>Sociedade de Crédito, Financiamento e Investimento         </td><td>Autorizada em Atividade                  </td><td>PORTOSEG S.A. - CREDITO, FINANCIAMENTO E INVESTIMENTO                                 </td><td>PORTO SEGURO                            </td></tr>\n",
       "<tr><td>ADIQ SOLUCOES DE PAGAMENTO S.A.                                                        </td><td style=\"text-align: right;\">   2</td><td>BS2 - PRUDENCIAL                               </td><td style=\"text-align: right;\">20520298</td><td style=\"text-align: right;\">20520298000178</td><td>2024-05-23</td><td style=\"text-align: right;\">   20520298</td><td style=\"text-align: right;\">            42872</td><td>Instituição de Pagamento                                   </td><td>Autorizada em Atividade                  </td><td>ADIQ INSTITUIÇÃO DE PAGAMENTO S.A.                                                    </td><td>ADIQ SOLUÇÕES DE PAGAMENTO              </td></tr>\n",
       "<tr><td>MONEY PLUS SOCIEDADE DE CRÉDITO AO MICROEMPREENDEDOR E A EMPRESA DE PEQUENO PORTE LTDA.</td><td style=\"text-align: right;\">   2</td><td>MONEY PLUS                                     </td><td style=\"text-align: right;\">11581339</td><td style=\"text-align: right;\">11581339000145</td><td>2024-05-23</td><td style=\"text-align: right;\">   11581339</td><td style=\"text-align: right;\">            27360</td><td>Sociedade de Crédito ao Microempreendedor                  </td><td>Autorizada em Atividade                  </td><td>BMP SOCIEDADE DE CRÉDITO AO MICROEMPREENDEDOR E A EMPRESA DE PEQUENO PORTE LTDA.      </td><td>BMP SCM                                 </td></tr>\n",
       "<tr><td>ALESTA SOCIEDADE DE CREDITO DIRETO S.A.                                                </td><td style=\"text-align: right;\">   2</td><td>ALESTA SOCIEDADE DE CREDITO DIRETO - PRUDENCIAL</td><td style=\"text-align: right;\">38316293</td><td style=\"text-align: right;\">38316293000193</td><td>2024-05-23</td><td style=\"text-align: right;\">   38316293</td><td style=\"text-align: right;\">            43934</td><td>Sociedade de Crédito Direto                                </td><td>Autorizada em Atividade                  </td><td>ALESTA SOCIEDADE DE CREDITO DIRETO S.A.                                               </td><td>ALESTA                                  </td></tr>\n",
       "<tr><td>COINVALORES DISTRIBUIDORA DE TÍTULOS E VALORES MOBILIÁRIOS LTDA                        </td><td style=\"text-align: right;\">   2</td><td>COINVALORES                                    </td><td style=\"text-align: right;\">59148775</td><td style=\"text-align: right;\">59148775000151</td><td>2024-05-23</td><td style=\"text-align: right;\">   59148775</td><td style=\"text-align: right;\">            37096</td><td>Administradora de Fundos não sujeita a autorização pelo BCB</td><td>Falta de integridade referencial na fonte</td><td>COINVEST SERVICOS E NEGOCIOS LTDA.                                                    </td><td>COINVEST EMPREENDIMENTOS                </td></tr>\n",
       "<tr><td>ASAAS GESTAO FINANCEIRA S.A.                                                           </td><td style=\"text-align: right;\">   2</td><td>ASAAS GESTAO FINANCEIRA IP - PRUDENCIAL        </td><td style=\"text-align: right;\">19540550</td><td style=\"text-align: right;\">19540550000121</td><td>2024-05-23</td><td style=\"text-align: right;\">   19540550</td><td style=\"text-align: right;\">            43384</td><td>Instituição de Pagamento                                   </td><td>Autorizada em Atividade                  </td><td>ASAAS GESTÃO FINANCEIRA INSTITUIÇÃO DE PAGAMENTO S.A.                                 </td><td>ASAAS GESTÃO FINANCEIRA S.A.            </td></tr>\n",
       "</tbody>\n",
       "</table>"
      ],
      "text/plain": [
       "<IPython.core.display.HTML object>"
      ]
     },
     "metadata": {},
     "output_type": "display_data"
    }
   ],
   "source": [
    "df_join.printSchema()\n",
    "df_join_sample = df_join.sample(False, 0.1).limit(30)\n",
    "\n",
    "tb = tabulate(df_join_sample.collect(), headers=df_join_sample.columns, tablefmt='html')\n",
    "\n",
    "display(HTML(tb))"
   ]
  },
  {
   "cell_type": "code",
   "execution_count": null,
   "id": "07955860-1353-4d69-bd17-d8ebbeedcc65",
   "metadata": {},
   "outputs": [],
   "source": []
  },
  {
   "cell_type": "code",
   "execution_count": 39,
   "id": "dcf099c1-d111-4192-9f8c-432f0206774d",
   "metadata": {},
   "outputs": [
    {
     "name": "stdout",
     "output_type": "stream",
     "text": [
      "['codigo_cadastro_bacen', 'codigo_sisbacen', 'codigo_pais_sede', 'nome_pais_sede', 'nome_uf_sede', 'codigo_municipio_sede', 'nome_municipio_sede', 'nome_entidade', 'nome_entidade_nao_formatado', 'cnpj', 'cnpj_raiz', 'codigo_situacao', 'descricao_situacao', 'codigo_tipo_entidade_segmento', 'nome_tipo_entidade', 'codigo_natureza_juridica', 'descricao_natureza_juridica', 'codigo_esfera_publica', 'nome_reduzido', 'sigla_entidade', 'nome_fantasia', 'empresa_publica']\n",
      "<class 'list'>\n"
     ]
    }
   ],
   "source": [
    "\n",
    "\n"
   ]
  },
  {
   "cell_type": "code",
   "execution_count": 58,
   "id": "4da53cf3-fdba-4846-b52f-0c6a50177a79",
   "metadata": {},
   "outputs": [
    {
     "name": "stdout",
     "output_type": "stream",
     "text": [
      "+--------+\n",
      "|codigo  |\n",
      "+--------+\n",
      "|00000001|\n",
      "|00000123|\n",
      "|00012345|\n",
      "|12345678|\n",
      "+--------+\n",
      "\n"
     ]
    }
   ],
   "source": [
    "data = [(\"1\",), (\"123\",), (\"12345\",), (\"12345678\",)]\n",
    "columns = [\"codigo\"]\n",
    "df = spark.createDataFrame(data, columns)\n",
    "\n",
    "# Adicionar zeros à esquerda para que todos os valores na coluna \"codigo\" tenham exatamente 8 dígitos\n",
    "df_formatado = df.withColumn(\"codigo\", F.lpad(df[\"codigo\"], 8, '0'))\n",
    "\n",
    "# Exibir o DataFrame formatado\n",
    "df_formatado.show(truncate=False)"
   ]
  },
  {
   "cell_type": "code",
   "execution_count": null,
   "id": "942c9ffc-b78d-42a0-920e-365249ec4eba",
   "metadata": {},
   "outputs": [],
   "source": []
  }
 ],
 "metadata": {
  "kernelspec": {
   "display_name": "Python 3 (ipykernel)",
   "language": "python",
   "name": "python3"
  },
  "language_info": {
   "codemirror_mode": {
    "name": "ipython",
    "version": 3
   },
   "file_extension": ".py",
   "mimetype": "text/x-python",
   "name": "python",
   "nbconvert_exporter": "python",
   "pygments_lexer": "ipython3",
   "version": "3.11.7"
  }
 },
 "nbformat": 4,
 "nbformat_minor": 5
}
