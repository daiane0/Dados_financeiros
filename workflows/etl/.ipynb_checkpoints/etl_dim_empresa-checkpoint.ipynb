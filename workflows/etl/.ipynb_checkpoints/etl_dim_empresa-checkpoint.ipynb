{
 "cells": [
  {
   "cell_type": "code",
   "execution_count": 1,
   "id": "3115815c-4a18-4001-afee-6c5ae8456f6a",
   "metadata": {},
   "outputs": [],
   "source": [
    "from pyspark.sql import SparkSession\n",
    "from pyspark.sql import functions as F\n",
    "from pyspark.sql import types as T\n",
    "import generate_df as G\n",
    "from IPython.display import display, HTML\n",
    "from tabulate import tabulate\n",
    "from unidecode import unidecode"
   ]
  },
  {
   "cell_type": "code",
   "execution_count": null,
   "id": "31eb7cfc-6d96-459f-bcb2-8b65a22f2e18",
   "metadata": {},
   "outputs": [],
   "source": [
    "# spark = SparkSession.builder.appName(\"finance_data_processing\")\\\n",
    "# .config(\"spark.jars\",\"/home/daiane/Downloads/postgresql-42.7.3.jar\").getOrCreate()\n",
    "\n",
    "df_demonstracao_result_ = G.table_to_df(\"finance_raw_data\", \"demonstracao_resultado_receita_lucro\", spark)\n",
    "df_demonstracao_result_.persist()\n",
    "\n",
    "df_temp = df_demonstracao_result_.withColumn(\"data\", F.to_date(F.col(\"data\"), \"MM/yyyy\"))\n",
    "\n",
    "last_date = df_temp.agg(F.max(\"data\")).collect()[0][0]\n",
    "\n",
    "last_date_str = last_date.strftime(\"%m/%Y\")\n",
    "\n",
    "\n",
    "df_demonstracao_result = df_demonstracao_result_.filter(F.col(\"data\") == last_date_str)\n",
    "df_demonstracao_result.persist()\n",
    "\n",
    "print(last_date)\n",
    "print(last_date_str)\n",
    "\n",
    "\n",
    "dfSample_demonstracao_result = df_demonstracao_result.sample(False, 0.1).limit(30)\n",
    "table = tabulate(dfSample_demonstracao_result.collect(), headers=dfSample_demonstracao_result.columns, tablefmt='html')\n",
    "\n",
    "display(HTML(table))\n",
    "print(dfSample_demonstracao_result.count())\n",
    "# dfSample_demonstracao_result.printSchema()\n",
    "\n"
   ]
  },
  {
   "cell_type": "code",
   "execution_count": 13,
   "id": "d34878eb-46d3-459e-929b-49c8f6c00618",
   "metadata": {
    "scrolled": true
   },
   "outputs": [
    {
     "data": {
      "text/plain": [
       "DataFrame[data: string, codigo_cadastro_bacen: string, codigo_sisbacen: string, codigo_pais_sede: string, nome_pais_sede: string, nome_uf_sede: string, codigo_municipio_sede: string, nome_municipio_sede: string, nome_entidade: string, nome_entidade_nao_formatado: string, cnpj: string, cnpj_raiz: string, codigo_situacao: string, descricao_situacao: string, codigo_tipo_entidade_segmento: string, nome_tipo_entidade: string, codigo_natureza_juridica: string, descricao_natureza_juridica: string, codigo_esfera_publica: string, nome_reduzido: string, sigla_entidade: string, nome_fantasia: string, empresa_publica: string]"
      ]
     },
     "execution_count": 13,
     "metadata": {},
     "output_type": "execute_result"
    }
   ],
   "source": [
    "df_info_cadastral = G.table_to_df(\"finance_raw_data\", \"info_cadastral_entidades\", spark)\n",
    "df_info_cadastral.persist()\n",
    "\n",
    "# dfSample_info_cadastral_entidades = df_info_cadastral.sample(False, 0.1).limit(30)\n",
    "# table = tabulate(dfSample_info_cadastral_entidades.collect(), headers=dfSample_info_cadastral_entidades.columns, tablefmt='html')\n",
    "# display(HTML(table))\n",
    "\n",
    "# df_info_cadastral.count()\n",
    "# dfSample_info_cadastral_entidades.printSchema()\n"
   ]
  },
  {
   "cell_type": "code",
   "execution_count": 14,
   "id": "fbb624b1-9cdd-42e0-9ff3-68fb3b89d990",
   "metadata": {
    "scrolled": true
   },
   "outputs": [],
   "source": [
    "df_info_cadastral_select = df_info_cadastral.select(\"cnpj\",\"codigo_sisbacen\", \"nome_tipo_entidade\", \"descricao_situacao\", \"nome_entidade\", \"nome_fantasia\")\n",
    "\n",
    "# a = df_info_cadastral_select.sample(False, 0.1).limit(50)\n",
    "# table = tabulate(a.collect(), headers=a.columns, tablefmt='html')\n",
    "# df_info_cadastral_select.filter(df_info_cadastral_select[\"cnpj\"].isNull()).count()\n",
    "# display(HTML(table))\n"
   ]
  },
  {
   "cell_type": "code",
   "execution_count": null,
   "id": "8d77b820-6572-44d6-b46d-4a2fe4f5dfe2",
   "metadata": {},
   "outputs": [],
   "source": []
  },
  {
   "cell_type": "code",
   "execution_count": 15,
   "id": "80ef2a40-1af5-49fc-94ff-0b8fc223ae34",
   "metadata": {},
   "outputs": [
    {
     "name": "stderr",
     "output_type": "stream",
     "text": [
      "24/07/17 18:53:51 WARN TaskSetManager: Stage 26 contains a task of very large size (12111 KiB). The maximum recommended task size is 1000 KiB.\n",
      "24/07/17 18:53:54 WARN TaskSetManager: Stage 27 contains a task of very large size (11648 KiB). The maximum recommended task size is 1000 KiB.\n",
      "24/07/17 18:53:56 WARN TaskSetManager: Stage 28 contains a task of very large size (12111 KiB). The maximum recommended task size is 1000 KiB.\n",
      "                                                                                \r"
     ]
    },
    {
     "name": "stdout",
     "output_type": "stream",
     "text": [
      "0\n"
     ]
    },
    {
     "name": "stderr",
     "output_type": "stream",
     "text": [
      "24/07/17 18:53:57 WARN TaskSetManager: Stage 31 contains a task of very large size (11648 KiB). The maximum recommended task size is 1000 KiB.\n",
      "24/07/17 18:53:57 WARN TaskSetManager: Stage 32 contains a task of very large size (12111 KiB). The maximum recommended task size is 1000 KiB.\n",
      "                                                                                \r"
     ]
    },
    {
     "name": "stdout",
     "output_type": "stream",
     "text": [
      "5593\n"
     ]
    },
    {
     "name": "stderr",
     "output_type": "stream",
     "text": [
      "24/07/17 18:53:59 WARN TaskSetManager: Stage 38 contains a task of very large size (11648 KiB). The maximum recommended task size is 1000 KiB.\n"
     ]
    },
    {
     "name": "stdout",
     "output_type": "stream",
     "text": [
      "0\n"
     ]
    },
    {
     "name": "stderr",
     "output_type": "stream",
     "text": [
      "24/07/17 18:54:00 WARN TaskSetManager: Stage 41 contains a task of very large size (12111 KiB). The maximum recommended task size is 1000 KiB.\n",
      "24/07/17 18:54:00 WARN TaskSetManager: Stage 42 contains a task of very large size (11648 KiB). The maximum recommended task size is 1000 KiB.\n",
      "[Stage 42:===========================================>              (3 + 1) / 4]\r"
     ]
    },
    {
     "name": "stdout",
     "output_type": "stream",
     "text": [
      "total 5593\n"
     ]
    },
    {
     "name": "stderr",
     "output_type": "stream",
     "text": [
      "                                                                                \r"
     ]
    }
   ],
   "source": [
    "df_join_ = df_info_cadastral_select.join(df_demonstracao_result, df_info_cadastral_select[\"nome_entidade\"] == F.trim(df_demonstracao_result[\"instituicao\"]), \"full_outer\")\\\n",
    ".select(df_demonstracao_result[\"instituicao\"], df_demonstracao_result[\"tc\"], df_demonstracao_result[\"conglomerado\"], df_demonstracao_result[\"codigo\"],\\\n",
    "        *df_info_cadastral_select.columns)\n",
    "\n",
    "df_join = df_join_.dropDuplicates()\n",
    "\n",
    "# Filtrar registros que estão apenas no DataFrame \"demonstracao_result\"\n",
    "only_demonstracao_result = df_join.filter(\n",
    "    F.col(\"nome_entidade\").isNull() &\n",
    "    F.col(\"instituicao\").isNotNull() &\n",
    "    (F.trim(F.col(\"instituicao\")) != \"\")\n",
    ")\n",
    "\n",
    "# Filtrar registros que estão apenas no DataFrame \"info_cadastral\"\n",
    "only_info_cadastral = df_join.filter(\n",
    "    F.col(\"instituicao\").isNull() &\n",
    "    F.col(\"nome_entidade\").isNotNull() &\n",
    "    (F.trim(F.col(\"nome_entidade\")) != \"\")\n",
    ")\n",
    "\n",
    "# Filtrar registros que estão presentes em ambos DataFrames\n",
    "intersecao = df_join.filter(\n",
    "    F.col(\"instituicao\").isNotNull() &\n",
    "    (F.trim(F.col(\"instituicao\")) != \"\") &\n",
    "    F.col(\"nome_entidade\").isNotNull() &\n",
    "    (F.trim(F.col(\"nome_entidade\")) != \"\")\n",
    ")\n",
    "print(only_demonstracao_result.count())\n",
    "\n",
    "print(only_info_cadastral.count())\n",
    "\n",
    "print(intersecao.count())\n",
    "\n",
    "print(\"total\", df_join.count())\n",
    "\n",
    "\n",
    "# testee = df_sem_acento.filter(F.col(\"nome_entidade\") == \"COOPERATIVA DE CRÉDITO RURAL COM INTERAÇÃO SOLIDÁRIA DE CASTRO - CRESOL CASTRO\")\n",
    "\n",
    "# table = tabulate(testee.collect(), headers=testee.columns, tablefmt='html')\n",
    "# display(HTML(table))\n",
    "\n"
   ]
  },
  {
   "cell_type": "code",
   "execution_count": 20,
   "id": "2d8f9918-019d-488c-9cd7-9abf17db79d8",
   "metadata": {
    "editable": true,
    "scrolled": true,
    "slideshow": {
     "slide_type": ""
    },
    "tags": []
   },
   "outputs": [
    {
     "name": "stderr",
     "output_type": "stream",
     "text": [
      "24/07/17 17:00:42 WARN TaskSetManager: Stage 53 contains a task of very large size (12111 KiB). The maximum recommended task size is 1000 KiB.\n",
      "24/07/17 17:00:42 WARN TaskSetManager: Stage 54 contains a task of very large size (11648 KiB). The maximum recommended task size is 1000 KiB.\n",
      "24/07/17 17:00:44 WARN TaskSetManager: Stage 62 contains a task of very large size (11648 KiB). The maximum recommended task size is 1000 KiB.\n",
      "24/07/17 17:00:45 WARN TaskSetManager: Stage 63 contains a task of very large size (12111 KiB). The maximum recommended task size is 1000 KiB.\n",
      "24/07/17 17:00:46 WARN TaskSetManager: Stage 66 contains a task of very large size (11648 KiB). The maximum recommended task size is 1000 KiB.\n",
      "24/07/17 17:00:47 WARN TaskSetManager: Stage 67 contains a task of very large size (12111 KiB). The maximum recommended task size is 1000 KiB.\n",
      "                                                                                \r"
     ]
    },
    {
     "data": {
      "text/html": [
       "<table>\n",
       "<thead>\n",
       "<tr><th>instituicao                                                                                                                                                                                             </th><th style=\"text-align: right;\">  tc</th><th>conglomerado                </th><th style=\"text-align: right;\">  codigo</th><th>cnpj  </th><th>codigo_sisbacen  </th><th>nome_tipo_entidade  </th><th>descricao_situacao  </th><th>nome_entidade  </th><th>nome_fantasia  </th></tr>\n",
       "</thead>\n",
       "<tbody>\n",
       "<tr><td>BPP INSTITUIÇÃO DE PAGAMENTO S.A.                                                                                                                                                                       </td><td style=\"text-align: right;\">   2</td><td>DOCK IP - PRUDENCIAL        </td><td style=\"text-align: right;\">13370835</td><td>      </td><td>                 </td><td>                    </td><td>                    </td><td>               </td><td>               </td></tr>\n",
       "<tr><td>COOPERATIVA DE CREDITO RURAL DO NOROESTE DE MATO GROSSO                                                                                                                                                 </td><td style=\"text-align: right;\">   2</td><td>                            </td><td style=\"text-align: right;\">33022690</td><td>      </td><td>                 </td><td>                    </td><td>                    </td><td>               </td><td>               </td></tr>\n",
       "<tr><td>ALPES CORRETORA DE CÂMBIO, TÍTULOS E VALORES MOBILIÁRIOS S/A                                                                                                                                            </td><td style=\"text-align: right;\">   2</td><td>                            </td><td style=\"text-align: right;\"> 3882245</td><td>      </td><td>                 </td><td>                    </td><td>                    </td><td>               </td><td>               </td></tr>\n",
       "<tr><td>MULTIBROKER DISTRIBUIDORA DE TÍTULOS E VALORES MOBILIÁRIOS S.A.                                                                                                                                         </td><td style=\"text-align: right;\">   2</td><td>                            </td><td style=\"text-align: right;\">  997185</td><td>      </td><td>                 </td><td>                    </td><td>                    </td><td>               </td><td>               </td></tr>\n",
       "<tr><td>COOPERATIVA CENTRAL DE ECONOMIA E CRÉDITO MÚTUO DAS UNICRED&#x27;S DE SANTA CATARINA LTDA.- UNICRED CENTRAL SC                                                                                               </td><td style=\"text-align: right;\">   2</td><td>                            </td><td style=\"text-align: right;\">  543968</td><td>      </td><td>                 </td><td>                    </td><td>                    </td><td>               </td><td>               </td></tr>\n",
       "<tr><td>COOPERATIVA DE CREDITO RURAL NOVA MUTUM                                                                                                                                                                 </td><td style=\"text-align: right;\">   2</td><td>                            </td><td style=\"text-align: right;\">26529420</td><td>      </td><td>                 </td><td>                    </td><td>                    </td><td>               </td><td>               </td></tr>\n",
       "<tr><td>COOPERATIVA DE CRÉDITO DE LIVRE ADMISSÃO DE JI-PARANÁ E REGIÃO LTDA.                                                                                                                                    </td><td style=\"text-align: right;\">   2</td><td>                            </td><td style=\"text-align: right;\"> 5007327</td><td>      </td><td>                 </td><td>                    </td><td>                    </td><td>               </td><td>               </td></tr>\n",
       "<tr><td>COOPERATIVA DE ECONOMIA E CRéDITO MúTUO DOS SERVIDORES DO PODER JUDICIáRIO, DO TRIBUNAL DE CONTAS ESTADUAL E DEMAIS ÓRGãOS PúBLICOS MUNICIPAIS, ESTADUAIS E FEDERAIS NO ESTADO DO RIO DE JANEIRO LTDA. -</td><td style=\"text-align: right;\">   2</td><td>                            </td><td style=\"text-align: right;\"> 2000895</td><td>      </td><td>                 </td><td>                    </td><td>                    </td><td>               </td><td>               </td></tr>\n",
       "<tr><td>COOPERATIVA DE CREDITO RURAL OESTE CATARINENSE-SICOOB/SC-OESTECREDI                                                                                                                                     </td><td style=\"text-align: right;\">   2</td><td>                            </td><td style=\"text-align: right;\">78825023</td><td>      </td><td>                 </td><td>                    </td><td>                    </td><td>               </td><td>               </td></tr>\n",
       "<tr><td>CECME DA UNIFI - CREDIUNIFI                                                                                                                                                                             </td><td style=\"text-align: right;\">   2</td><td>                            </td><td style=\"text-align: right;\"> 3685335</td><td>      </td><td>                 </td><td>                    </td><td>                    </td><td>               </td><td>               </td></tr>\n",
       "<tr><td>COOPERATIVA DE CREDITO MUTUO DOS SERVIDORES DOS DEPARTAMENTOS DE POLÍCIA FEDERAL E POLÍCIA RODOVIÁRIA FEDERAL NO ESTADO DE MATO GROSSO E MATO GROSSO DO SUL LTDA-COOPEF                                 </td><td style=\"text-align: right;\">   2</td><td>                            </td><td style=\"text-align: right;\">37497245</td><td>      </td><td>                 </td><td>                    </td><td>                    </td><td>               </td><td>               </td></tr>\n",
       "<tr><td>COOPERATIVA DE CREDITO RURAL DE PRIMAVERA DO LESTE LTDA                                                                                                                                                 </td><td style=\"text-align: right;\">   2</td><td>                            </td><td style=\"text-align: right;\">26563270</td><td>      </td><td>                 </td><td>                    </td><td>                    </td><td>               </td><td>               </td></tr>\n",
       "<tr><td>COOPERATIVA DE CRÉDITO DA REGIÃO DE CARMO DO PARANAÍBA LTDA - SICOOB CREDICARPA                                                                                                                         </td><td style=\"text-align: right;\">   2</td><td>                            </td><td style=\"text-align: right;\">23949522</td><td>      </td><td>                 </td><td>                    </td><td>                    </td><td>               </td><td>               </td></tr>\n",
       "<tr><td>CENTRAL DAS COOPERATIVAS DE CRÉDITO MÚTUO DOS POLICIAIS FEDERAIS - FEDERALCRED CENTRAL                                                                                                                  </td><td style=\"text-align: right;\">   2</td><td>                            </td><td style=\"text-align: right;\"> 4843307</td><td>      </td><td>                 </td><td>                    </td><td>                    </td><td>               </td><td>               </td></tr>\n",
       "<tr><td>COOPERATIVA DE CREDITO RURAL OURO BRANCO                                                                                                                                                                </td><td style=\"text-align: right;\">   2</td><td>                            </td><td style=\"text-align: right;\">87853206</td><td>      </td><td>                 </td><td>                    </td><td>                    </td><td>               </td><td>               </td></tr>\n",
       "<tr><td>COOPERATIVA DE CRÉDITO DOS PROFISSIONAIS DA SAÚDE DE CAMPINA GRANDE LTDA - UNICRED CAMPINA GRANDE                                                                                                       </td><td style=\"text-align: right;\">   2</td><td>                            </td><td style=\"text-align: right;\"> 1151186</td><td>      </td><td>                 </td><td>                    </td><td>                    </td><td>               </td><td>               </td></tr>\n",
       "<tr><td>MELHOR - CORRETORA DE CÂMBIO LTDA.                                                                                                                                                                      </td><td style=\"text-align: right;\">   2</td><td>MELHOR CC LTDA. - PRUDENCIAL</td><td style=\"text-align: right;\">13839639</td><td>      </td><td>                 </td><td>                    </td><td>                    </td><td>               </td><td>               </td></tr>\n",
       "<tr><td>COOPERATIVA DE CREDITO DOS SERVIDORES DO SESI NO RIO GRANDE DO SUL LTDA                                                                                                                                 </td><td style=\"text-align: right;\">   2</td><td>                            </td><td style=\"text-align: right;\">92675578</td><td>      </td><td>                 </td><td>                    </td><td>                    </td><td>               </td><td>               </td></tr>\n",
       "<tr><td>COOPERATIVA DE ECONOMIA E CRÉDITO MÚTUO DOS EMPREGADOS DA COMPANHIA BRASILEIRA DE METALURGIA E MINERAÇÃO LTDA.                                                                                          </td><td style=\"text-align: right;\">   2</td><td>                            </td><td style=\"text-align: right;\">18140913</td><td>      </td><td>                 </td><td>                    </td><td>                    </td><td>               </td><td>               </td></tr>\n",
       "<tr><td>TITULO CORRETORA DE VALORES S/A                                                                                                                                                                         </td><td style=\"text-align: right;\">   2</td><td>                            </td><td style=\"text-align: right;\">62169875</td><td>      </td><td>                 </td><td>                    </td><td>                    </td><td>               </td><td>               </td></tr>\n",
       "<tr><td>COOPERATIVA DE CRÉDITO DOS COMERCIANTES DE CONFECÇÕES E CERAMISTAS DE ARAGUARI E REGIÃO LTDA. - ARACOOP                                                                                                 </td><td style=\"text-align: right;\">   2</td><td>                            </td><td style=\"text-align: right;\"> 3320525</td><td>      </td><td>                 </td><td>                    </td><td>                    </td><td>               </td><td>               </td></tr>\n",
       "<tr><td>CCR DO NOROESTE - SICREDI NOVA LONDRINA                                                                                                                                                                 </td><td style=\"text-align: right;\">   2</td><td>                            </td><td style=\"text-align: right;\">81206039</td><td>      </td><td>                 </td><td>                    </td><td>                    </td><td>               </td><td>               </td></tr>\n",
       "<tr><td>CECME DO GRUPO SCHAEFFLER                                                                                                                                                                               </td><td style=\"text-align: right;\">   2</td><td>                            </td><td style=\"text-align: right;\">62284385</td><td>      </td><td>                 </td><td>                    </td><td>                    </td><td>               </td><td>               </td></tr>\n",
       "<tr><td>LEASEPLAN ARRENDAMENTO MERCANTIL SA                                                                                                                                                                     </td><td style=\"text-align: right;\">   3</td><td>                            </td><td style=\"text-align: right;\"> 4836002</td><td>      </td><td>                 </td><td>                    </td><td>                    </td><td>               </td><td>               </td></tr>\n",
       "<tr><td>CECM INDUSTRIAIS SETOR METAL MECANICO VALE DO ACO LTDA                                                                                                                                                  </td><td style=\"text-align: right;\">   2</td><td>                            </td><td style=\"text-align: right;\"> 2747661</td><td>      </td><td>                 </td><td>                    </td><td>                    </td><td>               </td><td>               </td></tr>\n",
       "<tr><td>COOPERATIVA DE CREDITO DE ITABUNA                                                                                                                                                                       </td><td style=\"text-align: right;\">   2</td><td>                            </td><td style=\"text-align: right;\">14343693</td><td>      </td><td>                 </td><td>                    </td><td>                    </td><td>               </td><td>               </td></tr>\n",
       "<tr><td>CCR DA ZONA SUL LTDA                                                                                                                                                                                    </td><td style=\"text-align: right;\">   2</td><td>                            </td><td style=\"text-align: right;\">90497256</td><td>      </td><td>                 </td><td>                    </td><td>                    </td><td>               </td><td>               </td></tr>\n",
       "<tr><td>COOPERATIVA DE ECONOMIA E CRÉDITO MÚTUO DOS COMERCIANTES DE CONFECÇÕES PITANGUI LTDA.                                                                                                                   </td><td style=\"text-align: right;\">   2</td><td>                            </td><td style=\"text-align: right;\"> 4181542</td><td>      </td><td>                 </td><td>                    </td><td>                    </td><td>               </td><td>               </td></tr>\n",
       "<tr><td>UMUARAMA S/A - CORRETORA DE TITULOS E VALORES MOBILIARIOS                                                                                                                                               </td><td style=\"text-align: right;\">   2</td><td>                            </td><td style=\"text-align: right;\">33968066</td><td>      </td><td>                 </td><td>                    </td><td>                    </td><td>               </td><td>               </td></tr>\n",
       "<tr><td>CCR DE RIO BRANCO LTDA.                                                                                                                                                                                 </td><td style=\"text-align: right;\">   2</td><td>                            </td><td style=\"text-align: right;\"> 5439425</td><td>      </td><td>                 </td><td>                    </td><td>                    </td><td>               </td><td>               </td></tr>\n",
       "</tbody>\n",
       "</table>"
      ],
      "text/plain": [
       "<IPython.core.display.HTML object>"
      ]
     },
     "metadata": {},
     "output_type": "display_data"
    },
    {
     "data": {
      "text/html": [
       "<table>\n",
       "<thead>\n",
       "<tr><th>instituicao  </th><th>tc  </th><th>conglomerado  </th><th>codigo  </th><th style=\"text-align: right;\">          cnpj</th><th style=\"text-align: right;\">  codigo_sisbacen</th><th>nome_tipo_entidade                                </th><th>descricao_situacao                       </th><th>nome_entidade                                                                                       </th><th>nome_fantasia                          </th></tr>\n",
       "</thead>\n",
       "<tbody>\n",
       "<tr><td>             </td><td>    </td><td>              </td><td>        </td><td style=\"text-align: right;\">00586088000175</td><td style=\"text-align: right;\">                 </td><td>Cooperativa de Crédito                            </td><td>Cancelada/Encerrada                      </td><td>COOPERATIVA DE CREDITO RURAL DE BARRA DO PIRAI LTDA. - CREDI-SUL                                    </td><td>                                       </td></tr>\n",
       "<tr><td>             </td><td>    </td><td>              </td><td>        </td><td style=\"text-align: right;\">87636643000104</td><td style=\"text-align: right;\">            08759</td><td>Administradora de Consórcio                       </td><td>Autorizada em Atividade                  </td><td>SOCIEDADE ADMINISTRADORA DE CONSÓRCIOS LTDA.                                                        </td><td>                                       </td></tr>\n",
       "<tr><td>             </td><td>    </td><td>              </td><td>        </td><td style=\"text-align: right;\">83553883000194</td><td style=\"text-align: right;\">            55522</td><td>Administradora de Consórcio                       </td><td>Autorizada em Atividade                  </td><td>UNIÃO CATARINENSE ADMINISTRADORA DE CONSORCIOS LTDA                                                 </td><td>CONSORCIO UNIÃO                        </td></tr>\n",
       "<tr><td>             </td><td>    </td><td>              </td><td>        </td><td style=\"text-align: right;\">37839438000178</td><td style=\"text-align: right;\">                 </td><td>Sociedade Distribuidora de TVM                    </td><td>Cancelada/Encerrada                      </td><td>METAL NORTE DIST. DE TITULOS E VALORES MOBILIARIOS LTDA                                             </td><td>                                       </td></tr>\n",
       "<tr><td>             </td><td>    </td><td>              </td><td>        </td><td style=\"text-align: right;\">31159429000150</td><td style=\"text-align: right;\">                 </td><td>Sociedade Distribuidora de TVM                    </td><td>Cancelada/Encerrada                      </td><td>NOVA PETROPOLIS DISTRIBUIDORA DE TIT E VAL MOBILIARIOS LTDA                                         </td><td>                                       </td></tr>\n",
       "<tr><td>             </td><td>    </td><td>              </td><td>        </td><td style=\"text-align: right;\">73630386000199</td><td style=\"text-align: right;\">                 </td><td>Sociedade Distribuidora de TVM                    </td><td>Cancelada/Encerrada                      </td><td>INVESTIDOR PROFISSIONAL DISTRIB TIT E VAL MOB LTDA -LIQ.ORD.                                        </td><td>                                       </td></tr>\n",
       "<tr><td>             </td><td>    </td><td>              </td><td>        </td><td style=\"text-align: right;\">80563976000101</td><td style=\"text-align: right;\">                 </td><td>                                                  </td><td>Falta de integridade referencial na fonte</td><td>GUARARAPES ADMINISTRADORA DE CONSORCIOS SC LTDA                                                     </td><td>                                       </td></tr>\n",
       "<tr><td>             </td><td>    </td><td>              </td><td>        </td><td style=\"text-align: right;\">21607189000155</td><td style=\"text-align: right;\">                 </td><td>Cooperativa de Crédito                            </td><td>Cancelada/Encerrada                      </td><td>COOPERATIVA DE ECONOMIA E CRÉDITO MÚTUO DOS COLABORADORES DA TELEMIG EM JUIZ DE FORA, LIMITADA.     </td><td>                                       </td></tr>\n",
       "<tr><td>             </td><td>    </td><td>              </td><td>        </td><td style=\"text-align: right;\">84835586000102</td><td style=\"text-align: right;\">                 </td><td>Administradora de Consórcio                       </td><td>Cancelada/Encerrada                      </td><td>MONTE CARLO CONSORCIOS S/C LTDA                                                                     </td><td>                                       </td></tr>\n",
       "<tr><td>             </td><td>    </td><td>              </td><td>        </td><td style=\"text-align: right;\">80402746000160</td><td style=\"text-align: right;\">            07680</td><td>Administradora de Consórcio                       </td><td>Autorizada em Atividade                  </td><td>RIVEL ADMINISTRADORA DE CONSÓRCIOS LTDA.                                                            </td><td>CONSÓRCIO RIVEL                        </td></tr>\n",
       "<tr><td>             </td><td>    </td><td>              </td><td>        </td><td style=\"text-align: right;\">17354184000190</td><td style=\"text-align: right;\">                 </td><td>Sociedade Distribuidora de TVM                    </td><td>Regime Especial Encerrado                </td><td>OPCAO DISTRIBUIDORA DE TITULOS E VALORES MOBILIARIOS LTDA                                           </td><td>OPCAO DISTR.TIT.VAL.MOBILIARIOS LTDA   </td></tr>\n",
       "<tr><td>             </td><td>    </td><td>              </td><td>        </td><td style=\"text-align: right;\">              </td><td style=\"text-align: right;\">                 </td><td>Sociedade Distribuidora de TVM                    </td><td>Cancelada/Encerrada                      </td><td>BBM DISTRIBUIDORA DE TITULOS E VALORES MOBILIARIOS S/A                                              </td><td>                                       </td></tr>\n",
       "<tr><td>             </td><td>    </td><td>              </td><td>        </td><td style=\"text-align: right;\">97413132000187</td><td style=\"text-align: right;\">                 </td><td>Sociedade Distribuidora de TVM                    </td><td>Cancelada/Encerrada                      </td><td>FLORIANOPOLIS DISTRIB. DE TITULOS E VALORES MOBILIARIOS LTDA                                        </td><td>                                       </td></tr>\n",
       "<tr><td>             </td><td>    </td><td>              </td><td>        </td><td style=\"text-align: right;\">61083770000130</td><td style=\"text-align: right;\">                 </td><td>Sociedade de Crédito, Financiamento e Investimento</td><td>Cancelada/Encerrada                      </td><td>BURI S/A - CREDITO FINANCIAMENTO E INVESTIMENTO                                                     </td><td>                                       </td></tr>\n",
       "<tr><td>             </td><td>    </td><td>              </td><td>        </td><td style=\"text-align: right;\">92575224000140</td><td style=\"text-align: right;\">                 </td><td>Sociedade Corretora de TVM                        </td><td>Cancelada/Encerrada                      </td><td>GIROS CORRETORA DE VALORES MOBILIARIOS LTDA                                                         </td><td>                                       </td></tr>\n",
       "<tr><td>             </td><td>    </td><td>              </td><td>        </td><td style=\"text-align: right;\">65358368000171</td><td style=\"text-align: right;\">                 </td><td>Cooperativa de Crédito                            </td><td>Cancelada/Encerrada                      </td><td>COOPERATIVA DE ECONOMIA E CRÉDITO MÚTUO DOS EMPREGADOS DA SECULUS E EMPRESAS CONSORCIADAS EM MG LTDA</td><td>                                       </td></tr>\n",
       "<tr><td>             </td><td>    </td><td>              </td><td>        </td><td style=\"text-align: right;\">17352667000156</td><td style=\"text-align: right;\">            07624</td><td>                                                  </td><td>Falta de integridade referencial na fonte</td><td>BGM PRESTADORA DE SERVICOS S.A.                                                                     </td><td>                                       </td></tr>\n",
       "<tr><td>             </td><td>    </td><td>              </td><td>        </td><td style=\"text-align: right;\">04166781000140</td><td style=\"text-align: right;\">                 </td><td>Cooperativa de Crédito                            </td><td>Cancelada/Encerrada                      </td><td>COOPERATIVA DE ECONOMIA E CRÉDITO MÚTUO BRASILJUTA LTDA                                             </td><td>                                       </td></tr>\n",
       "<tr><td>             </td><td>    </td><td>              </td><td>        </td><td style=\"text-align: right;\">33636838000125</td><td style=\"text-align: right;\">            55374</td><td>Administradora de Consórcio                       </td><td>Cancelada/Encerrada                      </td><td>NASA ADMINISTRADORA DE CONSÓRCIO LTDA                                                               </td><td>CONSÓRCIO NACIONAL NASA                </td></tr>\n",
       "<tr><td>             </td><td>    </td><td>              </td><td>        </td><td style=\"text-align: right;\">62186010000110</td><td style=\"text-align: right;\">                 </td><td>Sociedade Distribuidora de TVM                    </td><td>Cancelada/Encerrada                      </td><td>CRECIFRA DISTRIBUIDORA DE TITULOS E VALORES MOBILIARIOS LTDA                                        </td><td>                                       </td></tr>\n",
       "<tr><td>             </td><td>    </td><td>              </td><td>        </td><td style=\"text-align: right;\">06811806000146</td><td style=\"text-align: right;\">                 </td><td>Sociedade Corretora de TVM                        </td><td>Cancelada/Encerrada                      </td><td>SOL NASCENTE CORRETORA DE CAMBIO E VALORES LTDA                                                     </td><td>                                       </td></tr>\n",
       "<tr><td>             </td><td>    </td><td>              </td><td>        </td><td style=\"text-align: right;\">04228975000122</td><td style=\"text-align: right;\">                 </td><td>Cooperativa de Crédito                            </td><td>Cancelada/Encerrada                      </td><td>COOPERATIVA DE ECONOMIA E CREDITO MUTUO DOS PROFESSORES DE CUIABA                                   </td><td>                                       </td></tr>\n",
       "<tr><td>             </td><td>    </td><td>              </td><td>        </td><td style=\"text-align: right;\">71596142000101</td><td style=\"text-align: right;\">                 </td><td>Cooperativa de Crédito                            </td><td>Cancelada/Encerrada                      </td><td>COOPERATIVA DE ECONOMIA E CRÉDITO MÚTUO SANTOS DUMONT LTDA                                          </td><td>                                       </td></tr>\n",
       "<tr><td>             </td><td>    </td><td>              </td><td>        </td><td style=\"text-align: right;\">01715638000171</td><td style=\"text-align: right;\">                 </td><td>Cooperativa de Crédito                            </td><td>Cancelada/Encerrada                      </td><td>COOPERATIVA DE CREDITO RURAL DE AFONSO CLAUDIO LTDA                                                 </td><td>                                       </td></tr>\n",
       "<tr><td>             </td><td>    </td><td>              </td><td>        </td><td style=\"text-align: right;\">01619584000140</td><td style=\"text-align: right;\">                 </td><td>Sociedade Corretora de TVM                        </td><td>Cancelada/Encerrada                      </td><td>CORRETORA BOM NEGOCIO - TITULOS MOBILIARIOS E CAMBIO LTDA                                           </td><td>                                       </td></tr>\n",
       "<tr><td>             </td><td>    </td><td>              </td><td>        </td><td style=\"text-align: right;\">              </td><td style=\"text-align: right;\">                 </td><td>Sociedade Distribuidora de TVM                    </td><td>Regime Especial Encerrado                </td><td>TECVENDAS S.A. DISTRIBUIDORA DE TITULOS E VALORES MOBILIARIOS                                       </td><td>TECVENDAS S/A DISTR.TIT.VAL.MOBILIARIOS</td></tr>\n",
       "<tr><td>             </td><td>    </td><td>              </td><td>        </td><td style=\"text-align: right;\">44847374000112</td><td style=\"text-align: right;\">            53008</td><td>Sociedade de Arrendamento Mercantil               </td><td>Cancelada/Encerrada                      </td><td>HSBC LEASING ARRENDAMENTO MERCANTIL BRASIL S.A.                                                     </td><td>                                       </td></tr>\n",
       "<tr><td>             </td><td>    </td><td>              </td><td>        </td><td style=\"text-align: right;\">26408146000164</td><td style=\"text-align: right;\">            51259</td><td>Cooperativa de Crédito                            </td><td>Cancelada/Encerrada                      </td><td>COOPERATIVA DE CREDITO RURAL DE RIO BRILHANTE LTDA                                                  </td><td>                                       </td></tr>\n",
       "<tr><td>             </td><td>    </td><td>              </td><td>        </td><td style=\"text-align: right;\">24192668000146</td><td style=\"text-align: right;\">                 </td><td>Administradora de Consórcio                       </td><td>Cancelada/Encerrada                      </td><td>CAIXA FORTE ADMINISTRADORA DE CONSORCIO S/C LTDA - IMPEDIDA CRIAR NOVOS GRUPOS                      </td><td>                                       </td></tr>\n",
       "<tr><td>             </td><td>    </td><td>              </td><td>        </td><td style=\"text-align: right;\">20141313000177</td><td style=\"text-align: right;\">                 </td><td>                                                  </td><td>Falta de integridade referencial na fonte</td><td>AUTOMAC AUTOMOVEIS E ACESSORIOS LTDA                                                                </td><td>                                       </td></tr>\n",
       "</tbody>\n",
       "</table>"
      ],
      "text/plain": [
       "<IPython.core.display.HTML object>"
      ]
     },
     "metadata": {},
     "output_type": "display_data"
    },
    {
     "data": {
      "text/html": [
       "<table>\n",
       "<thead>\n",
       "<tr><th>instituicao                                                                                                       </th><th style=\"text-align: right;\">  tc</th><th>conglomerado                     </th><th style=\"text-align: right;\">  codigo</th><th style=\"text-align: right;\">          cnpj</th><th style=\"text-align: right;\">  codigo_sisbacen</th><th>nome_tipo_entidade                                </th><th>descricao_situacao     </th><th>nome_entidade                                                                                                     </th><th>nome_fantasia                                    </th></tr>\n",
       "</thead>\n",
       "<tbody>\n",
       "<tr><td>DM SOCIEDADE DE CRÉDITO DIRETO S.A.                                                                               </td><td style=\"text-align: right;\">   2</td><td>DM FINANCEIRA CFI - PRUDENCIAL   </td><td style=\"text-align: right;\">37555231</td><td style=\"text-align: right;\">37555231000171</td><td style=\"text-align: right;\">            42823</td><td>Sociedade de Crédito Direto                       </td><td>Autorizada em Atividade</td><td>DM SOCIEDADE DE CRÉDITO DIRETO S.A.                                                                               </td><td>DM                                               </td></tr>\n",
       "<tr><td>BANCO BRADESCO BBI S.A.                                                                                           </td><td style=\"text-align: right;\">   2</td><td>BRADESCO                         </td><td style=\"text-align: right;\"> 6271464</td><td style=\"text-align: right;\">06271464000119</td><td style=\"text-align: right;\">            04036</td><td>Banco Múltiplo                                    </td><td>Autorizada em Atividade</td><td>BANCO BRADESCO BBI S.A.                                                                                           </td><td>BANCO BBI                                        </td></tr>\n",
       "<tr><td>TREVISO CORRETORA DE CÂMBIO S.A.                                                                                  </td><td style=\"text-align: right;\">   2</td><td>TREVISO CC S.A. - PRUDENCIAL     </td><td style=\"text-align: right;\"> 2992317</td><td style=\"text-align: right;\">02992317000187</td><td style=\"text-align: right;\">            08493</td><td>Sociedade Corretora de Câmbio                     </td><td>Autorizada em Atividade</td><td>TREVISO CORRETORA DE CÂMBIO S.A.                                                                                  </td><td>TREVISO CC S.A.                                  </td></tr>\n",
       "<tr><td>BANCO BRADESCARD S.A.                                                                                             </td><td style=\"text-align: right;\">   2</td><td>BRADESCO - PRUDENCIAL            </td><td style=\"text-align: right;\"> 4184779</td><td style=\"text-align: right;\">04184779000101</td><td style=\"text-align: right;\">            13623</td><td>Banco Múltiplo                                    </td><td>Autorizada em Atividade</td><td>BANCO BRADESCARD S.A.                                                                                             </td><td>BRADESCARD                                       </td></tr>\n",
       "<tr><td>PEFISA S.A. - CRÉDITO, FINANCIAMENTO E INVESTIMENTO                                                               </td><td style=\"text-align: right;\">   2</td><td>PEFISA S.A. - PRUDENCIAL         </td><td style=\"text-align: right;\">43180355</td><td style=\"text-align: right;\">43180355000112</td><td style=\"text-align: right;\">            32353</td><td>Sociedade de Crédito, Financiamento e Investimento</td><td>Autorizada em Atividade</td><td>PEFISA S.A. - CRÉDITO, FINANCIAMENTO E INVESTIMENTO                                                               </td><td>PEFISA                                           </td></tr>\n",
       "<tr><td>BANCO OURINVEST S.A.                                                                                              </td><td style=\"text-align: right;\">   2</td><td>OURINVEST                        </td><td style=\"text-align: right;\">78632767</td><td style=\"text-align: right;\">78632767000120</td><td style=\"text-align: right;\">            31712</td><td>Banco Múltiplo                                    </td><td>Autorizada em Atividade</td><td>BANCO OURINVEST S.A.                                                                                              </td><td>OURIBANK                                         </td></tr>\n",
       "<tr><td>FXC CORRETORA DE VALORES S.A.                                                                                     </td><td style=\"text-align: right;\">   2</td><td>BTG PACTUAL - PRUDENCIAL         </td><td style=\"text-align: right;\">63062749</td><td style=\"text-align: right;\">63062749000183</td><td style=\"text-align: right;\">            57095</td><td>Sociedade Corretora de TVM                        </td><td>Autorizada em Atividade</td><td>FXC CORRETORA DE VALORES S.A.                                                                                     </td><td>FXC CV S.A.                                      </td></tr>\n",
       "<tr><td>BANCO INBURSA S.A.                                                                                                </td><td style=\"text-align: right;\">   3</td><td>BCO INBURSA S.A. - PRUDENCIAL    </td><td style=\"text-align: right;\"> 4866275</td><td style=\"text-align: right;\">04866275000163</td><td style=\"text-align: right;\">            15115</td><td>Banco Múltiplo                                    </td><td>Autorizada em Atividade</td><td>BANCO INBURSA S.A.                                                                                                </td><td>BANCO INBURSA                                    </td></tr>\n",
       "<tr><td>GUIDE INVESTIMENTOS S.A. CORRETORA DE VALORES                                                                     </td><td style=\"text-align: right;\">   3</td><td>GUIDE INVESTIMENTOS - PRUDENCIAL </td><td style=\"text-align: right;\">65913436</td><td style=\"text-align: right;\">65913436000893</td><td style=\"text-align: right;\">            57698</td><td>Sociedade Corretora de TVM                        </td><td>Autorizada em Atividade</td><td>GUIDE INVESTIMENTOS S.A. CORRETORA DE VALORES                                                                     </td><td>GUIDE INVESTIMENTOS                              </td></tr>\n",
       "<tr><td>AFINZ INSTITUIÇÃO DE PAGAMENTO S.A.                                                                               </td><td style=\"text-align: right;\">   2</td><td>AFINZ IP - PRUDENCIAL            </td><td style=\"text-align: right;\">60114865</td><td style=\"text-align: right;\">60114865000100</td><td style=\"text-align: right;\">            42170</td><td>Instituição de Pagamento                          </td><td>Autorizada em Atividade</td><td>AFINZ INSTITUIÇÃO DE PAGAMENTO S.A.                                                                               </td><td>SOROCRED MEIOS DE PAGAMENTOS                     </td></tr>\n",
       "<tr><td>FRIDAY INSTITUIÇÃO DE PAGAMENTOS LTDA.                                                                            </td><td style=\"text-align: right;\">   2</td><td>FRIDAY IP - PRUDENCIAL           </td><td style=\"text-align: right;\">42926025</td><td style=\"text-align: right;\">42926025000160</td><td style=\"text-align: right;\">            00010</td><td>Instituição de Pagamento                          </td><td>Autorizada em Atividade</td><td>FRIDAY INSTITUIÇÃO DE PAGAMENTOS LTDA.                                                                            </td><td>FRIDAY IP                                        </td></tr>\n",
       "<tr><td>PORTOSEG S.A. - CREDITO, FINANCIAMENTO E INVESTIMENTO                                                             </td><td style=\"text-align: right;\">   2</td><td>PORTO SEGURO                     </td><td style=\"text-align: right;\"> 4862600</td><td style=\"text-align: right;\">04862600000110</td><td style=\"text-align: right;\">            15554</td><td>Sociedade de Crédito, Financiamento e Investimento</td><td>Autorizada em Atividade</td><td>PORTOSEG S.A. - CREDITO, FINANCIAMENTO E INVESTIMENTO                                                             </td><td>PORTO SEGURO                                     </td></tr>\n",
       "<tr><td>CREDIHOME SOCIEDADE DE CRÉDITO DIRETO S.A.                                                                        </td><td style=\"text-align: right;\">   2</td><td>CREDIHOME SCD - PRUDENCIAL       </td><td style=\"text-align: right;\">39416705</td><td style=\"text-align: right;\">39416705000120</td><td style=\"text-align: right;\">            42808</td><td>Sociedade de Crédito Direto                       </td><td>Autorizada em Atividade</td><td>CREDIHOME SOCIEDADE DE CRÉDITO DIRETO S.A.                                                                        </td><td>CREDIHOME SCD                                    </td></tr>\n",
       "<tr><td>REPASSES FINANCEIROS E SOLUCOES TECNOLOGICAS INSTITUICAO DE PAGAMENTO S.A.                                        </td><td style=\"text-align: right;\">   2</td><td>BRADESCO - PRUDENCIAL            </td><td style=\"text-align: right;\">40473435</td><td style=\"text-align: right;\">40473435000178</td><td style=\"text-align: right;\">            00134</td><td>Instituição de Pagamento                          </td><td>Autorizada em Atividade</td><td>REPASSES FINANCEIROS E SOLUCOES TECNOLOGICAS INSTITUICAO DE PAGAMENTO S.A.                                        </td><td>AARIN                                            </td></tr>\n",
       "<tr><td>BANCO CATERPILLAR S.A.                                                                                            </td><td style=\"text-align: right;\">   3</td><td>BCO CATERPILLAR S.A. - PRUDENCIAL</td><td style=\"text-align: right;\"> 2658435</td><td style=\"text-align: right;\">02658435000153</td><td style=\"text-align: right;\">            53154</td><td>Banco Múltiplo                                    </td><td>Autorizada em Atividade</td><td>BANCO CATERPILLAR S.A.                                                                                            </td><td>BANCO CATERPILLAR S.A.                           </td></tr>\n",
       "<tr><td>BANCO FINAXIS S.A.                                                                                                </td><td style=\"text-align: right;\">   2</td><td>FINAXIS - PRUDENCIAL             </td><td style=\"text-align: right;\">11758741</td><td style=\"text-align: right;\">11758741000152</td><td style=\"text-align: right;\">            27731</td><td>Banco Comercial                                   </td><td>Autorizada em Atividade</td><td>BANCO FINAXIS S.A.                                                                                                </td><td>BANCO FINAXIS S.A.                               </td></tr>\n",
       "<tr><td>CSILATINA ARRENDAMENTO MERCANTIL S.A.                                                                             </td><td style=\"text-align: right;\">   3</td><td>CSILATINA A.M. S.A. - PRUDENCIAL </td><td style=\"text-align: right;\"> 5883884</td><td style=\"text-align: right;\">05883884000193</td><td style=\"text-align: right;\">            17885</td><td>Sociedade de Arrendamento Mercantil               </td><td>Autorizada em Atividade</td><td>CSILATINA ARRENDAMENTO MERCANTIL S.A.                                                                             </td><td>CSILATINA ARRENDAMENTO MERCANTIL S.A.            </td></tr>\n",
       "<tr><td>SAFRA LEASING S.A. ARRENDAMENTO MERCANTIL                                                                         </td><td style=\"text-align: right;\">   2</td><td>SAFRA - PRUDENCIAL               </td><td style=\"text-align: right;\">62063177</td><td style=\"text-align: right;\">62063177000194</td><td style=\"text-align: right;\">            53097</td><td>Sociedade de Arrendamento Mercantil               </td><td>Autorizada em Atividade</td><td>SAFRA LEASING S.A. ARRENDAMENTO MERCANTIL                                                                         </td><td>SAFRA LEASING S/A ARRENDAMENTO MERCANTIL         </td></tr>\n",
       "<tr><td>WESTERN UNION CORRETORA DE CÂMBIO S.A.                                                                            </td><td style=\"text-align: right;\">   3</td><td>WESTERN UNION                    </td><td style=\"text-align: right;\">13728156</td><td style=\"text-align: right;\">13728156009515</td><td style=\"text-align: right;\">            28996</td><td>Sociedade Corretora de Câmbio                     </td><td>Autorizada em Atividade</td><td>WESTERN UNION CORRETORA DE CÂMBIO S.A.                                                                            </td><td>WESTERN UNION CORRETORA                          </td></tr>\n",
       "<tr><td>ÓTIMO SOCIEDADE DE CRÉDITO DIRETO S.A.                                                                            </td><td style=\"text-align: right;\">   2</td><td>CODEPE                           </td><td style=\"text-align: right;\">34335592</td><td style=\"text-align: right;\">34335592000114</td><td style=\"text-align: right;\">            42184</td><td>Sociedade de Crédito Direto                       </td><td>Autorizada em Atividade</td><td>ÓTIMO SOCIEDADE DE CRÉDITO DIRETO S.A.                                                                            </td><td>                                                 </td></tr>\n",
       "<tr><td>COOPERATIVA DE CRÉDITO RURAL COM INTERAÇÃO SOLIDÁRIA DO ALTO VALE - CRESOL ALTO VALE                              </td><td style=\"text-align: right;\">   2</td><td>                                 </td><td style=\"text-align: right;\"> 9280638</td><td style=\"text-align: right;\">07507647000153</td><td style=\"text-align: right;\">            20794</td><td>Cooperativa de Crédito                            </td><td>Cancelada/Encerrada    </td><td>COOPERATIVA DE CRÉDITO RURAL COM INTERAÇÃO SOLIDÁRIA DO ALTO VALE - CRESOL ALTO VALE                              </td><td>CRESOL ALTO VALE                                 </td></tr>\n",
       "<tr><td>LOAN BRASIL SOCIEDADE DE CRÉDITO DIRETO S.A.                                                                      </td><td style=\"text-align: right;\">   2</td><td>LOAN BRASIL SCD - PRUDENCIAL     </td><td style=\"text-align: right;\">50032584</td><td style=\"text-align: right;\">50032584000155</td><td style=\"text-align: right;\">            00096</td><td>Sociedade de Crédito Direto                       </td><td>Autorizada em Atividade</td><td>LOAN BRASIL SOCIEDADE DE CRÉDITO DIRETO S.A.                                                                      </td><td>                                                 </td></tr>\n",
       "<tr><td>COOPERATIVA DE CRÉDITO RURAL COM INTERAÇÃO SOLIDÁRIA DE BOA VENTURA DE SÃO ROQUE - CRESOL BOA VENTURA DE SÃO ROQUE</td><td style=\"text-align: right;\">   2</td><td>                                 </td><td style=\"text-align: right;\"> 6115743</td><td style=\"text-align: right;\">06115743000193</td><td style=\"text-align: right;\">            17692</td><td>Cooperativa de Crédito                            </td><td>Cancelada/Encerrada    </td><td>COOPERATIVA DE CRÉDITO RURAL COM INTERAÇÃO SOLIDÁRIA DE BOA VENTURA DE SÃO ROQUE - CRESOL BOA VENTURA DE SÃO ROQUE</td><td>CRESOL BOA VENTURA DE SAO ROQUE                  </td></tr>\n",
       "<tr><td>BANCO ORIGINAL S.A.                                                                                               </td><td style=\"text-align: right;\">   2</td><td>BANCO ORIGINAL - PRUDENCIAL      </td><td style=\"text-align: right;\">92894922</td><td style=\"text-align: right;\">92894922002747</td><td style=\"text-align: right;\">            05212</td><td>Banco Múltiplo                                    </td><td>Autorizada em Atividade</td><td>BANCO ORIGINAL S.A.                                                                                               </td><td>                                                 </td></tr>\n",
       "<tr><td>COOPERATIVA DE CRÉDITO RURAL COM INTERAÇÃO SOLIDÁRIA NOROESTE - CRESOL NOROESTE                                   </td><td style=\"text-align: right;\">   2</td><td>                                 </td><td style=\"text-align: right;\">11453724</td><td style=\"text-align: right;\">11453724000450</td><td style=\"text-align: right;\">            27368</td><td>Cooperativa de Crédito                            </td><td>Cancelada/Encerrada    </td><td>COOPERATIVA DE CRÉDITO RURAL COM INTERAÇÃO SOLIDÁRIA NOROESTE - CRESOL NOROESTE                                   </td><td>CRESOL NOROESTE                                  </td></tr>\n",
       "<tr><td>COOPERATIVA DE CRÉDITO DOS EMPRESÁRIOS DE MANAUS - SICOOB CREDEMPRESAS-AM                                         </td><td style=\"text-align: right;\">   2</td><td>                                 </td><td style=\"text-align: right;\">10808037</td><td style=\"text-align: right;\">10808037000102</td><td style=\"text-align: right;\">            26514</td><td>Cooperativa de Crédito                            </td><td>Autorizada em Atividade</td><td>COOPERATIVA DE CRÉDITO DOS EMPRESÁRIOS DE MANAUS - SICOOB CREDEMPRESAS-AM                                         </td><td>CC EMPRESÁRIOS DE MANAUS - SICOOB CREDEMPRESAS AM</td></tr>\n",
       "<tr><td>COOPERATIVA DE CRÉDITO DE LIVRE ADMISSÃO DA REGIÃO METROPOLITANA DE CURITIBA - SICREDI COPERCREDI PR              </td><td style=\"text-align: right;\">   2</td><td>                                 </td><td style=\"text-align: right;\"> 9035503</td><td style=\"text-align: right;\">09035503000177</td><td style=\"text-align: right;\">            25091</td><td>Cooperativa de Crédito                            </td><td>Cancelada/Encerrada    </td><td>COOPERATIVA DE CRÉDITO DE LIVRE ADMISSÃO DA REGIÃO METROPOLITANA DE CURITIBA - SICREDI COPERCREDI PR              </td><td>                                                 </td></tr>\n",
       "<tr><td>COOPERATIVA DE CRÉDITO MÚTUO DOS SERVIDORES MUNICIPAIS DE SÃO JOÃO DA BOA VISTA - CREDIVISTA                      </td><td style=\"text-align: right;\">   2</td><td>                                 </td><td style=\"text-align: right;\">74248949</td><td style=\"text-align: right;\">74248949000141</td><td style=\"text-align: right;\">            51658</td><td>Cooperativa de Crédito                            </td><td>Autorizada em Atividade</td><td>COOPERATIVA DE CRÉDITO MÚTUO DOS SERVIDORES MUNICIPAIS DE SÃO JOÃO DA BOA VISTA - CREDIVISTA                      </td><td>CREDIVISTA                                       </td></tr>\n",
       "<tr><td>FACTORIAL CORRETORA DE CAMBIO, TIT. E VAL. MOBILIARIOS LTDA.                                                      </td><td style=\"text-align: right;\">   2</td><td>                                 </td><td style=\"text-align: right;\">73388126</td><td style=\"text-align: right;\">73388126000159</td><td style=\"text-align: right;\">            57437</td><td>Sociedade Corretora de TVM                        </td><td>Cancelada/Encerrada    </td><td>FACTORIAL CORRETORA DE CAMBIO, TIT. E VAL. MOBILIARIOS LTDA.                                                      </td><td>                                                 </td></tr>\n",
       "<tr><td>COOPERATIVA DE CRÉDITO RURAL DE ITABUNA LTDA                                                                      </td><td style=\"text-align: right;\">   2</td><td>                                 </td><td style=\"text-align: right;\">16357832</td><td style=\"text-align: right;\">16357832000108</td><td style=\"text-align: right;\">            51385</td><td>Cooperativa de Crédito                            </td><td>Cancelada/Encerrada    </td><td>COOPERATIVA DE CRÉDITO RURAL DE ITABUNA LTDA                                                                      </td><td>                                                 </td></tr>\n",
       "</tbody>\n",
       "</table>"
      ],
      "text/plain": [
       "<IPython.core.display.HTML object>"
      ]
     },
     "metadata": {},
     "output_type": "display_data"
    }
   ],
   "source": [
    "sample_only_demonstracao_result = only_demonstracao_result.sample(False, 0.1).limit(30)\n",
    "\n",
    "tb_only_demonstracao_result = tabulate(sample_only_demonstracao_result.collect(), headers=sample_only_demonstracao_result.columns, tablefmt='html')\n",
    "\n",
    "sample_only_info_cadastral = only_info_cadastral.sample(False, 0.1).limit(30)\n",
    "\n",
    "tb_only_info_cadastral = tabulate(sample_only_info_cadastral.collect(), headers=sample_only_info_cadastral.columns, tablefmt='html')\n",
    "\n",
    "sample_intersecao =intersecao.sample(False, 0.1).limit(30)\n",
    "\n",
    "tb_intersecao = tabulate(sample_intersecao.collect(), headers=sample_intersecao.columns, tablefmt='html')\n",
    "\n",
    "display(HTML(tb_only_demonstracao_result))\n",
    "display(HTML(tb_only_info_cadastral))\n",
    "display(HTML(tb_intersecao))\n",
    "\n"
   ]
  },
  {
   "cell_type": "code",
   "execution_count": 17,
   "id": "596c374b-e32d-4fc4-bac1-28f7b7576005",
   "metadata": {},
   "outputs": [
    {
     "name": "stderr",
     "output_type": "stream",
     "text": [
      "24/07/17 11:16:58 WARN TaskSetManager: Stage 24 contains a task of very large size (11648 KiB). The maximum recommended task size is 1000 KiB.\n",
      "24/07/17 11:17:05 WARN TaskSetManager: Stage 27 contains a task of very large size (12111 KiB). The maximum recommended task size is 1000 KiB.\n"
     ]
    },
    {
     "data": {
      "text/plain": [
       "0"
      ]
     },
     "execution_count": 17,
     "metadata": {},
     "output_type": "execute_result"
    }
   ],
   "source": [
    "codigos = df_demonstracao_result.select(\"codigo\").distinct().rdd.flatMap(lambda x: x).collect()\n",
    "\n",
    "df_sem_acento.filter(F.trim(F.col(\"codigo_sisbacen\")).isin(codigos)).count()"
   ]
  },
  {
   "cell_type": "markdown",
   "id": "7034cebf-01ca-4240-9f2c-ca6b4a87a6ff",
   "metadata": {},
   "source": [
    "### Remover acentos"
   ]
  },
  {
   "cell_type": "code",
   "execution_count": null,
   "id": "07955860-1353-4d69-bd17-d8ebbeedcc65",
   "metadata": {},
   "outputs": [],
   "source": [
    "def clean_accent_(texto):\n",
    "    return unidecode(texto) if texto else None\n",
    "\n",
    "clean_accent = F.udf(clean_accent_, F.StringType())\n",
    "\n",
    "df_sem_acento = df_info_cadastral_select.withColumn(\"nome_tipo_entidade\", F.upper(clean_accent(F.col(\"nome_tipo_entidade\"))))\\\n",
    "                                     .withColumn(\"descricao_situacao\", F.upper(clean_accent(F.col(\"descricao_situacao\"))))\\\n",
    "                                     .withColumn(\"nome_entidade\", F.upper(F.trim(clean_accent(F.col(\"nome_entidade\")))))\\\n",
    "                                    .withColumn(\"nome_fantasia\", F.upper(clean_accent(F.col(\"nome_fantasia\"))))\n",
    "\n",
    "\n",
    "# table = tabulate(teste.collect(), headers=teste.columns, tablefmt='html')\n",
    "# # display(HTML(table))\n",
    "# table2 = tabulate(df_sem_acento.collect(), headers=df_sem_acento.columns, tablefmt='html')\n",
    "# # display(HTML(table2))\n"
   ]
  }
 ],
 "metadata": {
  "kernelspec": {
   "display_name": "Python 3 (ipykernel)",
   "language": "python",
   "name": "python3"
  },
  "language_info": {
   "codemirror_mode": {
    "name": "ipython",
    "version": 3
   },
   "file_extension": ".py",
   "mimetype": "text/x-python",
   "name": "python",
   "nbconvert_exporter": "python",
   "pygments_lexer": "ipython3",
   "version": "3.11.7"
  }
 },
 "nbformat": 4,
 "nbformat_minor": 5
}
