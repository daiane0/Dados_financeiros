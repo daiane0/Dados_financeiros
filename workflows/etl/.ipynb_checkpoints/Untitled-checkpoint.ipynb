{
 "cells": [
  {
   "cell_type": "code",
   "execution_count": 1,
   "id": "54d03f5d-1b39-48a8-9013-2aa0005fa1dd",
   "metadata": {},
   "outputs": [
    {
     "name": "stderr",
     "output_type": "stream",
     "text": [
      "24/07/30 16:19:40 WARN Utils: Your hostname, victor-Lenovo-ideapad-330-15IKB resolves to a loopback address: 127.0.1.1; using 192.168.1.74 instead (on interface wlp2s0)\n",
      "24/07/30 16:19:40 WARN Utils: Set SPARK_LOCAL_IP if you need to bind to another address\n",
      "24/07/30 16:19:41 WARN NativeCodeLoader: Unable to load native-hadoop library for your platform... using builtin-java classes where applicable\n",
      "Setting default log level to \"WARN\".\n",
      "To adjust logging level use sc.setLogLevel(newLevel). For SparkR, use setLogLevel(newLevel).\n",
      "24/07/30 16:19:43 WARN Utils: Service 'SparkUI' could not bind on port 4040. Attempting port 4041.\n"
     ]
    }
   ],
   "source": [
    "from pyspark.sql import SparkSession\n",
    "from pyspark.sql import functions as F\n",
    "from pyspark.sql import types as T\n",
    "import generate_df as G\n",
    "from unidecode import unidecode\n",
    "from pyspark.sql.window import Window\n",
    "from config import db_config\n",
    "from IPython.display import display, HTML\n",
    "from tabulate import tabulate\n",
    "\n",
    "spark = SparkSession.builder.appName(\"finance_data_processing\")\\\n",
    ".config(\"spark.jars\",\"/home/daiane/Downloads/postgresql-42.7.3.jar\").getOrCreate()\n",
    "spark.catalog.clearCache()"
   ]
  },
  {
   "cell_type": "code",
   "execution_count": 2,
   "id": "23ca53f6-d58f-4094-8bd6-05a40f264dca",
   "metadata": {},
   "outputs": [
    {
     "data": {
      "text/plain": [
       "DataFrame[data: string, codigo_cadastro_bacen: string, codigo_sisbacen: string, codigo_pais_sede: string, nome_pais_sede: string, nome_uf_sede: string, codigo_municipio_sede: string, nome_municipio_sede: string, nome_entidade: string, nome_entidade_nao_formatado: string, cnpj: string, cnpj_raiz: string, codigo_situacao: string, descricao_situacao: string, codigo_tipo_entidade_segmento: string, nome_tipo_entidade: string, codigo_natureza_juridica: string, descricao_natureza_juridica: string, codigo_esfera_publica: string, nome_reduzido: string, sigla_entidade: string, nome_fantasia: string, empresa_publica: string]"
      ]
     },
     "execution_count": 2,
     "metadata": {},
     "output_type": "execute_result"
    }
   ],
   "source": [
    "def cnpj_calculate_(cnpj_base_input):\n",
    "    #adiciona \"0001\" e calcula dígitos verificadores, retorna cnpj com 14 dígitos\n",
    "    pesos1 = [5, 4, 3, 2, 9, 8, 7, 6, 5, 4, 3, 2]\n",
    "    pesos2 = [6, 5, 4, 3, 2, 9, 8, 7, 6, 5, 4, 3, 2]\n",
    "\n",
    "    cnpj1 = cnpj_base_input + \"0001\"\n",
    "    cnpj_base = cnpj1.zfill(12)\n",
    "\n",
    "    #1° dígito verficador\n",
    "    soma1 = sum(int(digito) * peso for digito, peso in zip(cnpj_base, pesos1))\n",
    "    resto1 = soma1 % 11\n",
    "    digito1 = 0 if resto1 < 2 else 11 - resto1\n",
    "\n",
    "    #2° dígito verificador\n",
    "    soma2 = sum(int(digito) * peso for digito, peso in zip(cnpj_base + str(digito1), pesos2))\n",
    "    resto2 = soma2 % 11\n",
    "    digito2 = 0 if resto2 < 2 else 11 - resto2\n",
    "\n",
    "    cnpj = cnpj_base  + str(digito1) + str(digito2)\n",
    "    return cnpj\n",
    "\n",
    "cnpj_calculate = F.udf(cnpj_calculate_, T.StringType())\n",
    "\n",
    "df_info_cadastral = G.table_to_df(\"finance_raw_data\", \"info_cadastral_entidades\", spark)\n",
    "df_info_cadastral.persist()\n",
    "\n"
   ]
  },
  {
   "cell_type": "code",
   "execution_count": 3,
   "id": "1a69eb15-cca4-4ca4-8603-42b117b67442",
   "metadata": {},
   "outputs": [
    {
     "data": {
      "text/plain": [
       "DataFrame[cnpj: string, cnpj_raiz: string, nome_tipo_entidade: string, descricao_natureza_juridica: string, descricao_situacao: string, empresa_publica: string, codigo_sisbacen: string, nome_entidade: string, nome_fantasia: string, data_format: date]"
      ]
     },
     "execution_count": 3,
     "metadata": {},
     "output_type": "execute_result"
    }
   ],
   "source": [
    "df_info_cadastral_select = df_info_cadastral.select(\n",
    "    \"cnpj\", \"data\", \"cnpj_raiz\", \"nome_tipo_entidade\",\n",
    "    \"descricao_natureza_juridica\", \"descricao_situacao\", \n",
    "    \"empresa_publica\", \"codigo_sisbacen\", \n",
    "    \"nome_entidade\", \"nome_fantasia\"\n",
    ")\n",
    "#formatacao da data\n",
    "\n",
    "df_info_cadastral_select = df_info_cadastral_select.withColumn(\"data_format\", F.to_date(df_info_cadastral_select[\"data\"], \"yyyy-MM-dd\"))\n",
    "df_info_cadastral_select = df_info_cadastral_select.filter(df_info_cadastral_select[\"cnpj_raiz\"].isNotNull()).drop(\"data\")\n",
    "\n",
    "#remocao de linhas duplicadas\n",
    "df_info_ordered = df_info_cadastral_select.orderBy(F.col(\"cnpj\"))\n",
    "columns_info = df_info_ordered.columns\n",
    "columns_info.remove(\"data_format\")\n",
    "\n",
    "df_unique_info_ = df_info_ordered.dropDuplicates(subset=columns_info)\n",
    "\n",
    "df_unique_info_.persist()"
   ]
  },
  {
   "cell_type": "code",
   "execution_count": 4,
   "id": "f6625cc0-1a06-40b9-bdec-bfd8c16a96c6",
   "metadata": {},
   "outputs": [
    {
     "name": "stderr",
     "output_type": "stream",
     "text": [
      "24/07/30 16:20:14 WARN TaskSetManager: Stage 0 contains a task of very large size (13314 KiB). The maximum recommended task size is 1000 KiB.\n",
      "24/07/30 16:20:21 WARN TaskSetManager: Stage 1 contains a task of very large size (13314 KiB). The maximum recommended task size is 1000 KiB.\n",
      "24/07/30 16:20:23 WARN TaskSetManager: Stage 2 contains a task of very large size (13314 KiB). The maximum recommended task size is 1000 KiB.\n",
      "                                                                                \r"
     ]
    }
   ],
   "source": [
    "#limpeza de acentos \n",
    "def clean_accent_(texto):\n",
    "    return unidecode(texto) if texto else None\n",
    "\n",
    "clean_accent = F.udf(clean_accent_, F.StringType())\n",
    "\n",
    "for column, dtype in df_unique_info_.dtypes:\n",
    "    if dtype == \"string\":\n",
    "        df_unique_info_ = df_unique_info_.withColumn(column, F.upper(F.trim(clean_accent(F.col(column)))))\n",
    "\n",
    "\n",
    "#cnpj completoa partir dos 8 primeiros dígitos\n",
    "df_cnpj_matriz = df_unique_info_.withColumn(\"cnpj_raiz\", cnpj_calculate(df_unique_info_[\"cnpj_raiz\"]))\n",
    "\n",
    "\n",
    "#Definicao do tipo de controle\n",
    "tipo_controle = df_cnpj_matriz.withColumn(\"tipo_controle\", F.when(F.col(\"empresa_publica\") == \"1\", \"EMPRESA PUBLICA\").otherwise(\"EMPRESA PRIVADA\"))\n",
    "\n",
    "\n",
    "df_final = (tipo_controle\n",
    "            .select(\"cnpj_raiz\", \"nome_tipo_entidade\", \"tipo_controle\",\"descricao_situacao\", \"data_format\", \"nome_entidade\", \"nome_fantasia\", \"descricao_natureza_juridica\")\n",
    "            .withColumn(\"data_final\", F.lit(None).cast(\"date\")))\n",
    "\n",
    "df_final = (df_final.withColumnRenamed(\"cnpj_raiz\", \"cnpj\")\n",
    "            .withColumnRenamed(\"nome_tipo_entidade\", \"entity_type\")\n",
    "            .withColumnRenamed(\"tipo_controle\", \"control_type\")\n",
    "            .withColumnRenamed(\"descricao_situacao\", \"legal_status\")\n",
    "            .withColumnRenamed(\"data_format\", \"registration_date\")\n",
    "            .withColumnRenamed(\"data_final\", \"date_end\")\n",
    "            .withColumnRenamed(\"nome_entidade\", \"registration_name\")\n",
    "            .withColumnRenamed(\"nome_fantasia\", \"company_name\")\n",
    "            .withColumnRenamed(\"descricao_natureza_juridica\", \"company_type\"))\n",
    "\n",
    "\n",
    "#calculo de date_end com window function\n",
    "\n",
    "window_spec = Window.partitionBy(\"cnpj\").orderBy(\"registration_date\")\n",
    "\n",
    "# Cria uma coluna para a próxima data de registro para cada cnpj\n",
    "df_final_with_next = df_final.withColumn(\"next_registration_date\", F.lead(\"registration_date\").over(window_spec))\n",
    "\n",
    "# Preenche a coluna date_end com a próxima data de registro menos um dia ou null se nao tiver proxima data\n",
    "df_final_with_date_end = df_final_with_next.withColumn(\"date_end\", F.expr(\"date_add(next_registration_date, -1)\"))\n",
    "\n",
    "df_final = df_final_with_date_end.drop(\"next_registration_date\")\n",
    "df_final.persist()\n",
    "df_sample = df_final.sample(False, 0.1).limit(50)\n",
    "# df_sample.show()\n",
    "\n",
    "tb = tabulate(df_sample.collect(), headers=df_sample.columns, tablefmt='html')\n",
    "\n",
    "# display(HTML(tb))\n"
   ]
  },
  {
   "cell_type": "code",
   "execution_count": 5,
   "id": "b852ab26-cc77-495a-915e-ebcd74b7c926",
   "metadata": {},
   "outputs": [
    {
     "name": "stderr",
     "output_type": "stream",
     "text": [
      "[Stage 46:============================================>           (60 + 4) / 75]\r"
     ]
    },
    {
     "name": "stdout",
     "output_type": "stream",
     "text": [
      "+----+----+\n",
      "|cnpj|freq|\n",
      "+----+----+\n",
      "+----+----+\n",
      "\n"
     ]
    },
    {
     "name": "stderr",
     "output_type": "stream",
     "text": [
      "                                                                                \r"
     ]
    }
   ],
   "source": [
    "df_final = df_final.groupBy('cnpj').agg(F.countDistinct('cnpj').alias('freq'))\n",
    "\n",
    "df_final.filter(F.col('freq') > 1).show()\n"
   ]
  },
  {
   "cell_type": "code",
   "execution_count": null,
   "id": "e59d3f47-3117-4ff0-bfb3-ce003f13df68",
   "metadata": {},
   "outputs": [],
   "source": []
  }
 ],
 "metadata": {
  "kernelspec": {
   "display_name": "Python 3 (ipykernel)",
   "language": "python",
   "name": "python3"
  },
  "language_info": {
   "codemirror_mode": {
    "name": "ipython",
    "version": 3
   },
   "file_extension": ".py",
   "mimetype": "text/x-python",
   "name": "python",
   "nbconvert_exporter": "python",
   "pygments_lexer": "ipython3",
   "version": "3.11.7"
  }
 },
 "nbformat": 4,
 "nbformat_minor": 5
}
