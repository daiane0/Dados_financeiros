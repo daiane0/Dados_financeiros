{
 "cells": [
  {
   "cell_type": "code",
   "execution_count": 9,
   "id": "3115815c-4a18-4001-afee-6c5ae8456f6a",
   "metadata": {},
   "outputs": [],
   "source": [
    "from pyspark.sql import SparkSession\n",
    "from pyspark.sql import functions as F\n",
    "from pyspark.sql import types as T\n",
    "import generate_df as G\n",
    "from IPython.display import display, HTML\n",
    "from tabulate import tabulate\n",
    "from unidecode import unidecode\n",
    "from pyspark.sql.window import Window\n",
    "import pandas"
   ]
  },
  {
   "cell_type": "code",
   "execution_count": 2,
   "id": "599a6418-6f7c-49a2-9c0d-eeb5b6ddebec",
   "metadata": {},
   "outputs": [
    {
     "name": "stderr",
     "output_type": "stream",
     "text": [
      "24/07/31 12:23:06 WARN Utils: Your hostname, victor-Lenovo-ideapad-330-15IKB resolves to a loopback address: 127.0.1.1; using 10.0.0.126 instead (on interface wlp2s0)\n",
      "24/07/31 12:23:06 WARN Utils: Set SPARK_LOCAL_IP if you need to bind to another address\n",
      "24/07/31 12:23:07 WARN NativeCodeLoader: Unable to load native-hadoop library for your platform... using builtin-java classes where applicable\n",
      "Setting default log level to \"WARN\".\n",
      "To adjust logging level use sc.setLogLevel(newLevel). For SparkR, use setLogLevel(newLevel).\n",
      "24/07/31 12:23:09 WARN Utils: Service 'SparkUI' could not bind on port 4040. Attempting port 4041.\n",
      "24/07/31 12:23:09 WARN Utils: Service 'SparkUI' could not bind on port 4041. Attempting port 4042.\n"
     ]
    }
   ],
   "source": [
    "spark = SparkSession.builder.appName(\"finance_data_processing\")\\\n",
    ".config(\"spark.jars\",\"/home/daiane/Downloads/postgresql-42.7.3.jar\").getOrCreate()\n"
   ]
  },
  {
   "cell_type": "code",
   "execution_count": 3,
   "id": "e81ed59a-dbff-4aa4-a4d0-f81696d6a5c3",
   "metadata": {},
   "outputs": [],
   "source": [
    "def cnpj_calculate_(cnpj_base_input):\n",
    "    #adiciona \"0001\" e calcula dígitos verificadores, retorna cnpj com 14 dígitos\n",
    "    pesos1 = [5, 4, 3, 2, 9, 8, 7, 6, 5, 4, 3, 2]\n",
    "    pesos2 = [6, 5, 4, 3, 2, 9, 8, 7, 6, 5, 4, 3, 2]\n",
    "\n",
    "    cnpj1 = cnpj_base_input + \"0001\"\n",
    "    cnpj_base = cnpj1.zfill(12)\n",
    "\n",
    "    #1° dígito verficador\n",
    "    soma1 = sum(int(digito) * peso for digito, peso in zip(cnpj_base, pesos1))\n",
    "    resto1 = soma1 % 11\n",
    "    digito1 = 0 if resto1 < 2 else 11 - resto1\n",
    "\n",
    "    #2° dígito verificador\n",
    "    soma2 = sum(int(digito) * peso for digito, peso in zip(cnpj_base + str(digito1), pesos2))\n",
    "    resto2 = soma2 % 11\n",
    "    digito2 = 0 if resto2 < 2 else 11 - resto2\n",
    "\n",
    "    cnpj = cnpj_base  + str(digito1) + str(digito2)\n",
    "    return cnpj\n",
    "\n",
    "cnpj_calculate = F.udf(cnpj_calculate_, T.StringType())\n"
   ]
  },
  {
   "cell_type": "code",
   "execution_count": 4,
   "id": "31eb7cfc-6d96-459f-bcb2-8b65a22f2e18",
   "metadata": {
    "scrolled": true
   },
   "outputs": [
    {
     "name": "stderr",
     "output_type": "stream",
     "text": [
      "24/07/31 12:23:52 WARN SparkStringUtils: Truncated the string representation of a plan since it was too large. This behavior can be adjusted by setting 'spark.sql.debug.maxToStringFields'.\n",
      "24/07/31 12:23:56 WARN TaskSetManager: Stage 0 contains a task of very large size (11648 KiB). The maximum recommended task size is 1000 KiB.\n",
      "24/07/31 12:24:10 WARN TaskSetManager: Stage 1 contains a task of very large size (11648 KiB). The maximum recommended task size is 1000 KiB.\n",
      "24/07/31 12:24:16 WARN TaskSetManager: Stage 2 contains a task of very large size (11648 KiB). The maximum recommended task size is 1000 KiB.\n",
      "                                                                                \r"
     ]
    },
    {
     "data": {
      "text/html": [
       "<table>\n",
       "<thead>\n",
       "<tr><th>data_trimestral  </th><th style=\"text-align: right;\">  codigo</th><th style=\"text-align: right;\">  cnpj_completo</th><th>instituicao                       </th><th style=\"text-align: right;\">  tc</th><th>conglomerado         </th></tr>\n",
       "</thead>\n",
       "<tbody>\n",
       "<tr><td>2012-06-01       </td><td style=\"text-align: right;\"> 7207996</td><td style=\"text-align: right;\"> 07207996000150</td><td>BANCO BRADESCO FINANCIAMENTOS S.A.</td><td style=\"text-align: right;\">   2</td><td>BRADESCO             </td></tr>\n",
       "<tr><td>2002-06-01       </td><td style=\"text-align: right;\"> 7207996</td><td style=\"text-align: right;\"> 07207996000150</td><td>BANCO BMC S.A.                    </td><td style=\"text-align: right;\">   2</td><td>BMC                  </td></tr>\n",
       "<tr><td>2023-03-01       </td><td style=\"text-align: right;\"> 7207996</td><td style=\"text-align: right;\"> 07207996000150</td><td>BANCO BRADESCO FINANCIAMENTOS S.A.</td><td style=\"text-align: right;\">   2</td><td>BRADESCO - PRUDENCIAL</td></tr>\n",
       "<tr><td>2008-12-01       </td><td style=\"text-align: right;\"> 7207996</td><td style=\"text-align: right;\"> 07207996000150</td><td>BANCO FINASA BMC S.A.             </td><td style=\"text-align: right;\">   2</td><td>BRADESCO             </td></tr>\n",
       "<tr><td>2007-09-01       </td><td style=\"text-align: right;\"> 7207996</td><td style=\"text-align: right;\"> 07207996000150</td><td>BANCO BMC S.A.                    </td><td style=\"text-align: right;\">   2</td><td>BRADESCO             </td></tr>\n",
       "</tbody>\n",
       "</table>"
      ],
      "text/plain": [
       "<IPython.core.display.HTML object>"
      ]
     },
     "metadata": {},
     "output_type": "display_data"
    }
   ],
   "source": [
    "df_demonstracao_result_ = G.table_to_df(\"finance_raw_data\", \"demonstracao_resultado_receita_lucro\", spark)\n",
    "df_demonstracao_result_.persist()\n",
    "\n",
    "df_date_with_day = df_demonstracao_result_.withColumn(\"data_format_d\", F.concat(F.lit(\"01/\"), df_demonstracao_result_[\"data\"]))\n",
    "\n",
    "df_date_format = df_date_with_day.withColumn(\"data_format_d\", F.to_date(df_date_with_day[\"data_format_d\"], \"dd/MM/yyyy\"))\n",
    "df_demonstracao_result = df_date_format.withColumn(\"cnpj_completo\", cnpj_calculate(df_date_format[\"codigo\"]))\n",
    "\n",
    "df_demonstracao_result = df_demonstracao_result.drop(\"data\").filter(F.col(\"data_format_d\").isNotNull())\n",
    "\n",
    "df_demonstracao_result = df_demonstracao_result.withColumnRenamed(\"data_format_d\", \"data_trimestral\")\n",
    "\n",
    "df_demonstracao_result_select = df_demonstracao_result.select(\"data_trimestral\", \"codigo\", \"cnpj_completo\", \"instituicao\", \"tc\", \"conglomerado\")\n",
    "\n",
    "# df_demonstracao_result_select.persist()\n",
    "\n",
    "\n",
    "\n",
    "# t = dfSample_demonstracao_result.withColumn(\"cnpj_completo\", cnpj_udf(dfSample_demonstracao_result[\"codigo\"]))\n",
    "\n",
    "# t2 = t.select(\"instituicao\", \"codigo\", \"cnpj_completo\")\n",
    "\n",
    "df_demonstracao_result_select = df_demonstracao_result_select.orderBy(F.col(\"cnpj_completo\").desc())\n",
    "columns = df_demonstracao_result_select.columns\n",
    "columns.remove(\"data_trimestral\")\n",
    "df_demonstracao_result_select = df_demonstracao_result_select.dropDuplicates(subset=columns)\n",
    "df_demonstracao_result_select.persist()\n",
    "\n",
    "# df_teste = df_demonstracao_result_select.groupBy('cnpj_completo').agg(F.countDistinct('cnpj_completo').alias('freq'))\n",
    "# print(df_teste.filter(F.col('freq') > 1).count())\n",
    "\n",
    "teste = df_demonstracao_result_select.filter(F.col('cnpj_completo') == '07207996000150')\n",
    "# print(teste)\n",
    "\n",
    "t2 = teste\n",
    "table = tabulate(t2.collect(), headers=t2.columns, tablefmt='html')\n",
    "display(HTML(table))\n",
    "\n",
    "\n"
   ]
  },
  {
   "cell_type": "code",
   "execution_count": null,
   "id": "742f6277-b1c4-4828-933a-ba366663400f",
   "metadata": {},
   "outputs": [],
   "source": []
  },
  {
   "cell_type": "code",
   "execution_count": 5,
   "id": "d34878eb-46d3-459e-929b-49c8f6c00618",
   "metadata": {
    "scrolled": true
   },
   "outputs": [
    {
     "data": {
      "text/plain": [
       "DataFrame[data: string, codigo_cadastro_bacen: string, codigo_sisbacen: string, codigo_pais_sede: string, nome_pais_sede: string, nome_uf_sede: string, codigo_municipio_sede: string, nome_municipio_sede: string, nome_entidade: string, nome_entidade_nao_formatado: string, cnpj: string, cnpj_raiz: string, codigo_situacao: string, descricao_situacao: string, codigo_tipo_entidade_segmento: string, nome_tipo_entidade: string, codigo_natureza_juridica: string, descricao_natureza_juridica: string, codigo_esfera_publica: string, nome_reduzido: string, sigla_entidade: string, nome_fantasia: string, empresa_publica: string]"
      ]
     },
     "execution_count": 5,
     "metadata": {},
     "output_type": "execute_result"
    }
   ],
   "source": [
    "df_info_cadastral = G.table_to_df(\"finance_raw_data\", \"info_cadastral_entidades\", spark)\n",
    "df_info_cadastral.persist()\n",
    "\n",
    "# dfSample_info_cadastral_entidades = df_info_cadastra l.sample(False, 0.1).limit(30)\n",
    "# table = tabulate(dfSample_info_cadastral_entidades.collect(), headers=dfSample_info_cadastral_entidades.columns, tablefmt='html')\n",
    "# display(HTML(table))\n",
    "\n",
    "# df_info_cadastral.count()\n",
    "# dfSample_info_cadastral_entidades.printSchema()\n"
   ]
  },
  {
   "cell_type": "code",
   "execution_count": 10,
   "id": "fbb624b1-9cdd-42e0-9ff3-68fb3b89d990",
   "metadata": {
    "scrolled": true
   },
   "outputs": [
    {
     "data": {
      "text/plain": [
       "DataFrame[cnpj: string, cnpj_raiz: string, nome_tipo_entidade: string, descricao_natureza_juridica: string, descricao_situacao: string, empresa_publica: string, codigo_sisbacen: string, nome_tipo_entidade: string, descricao_situacao: string, nome_entidade: string, nome_fantasia: string, data_format: date]"
      ]
     },
     "metadata": {},
     "output_type": "display_data"
    }
   ],
   "source": [
    "df_info_cadastral_select_ = df_info_cadastral.select(\"cnpj\", \"data\", \"cnpj_raiz\",\\\n",
    "                                                     \"nome_tipo_entidade\", \"descricao_natureza_juridica\", \"descricao_situacao\", \"empresa_publica\", \"codigo_sisbacen\", \"nome_tipo_entidade\", \"descricao_situacao\", \"nome_entidade\", \"nome_fantasia\")\n",
    "\n",
    "\n",
    "df_info_cadastral_select = df_info_cadastral_select_.withColumn(\"data_format\", F.to_date(df_info_cadastral_select_[\"data\"], \"yyyy-MM-dd\"))\n",
    "df_info_cadastral_select = df_info_cadastral_select.drop(\"data\")\n",
    "\n",
    "df_info_cadastral_select = df_info_cadastral_select.filter(df_info_cadastral_select[\"cnpj_raiz\"].isNotNull())\n",
    "\n",
    "# df_counts = df_info_cadastral_select.groupBy('cnpj_raiz').agg(F.countDistinct('cnpj').alias('count_cnpjs_completos'))\n",
    "\n",
    "\n",
    "a = df_info_cadastral_select.orderBy(F.col(\"data_format\")).limit(50)\n",
    "\n",
    "# table = tabulate(a.collect(), headers=a.columns, tablefmt='html')\n",
    "# display(HTML(table))\n",
    "display(a)\n",
    "\n",
    "\n",
    "\n",
    "\n"
   ]
  },
  {
   "cell_type": "markdown",
   "id": "2b836308-4542-4593-a583-92d08ee08011",
   "metadata": {},
   "source": [
    "### Duplicação"
   ]
  },
  {
   "cell_type": "code",
   "execution_count": 10,
   "id": "2dd041e0-d8c8-455e-a082-b6e504b01a65",
   "metadata": {
    "scrolled": true
   },
   "outputs": [
    {
     "name": "stdout",
     "output_type": "stream",
     "text": [
      "root\n",
      " |-- cnpj: string (nullable = true)\n",
      " |-- cnpj_raiz: string (nullable = true)\n",
      " |-- nome_tipo_entidade: string (nullable = true)\n",
      " |-- descricao_natureza_juridica: string (nullable = true)\n",
      " |-- descricao_situacao: string (nullable = true)\n",
      " |-- empresa_publica: string (nullable = true)\n",
      " |-- codigo_sisbacen: string (nullable = true)\n",
      " |-- nome_tipo_entidade: string (nullable = true)\n",
      " |-- descricao_situacao: string (nullable = true)\n",
      " |-- nome_entidade: string (nullable = true)\n",
      " |-- nome_fantasia: string (nullable = true)\n",
      " |-- data_format: date (nullable = true)\n",
      " |-- ano_info: integer (nullable = true)\n",
      " |-- mes_info: integer (nullable = true)\n",
      "\n",
      "root\n",
      " |-- codigo: string (nullable = true)\n",
      " |-- cnpj_completo: string (nullable = true)\n",
      " |-- data_trimestral: date (nullable = true)\n",
      " |-- instituicao: string (nullable = true)\n",
      " |-- tc: string (nullable = true)\n",
      " |-- conglomerado: string (nullable = true)\n",
      " |-- ano: integer (nullable = true)\n",
      " |-- mes: integer (nullable = true)\n",
      "\n"
     ]
    }
   ],
   "source": [
    "# df_info_cadastral\n",
    "\n",
    "df_info_ordered = df_info_cadastral_select.orderBy(F.col(\"data_format\").desc())\n",
    "\n",
    "columns_info = df_info_ordered.columns\n",
    "columns_info.remove(\"data_format\")\n",
    "\n",
    "df_unique_info_ = df_info_ordered.dropDuplicates(subset=columns_info)\n",
    "df_unique_info_ = df_unique_info_.filter(F.col(\"cnpj_raiz\").isNotNull())\n",
    "\n",
    "# df_demonstracao_result\n",
    "\n",
    "df_demonstracao_ordered = df_demonstracao_result_select.orderBy(F.col(\"cnpj_completo\").asc())\n",
    "columns_demonstracao = df_demonstracao_result_select.columns\n",
    "columns_demonstracao.remove(\"data_trimestral\")\n",
    "\n",
    "\n",
    "df_unique_demonstracao_ = df_demonstracao_ordered.dropDuplicates(subset=columns_demonstracao)\n",
    "\n",
    "\n",
    "# sample_info = df_unique_info_.sample(False, 0.1).limit(50)\n",
    "\n",
    "# sample_info = df_unique_info_.filter(F.col(\"cnpj_raiz\") == '00000000')\n",
    "\n",
    "# tb_info = tabulate(sample_info.collect(), headers=sample_info.columns, tablefmt='html')\n",
    "# display(HTML(tb_info))\n",
    "\n",
    "# df1 = df_unique_info_.orderBy(F.col(\"cnpj_raiz\")).limit(50)\n",
    "# df2 = df_unique_demonstracao_.select(\"instituicao\", \"cnpj_completo\", \"data_trimestral\").limit(30)\n",
    "\n",
    "df_unique_info_ = df_unique_info_.withColumn(\"ano_info\", F.year(\"data_format\")).withColumn(\"mes_info\", F.month(\"data_format\"))\n",
    "df_unique_demonstracao_ = df_unique_demonstracao_.withColumn(\"ano\", F.year(\"data_trimestral\")).withColumn(\"mes\", F.month(\"data_trimestral\"))\n",
    "\n",
    "df_unique_info_.printSchema()\n",
    "df_unique_demonstracao_.printSchema()\n",
    "\n",
    "# tb1 = tabulate(df1.collect(), headers=df1.columns, tablefmt='html')\n",
    "# display(HTML(tb1))\n",
    "\n",
    "# tb2 = tabulate(df2.collect(), headers=df2.columns, tablefmt='html')\n",
    "# display(HTML(tb2))\n",
    "\n"
   ]
  },
  {
   "cell_type": "markdown",
   "id": "7034cebf-01ca-4240-9f2c-ca6b4a87a6ff",
   "metadata": {},
   "source": [
    "### Remover acentos"
   ]
  },
  {
   "cell_type": "code",
   "execution_count": 11,
   "id": "f5fbe04c-5658-4dba-8d6b-b4ea594f0302",
   "metadata": {},
   "outputs": [],
   "source": [
    "def clean_accent_(texto):\n",
    "    return unidecode(texto) if texto else None\n",
    "\n",
    "clean_accent = F.udf(clean_accent_, F.StringType())\n",
    "\n",
    "for column, dtype in df_unique_info_.dtypes:\n",
    "    if dtype == \"string\":\n",
    "        df_unique_info_.withColumn(column, F.upper(F.trim(clean_accent(F.col(column)))))\n",
    "\n",
    "# df_unique_demonstracao = df_unique_demonstracao_.select([F.upper(F.trim(clean_accent(F.col(column)))).alias(column) for column in col_demonstracao])\n",
    "\n",
    "# df_unique_info_ = df_unique_info_.printSchema()"
   ]
  },
  {
   "cell_type": "code",
   "execution_count": 12,
   "id": "15bf0884-4a28-4df7-a817-493ba3671e74",
   "metadata": {},
   "outputs": [
    {
     "name": "stderr",
     "output_type": "stream",
     "text": [
      "24/07/27 11:56:57 WARN TaskSetManager: Stage 4 contains a task of very large size (12111 KiB). The maximum recommended task size is 1000 KiB.\n",
      "24/07/27 11:56:59 WARN TaskSetManager: Stage 5 contains a task of very large size (12111 KiB). The maximum recommended task size is 1000 KiB.\n",
      "[Stage 5:=============================>                             (2 + 2) / 4]\r"
     ]
    },
    {
     "name": "stdout",
     "output_type": "stream",
     "text": [
      "root\n",
      " |-- cnpj: string (nullable = true)\n",
      " |-- cnpj_raiz: string (nullable = true)\n",
      " |-- nome_tipo_entidade: string (nullable = true)\n",
      " |-- descricao_natureza_juridica: string (nullable = true)\n",
      " |-- descricao_situacao: string (nullable = true)\n",
      " |-- empresa_publica: string (nullable = true)\n",
      " |-- codigo_sisbacen: string (nullable = true)\n",
      " |-- nome_tipo_entidade: string (nullable = true)\n",
      " |-- descricao_situacao: string (nullable = true)\n",
      " |-- nome_entidade: string (nullable = true)\n",
      " |-- nome_fantasia: string (nullable = true)\n",
      " |-- data_format: date (nullable = true)\n",
      " |-- ano_info: integer (nullable = true)\n",
      " |-- mes_info: integer (nullable = true)\n",
      " |-- tipo_controle: string (nullable = false)\n",
      "\n"
     ]
    },
    {
     "name": "stderr",
     "output_type": "stream",
     "text": [
      "                                                                                \r"
     ]
    }
   ],
   "source": [
    "df_cnpj_matriz = df_unique_info_.withColumn(\"cnpj_raiz\", cnpj_calculate(df_unique_info_[\"cnpj_raiz\"]))\n",
    "# print(df_cnpj_matriz.filter(F.col(\"cnpj_raiz\") != F.col(\"cnpj\")).count())\n",
    "\n",
    "# print(df_cnpj_matriz.filter(F.col(\"cnpj_raiz\") == F.col(\"cnpj\")).count())\n",
    "c = df_cnpj_matriz.filter(F.col(\"cnpj_raiz\") != F.col(\"cnpj\")).limit(30)\n",
    "tb = tabulate(c.collect(), headers=c.columns, tablefmt='html')\n",
    "# display(HTML(tb))\n",
    "\n",
    "tipo_controle = df_cnpj_matriz.withColumn(\"tipo_controle\", F.when(F.col(\"empresa_publica\") == \"1\", \"EMPRESA PUBLICA\").otherwise(\"EMPRESA PRIVADA\"))\n",
    "tipo_controle.printSchema()\n"
   ]
  },
  {
   "cell_type": "code",
   "execution_count": 13,
   "id": "c7cb07a5-7935-4e74-8486-b7ef55f6c736",
   "metadata": {},
   "outputs": [
    {
     "name": "stderr",
     "output_type": "stream",
     "text": [
      "24/07/27 11:57:21 WARN TaskSetManager: Stage 11 contains a task of very large size (12111 KiB). The maximum recommended task size is 1000 KiB.\n",
      "24/07/27 11:57:22 WARN TaskSetManager: Stage 12 contains a task of very large size (12111 KiB). The maximum recommended task size is 1000 KiB.\n",
      "                                                                                \r"
     ]
    },
    {
     "data": {
      "text/html": [
       "<table>\n",
       "<thead>\n",
       "<tr><th style=\"text-align: right;\">          cnpj</th><th>entity_type                                       </th><th>control_type   </th><th>legal_status                             </th><th>registration_date  </th><th>registration_name                                                                                                                                                        </th><th>company_name                      </th><th>company_type                                   </th><th>date_end  </th></tr>\n",
       "</thead>\n",
       "<tbody>\n",
       "<tr><td style=\"text-align: right;\">18539102000145</td><td>Sociedade de Arrendamento Mercantil               </td><td>EMPRESA PRIVADA</td><td>Autorizada em Atividade                  </td><td>2024-06-14         </td><td>CHG-MERIDIAN DO BRASIL ARRENDAMENTO MERCANTIL S.A.                                                                                                                       </td><td>CHG-MERIDIAN LEASING              </td><td>Sociedade Anônima de Capital Fechado           </td><td>          </td></tr>\n",
       "<tr><td style=\"text-align: right;\">75647891000171</td><td>Banco Múltiplo                                    </td><td>EMPRESA PRIVADA</td><td>Autorizada em Atividade                  </td><td>2024-06-14         </td><td>BANCO CRÉDIT AGRICOLE BRASIL S.A.                                                                                                                                        </td><td>                                  </td><td>Sociedade Anônima de Capital Fechado           </td><td>          </td></tr>\n",
       "<tr><td style=\"text-align: right;\">62257589000165</td><td>Sociedade Distribuidora de TVM                    </td><td>EMPRESA PRIVADA</td><td>Cancelada/Encerrada                      </td><td>2024-06-14         </td><td>WALL STREET DISTRIBUIDORA DE TITULOS E VALORES MOBILIARIOS LTDA                                                                                                          </td><td>                                  </td><td>Sociedade por Cota de Responsabilidade Limitada</td><td>          </td></tr>\n",
       "<tr><td style=\"text-align: right;\">62035456000144</td><td>Cooperativa de Crédito                            </td><td>EMPRESA PRIVADA</td><td>Cancelada/Encerrada                      </td><td>2024-06-14         </td><td>COOPERATIVA DE ECONOMIA E CRÉDITO MÚTUO DOS EMPREGADOS DAS EMPRESAS DE REDUTORES DE TRANSMISSÃO DO ESTADO DE SÃO PAULO - COOPER-PTI                                      </td><td>                                  </td><td>Sociedade Cooperativa                          </td><td>          </td></tr>\n",
       "<tr><td style=\"text-align: right;\">60394939000100</td><td>Banco de Investimento                             </td><td>EMPRESA PRIVADA</td><td>Regime Especial Encerrado                </td><td>2024-06-14         </td><td>COMIND BANCO DE INVESTIMENTO S.A.                                                                                                                                        </td><td>COMIND BANCO DE INVESTIMENTO S/A  </td><td>Sociedade Anônima de Capital Aberto            </td><td>          </td></tr>\n",
       "<tr><td style=\"text-align: right;\">03736906000167</td><td>Cooperativa de Crédito                            </td><td>EMPRESA PRIVADA</td><td>Cancelada/Encerrada                      </td><td>2024-06-14         </td><td>COOPERATIVA DE CREDITO RURAL DA BAIXADA CUIABANA                                                                                                                         </td><td>                                  </td><td>Sociedade Cooperativa                          </td><td>          </td></tr>\n",
       "<tr><td style=\"text-align: right;\">53339313000135</td><td>Administradora de Consórcio                       </td><td>EMPRESA PRIVADA</td><td>Cancelada/Encerrada                      </td><td>2024-06-14         </td><td>AUTO PLAN LAR EMPREENDIMENTOS,  PARTICIPAÇÕES E NEGÓCIOS S/C LTDA                                                                                                        </td><td>                                  </td><td>Sociedade por Cota de Responsabilidade Limitada</td><td>          </td></tr>\n",
       "<tr><td style=\"text-align: right;\">30304919000130</td><td>Cooperativa de Crédito                            </td><td>EMPRESA PRIVADA</td><td>Autorizada em Atividade                  </td><td>2024-06-14         </td><td>COOPERATIVA DE ECONOMIA E CRÉDITO MÚTUO DOS EMPREGADOS DA CNC, SESC E SENAC ADMINISTRAÇÕES NACIONAIS LTDA.                                                               </td><td>                                  </td><td>Sociedade Cooperativa                          </td><td>          </td></tr>\n",
       "<tr><td style=\"text-align: right;\">04181542000169</td><td>Cooperativa de Crédito                            </td><td>EMPRESA PRIVADA</td><td>Autorizada em Atividade                  </td><td>2024-06-14         </td><td>COOPERATIVA DE CREDITO DE LIVRE ADMISSAO DE PITANGUI E REGIAO LTDA. - SICOOB CREDPIT                                                                                     </td><td>                                  </td><td>Sociedade Cooperativa                          </td><td>          </td></tr>\n",
       "<tr><td style=\"text-align: right;\">11476673000139</td><td>Banco Múltiplo                                    </td><td>EMPRESA PRIVADA</td><td>Autorizada em Atividade                  </td><td>2024-06-14         </td><td>BANCO RANDON S.A.                                                                                                                                                        </td><td>                                  </td><td>Sociedade Anônima de Capital Fechado           </td><td>          </td></tr>\n",
       "<tr><td style=\"text-align: right;\">47133056000188</td><td>Instituição de Pagamento                          </td><td>EMPRESA PRIVADA</td><td>Autorizada em Atividade                  </td><td>2024-06-14         </td><td>TRANSFERO INSTITUICAO DE PAGAMENTO LTDA.                                                                                                                                 </td><td>                                  </td><td>Sociedade Empresária Limitada                  </td><td>          </td></tr>\n",
       "<tr><td style=\"text-align: right;\">45793395000165</td><td>Administradora de Consórcio                       </td><td>EMPRESA PRIVADA</td><td>Autorizada em Atividade                  </td><td>2024-06-14         </td><td>MASSEY FERGUSON ADMINISTRADORA DE CONSÓRCIOS LTDA                                                                                                                        </td><td>CONSÓRCIO NACIONAL MASSEY FERGUSON</td><td>Sociedade Empresária Limitada                  </td><td>          </td></tr>\n",
       "<tr><td style=\"text-align: right;\">02647564000146</td><td>Cooperativa de Crédito                            </td><td>EMPRESA PRIVADA</td><td>Cancelada/Encerrada                      </td><td>2024-06-14         </td><td>COOPERATIVA DE ECONOMIA E CRÉDITO MÚTUO DOS PROFISSIONAIS DA SAÚDE E EMPRESÁRIOS DE ARARAS E REGIÃO - SICOOB UNIMAIS ANHANGUERA                                          </td><td>SICOOB UNIMAIS ANHANGUERA         </td><td>Sociedade Cooperativa                          </td><td>          </td></tr>\n",
       "<tr><td style=\"text-align: right;\">92874270000140</td><td>Banco Múltiplo                                    </td><td>EMPRESA PRIVADA</td><td>Autorizada em Atividade                  </td><td>2024-06-14         </td><td>BANCO DIGIMAIS S.A.                                                                                                                                                      </td><td>                                  </td><td>Sociedade Anônima de Capital Fechado           </td><td>          </td></tr>\n",
       "<tr><td style=\"text-align: right;\">51105351000106</td><td>Administradora de Consórcio                       </td><td>EMPRESA PRIVADA</td><td>Cancelada/Encerrada                      </td><td>2024-06-14         </td><td>FENIX EMPREENDIMENTOS S/C LTDA                                                                                                                                           </td><td>                                  </td><td>Sociedade por Cota de Responsabilidade Limitada</td><td>          </td></tr>\n",
       "<tr><td style=\"text-align: right;\">07172067000152</td><td>Cooperativa de Crédito                            </td><td>EMPRESA PRIVADA</td><td>Cancelada/Encerrada                      </td><td>2024-06-14         </td><td>COOPERATIVA AGRO-PASTORIL LTDA                                                                                                                                           </td><td>                                  </td><td>Sociedade Cooperativa                          </td><td>          </td></tr>\n",
       "<tr><td style=\"text-align: right;\">05292284000150</td><td>Sociedade de Crédito ao Microempreendedor         </td><td>EMPRESA PRIVADA</td><td>Cancelada/Encerrada                      </td><td>2024-06-14         </td><td>CRESCER S/A SOCIEDADE DE CREDITO AO MICROEMPREENDEDOR                                                                                                                    </td><td>                                  </td><td>Sociedade Anônima de Capital Fechado           </td><td>          </td></tr>\n",
       "<tr><td style=\"text-align: right;\">34590184000109</td><td>Sociedade de Crédito Direto                       </td><td>EMPRESA PRIVADA</td><td>Autorizada em Atividade                  </td><td>2024-06-14         </td><td>STONE SOCIEDADE DE CRÉDITO DIRETO S.A.                                                                                                                                   </td><td>STONE SCD                         </td><td>Sociedade Anônima de Capital Fechado           </td><td>          </td></tr>\n",
       "<tr><td style=\"text-align: right;\">89238794000130</td><td>Cooperativa de Crédito                            </td><td>EMPRESA PRIVADA</td><td>Cancelada/Encerrada                      </td><td>2024-06-14         </td><td>COOPERATIVA DE CREDITO RURAL DE DOIS IRMAOS LTDA                                                                                                                         </td><td>                                  </td><td>Sociedade Cooperativa                          </td><td>          </td></tr>\n",
       "<tr><td style=\"text-align: right;\">70966171000155</td><td>Cooperativa de Crédito                            </td><td>EMPRESA PRIVADA</td><td>Cancelada/Encerrada                      </td><td>2024-06-14         </td><td>COOPERATIVA DE CRÉDITO RURAL GUARDA-MOR LTDA                                                                                                                             </td><td>                                  </td><td>Sociedade Cooperativa                          </td><td>          </td></tr>\n",
       "<tr><td style=\"text-align: right;\">87789178000141</td><td>Cooperativa de Crédito                            </td><td>EMPRESA PRIVADA</td><td>Cancelada/Encerrada                      </td><td>2024-06-14         </td><td>COOPERATIVA DE CRÉDITO, POUPANÇA E INVESTIMENTO DA REGIÃO DE PALMEIRA DAS MISSÕES - SICREDI GRANDE PALMEIRA/RS                                                           </td><td>SICREDI GRANDE PALMEIRA RS        </td><td>Sociedade Cooperativa                          </td><td>          </td></tr>\n",
       "<tr><td style=\"text-align: right;\">39343231000133</td><td>Sociedade Distribuidora de TVM                    </td><td>EMPRESA PRIVADA</td><td>Cancelada/Encerrada                      </td><td>2024-06-14         </td><td>EUROCRED DISTRIBUIDORA DE TITULOS E VALORES MOBILIARIOS LTDA                                                                                                             </td><td>                                  </td><td>Sociedade por Cota de Responsabilidade Limitada</td><td>          </td></tr>\n",
       "<tr><td style=\"text-align: right;\">87879748000194</td><td>Administradora de Consórcio                       </td><td>EMPRESA PRIVADA</td><td>Cancelada/Encerrada                      </td><td>2024-06-14         </td><td>PANAMBRA DISAL ADMINISTRADORA DE CONSÓRCIOS LTDA.                                                                                                                        </td><td>                                  </td><td>Sociedade por Cota de Responsabilidade Limitada</td><td>          </td></tr>\n",
       "<tr><td style=\"text-align: right;\">33859240000103</td><td>Sociedade Distribuidora de TVM                    </td><td>EMPRESA PRIVADA</td><td>Cancelada/Encerrada                      </td><td>2024-06-14         </td><td>OPERVAL S/A DISTRIBUIDORA DE TITULOS E VALORES MOBILIARIOS                                                                                                               </td><td>                                  </td><td>Sociedade Anônima de Capital Fechado           </td><td>          </td></tr>\n",
       "<tr><td style=\"text-align: right;\">33267246000183</td><td>Banco de Investimento                             </td><td>EMPRESA PRIVADA</td><td>Regime Especial Encerrado                </td><td>2024-06-14         </td><td>BANCO NACIONAL BRASILEIRO DE INVESTIMENTOS S.A.                                                                                                                          </td><td>                                  </td><td>Sociedade Anônima de Capital Fechado           </td><td>          </td></tr>\n",
       "<tr><td style=\"text-align: right;\">36266751000100</td><td>Sociedade Distribuidora de TVM                    </td><td>EMPRESA PRIVADA</td><td>Autorizada em Atividade                  </td><td>2024-06-14         </td><td>FINVEST DISTRIBUIDORA DE TÍTULOS E VALORES MOBILIÁRIOS LTDA.                                                                                                             </td><td>                                  </td><td>Sociedade Empresária Limitada                  </td><td>          </td></tr>\n",
       "<tr><td style=\"text-align: right;\">13059232000167</td><td>Cooperativa de Crédito                            </td><td>EMPRESA PRIVADA</td><td>Cancelada/Encerrada                      </td><td>2024-06-14         </td><td>COOPERATIVA DE CRÉDITO RURAL COM INTERAÇÃO SOLIDÁRIA DE SÃO JOÃO DO ITAPERIÚ   CRESOL SÃO JOÃO DO ITAPERIÚ                                                               </td><td>CRESOL SÃO JOÃO DO ITAPERIÚ       </td><td>Sociedade Cooperativa                          </td><td>          </td></tr>\n",
       "<tr><td style=\"text-align: right;\">91983155000140</td><td>Cooperativa de Crédito                            </td><td>EMPRESA PRIVADA</td><td>Cancelada/Encerrada                      </td><td>2024-06-14         </td><td>COOPERATIVA DE CRÉDITO DE LIVRE ADMISSÃO DE ASSOCIADOS DE PANAMBI - SICREDI PANAMBI RS                                                                                   </td><td>SICREDI PANAMBI RS                </td><td>Sociedade Cooperativa                          </td><td>          </td></tr>\n",
       "<tr><td style=\"text-align: right;\">05478479000190</td><td>Cooperativa de Crédito                            </td><td>EMPRESA PRIVADA</td><td>Cancelada/Encerrada                      </td><td>2024-06-14         </td><td>COOPERATIVA DE CRÉDITO RURAL COM INTERAÇÃO SOLIDÁRIA DE TABOCAS DO BREJO VELHO - CRESOL TABOCAS DO BREJO VELHO                                                           </td><td>CRESOL TABOCAS DO BREJO VELHO     </td><td>Sociedade Cooperativa                          </td><td>          </td></tr>\n",
       "<tr><td style=\"text-align: right;\">86739414000152</td><td>Cooperativa de Crédito                            </td><td>EMPRESA PRIVADA</td><td>Cancelada/Encerrada                      </td><td>2024-06-14         </td><td>COOPERATIVA DE CREDITO RURAL DE DUQUE DE CAXIAS LTDA                                                                                                                     </td><td>                                  </td><td>Sociedade Cooperativa                          </td><td>          </td></tr>\n",
       "<tr><td style=\"text-align: right;\">62059068000101</td><td>Sociedade Distribuidora de TVM                    </td><td>EMPRESA PRIVADA</td><td>Cancelada/Encerrada                      </td><td>2024-06-14         </td><td>PECUNIA S.A. DISTRIBUIDORA DE TITULOS E VALORES MOBILIARIOS                                                                                                              </td><td>                                  </td><td>Sociedade Anônima de Capital Fechado           </td><td>          </td></tr>\n",
       "<tr><td style=\"text-align: right;\">17826860000181</td><td>Sociedade de Crédito Direto                       </td><td>EMPRESA PRIVADA</td><td>Autorizada em Atividade                  </td><td>2024-06-14         </td><td>BMS SOCIEDADE DE CRÉDITO DIRETO S.A.                                                                                                                                     </td><td>BMS                               </td><td>Sociedade Anônima de Capital Fechado           </td><td>          </td></tr>\n",
       "<tr><td style=\"text-align: right;\">06260899000168</td><td>Cooperativa de Crédito                            </td><td>EMPRESA PRIVADA</td><td>Cancelada/Encerrada                      </td><td>2024-06-14         </td><td>COOPERATIVA DE CRÉDITO DOS PEQUENOS EMPRESÁRIOS, MICROEMPRESÁRIOS E MICROEMPREENDEDORES DAS REGIÕES METROPOLITANA, VALE DOS SINOS E PARANHANA - SICREDI EMPREENDEDORES RS</td><td>                                  </td><td>Sociedade Cooperativa                          </td><td>          </td></tr>\n",
       "<tr><td style=\"text-align: right;\">34260158000112</td><td>Sociedade de Arrendamento Mercantil               </td><td>EMPRESA PRIVADA</td><td>Cancelada/Encerrada                      </td><td>2024-06-14         </td><td>BANORTE LEASING-ARRENDAMENTO MERCANTIL S.A.                                                                                                                              </td><td>                                  </td><td>Sociedade Anônima de Capital Aberto            </td><td>          </td></tr>\n",
       "<tr><td style=\"text-align: right;\">24857112000121</td><td>                                                  </td><td>EMPRESA PRIVADA</td><td>Falta de integridade referencial na fonte</td><td>2024-06-14         </td><td>ARAGUAIA SERVICOS LTDA                                                                                                                                                   </td><td>ARAGUAIA SERVIÇOS                 </td><td>Sociedade Empresária Limitada                  </td><td>          </td></tr>\n",
       "<tr><td style=\"text-align: right;\">23103856000198</td><td>Administradora de Consórcio                       </td><td>EMPRESA PRIVADA</td><td>Cancelada/Encerrada                      </td><td>2024-06-14         </td><td>MOTOMAQ ADMINISTRADORA DE CONSORCIO LTDA - IMPEDIDA CRIAR NOVOS GRUPOS                                                                                                   </td><td>                                  </td><td>Sociedade Empresária Limitada                  </td><td>          </td></tr>\n",
       "<tr><td style=\"text-align: right;\">07262041000103</td><td>Sociedade de Crédito, Financiamento e Investimento</td><td>EMPRESA PRIVADA</td><td>Cancelada/Encerrada                      </td><td>2024-06-14         </td><td>BEC FINANCEIRA S/A - CREDITO, FINANCIAMENTO E INVESTIMENTO                                                                                                               </td><td>                                  </td><td>Sociedade Anônima de Capital Fechado           </td><td>          </td></tr>\n",
       "<tr><td style=\"text-align: right;\">00818617000119</td><td>Administradora de Consórcio                       </td><td>EMPRESA PRIVADA</td><td>Cancelada/Encerrada                      </td><td>2024-06-14         </td><td>NEWWCAR-ADMINISTRAÇÃO DE CONSÓRCIOS S/C LTDA                                                                                                                             </td><td>                                  </td><td>Sociedade por Cota de Responsabilidade Limitada</td><td>          </td></tr>\n",
       "<tr><td style=\"text-align: right;\">02934201000191</td><td>Cooperativa de Crédito                            </td><td>EMPRESA PRIVADA</td><td>Autorizada em Atividade                  </td><td>2024-06-14         </td><td>COOPERATIVA DE CRÉDITO E INVESTIMENTO COM INTERAÇÃO SOLIDÁRIA LIDERANÇA - CRESOL LIDERANÇA                                                                               </td><td>CRESOL LIDERANÇA                  </td><td>Sociedade Cooperativa                          </td><td>          </td></tr>\n",
       "<tr><td style=\"text-align: right;\">06369886000121</td><td>Sociedade de Crédito ao Microempreendedor         </td><td>EMPRESA PRIVADA</td><td>Cancelada/Encerrada                      </td><td>2024-06-14         </td><td>MATURITY SOCIEDADE DE CRÉDITO AO MICROEMPREENDEDOR LTDA.                                                                                                                 </td><td>                                  </td><td>Sociedade Empresária Limitada                  </td><td>          </td></tr>\n",
       "<tr><td style=\"text-align: right;\">08324147000149</td><td>Cooperativa de Crédito                            </td><td>EMPRESA PRIVADA</td><td>Cancelada/Encerrada                      </td><td>2024-06-14         </td><td>COOPERATIVA DE CRÉDITO DOS SERVIDORES DA LBA NO RIO GRANDE DO NORTE LTDA                                                                                                 </td><td>                                  </td><td>Sociedade Cooperativa                          </td><td>          </td></tr>\n",
       "<tr><td style=\"text-align: right;\">28080769000186</td><td>Instituição de Pagamento                          </td><td>EMPRESA PRIVADA</td><td>Autorizada em Atividade                  </td><td>2024-06-14         </td><td>BOLT CARD INSTITUIÇÃO DE PAGAMENTOS LTDA.                                                                                                                                </td><td>BOLT CARD IP                      </td><td>Sociedade Empresária Limitada                  </td><td>          </td></tr>\n",
       "<tr><td style=\"text-align: right;\">01609345000100</td><td>Cooperativa de Crédito                            </td><td>EMPRESA PRIVADA</td><td>Autorizada em Atividade                  </td><td>2024-06-14         </td><td>COOPERATIVA DE CRÉDITO CREDICAMPINA LTDA. - SICOOB CREDICAMPINA                                                                                                          </td><td>SICOOB CREDICAMPINA               </td><td>Sociedade Cooperativa                          </td><td>          </td></tr>\n",
       "<tr><td style=\"text-align: right;\">76641265000130</td><td>Sociedade Distribuidora de TVM                    </td><td>EMPRESA PRIVADA</td><td>Cancelada/Encerrada                      </td><td>2024-06-14         </td><td>DIVALPAR DISTRIBUIDORA DE TITULOS E VALORES MOBILIARIOS LTDA                                                                                                             </td><td>                                  </td><td>Sociedade por Cota de Responsabilidade Limitada</td><td>          </td></tr>\n",
       "<tr><td style=\"text-align: right;\">49616303000122</td><td>Cooperativa de Crédito                            </td><td>EMPRESA PRIVADA</td><td>Cancelada/Encerrada                      </td><td>2024-06-14         </td><td>COOPERATIVA DE ECONOMIA E CRÉDITO MÚTUO DOS FUNCIONÁRIOS DA CERÂMICA PORTO FERREIRA                                                                                      </td><td>                                  </td><td>Sociedade Cooperativa                          </td><td>          </td></tr>\n",
       "<tr><td style=\"text-align: right;\">25807769000147</td><td>Cooperativa de Crédito                            </td><td>EMPRESA PRIVADA</td><td>Cancelada/Encerrada                      </td><td>2024-06-14         </td><td>COOPERATIVA DE CRÉDITO RURAL DE COROMANDEL LTDA.                                                                                                                         </td><td>                                  </td><td>Sociedade Cooperativa                          </td><td>          </td></tr>\n",
       "<tr><td style=\"text-align: right;\">24543431000162</td><td>Administradora de Consórcio                       </td><td>EMPRESA PRIVADA</td><td>Cancelada/Encerrada                      </td><td>2024-06-14         </td><td>CONSORCIO NACIONAL SAGARANA LTDA - CANCELADA                                                                                                                             </td><td>                                  </td><td>Sociedade por Cota de Responsabilidade Limitada</td><td>          </td></tr>\n",
       "<tr><td style=\"text-align: right;\">10866788000177</td><td>Banco Múltiplo                                    </td><td>EMPRESA PRIVADA</td><td>Autorizada em Atividade                  </td><td>2024-06-14         </td><td>BANCO BANDEPE S.A.                                                                                                                                                       </td><td>BANDEPE                           </td><td>Sociedade Anônima de Capital Fechado           </td><td>          </td></tr>\n",
       "<tr><td style=\"text-align: right;\">03658739000183</td><td>Administradora de Consórcio                       </td><td>EMPRESA PRIVADA</td><td>Cancelada/Encerrada                      </td><td>2024-06-14         </td><td>CONCASA CONSORCIO NACIONAL DE CASAS S/C LTDA - IMPEDIDA CRIAR NOVOS GRUPOS                                                                                               </td><td>                                  </td><td>Sociedade por Cota de Responsabilidade Limitada</td><td>          </td></tr>\n",
       "<tr><td style=\"text-align: right;\">08801139000146</td><td>Cooperativa de Crédito                            </td><td>EMPRESA PRIVADA</td><td>Cancelada/Encerrada                      </td><td>2024-06-14         </td><td>COOPERATIVA DE CRÉDITO RURAL COM INTERAÇÃO SOLIDÁRIA DE CLEVELÂNDIA - CRESOL CLEVELÂNDIA                                                                                 </td><td>CRESOL CLEVELANDIA                </td><td>Sociedade Cooperativa                          </td><td>          </td></tr>\n",
       "</tbody>\n",
       "</table>"
      ],
      "text/plain": [
       "<IPython.core.display.HTML object>"
      ]
     },
     "metadata": {},
     "output_type": "display_data"
    }
   ],
   "source": [
    "\n",
    "df_final = (tipo_controle\n",
    "            .select(\"cnpj_raiz\", \"nome_tipo_entidade\", \"tipo_controle\",\"descricao_situacao\", \"data_format\", \"nome_entidade\", \"nome_fantasia\", \"descricao_natureza_juridica\")\n",
    "            .withColumn(\"data_final\", F.lit(None).cast(\"date\"))\n",
    ")\n",
    "\n",
    "df_final = (df_final\n",
    "            .withColumnRenamed(\"cnpj_raiz\", \"cnpj\")\n",
    "            .withColumnRenamed(\"nome_tipo_entidade\", \"entity_type\")\n",
    "            .withColumnRenamed(\"tipo_controle\", \"control_type\")\n",
    "            .withColumnRenamed(\"descricao_situacao\", \"legal_status\")\n",
    "            .withColumnRenamed(\"data_format\", \"registration_date\")\n",
    "            .withColumnRenamed(\"data_final\", \"date_end\")\n",
    "            .withColumnRenamed(\"nome_entidade\", \"registration_name\")\n",
    "            .withColumnRenamed(\"nome_fantasia\", \"company_name\")\n",
    "            .withColumnRenamed(\"descricao_natureza_juridica\", \"company_type\")\n",
    ")\n",
    "\n",
    "# df_final.printSchema()\n",
    "dSample = df_final.sample(False, 0.1).limit(50)\n",
    "tb = tabulate(dSample.collect(), headers=dSample.columns, tablefmt='html')\n",
    "display(HTML(tb))\n"
   ]
  },
  {
   "cell_type": "code",
   "execution_count": 14,
   "id": "80ef2a40-1af5-49fc-94ff-0b8fc223ae34",
   "metadata": {},
   "outputs": [
    {
     "name": "stderr",
     "output_type": "stream",
     "text": [
      "24/07/22 15:15:17 WARN TaskSetManager: Stage 12 contains a task of very large size (12111 KiB). The maximum recommended task size is 1000 KiB.\n",
      "24/07/22 15:15:18 WARN TaskSetManager: Stage 13 contains a task of very large size (12111 KiB). The maximum recommended task size is 1000 KiB.\n",
      "24/07/22 15:15:18 WARN TaskSetManager: Stage 14 contains a task of very large size (11648 KiB). The maximum recommended task size is 1000 KiB.\n",
      "24/07/22 15:15:20 WARN TaskSetManager: Stage 15 contains a task of very large size (11648 KiB). The maximum recommended task size is 1000 KiB.\n",
      "                                                                                \r"
     ]
    },
    {
     "name": "stdout",
     "output_type": "stream",
     "text": [
      "9653\n"
     ]
    },
    {
     "name": "stderr",
     "output_type": "stream",
     "text": [
      "24/07/22 15:15:27 WARN TaskSetManager: Stage 35 contains a task of very large size (12111 KiB). The maximum recommended task size is 1000 KiB.\n",
      "24/07/22 15:15:28 WARN TaskSetManager: Stage 36 contains a task of very large size (12111 KiB). The maximum recommended task size is 1000 KiB.\n",
      "24/07/22 15:15:28 WARN TaskSetManager: Stage 37 contains a task of very large size (11648 KiB). The maximum recommended task size is 1000 KiB.\n",
      "24/07/22 15:15:30 WARN TaskSetManager: Stage 38 contains a task of very large size (11648 KiB). The maximum recommended task size is 1000 KiB.\n",
      "                                                                                \r"
     ]
    },
    {
     "name": "stdout",
     "output_type": "stream",
     "text": [
      "5593\n"
     ]
    },
    {
     "name": "stderr",
     "output_type": "stream",
     "text": [
      "24/07/22 15:15:35 WARN TaskSetManager: Stage 46 contains a task of very large size (11648 KiB). The maximum recommended task size is 1000 KiB.\n",
      "24/07/22 15:15:37 WARN TaskSetManager: Stage 47 contains a task of very large size (11648 KiB). The maximum recommended task size is 1000 KiB.\n",
      "24/07/22 15:15:38 WARN TaskSetManager: Stage 48 contains a task of very large size (12111 KiB). The maximum recommended task size is 1000 KiB.\n",
      "24/07/22 15:15:39 WARN TaskSetManager: Stage 49 contains a task of very large size (12111 KiB). The maximum recommended task size is 1000 KiB.\n",
      "                                                                                \r"
     ]
    },
    {
     "name": "stdout",
     "output_type": "stream",
     "text": [
      "0\n"
     ]
    },
    {
     "name": "stderr",
     "output_type": "stream",
     "text": [
      "24/07/22 15:15:43 WARN TaskSetManager: Stage 57 contains a task of very large size (12111 KiB). The maximum recommended task size is 1000 KiB.\n",
      "24/07/22 15:15:44 WARN TaskSetManager: Stage 58 contains a task of very large size (12111 KiB). The maximum recommended task size is 1000 KiB.\n",
      "24/07/22 15:15:44 WARN TaskSetManager: Stage 59 contains a task of very large size (11648 KiB). The maximum recommended task size is 1000 KiB.\n",
      "24/07/22 15:15:45 WARN TaskSetManager: Stage 60 contains a task of very large size (11648 KiB). The maximum recommended task size is 1000 KiB.\n",
      "[Stage 69:==============>                                           (1 + 3) / 4]\r"
     ]
    },
    {
     "name": "stdout",
     "output_type": "stream",
     "text": [
      "total 15246\n"
     ]
    },
    {
     "name": "stderr",
     "output_type": "stream",
     "text": [
      "                                                                                \r"
     ]
    }
   ],
   "source": [
    "df_unique_info = df_unique_info_\n",
    "df_unique_demonstracao = df_unique_demonstracao_\n",
    "\n",
    "\n",
    "df_join_ = df_unique_info.join(\n",
    "    df_unique_demonstracao,\n",
    "    (df_unique_info[\"cnpj_raiz\"] == df_unique_demonstracao[\"codigo\"]) &\n",
    "    (df_unique_info[\"ano_info\"] == df_unique_demonstracao[\"ano\"]) &\n",
    "    (df_unique_info[\"mes_info\"] == df_unique_demonstracao[\"mes\"]),\n",
    "    \"full_outer\"\n",
    ").select(\n",
    "    df_unique_demonstracao[\"instituicao\"],\n",
    "    df_unique_demonstracao[\"tc\"],\n",
    "    df_unique_demonstracao[\"conglomerado\"],\n",
    "    df_unique_demonstracao[\"cnpj_completo\"],\n",
    "    *df_unique_info.columns\n",
    ")\n",
    "\n",
    "\n",
    "df_join = df_join_.dropDuplicates()\n",
    "\n",
    "# Filtrar registros que estão apenas no DataFrame \"demonstracao_result\"\n",
    "only_demonstracao_result = df_join.filter(\n",
    "    F.col(\"nome_entidade\").isNull() &\n",
    "    F.col(\"instituicao\").isNotNull() &\n",
    "    (F.trim(F.col(\"instituicao\")) != \"\")\n",
    ")\n",
    "\n",
    "# Filtrar registros que estão apenas no DataFrame \"info_cadastral\"\n",
    "only_info_cadastral = df_join.filter(\n",
    "    F.col(\"instituicao\").isNull() &\n",
    "    F.col(\"nome_entidade\").isNotNull() &\n",
    "    (F.trim(F.col(\"nome_entidade\")) != \"\")\n",
    ")\n",
    "\n",
    "# Filtrar registros que estão presentes em ambos DataFrames\n",
    "intersecao = df_join.filter(\n",
    "    F.col(\"instituicao\").isNotNull() &\n",
    "    (F.trim(F.col(\"instituicao\")) != \"\") &\n",
    "    F.col(\"nome_entidade\").isNotNull() &\n",
    "    (F.trim(F.col(\"nome_entidade\")) != \"\")\n",
    ")\n",
    "print(only_demonstracao_result.count())\n",
    "\n",
    "print(only_info_cadastral.count())\n",
    "\n",
    "print(intersecao.count())\n",
    "\n",
    "print(\"total\", df_join.count())\n",
    "\n",
    "\n",
    "# testee = df_sem_acento.filter(F.col(\"nome_entidade\") == \"COOPERATIVA DE CRÉDITO RURAL COM INTERAÇÃO SOLIDÁRIA DE CASTRO - CRESOL CASTRO\")\n",
    "\n",
    "# table = tabulate(testee.collect(), headers=testee.columns, tablefmt='html')\n",
    "# display(HTML(table))\n",
    "\n"
   ]
  },
  {
   "cell_type": "code",
   "execution_count": 61,
   "id": "2d8f9918-019d-488c-9cd7-9abf17db79d8",
   "metadata": {
    "editable": true,
    "scrolled": true,
    "slideshow": {
     "slide_type": ""
    },
    "tags": []
   },
   "outputs": [
    {
     "name": "stderr",
     "output_type": "stream",
     "text": [
      "24/07/18 15:42:29 WARN TaskSetManager: Stage 371 contains a task of very large size (12111 KiB). The maximum recommended task size is 1000 KiB.\n",
      "24/07/18 15:42:29 WARN TaskSetManager: Stage 372 contains a task of very large size (11648 KiB). The maximum recommended task size is 1000 KiB.\n",
      "24/07/18 15:42:32 WARN TaskSetManager: Stage 377 contains a task of very large size (12111 KiB). The maximum recommended task size is 1000 KiB.\n",
      "24/07/18 15:42:33 WARN TaskSetManager: Stage 378 contains a task of very large size (11648 KiB). The maximum recommended task size is 1000 KiB.\n",
      "24/07/18 15:42:36 WARN TaskSetManager: Stage 383 contains a task of very large size (12111 KiB). The maximum recommended task size is 1000 KiB.\n",
      "24/07/18 15:42:37 WARN TaskSetManager: Stage 384 contains a task of very large size (11648 KiB). The maximum recommended task size is 1000 KiB.\n",
      "                                                                                \r"
     ]
    },
    {
     "data": {
      "text/html": [
       "<table>\n",
       "<thead>\n",
       "<tr></tr>\n",
       "</thead>\n",
       "<tbody>\n",
       "</tbody>\n",
       "</table>"
      ],
      "text/plain": [
       "<IPython.core.display.HTML object>"
      ]
     },
     "metadata": {},
     "output_type": "display_data"
    },
    {
     "data": {
      "text/html": [
       "<table>\n",
       "<thead>\n",
       "<tr><th>instituicao  </th><th>tc  </th><th>conglomerado  </th><th>codigo  </th><th style=\"text-align: right;\">          cnpj</th><th>data      </th><th style=\"text-align: right;\">  cnpj_raiz</th><th>codigo_sisbacen  </th><th>nome_tipo_entidade                                </th><th>descricao_situacao                       </th><th>nome_entidade                                                                                    </th><th>nome_fantasia                           </th></tr>\n",
       "</thead>\n",
       "<tbody>\n",
       "<tr><td>             </td><td>    </td><td>              </td><td>        </td><td style=\"text-align: right;\">10664027000132</td><td>2024-05-23</td><td style=\"text-align: right;\">   10664027</td><td>                 </td><td>Sociedade Corretora de TVM                        </td><td>Cancelada/Encerrada                      </td><td>ABERTURA CORRETORA DE CAMBIO E VALORES MOBILIARIOS LTDA                                          </td><td>                                        </td></tr>\n",
       "<tr><td>             </td><td>    </td><td>              </td><td>        </td><td style=\"text-align: right;\">11547213000154</td><td>2024-05-23</td><td style=\"text-align: right;\">   11547213</td><td>                 </td><td>Administradora de Consórcio                       </td><td>Cancelada/Encerrada                      </td><td>ALMEIDA ADMINISTRACAO DE CONSORCIOS LTDA - IMPEDIDA CRIAR NOVOS GRUPOS                           </td><td>                                        </td></tr>\n",
       "<tr><td>             </td><td>    </td><td>              </td><td>        </td><td style=\"text-align: right;\">33756370000102</td><td>2024-05-23</td><td style=\"text-align: right;\">   33756370</td><td>                 </td><td>Sociedade Corretora de TVM                        </td><td>Cancelada/Encerrada                      </td><td>ARIJU S/A CORRETORA DE CAMBIO, TITULOS E VALORES MOBILIARIOS                                     </td><td>                                        </td></tr>\n",
       "<tr><td>             </td><td>    </td><td>              </td><td>        </td><td style=\"text-align: right;\">17338450000191</td><td>2024-05-23</td><td style=\"text-align: right;\">   17338450</td><td>                 </td><td>Sociedade Distribuidora de TVM                    </td><td>Regime Especial Encerrado                </td><td>ASTRA DISTRIBUIDORA DE TITULOS E VALORES MOBILIARIOS LTDA                                        </td><td>ASTRA DIST. TITLS. VALS. MOBILIARIOS LTD</td></tr>\n",
       "<tr><td>             </td><td>    </td><td>              </td><td>        </td><td style=\"text-align: right;\">38726063000100</td><td>2024-05-23</td><td style=\"text-align: right;\">   38726063</td><td>                 </td><td>Administradora de Consórcio                       </td><td>Cancelada/Encerrada                      </td><td>AUTO &amp; MOVEL CONSORCIOS LTDA                                                                     </td><td>                                        </td></tr>\n",
       "<tr><td>             </td><td>    </td><td>              </td><td>        </td><td style=\"text-align: right;\">15208309000149</td><td>2024-05-23</td><td style=\"text-align: right;\">   15208309</td><td>                 </td><td>Sociedade de Crédito, Financiamento e Investimento</td><td>Cancelada/Encerrada                      </td><td>BAHIA LUCRO S/A - CREDITO, FINANCIAMENTO E INVESTIMENTOS                                         </td><td>                                        </td></tr>\n",
       "<tr><td>             </td><td>    </td><td>              </td><td>        </td><td style=\"text-align: right;\">61415428000190</td><td>2024-05-23</td><td style=\"text-align: right;\">   61415428</td><td>                 </td><td>Banco Múltiplo                                    </td><td>Cancelada/Encerrada                      </td><td>BANCO DE TOKYO S.A.                                                                              </td><td>                                        </td></tr>\n",
       "<tr><td>             </td><td>    </td><td>              </td><td>        </td><td style=\"text-align: right;\">45666609000132</td><td>2024-05-23</td><td style=\"text-align: right;\">   45666609</td><td>                 </td><td>Banco Comercial Estrangeiro - Filial no país      </td><td>Cancelada/Encerrada                      </td><td>BANCO HISPANO AMERICANO S.A.                                                                     </td><td>                                        </td></tr>\n",
       "<tr><td>             </td><td>    </td><td>              </td><td>        </td><td style=\"text-align: right;\">60700556000465</td><td>2024-05-23</td><td style=\"text-align: right;\">   60700556</td><td>                 </td><td>Banco Múltiplo                                    </td><td>Cancelada/Encerrada                      </td><td>BANCO SANTANDER NOROESTE S.A.                                                                    </td><td>                                        </td></tr>\n",
       "<tr><td>             </td><td>    </td><td>              </td><td>        </td><td style=\"text-align: right;\">74419714000175</td><td>2024-05-23</td><td style=\"text-align: right;\">   74419714</td><td>                 </td><td>Banco de Investimento                             </td><td>Cancelada/Encerrada                      </td><td>BANCO SINTESE DE INVESTIMENTO S.A.                                                               </td><td>                                        </td></tr>\n",
       "<tr><td>             </td><td>    </td><td>              </td><td>        </td><td style=\"text-align: right;\">33801796000130</td><td>2024-05-23</td><td style=\"text-align: right;\">   33801796</td><td>                 </td><td>Banco de Investimento                             </td><td>Cancelada/Encerrada                      </td><td>BANERJ - BANCO DE INVESTIMENTOS S/A                                                              </td><td>                                        </td></tr>\n",
       "<tr><td>             </td><td>    </td><td>              </td><td>        </td><td style=\"text-align: right;\">59233502000105</td><td>2024-05-23</td><td style=\"text-align: right;\">   59233502</td><td>                 </td><td>Banco de Investimento                             </td><td>Cancelada/Encerrada                      </td><td>BBA-CREDITANSTALT BANCO DE INVESTIMENTO S/A                                                      </td><td>                                        </td></tr>\n",
       "<tr><td>             </td><td>    </td><td>              </td><td>        </td><td style=\"text-align: right;\">68327295000149</td><td>2024-05-23</td><td style=\"text-align: right;\">   68327295</td><td>                 </td><td>Administradora de Consórcio                       </td><td>Cancelada/Encerrada                      </td><td>BEMFACIL ADMINISTRADORA DE CONSORCIOS S/C LTDA                                                   </td><td>                                        </td></tr>\n",
       "<tr><td>             </td><td>    </td><td>              </td><td>        </td><td style=\"text-align: right;\">50603067000199</td><td>2024-05-23</td><td style=\"text-align: right;\">   50603067</td><td>                 </td><td>                                                  </td><td>Falta de integridade referencial na fonte</td><td>CARMOTO PARTICIPACOES E INTERMEDIACOES DE BENS MOVEIS LTDA                                       </td><td>CARMOTO                                 </td></tr>\n",
       "<tr><td>             </td><td>    </td><td>              </td><td>        </td><td style=\"text-align: right;\">21593744000137</td><td>2024-05-23</td><td style=\"text-align: right;\">   21593744</td><td>                 </td><td>Sociedade Distribuidora de TVM                    </td><td>Cancelada/Encerrada                      </td><td>CEDISVAL DISTRIBUIDORA DE TITULOS E VALORES MOBILIARIOS LTDA                                     </td><td>                                        </td></tr>\n",
       "<tr><td>             </td><td>    </td><td>              </td><td>        </td><td style=\"text-align: right;\">33858630000150</td><td>2024-05-23</td><td style=\"text-align: right;\">   33858630</td><td>                 </td><td>Sociedade Distribuidora de TVM                    </td><td>Cancelada/Encerrada                      </td><td>CEDRO DISTRIBUIDORA DE TÍTULOS E VALORES MOBILIÁRIOS LTDA                                        </td><td>                                        </td></tr>\n",
       "<tr><td>             </td><td>    </td><td>              </td><td>        </td><td style=\"text-align: right;\">61606976000105</td><td>2024-05-23</td><td style=\"text-align: right;\">   61606976</td><td>                 </td><td>                                                  </td><td>Falta de integridade referencial na fonte</td><td>CNDP PARTICIPACOES LTDA                                                                          </td><td>                                        </td></tr>\n",
       "<tr><td>             </td><td>    </td><td>              </td><td>        </td><td style=\"text-align: right;\">25693912000117</td><td>2024-05-23</td><td style=\"text-align: right;\">   25693912</td><td>                 </td><td>Administradora de Consórcio                       </td><td>Cancelada/Encerrada                      </td><td>CONSÓRCIO NORTE SUL LTDA - IMPEDIDA CRIAR NOVOS GRUPOS                                           </td><td>                                        </td></tr>\n",
       "<tr><td>             </td><td>    </td><td>              </td><td>        </td><td style=\"text-align: right;\">88655261000190</td><td>2024-05-23</td><td style=\"text-align: right;\">   88655261</td><td>                 </td><td>Sociedade Distribuidora de TVM                    </td><td>Cancelada/Encerrada                      </td><td>CONTE DISTRIBUIDORA DE TITULOS E VALORES MOBILIARIOS LTDA                                        </td><td>                                        </td></tr>\n",
       "<tr><td>             </td><td>    </td><td>              </td><td>        </td><td style=\"text-align: right;\">28952679000138</td><td>2024-05-23</td><td style=\"text-align: right;\">   28952679</td><td>                 </td><td>Cooperativa de Crédito                            </td><td>Cancelada/Encerrada                      </td><td>COOPERATIVA DE CREDITO DOS LAVRADORES DE CANA DE ACUCAR DO ESTADO DO RIO JANEIRO LTDA-COOPERCREDI</td><td>                                        </td></tr>\n",
       "<tr><td>             </td><td>    </td><td>              </td><td>        </td><td style=\"text-align: right;\">36904191000163</td><td>2024-05-23</td><td style=\"text-align: right;\">   36904191</td><td>                 </td><td>Cooperativa de Crédito                            </td><td>Cancelada/Encerrada                      </td><td>COOPERATIVA DE CREDITO RURAL DE ALTA FLORESTA LTDA.                                              </td><td>                                        </td></tr>\n",
       "<tr><td>             </td><td>    </td><td>              </td><td>        </td><td style=\"text-align: right;\">86739414000152</td><td>2024-05-23</td><td style=\"text-align: right;\">   86739414</td><td>                 </td><td>Cooperativa de Crédito                            </td><td>Cancelada/Encerrada                      </td><td>COOPERATIVA DE CREDITO RURAL DE DUQUE DE CAXIAS LTDA                                             </td><td>                                        </td></tr>\n",
       "<tr><td>             </td><td>    </td><td>              </td><td>        </td><td style=\"text-align: right;\">32470924000148</td><td>2024-05-23</td><td style=\"text-align: right;\">   32470924</td><td>                 </td><td>Cooperativa de Crédito                            </td><td>Cancelada/Encerrada                      </td><td>COOPERATIVA DE CREDITO RURAL DE ITAGUACU - SICOOB ITAGUACU                                       </td><td>                                        </td></tr>\n",
       "<tr><td>             </td><td>    </td><td>              </td><td>        </td><td style=\"text-align: right;\">36513018000134</td><td>2024-05-23</td><td style=\"text-align: right;\">   36513018</td><td>                 </td><td>Cooperativa de Crédito                            </td><td>Cancelada/Encerrada                      </td><td>COOPERATIVA DE CREDITO RURAL DE RESENDE LTDA                                                     </td><td>                                        </td></tr>\n",
       "<tr><td>             </td><td>    </td><td>              </td><td>        </td><td style=\"text-align: right;\">05003587000106</td><td>2024-05-23</td><td style=\"text-align: right;\">   05003587</td><td>                 </td><td>Cooperativa de Crédito                            </td><td>Cancelada/Encerrada                      </td><td>COOPERATIVA DE CREDITO RURAL DE SANTANA DO LIVRAMENTO LTDA                                       </td><td>                                        </td></tr>\n",
       "<tr><td>             </td><td>    </td><td>              </td><td>        </td><td style=\"text-align: right;\">26408153000166</td><td>2024-05-23</td><td style=\"text-align: right;\">   26408153</td><td>                 </td><td>Cooperativa de Crédito                            </td><td>Cancelada/Encerrada                      </td><td>COOPERATIVA DE CREDITO RURAL DE SIDROLANDIA LTDA                                                 </td><td>                                        </td></tr>\n",
       "<tr><td>             </td><td>    </td><td>              </td><td>        </td><td style=\"text-align: right;\">              </td><td>2024-05-23</td><td style=\"text-align: right;\">           </td><td>                 </td><td>Cooperativa de Crédito                            </td><td>Cancelada/Encerrada                      </td><td>COOPERATIVA DE CRÉDITO DOS FORNECEDORES/FUNCIONÁRIOS DA PREFEITURA MUNICIPAL DE PAULINIA         </td><td>                                        </td></tr>\n",
       "<tr><td>             </td><td>    </td><td>              </td><td>        </td><td style=\"text-align: right;\">09418427000189</td><td>2024-05-23</td><td style=\"text-align: right;\">   09418427</td><td>                 </td><td>Cooperativa de Crédito                            </td><td>Cancelada/Encerrada                      </td><td>COOPERATIVA DE CRÉDITO MÚTUO DOS SÓCIOS DA ASSOCIAÇÃO DOS CICLISTAS CEARENSES LTDA               </td><td>                                        </td></tr>\n",
       "<tr><td>             </td><td>    </td><td>              </td><td>        </td><td style=\"text-align: right;\">91692186000142</td><td>2024-05-23</td><td style=\"text-align: right;\">   91692186</td><td>                 </td><td>Cooperativa de Crédito                            </td><td>Cancelada/Encerrada                      </td><td>COOPERATIVA DE ECONOMIA E CREDITO MUTUO DOS EMPREGADOS DA FIRMA HAAS LTDA                        </td><td>                                        </td></tr>\n",
       "<tr><td>             </td><td>    </td><td>              </td><td>        </td><td style=\"text-align: right;\">14882179000162</td><td>2024-05-23</td><td style=\"text-align: right;\">   14882179</td><td>                 </td><td>Cooperativa de Crédito                            </td><td>Cancelada/Encerrada                      </td><td>COOPERATIVA DE ECONOMIA E CREDITO MUTUO DOS FUNCIONARIOS DAS EMPRESAS ITAU EM CORUMBA LTDA       </td><td>                                        </td></tr>\n",
       "</tbody>\n",
       "</table>"
      ],
      "text/plain": [
       "<IPython.core.display.HTML object>"
      ]
     },
     "metadata": {},
     "output_type": "display_data"
    },
    {
     "data": {
      "text/html": [
       "<table>\n",
       "<thead>\n",
       "<tr><th>instituicao                                                                     </th><th style=\"text-align: right;\">  tc</th><th>conglomerado                   </th><th style=\"text-align: right;\">  codigo</th><th style=\"text-align: right;\">          cnpj</th><th>data      </th><th style=\"text-align: right;\">  cnpj_raiz</th><th style=\"text-align: right;\">  codigo_sisbacen</th><th>nome_tipo_entidade                                         </th><th>descricao_situacao                       </th><th>nome_entidade                                                                   </th><th>nome_fantasia                                  </th></tr>\n",
       "</thead>\n",
       "<tbody>\n",
       "<tr><td>QUANTO NETWORK INSTITUICAO DE PAGAMENTO LTDA.                                   </td><td style=\"text-align: right;\">   2</td><td>QUANTO NETWORK IP - PRUDENCIAL </td><td style=\"text-align: right;\">42064545</td><td style=\"text-align: right;\">42064545000101</td><td>2024-05-23</td><td style=\"text-align: right;\">   42064545</td><td style=\"text-align: right;\">            00005</td><td>Instituição de Pagamento                                   </td><td>Autorizada em Atividade                  </td><td>QUANTO NETWORK INSTITUICAO DE PAGAMENTO LTDA.                                   </td><td>QUANTO                                         </td></tr>\n",
       "<tr><td>BLU INSTITUIÇÃO DE PAGAMENTO LTDA.                                              </td><td style=\"text-align: right;\">   2</td><td>BLU IP - PRUDENCIAL            </td><td style=\"text-align: right;\">10506341</td><td style=\"text-align: right;\">10506341000197</td><td>2024-05-23</td><td style=\"text-align: right;\">   10506341</td><td style=\"text-align: right;\">            00059</td><td>Instituição de Pagamento                                   </td><td>Autorizada em Atividade                  </td><td>BLU INSTITUIÇÃO DE PAGAMENTO LTDA.                                              </td><td>BLU IP                                         </td></tr>\n",
       "<tr><td>ZOOP TECNOLOGIA &amp; INSTITUICAO DE PAGAMENTO S.A.                                 </td><td style=\"text-align: right;\">   2</td><td>ZOOP TECNOLOGIA IP - PRUDENCIAL</td><td style=\"text-align: right;\">19468242</td><td style=\"text-align: right;\">19468242000213</td><td>2024-05-23</td><td style=\"text-align: right;\">   19468242</td><td style=\"text-align: right;\">            00137</td><td>Instituição de Pagamento                                   </td><td>Autorizada em Atividade                  </td><td>ZOOP TECNOLOGIA &amp; INSTITUICAO DE PAGAMENTO S.A.                                 </td><td>ZOOP TECNOLOGIA &amp; INSTITUIÇÃO DE PAGAMENTO S.A.</td></tr>\n",
       "<tr><td>BANCO BANERJ S.A.                                                               </td><td style=\"text-align: right;\">   2</td><td>ITAU                           </td><td style=\"text-align: right;\">33885724</td><td style=\"text-align: right;\">33885724000119</td><td>2024-05-23</td><td style=\"text-align: right;\">   33885724</td><td style=\"text-align: right;\">            04029</td><td>Banco Múltiplo                                             </td><td>Autorizada em Atividade                  </td><td>BANCO ITAÚ CONSIGNADO S.A.                                                      </td><td>BANCO ITAÚ CONSIGNADO S.A.                     </td></tr>\n",
       "<tr><td>BANCO ITAÚ BMG CONSIGNADO S.A.                                                  </td><td style=\"text-align: right;\">   2</td><td>ITAU                           </td><td style=\"text-align: right;\">33885724</td><td style=\"text-align: right;\">33885724000119</td><td>2024-05-23</td><td style=\"text-align: right;\">   33885724</td><td style=\"text-align: right;\">            04029</td><td>Banco Múltiplo                                             </td><td>Autorizada em Atividade                  </td><td>BANCO ITAÚ CONSIGNADO S.A.                                                      </td><td>BANCO ITAÚ CONSIGNADO S.A.                     </td></tr>\n",
       "<tr><td>UBS PACTUAL CORRETORA DE TÍTULOS E VALORES MOBILIÁRIOS S.A.                     </td><td style=\"text-align: right;\">   3</td><td>UBS PACTUAL                    </td><td style=\"text-align: right;\">43815158</td><td style=\"text-align: right;\">43815158000122</td><td>2024-05-23</td><td style=\"text-align: right;\">   43815158</td><td style=\"text-align: right;\">            05211</td><td>Sociedade Corretora de TVM                                 </td><td>Autorizada em Atividade                  </td><td>BTG PACTUAL CORRETORA DE TÍTULOS E VALORES MOBILIÁRIOS S.A.                     </td><td>BTG PACTUAL CTVM S.A.                          </td></tr>\n",
       "<tr><td>BTG PACTUAL CORRETORA DE TÍTULOS E VALORES MOBILIÁRIOS S.A.                     </td><td style=\"text-align: right;\">   2</td><td>BTG PACTUAL                    </td><td style=\"text-align: right;\">43815158</td><td style=\"text-align: right;\">43815158000122</td><td>2024-05-23</td><td style=\"text-align: right;\">   43815158</td><td style=\"text-align: right;\">            05211</td><td>Sociedade Corretora de TVM                                 </td><td>Autorizada em Atividade                  </td><td>BTG PACTUAL CORRETORA DE TÍTULOS E VALORES MOBILIÁRIOS S.A.                     </td><td>BTG PACTUAL CTVM S.A.                          </td></tr>\n",
       "<tr><td>BANCO GE CAPITAL S.A.                                                           </td><td style=\"text-align: right;\">   2</td><td>BMG                            </td><td style=\"text-align: right;\">62421979</td><td style=\"text-align: right;\">62421979000129</td><td>2024-05-23</td><td style=\"text-align: right;\">   62421979</td><td style=\"text-align: right;\">            05233</td><td>Banco Múltiplo                                             </td><td>Autorizada em Atividade                  </td><td>BANCO CIFRA S.A.                                                                </td><td>BANCO CIFRA                                    </td></tr>\n",
       "<tr><td>BANCO LETSBANK S.A.                                                             </td><td style=\"text-align: right;\">   2</td><td>BANCO VOITER - PRUDENCIAL      </td><td style=\"text-align: right;\">58497702</td><td style=\"text-align: right;\">58497702000102</td><td>2024-05-23</td><td style=\"text-align: right;\">   58497702</td><td style=\"text-align: right;\">            05630</td><td>Banco Múltiplo                                             </td><td>Autorizada em Atividade                  </td><td>BANCO LETSBANK S.A.                                                             </td><td>LETSBANK                                       </td></tr>\n",
       "<tr><td>BANCO ITAUBANK S.A.                                                             </td><td style=\"text-align: right;\">   2</td><td>ITAU - PRUDENCIAL              </td><td style=\"text-align: right;\">60394079</td><td style=\"text-align: right;\">60394079000104</td><td>2024-05-23</td><td style=\"text-align: right;\">   60394079</td><td style=\"text-align: right;\">            06479</td><td>Banco Múltiplo                                             </td><td>Autorizada em Atividade                  </td><td>BANCO ITAUBANK S.A.                                                             </td><td>ITAUBANK                                       </td></tr>\n",
       "<tr><td>COMPANHIA AMERICA DO SUL DE ARRENDAMENTO MERCANTIL                              </td><td style=\"text-align: right;\">   3</td><td>SUDAMERIS                      </td><td style=\"text-align: right;\">62307848</td><td style=\"text-align: right;\">62307848000115</td><td>2024-05-23</td><td style=\"text-align: right;\">   62307848</td><td style=\"text-align: right;\">            08336</td><td>Banco Múltiplo                                             </td><td>Autorizada em Atividade                  </td><td>BANCO RCI BRASIL S.A.                                                           </td><td>MOBILIZE FINANCIAL SERVICES                    </td></tr>\n",
       "<tr><td>J&amp;F DISTRIBUIDORA DE TÍTULOS E VALORES MOBILIÁRIOS LTDA                         </td><td style=\"text-align: right;\">   2</td><td>BANCO ORIGINAL - PRUDENCIAL    </td><td style=\"text-align: right;\">07138049</td><td style=\"text-align: right;\">07138049000154</td><td>2024-05-23</td><td style=\"text-align: right;\">   07138049</td><td style=\"text-align: right;\">            12261</td><td>Sociedade Distribuidora de TVM                             </td><td>Autorizada em Atividade                  </td><td>PICPAY INVEST DISTRIBUIDORA DE TÍTULOS E VALORES MOBILIÁRIOS LTDA               </td><td>PICPAY INVEST                                  </td></tr>\n",
       "<tr><td>SANTANDER ASSET MANAGEMENT DISTRIBUIDORA DE TÍTULOS E VALORES MOBILIÁRIOS LTDA. </td><td style=\"text-align: right;\">   3</td><td>SANTANDER BANESPA              </td><td style=\"text-align: right;\">73159642</td><td style=\"text-align: right;\">73159642000101</td><td>2024-05-23</td><td style=\"text-align: right;\">   73159642</td><td style=\"text-align: right;\">            24475</td><td>Sociedade Distribuidora de TVM                             </td><td>Cancelada/Encerrada                      </td><td>SANTANDER ASSET MANAGEMENT DISTRIBUIDORA DE TÍTULOS E VALORES MOBILIÁRIOS LTDA. </td><td>SANTANDER BANESPA                              </td></tr>\n",
       "<tr><td>WESTERN UNION CORRETORA DE CÂMBIO S.A.                                          </td><td style=\"text-align: right;\">   3</td><td>WESTERN UNION - PRUDENCIAL     </td><td style=\"text-align: right;\">13728156</td><td style=\"text-align: right;\">13728156009515</td><td>2024-05-23</td><td style=\"text-align: right;\">   13728156</td><td style=\"text-align: right;\">            28996</td><td>Sociedade Corretora de Câmbio                              </td><td>Autorizada em Atividade                  </td><td>WESTERN UNION CORRETORA DE CÂMBIO S.A.                                          </td><td>WESTERN UNION CORRETORA                        </td></tr>\n",
       "<tr><td>BANCO LOSANGO S.A. - BANCO MÚLTIPLO                                             </td><td style=\"text-align: right;\">   3</td><td>HSBC                           </td><td style=\"text-align: right;\">33254319</td><td style=\"text-align: right;\">33254319008420</td><td>2024-05-23</td><td style=\"text-align: right;\">   33254319</td><td style=\"text-align: right;\">            31168</td><td>Banco Múltiplo                                             </td><td>Autorizada em Atividade                  </td><td>BANCO LOSANGO S.A. - BANCO MÚLTIPLO                                             </td><td>BANCO LOSANGO S.A.                             </td></tr>\n",
       "<tr><td>BANCO OURINVEST S.A.                                                            </td><td style=\"text-align: right;\">   2</td><td>OURINVEST                      </td><td style=\"text-align: right;\">78632767</td><td style=\"text-align: right;\">78632767000120</td><td>2024-05-23</td><td style=\"text-align: right;\">   78632767</td><td style=\"text-align: right;\">            31712</td><td>Banco Múltiplo                                             </td><td>Autorizada em Atividade                  </td><td>BANCO OURINVEST S.A.                                                            </td><td>OURIBANK                                       </td></tr>\n",
       "<tr><td>COINVALORES DISTRIBUIDORA DE TÍTULOS E VALORES MOBILIÁRIOS LTDA                 </td><td style=\"text-align: right;\">   2</td><td>COINVALORES                    </td><td style=\"text-align: right;\">59148775</td><td style=\"text-align: right;\">59148775000151</td><td>2024-05-23</td><td style=\"text-align: right;\">   59148775</td><td style=\"text-align: right;\">            37096</td><td>Administradora de Fundos não sujeita a autorização pelo BCB</td><td>Falta de integridade referencial na fonte</td><td>COINVEST SERVICOS E NEGOCIOS LTDA.                                              </td><td>COINVEST EMPREENDIMENTOS                       </td></tr>\n",
       "<tr><td>FRIZZO PECUNIA - DISTRIBUIDORA DE TÍTULOS E VALORES MOBILIÁRIOS LTDA.           </td><td style=\"text-align: right;\">   2</td><td>PECUNIA                        </td><td style=\"text-align: right;\">62264924</td><td style=\"text-align: right;\">62264924000152</td><td>2024-05-23</td><td style=\"text-align: right;\">   62264924</td><td style=\"text-align: right;\">            37541</td><td>Sociedade Distribuidora de TVM                             </td><td>Autorizada em Atividade                  </td><td>CP &amp; FRIZZO - DISTRIBUIDORA DE TÍTULOS E VALORES MOBILIÁRIOS LTDA               </td><td>CP &amp; FRIZZO - DTVM LTDA                        </td></tr>\n",
       "<tr><td>BTG PACTUAL ASSET MANAGEMENT S.A. DISTRIBUIDORA DE TÍTULOS E VALORES MOBILIÁRIOS</td><td style=\"text-align: right;\">   2</td><td>BTG PACTUAL                    </td><td style=\"text-align: right;\">29650082</td><td style=\"text-align: right;\">29650082000363</td><td>2024-05-23</td><td style=\"text-align: right;\">   29650082</td><td style=\"text-align: right;\">            37811</td><td>Sociedade Distribuidora de TVM                             </td><td>Autorizada em Atividade                  </td><td>BTG PACTUAL ASSET MANAGEMENT S.A. DISTRIBUIDORA DE TÍTULOS E VALORES MOBILIÁRIOS</td><td>BTG PACTUAL ASSET MANAGEMENT S.A. DTVM         </td></tr>\n",
       "<tr><td>PACTUAL S.A.-DISTRIBUIDORA DE TITULOS E VALORES MOBILIARIOS                     </td><td style=\"text-align: right;\">   2</td><td>PACTUAL                        </td><td style=\"text-align: right;\">29650082</td><td style=\"text-align: right;\">29650082000363</td><td>2024-05-23</td><td style=\"text-align: right;\">   29650082</td><td style=\"text-align: right;\">            37811</td><td>Sociedade Distribuidora de TVM                             </td><td>Autorizada em Atividade                  </td><td>BTG PACTUAL ASSET MANAGEMENT S.A. DISTRIBUIDORA DE TÍTULOS E VALORES MOBILIÁRIOS</td><td>BTG PACTUAL ASSET MANAGEMENT S.A. DTVM         </td></tr>\n",
       "<tr><td>BANCO OLÉ CONSIGNADO S.A.                                                       </td><td style=\"text-align: right;\">   3</td><td>SANTANDER                      </td><td style=\"text-align: right;\">71371686</td><td style=\"text-align: right;\">71371686000175</td><td>2024-05-23</td><td style=\"text-align: right;\">   71371686</td><td style=\"text-align: right;\">            38022</td><td>Banco Múltiplo                                             </td><td>Cancelada/Encerrada                      </td><td>BANCO OLÉ CONSIGNADO S.A.                                                       </td><td>OLÉ CONSIGNADO                                 </td></tr>\n",
       "<tr><td>BMP SOCIEDADE DE CRÉDITO DIRETO S.A                                             </td><td style=\"text-align: right;\">   2</td><td>BMP SCMEPP LTDA - PRUDENCIAL   </td><td style=\"text-align: right;\">34337707</td><td style=\"text-align: right;\">34337707000100</td><td>2024-05-23</td><td style=\"text-align: right;\">   34337707</td><td style=\"text-align: right;\">            42687</td><td>Sociedade de Crédito Direto                                </td><td>Autorizada em Atividade                  </td><td>BMP SOCIEDADE DE CRÉDITO DIRETO S.A                                             </td><td>BMP                                            </td></tr>\n",
       "<tr><td>DMCARD SOCIEDADE DE CRÉDITO DIRETO S.A.                                         </td><td style=\"text-align: right;\">   2</td><td>DMCARD SCD - PRUDENCIAL        </td><td style=\"text-align: right;\">37555231</td><td style=\"text-align: right;\">37555231000171</td><td>2024-05-23</td><td style=\"text-align: right;\">   37555231</td><td style=\"text-align: right;\">            42823</td><td>Sociedade de Crédito Direto                                </td><td>Autorizada em Atividade                  </td><td>DM SOCIEDADE DE CRÉDITO DIRETO S.A.                                             </td><td>DM                                             </td></tr>\n",
       "<tr><td>ADIQ SOLUCOES DE PAGAMENTO S.A.                                                 </td><td style=\"text-align: right;\">   2</td><td>BS2 - PRUDENCIAL               </td><td style=\"text-align: right;\">20520298</td><td style=\"text-align: right;\">20520298000178</td><td>2024-05-23</td><td style=\"text-align: right;\">   20520298</td><td style=\"text-align: right;\">            42872</td><td>Instituição de Pagamento                                   </td><td>Autorizada em Atividade                  </td><td>ADIQ INSTITUIÇÃO DE PAGAMENTO S.A.                                              </td><td>ADIQ SOLUÇÕES DE PAGAMENTO                     </td></tr>\n",
       "<tr><td>CREDIFIT SOCIEDADE DE CRÉDITO DIRETO S.A.                                       </td><td style=\"text-align: right;\">   2</td><td>CREDIFIT SCD - PRUDENCIAL      </td><td style=\"text-align: right;\">39676772</td><td style=\"text-align: right;\">39676772000183</td><td>2024-05-23</td><td style=\"text-align: right;\">   39676772</td><td style=\"text-align: right;\">            42935</td><td>Sociedade de Crédito Direto                                </td><td>Autorizada em Atividade                  </td><td>CREDIFIT SOCIEDADE DE CRÉDITO DIRETO S.A.                                       </td><td>CREDIFIT                                       </td></tr>\n",
       "<tr><td>QISTA S.A. - CRÉDITO, FINANCIAMENTO E INVESTIMENTO                              </td><td style=\"text-align: right;\">   2</td><td>QISTA S.A. CFI - PRUDENCIAL    </td><td style=\"text-align: right;\">36583700</td><td style=\"text-align: right;\">36583700000101</td><td>2024-05-23</td><td style=\"text-align: right;\">   36583700</td><td style=\"text-align: right;\">            43205</td><td>Sociedade de Crédito, Financiamento e Investimento         </td><td>Autorizada em Atividade                  </td><td>QISTA S.A. - CRÉDITO, FINANCIAMENTO E INVESTIMENTO                              </td><td>QISTA                                          </td></tr>\n",
       "<tr><td>INTER AMERICAN EXPRESS ARRENDAMENTO MERCANTIL S.A.                              </td><td style=\"text-align: right;\">   3</td><td>INTER AMEX                     </td><td style=\"text-align: right;\">27098060</td><td style=\"text-align: right;\">27098060000145</td><td>2024-05-23</td><td style=\"text-align: right;\">   27098060</td><td style=\"text-align: right;\">            53049</td><td>Banco Múltiplo                                             </td><td>Autorizada em Atividade                  </td><td>BANCO DIGIO S.A.                                                                </td><td>BANCO CBSS                                     </td></tr>\n",
       "<tr><td>CCB BRASIL ARRENDAMENTO MERCANTIL S/A.                                          </td><td style=\"text-align: right;\">   3</td><td>CCB - PRUDENCIAL               </td><td style=\"text-align: right;\">69720910</td><td style=\"text-align: right;\">69720910000145</td><td>2024-05-23</td><td style=\"text-align: right;\">   69720910</td><td style=\"text-align: right;\">            53124</td><td>Sociedade de Arrendamento Mercantil                        </td><td>Autorizada em Atividade                  </td><td>CCB BRASIL ARRENDAMENTO MERCANTIL S/A.                                          </td><td>CCB LEASING                                    </td></tr>\n",
       "<tr><td>FATOR S/A - CORRETORA DE VALORES                                                </td><td style=\"text-align: right;\">   2</td><td>FATOR                          </td><td style=\"text-align: right;\">63062749</td><td style=\"text-align: right;\">63062749000183</td><td>2024-05-23</td><td style=\"text-align: right;\">   63062749</td><td style=\"text-align: right;\">            57095</td><td>Sociedade Corretora de TVM                                 </td><td>Autorizada em Atividade                  </td><td>FXC CORRETORA DE VALORES S.A.                                                   </td><td>FXC CV S.A.                                    </td></tr>\n",
       "<tr><td>FXC CORRETORA DE VALORES S.A.                                                   </td><td style=\"text-align: right;\">   2</td><td>BTG PACTUAL - PRUDENCIAL       </td><td style=\"text-align: right;\">63062749</td><td style=\"text-align: right;\">63062749000183</td><td>2024-05-23</td><td style=\"text-align: right;\">   63062749</td><td style=\"text-align: right;\">            57095</td><td>Sociedade Corretora de TVM                                 </td><td>Autorizada em Atividade                  </td><td>FXC CORRETORA DE VALORES S.A.                                                   </td><td>FXC CV S.A.                                    </td></tr>\n",
       "</tbody>\n",
       "</table>"
      ],
      "text/plain": [
       "<IPython.core.display.HTML object>"
      ]
     },
     "metadata": {},
     "output_type": "display_data"
    }
   ],
   "source": [
    "sample_only_demonstracao_result = only_demonstracao_result.sample(False, 0.1).limit(30)\n",
    "\n",
    "tb_only_demonstracao_result = tabulate(only_demonstracao_result.collect(), headers=only_demonstracao_result.columns, tablefmt='html')\n",
    "\n",
    "sample_only_info_cadastral = only_info_cadastral.sample(False, 0.1).limit(30)\n",
    "\n",
    "tb_only_info_cadastral = tabulate(sample_only_info_cadastral.collect(), headers=sample_only_info_cadastral.columns, tablefmt='html')\n",
    "\n",
    "sample_intersecao =intersecao.sample(False, 0.1).limit(30)\n",
    "\n",
    "tb_intersecao = tabulate(sample_intersecao.collect(), headers=sample_intersecao.columns, tablefmt='html')\n",
    "\n",
    "display(HTML(tb_only_demonstracao_result))\n",
    "display(HTML(tb_only_info_cadastral))\n",
    "display(HTML(tb_intersecao))\n",
    "\n"
   ]
  },
  {
   "cell_type": "code",
   "execution_count": 13,
   "id": "596c374b-e32d-4fc4-bac1-28f7b7576005",
   "metadata": {
    "scrolled": true
   },
   "outputs": [
    {
     "name": "stdout",
     "output_type": "stream",
     "text": [
      "root\n",
      " |-- instituicao: string (nullable = true)\n",
      " |-- tc: string (nullable = true)\n",
      " |-- conglomerado: string (nullable = true)\n",
      " |-- codigo: string (nullable = true)\n",
      " |-- cnpj: string (nullable = true)\n",
      " |-- data: string (nullable = true)\n",
      " |-- cnpj_raiz: string (nullable = true)\n",
      " |-- codigo_sisbacen: string (nullable = true)\n",
      " |-- nome_tipo_entidade: string (nullable = true)\n",
      " |-- descricao_situacao: string (nullable = true)\n",
      " |-- nome_entidade: string (nullable = true)\n",
      " |-- nome_fantasia: string (nullable = true)\n",
      "\n"
     ]
    },
    {
     "name": "stderr",
     "output_type": "stream",
     "text": [
      "24/07/18 17:15:04 WARN TaskSetManager: Stage 110 contains a task of very large size (12111 KiB). The maximum recommended task size is 1000 KiB.\n",
      "24/07/18 17:15:04 WARN TaskSetManager: Stage 111 contains a task of very large size (11648 KiB). The maximum recommended task size is 1000 KiB.\n",
      "                                                                                \r"
     ]
    },
    {
     "data": {
      "text/html": [
       "<table>\n",
       "<thead>\n",
       "<tr><th>instituicao                                                                            </th><th style=\"text-align: right;\">  tc</th><th>conglomerado                                   </th><th style=\"text-align: right;\">  codigo</th><th style=\"text-align: right;\">          cnpj</th><th>data      </th><th style=\"text-align: right;\">  cnpj_raiz</th><th style=\"text-align: right;\">  codigo_sisbacen</th><th>nome_tipo_entidade                                         </th><th>descricao_situacao                       </th><th>nome_entidade                                                                         </th><th>nome_fantasia                           </th></tr>\n",
       "</thead>\n",
       "<tbody>\n",
       "<tr><td>CATERPILLAR FINANCIAL S.A. ARRENDAMENTO MERCANTIL                                      </td><td style=\"text-align: right;\">   3</td><td>CATERPILLAR                                    </td><td style=\"text-align: right;\">02658435</td><td style=\"text-align: right;\">02658435000153</td><td>2024-05-23</td><td style=\"text-align: right;\">   02658435</td><td style=\"text-align: right;\">            53154</td><td>Banco Múltiplo                                             </td><td>Autorizada em Atividade                  </td><td>BANCO CATERPILLAR S.A.                                                                </td><td>BANCO CATERPILLAR S.A.                  </td></tr>\n",
       "<tr><td>BANCO PRIME DE INVESTIMENTO S.A.                                                       </td><td style=\"text-align: right;\">   2</td><td>PRIME                                          </td><td style=\"text-align: right;\">45246410</td><td style=\"text-align: right;\">45246410000155</td><td>2024-05-23</td><td style=\"text-align: right;\">   45246410</td><td style=\"text-align: right;\">            31710</td><td>Banco Múltiplo                                             </td><td>Autorizada em Atividade                  </td><td>BANCO GENIAL S.A.                                                                     </td><td>PLURAL BANCO                            </td></tr>\n",
       "<tr><td>CM CAPITAL MARKETS CORRETORA DE CAMBIO LTDA                                            </td><td style=\"text-align: right;\">   3</td><td>CM CAPITAL MARKETS                             </td><td style=\"text-align: right;\">02671743</td><td style=\"text-align: right;\">02671743000119</td><td>2024-06-12</td><td style=\"text-align: right;\">   02671743</td><td style=\"text-align: right;\">            57538</td><td>Sociedade Distribuidora de TVM                             </td><td>Autorizada em Atividade                  </td><td>BANVOX DISTRIBUIDORA DE TÍTULOS E VALORES MOBILIÁRIOS LTDA                            </td><td>BANVOX DTVM                             </td></tr>\n",
       "<tr><td>BANCO FINAXIS S.A.                                                                     </td><td style=\"text-align: right;\">   2</td><td>FINAXIS - PRUDENCIAL                           </td><td style=\"text-align: right;\">11758741</td><td style=\"text-align: right;\">11758741000152</td><td>2024-05-23</td><td style=\"text-align: right;\">   11758741</td><td style=\"text-align: right;\">            27731</td><td>Banco Comercial                                            </td><td>Autorizada em Atividade                  </td><td>BANCO FINAXIS S.A.                                                                    </td><td>BANCO FINAXIS S.A.                      </td></tr>\n",
       "<tr><td>BANCO INDUSVAL S.A.                                                                    </td><td style=\"text-align: right;\">   2</td><td>INDUSVAL                                       </td><td style=\"text-align: right;\">61024352</td><td style=\"text-align: right;\">61024352000171</td><td>2024-05-23</td><td style=\"text-align: right;\">   61024352</td><td style=\"text-align: right;\">            05653</td><td>Banco Múltiplo                                             </td><td>Autorizada em Atividade                  </td><td>BANCO VOITER S.A.                                                                     </td><td>VOITER                                  </td></tr>\n",
       "<tr><td>BANKPAR BANCO MÚLTIPLO S.A.                                                            </td><td style=\"text-align: right;\">   2</td><td>BRADESCO                                       </td><td style=\"text-align: right;\">59438325</td><td style=\"text-align: right;\">59438325000101</td><td>2024-05-23</td><td style=\"text-align: right;\">   59438325</td><td style=\"text-align: right;\">            07204</td><td>Banco Múltiplo                                             </td><td>Cancelada/Encerrada                      </td><td>BANCO BRADESCO CARTÕES S.A.                                                           </td><td>BRADESCO CARTÕES                        </td></tr>\n",
       "<tr><td>STONE SOCIEDADE DE CRÉDITO DIRETO S.A.                                                 </td><td style=\"text-align: right;\">   2</td><td>STONE PAGAMENTOS - PRUDENCIAL                  </td><td style=\"text-align: right;\">34590184</td><td style=\"text-align: right;\">34590184000109</td><td>2024-05-23</td><td style=\"text-align: right;\">   34590184</td><td style=\"text-align: right;\">            42504</td><td>Sociedade de Crédito Direto                                </td><td>Autorizada em Atividade                  </td><td>STONE SOCIEDADE DE CRÉDITO DIRETO S.A.                                                </td><td>STONE SCD                               </td></tr>\n",
       "<tr><td>SAFRA DISTRIBUIDORA DE TITULOS E VALORES MOBILIARIOS LTDA                              </td><td style=\"text-align: right;\">   2</td><td>SAFRA                                          </td><td style=\"text-align: right;\">62180047</td><td style=\"text-align: right;\">62180047000131</td><td>2024-05-23</td><td style=\"text-align: right;\">   62180047</td><td style=\"text-align: right;\">            37383</td><td>Sociedade Distribuidora de TVM                             </td><td>Cancelada/Encerrada                      </td><td>SAFRA ASSET MANAGEMENT LTDA                                                           </td><td>SAFRA ASSET MANAGEMENT                  </td></tr>\n",
       "<tr><td>M18 INSTITUIÇÃO DE PAGAMENTO S.A.                                                      </td><td style=\"text-align: right;\">   2</td><td>M18 IP - PRUDENCIAL                            </td><td style=\"text-align: right;\">22575466</td><td style=\"text-align: right;\">22575466000158</td><td>2024-05-23</td><td style=\"text-align: right;\">   22575466</td><td style=\"text-align: right;\">            41921</td><td>Instituição de Pagamento                                   </td><td>Autorizada em Atividade                  </td><td>SRM BANK INSTITUIÇÃO DE PAGAMENTO S/A                                                 </td><td>SRM BANK                                </td></tr>\n",
       "<tr><td>SANTANDER SECURITIES (BRASIL)CORRETORA DE VALORES MOBILIÁRIOS S.A.                     </td><td style=\"text-align: right;\">   3</td><td>SANTANDER                                      </td><td style=\"text-align: right;\">61733515</td><td style=\"text-align: right;\">61733515000195</td><td>2024-05-23</td><td style=\"text-align: right;\">   61733515</td><td style=\"text-align: right;\">            57054</td><td>Sociedade Corretora de TVM                                 </td><td>Cancelada/Encerrada                      </td><td>SANTANDER SECURITIES (BRASIL)CORRETORA DE VALORES MOBILIÁRIOS S.A.                    </td><td>SANTANDER SECURITIES CVM                </td></tr>\n",
       "<tr><td>BANCO PSA FINANCE BRASIL S.A.                                                          </td><td style=\"text-align: right;\">   3</td><td>SANTANDER                                      </td><td style=\"text-align: right;\">03502961</td><td style=\"text-align: right;\">03502961000192</td><td>2024-05-23</td><td style=\"text-align: right;\">   03502961</td><td style=\"text-align: right;\">            10567</td><td>Sociedade de Crédito, Financiamento e Investimento         </td><td>Autorizada em Atividade                  </td><td>STELLANTIS FINANCIAMENTOS SOCIEDADE DE CRÉDITO, FINANCIAMENTO E INVESTIMENTO S.A      </td><td>STELLANTIS FINANCIAMENTOS               </td></tr>\n",
       "<tr><td>OZ CORRETORA DE CÂMBIO S.A.                                                            </td><td style=\"text-align: right;\">   2</td><td>OZ CC - PRUDENCIAL                             </td><td style=\"text-align: right;\">04062902</td><td style=\"text-align: right;\">04062902000103</td><td>2024-05-23</td><td style=\"text-align: right;\">   04062902</td><td style=\"text-align: right;\">            12407</td><td>Sociedade Corretora de Câmbio                              </td><td>Autorizada em Atividade                  </td><td>OZ CORRETORA DE CÂMBIO S.A.                                                           </td><td>OZ CÂMBIO                               </td></tr>\n",
       "<tr><td>FISERV DO BRASIL  INSTITUIÇÃO DE PAGAMENTO LTDA                                        </td><td style=\"text-align: right;\">   2</td><td>FISERV DO BRASIL IP - PRUDENCIAL               </td><td style=\"text-align: right;\">04962772</td><td style=\"text-align: right;\">04962772000165</td><td>2024-05-23</td><td style=\"text-align: right;\">   04962772</td><td style=\"text-align: right;\">            00042</td><td>Instituição de Pagamento                                   </td><td>Autorizada em Atividade                  </td><td>FISERV DO BRASIL  INSTITUIÇÃO DE PAGAMENTO LTDA                                       </td><td>FISERV                                  </td></tr>\n",
       "<tr><td>LECCA DISTRIBUIDORA DE TITULOS E VALORES MOBILIARIOS LTDA                              </td><td style=\"text-align: right;\">   2</td><td>LECCA                                          </td><td style=\"text-align: right;\">07138049</td><td style=\"text-align: right;\">07138049000154</td><td>2024-05-23</td><td style=\"text-align: right;\">   07138049</td><td style=\"text-align: right;\">            12261</td><td>Sociedade Distribuidora de TVM                             </td><td>Autorizada em Atividade                  </td><td>PICPAY INVEST DISTRIBUIDORA DE TÍTULOS E VALORES MOBILIÁRIOS LTDA                     </td><td>PICPAY INVEST                           </td></tr>\n",
       "<tr><td>TYCOON TECHNOLOGY INSTITUICAO DE PAGAMENTO S.A                                         </td><td style=\"text-align: right;\">   2</td><td>TYCOON TECHNOLOGY IP - PRUDENCIAL              </td><td style=\"text-align: right;\">26615279</td><td style=\"text-align: right;\">26615279000101</td><td>2024-05-23</td><td style=\"text-align: right;\">   26615279</td><td style=\"text-align: right;\">            00124</td><td>Instituição de Pagamento                                   </td><td>Autorizada em Atividade                  </td><td>TYCOON TECHNOLOGY INSTITUICAO DE PAGAMENTO S.A                                        </td><td>ZEIT                                    </td></tr>\n",
       "<tr><td>NU FINANCEIRA S.A. - SOCIEDADE DE CRÉDITO, FINANCIAMENTO E INVESTIMENTO                </td><td style=\"text-align: right;\">   2</td><td>NU PAGAMENTOS - PRUDENCIAL                     </td><td style=\"text-align: right;\">30680829</td><td style=\"text-align: right;\">30680829000143</td><td>2024-05-23</td><td style=\"text-align: right;\">   30680829</td><td style=\"text-align: right;\">            41593</td><td>Sociedade de Crédito, Financiamento e Investimento         </td><td>Autorizada em Atividade                  </td><td>NU FINANCEIRA S.A. - SOCIEDADE DE CRÉDITO, FINANCIAMENTO E INVESTIMENTO               </td><td>NUBANK                                  </td></tr>\n",
       "<tr><td>HARMONIA DISTRIBUIDORA DE TÍTULOS E VALORES MOBILIÁRIOS S.A.                           </td><td style=\"text-align: right;\">   2</td><td>GREEN ALTERNATIVE INVESTMENTS DTVM - PRUDENCIAL</td><td style=\"text-align: right;\">37800856</td><td style=\"text-align: right;\">37800856000151</td><td>2024-05-23</td><td style=\"text-align: right;\">   37800856</td><td style=\"text-align: right;\">            43383</td><td>Sociedade Distribuidora de TVM                             </td><td>Autorizada em Atividade                  </td><td>GREEN ALTERNATIVE INVESTMENTS DISTRIBUIDORA DE TÍTULOS E VALORES MOBILIÁRIOS S.A.     </td><td>GREEN ALTERNATIVE INVESTMENTS DTVM S.A. </td></tr>\n",
       "<tr><td>ACG INSTITUIÇÃO DE PAGAMENTO S.A.                                                      </td><td style=\"text-align: right;\">   2</td><td>ACG IP - PRUDENCIAL                            </td><td style=\"text-align: right;\">10868663</td><td style=\"text-align: right;\">10868663000186</td><td>2024-05-23</td><td style=\"text-align: right;\">   10868663</td><td style=\"text-align: right;\">            00012</td><td>Instituição de Pagamento                                   </td><td>Autorizada em Atividade                  </td><td>ACG INSTITUIÇÃO DE PAGAMENTO S.A.                                                     </td><td>ACG ADMINISTRADORA DE CARTÕES S/A       </td></tr>\n",
       "<tr><td>BANCO BANERJ S.A.                                                                      </td><td style=\"text-align: right;\">   2</td><td>ITAU                                           </td><td style=\"text-align: right;\">33885724</td><td style=\"text-align: right;\">33885724000119</td><td>2024-05-23</td><td style=\"text-align: right;\">   33885724</td><td style=\"text-align: right;\">            04029</td><td>Banco Múltiplo                                             </td><td>Autorizada em Atividade                  </td><td>BANCO ITAÚ CONSIGNADO S.A.                                                            </td><td>BANCO ITAÚ CONSIGNADO S.A.              </td></tr>\n",
       "<tr><td>CCB BRASIL ARRENDAMENTO MERCANTIL S/A                                                  </td><td style=\"text-align: right;\">   3</td><td>CCB - PRUDENCIAL                               </td><td style=\"text-align: right;\">69720910</td><td style=\"text-align: right;\">69720910000145</td><td>2024-05-23</td><td style=\"text-align: right;\">   69720910</td><td style=\"text-align: right;\">            53124</td><td>Sociedade de Arrendamento Mercantil                        </td><td>Autorizada em Atividade                  </td><td>CCB BRASIL ARRENDAMENTO MERCANTIL S/A.                                                </td><td>CCB LEASING                             </td></tr>\n",
       "<tr><td>ESPÍRITO SANTO SERVIÇOS FINANCEIROS DISTRIBUIDORA DE TÍTULOS E VALORES MOBILIÁRIOS S.A.</td><td style=\"text-align: right;\">   3</td><td>BES                                            </td><td style=\"text-align: right;\">11406965</td><td style=\"text-align: right;\">11406965000103</td><td>2024-05-23</td><td style=\"text-align: right;\">   11406965</td><td style=\"text-align: right;\">            27703</td><td>Sociedade Distribuidora de TVM                             </td><td>Autorizada em Atividade                  </td><td>HAITONG DO BRASIL DISTRIBUIDORA DE TÍTULOS E VALORES MOBILIÁRIOS S.A.                 </td><td>ESPÍRITO SANTO SERVIÇOS FINANCEIROS DTVM</td></tr>\n",
       "<tr><td>NEON CORRETORA DE TÍTULOS E VALORES MOBILIÁRIOS S.A.                                   </td><td style=\"text-align: right;\">   2</td><td>NEON PAGAMENTOS IP - PRUDENCIAL                </td><td style=\"text-align: right;\">61723847</td><td style=\"text-align: right;\">61723847000199</td><td>2024-05-23</td><td style=\"text-align: right;\">   61723847</td><td style=\"text-align: right;\">            57161</td><td>Sociedade Corretora de TVM                                 </td><td>Autorizada em Atividade                  </td><td>NEON CORRETORA DE TÍTULOS E VALORES MOBILIÁRIOS S.A.                                  </td><td>MAGLIANO                                </td></tr>\n",
       "<tr><td>TRINUS CAPITAL DISTRIBUIDORA DE TÍTULOS E VALORES MOBILIÁRIOS S.A.                     </td><td style=\"text-align: right;\">   2</td><td>TRINUS CAPITAL DTVM - PRUDENCIAL               </td><td style=\"text-align: right;\">02276653</td><td style=\"text-align: right;\">02276653000123</td><td>2024-05-23</td><td style=\"text-align: right;\">   02276653</td><td style=\"text-align: right;\">            24072</td><td>Sociedade Distribuidora de TVM                             </td><td>Autorizada em Atividade                  </td><td>TRINUS CAPITAL DISTRIBUIDORA DE TÍTULOS E VALORES MOBILIÁRIOS S.A.                    </td><td>BAHIA DTVM                              </td></tr>\n",
       "<tr><td>ASPECIR - SOCIEDADE DE CRÉDITO AO MICROEMPREENDEDOR E À EMPRESA DE PEQUENO PORTE LTDA. </td><td style=\"text-align: right;\">   2</td><td>ASPECIR SCMEPP LTDA. - PRUDENCIAL              </td><td style=\"text-align: right;\">05289612</td><td style=\"text-align: right;\">05289612000160</td><td>2024-05-23</td><td style=\"text-align: right;\">   05289612</td><td style=\"text-align: right;\">            16688</td><td>Sociedade de Crédito ao Microempreendedor                  </td><td>Autorizada em Atividade                  </td><td>ASPECIR - SOCIEDADE DE CRÉDITO AO MICROEMPREENDEDOR E À EMPRESA DE PEQUENO PORTE LTDA.</td><td>ASPECIR EMPRÉSTIMOS                     </td></tr>\n",
       "<tr><td>PORTOSEG S.A. - CREDITO, FINANCIAMENTO E INVESTIMENTO                                  </td><td style=\"text-align: right;\">   2</td><td>PORTO SEGURO - PRUDENCIAL                      </td><td style=\"text-align: right;\">04862600</td><td style=\"text-align: right;\">04862600000110</td><td>2024-05-23</td><td style=\"text-align: right;\">   04862600</td><td style=\"text-align: right;\">            15554</td><td>Sociedade de Crédito, Financiamento e Investimento         </td><td>Autorizada em Atividade                  </td><td>PORTOSEG S.A. - CREDITO, FINANCIAMENTO E INVESTIMENTO                                 </td><td>PORTO SEGURO                            </td></tr>\n",
       "<tr><td>ADIQ SOLUCOES DE PAGAMENTO S.A.                                                        </td><td style=\"text-align: right;\">   2</td><td>BS2 - PRUDENCIAL                               </td><td style=\"text-align: right;\">20520298</td><td style=\"text-align: right;\">20520298000178</td><td>2024-05-23</td><td style=\"text-align: right;\">   20520298</td><td style=\"text-align: right;\">            42872</td><td>Instituição de Pagamento                                   </td><td>Autorizada em Atividade                  </td><td>ADIQ INSTITUIÇÃO DE PAGAMENTO S.A.                                                    </td><td>ADIQ SOLUÇÕES DE PAGAMENTO              </td></tr>\n",
       "<tr><td>MONEY PLUS SOCIEDADE DE CRÉDITO AO MICROEMPREENDEDOR E A EMPRESA DE PEQUENO PORTE LTDA.</td><td style=\"text-align: right;\">   2</td><td>MONEY PLUS                                     </td><td style=\"text-align: right;\">11581339</td><td style=\"text-align: right;\">11581339000145</td><td>2024-05-23</td><td style=\"text-align: right;\">   11581339</td><td style=\"text-align: right;\">            27360</td><td>Sociedade de Crédito ao Microempreendedor                  </td><td>Autorizada em Atividade                  </td><td>BMP SOCIEDADE DE CRÉDITO AO MICROEMPREENDEDOR E A EMPRESA DE PEQUENO PORTE LTDA.      </td><td>BMP SCM                                 </td></tr>\n",
       "<tr><td>ALESTA SOCIEDADE DE CREDITO DIRETO S.A.                                                </td><td style=\"text-align: right;\">   2</td><td>ALESTA SOCIEDADE DE CREDITO DIRETO - PRUDENCIAL</td><td style=\"text-align: right;\">38316293</td><td style=\"text-align: right;\">38316293000193</td><td>2024-05-23</td><td style=\"text-align: right;\">   38316293</td><td style=\"text-align: right;\">            43934</td><td>Sociedade de Crédito Direto                                </td><td>Autorizada em Atividade                  </td><td>ALESTA SOCIEDADE DE CREDITO DIRETO S.A.                                               </td><td>ALESTA                                  </td></tr>\n",
       "<tr><td>COINVALORES DISTRIBUIDORA DE TÍTULOS E VALORES MOBILIÁRIOS LTDA                        </td><td style=\"text-align: right;\">   2</td><td>COINVALORES                                    </td><td style=\"text-align: right;\">59148775</td><td style=\"text-align: right;\">59148775000151</td><td>2024-05-23</td><td style=\"text-align: right;\">   59148775</td><td style=\"text-align: right;\">            37096</td><td>Administradora de Fundos não sujeita a autorização pelo BCB</td><td>Falta de integridade referencial na fonte</td><td>COINVEST SERVICOS E NEGOCIOS LTDA.                                                    </td><td>COINVEST EMPREENDIMENTOS                </td></tr>\n",
       "<tr><td>ASAAS GESTAO FINANCEIRA S.A.                                                           </td><td style=\"text-align: right;\">   2</td><td>ASAAS GESTAO FINANCEIRA IP - PRUDENCIAL        </td><td style=\"text-align: right;\">19540550</td><td style=\"text-align: right;\">19540550000121</td><td>2024-05-23</td><td style=\"text-align: right;\">   19540550</td><td style=\"text-align: right;\">            43384</td><td>Instituição de Pagamento                                   </td><td>Autorizada em Atividade                  </td><td>ASAAS GESTÃO FINANCEIRA INSTITUIÇÃO DE PAGAMENTO S.A.                                 </td><td>ASAAS GESTÃO FINANCEIRA S.A.            </td></tr>\n",
       "</tbody>\n",
       "</table>"
      ],
      "text/plain": [
       "<IPython.core.display.HTML object>"
      ]
     },
     "metadata": {},
     "output_type": "display_data"
    }
   ],
   "source": [
    "df_join.printSchema()\n",
    "df_join_sample = df_join.sample(False, 0.1).limit(30)\n",
    "\n",
    "tb = tabulate(df_join_sample.collect(), headers=df_join_sample.columns, tablefmt='html')\n",
    "\n",
    "display(HTML(tb))"
   ]
  },
  {
   "cell_type": "code",
   "execution_count": null,
   "id": "07955860-1353-4d69-bd17-d8ebbeedcc65",
   "metadata": {},
   "outputs": [],
   "source": []
  },
  {
   "cell_type": "code",
   "execution_count": 39,
   "id": "dcf099c1-d111-4192-9f8c-432f0206774d",
   "metadata": {},
   "outputs": [
    {
     "name": "stdout",
     "output_type": "stream",
     "text": [
      "['codigo_cadastro_bacen', 'codigo_sisbacen', 'codigo_pais_sede', 'nome_pais_sede', 'nome_uf_sede', 'codigo_municipio_sede', 'nome_municipio_sede', 'nome_entidade', 'nome_entidade_nao_formatado', 'cnpj', 'cnpj_raiz', 'codigo_situacao', 'descricao_situacao', 'codigo_tipo_entidade_segmento', 'nome_tipo_entidade', 'codigo_natureza_juridica', 'descricao_natureza_juridica', 'codigo_esfera_publica', 'nome_reduzido', 'sigla_entidade', 'nome_fantasia', 'empresa_publica']\n",
      "<class 'list'>\n"
     ]
    }
   ],
   "source": [
    "\n",
    "\n"
   ]
  },
  {
   "cell_type": "code",
   "execution_count": 58,
   "id": "4da53cf3-fdba-4846-b52f-0c6a50177a79",
   "metadata": {},
   "outputs": [
    {
     "name": "stdout",
     "output_type": "stream",
     "text": [
      "+--------+\n",
      "|codigo  |\n",
      "+--------+\n",
      "|00000001|\n",
      "|00000123|\n",
      "|00012345|\n",
      "|12345678|\n",
      "+--------+\n",
      "\n"
     ]
    }
   ],
   "source": [
    "data = [(\"1\",), (\"123\",), (\"12345\",), (\"12345678\",)]\n",
    "columns = [\"codigo\"]\n",
    "df = spark.createDataFrame(data, columns)\n",
    "\n",
    "# Adicionar zeros à esquerda para que todos os valores na coluna \"codigo\" tenham exatamente 8 dígitos\n",
    "df_formatado = df.withColumn(\"codigo\", F.lpad(df[\"codigo\"], 8, '0'))\n",
    "\n",
    "# Exibir o DataFrame formatado\n",
    "df_formatado.show(truncate=False)"
   ]
  },
  {
   "cell_type": "code",
   "execution_count": null,
   "id": "942c9ffc-b78d-42a0-920e-365249ec4eba",
   "metadata": {},
   "outputs": [],
   "source": []
  },
  {
   "cell_type": "code",
   "execution_count": null,
   "id": "7f46bf1f-3696-47c7-8544-c6a8d2cb506a",
   "metadata": {},
   "outputs": [],
   "source": []
  }
 ],
 "metadata": {
  "kernelspec": {
   "display_name": "Python 3 (ipykernel)",
   "language": "python",
   "name": "python3"
  },
  "language_info": {
   "codemirror_mode": {
    "name": "ipython",
    "version": 3
   },
   "file_extension": ".py",
   "mimetype": "text/x-python",
   "name": "python",
   "nbconvert_exporter": "python",
   "pygments_lexer": "ipython3",
   "version": "3.11.7"
  }
 },
 "nbformat": 4,
 "nbformat_minor": 5
}
