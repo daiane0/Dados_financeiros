{
 "cells": [
  {
   "cell_type": "code",
   "execution_count": 1,
   "id": "3115815c-4a18-4001-afee-6c5ae8456f6a",
   "metadata": {},
   "outputs": [],
   "source": [
    "from pyspark.sql import SparkSession\n",
    "from pyspark.sql import functions as F\n",
    "from pyspark.sql import types as T\n",
    "import generate_df as G\n",
    "from IPython.display import display, HTML\n",
    "from tabulate import tabulate\n",
    "from unidecode import unidecode"
   ]
  },
  {
   "cell_type": "code",
   "execution_count": 2,
   "id": "31eb7cfc-6d96-459f-bcb2-8b65a22f2e18",
   "metadata": {
    "scrolled": true
   },
   "outputs": [
    {
     "name": "stderr",
     "output_type": "stream",
     "text": [
      "24/07/18 17:05:44 WARN Utils: Your hostname, victor-Lenovo-ideapad-330-15IKB resolves to a loopback address: 127.0.1.1; using 192.168.1.74 instead (on interface wlp2s0)\n",
      "24/07/18 17:05:44 WARN Utils: Set SPARK_LOCAL_IP if you need to bind to another address\n",
      "24/07/18 17:05:45 WARN NativeCodeLoader: Unable to load native-hadoop library for your platform... using builtin-java classes where applicable\n",
      "Setting default log level to \"WARN\".\n",
      "To adjust logging level use sc.setLogLevel(newLevel). For SparkR, use setLogLevel(newLevel).\n",
      "24/07/18 17:05:59 WARN SparkStringUtils: Truncated the string representation of a plan since it was too large. This behavior can be adjusted by setting 'spark.sql.debug.maxToStringFields'.\n"
     ]
    },
    {
     "data": {
      "text/plain": [
       "DataFrame[instituicao: string, codigo: string, conglomerado: string, codigo_conglomerado_financeiro: string, codigo_conglomerado_prudencial: string, tcb: string, tc: string, ti: string, cidade: string, uf: string, data: string, rendas_operacoes_credito_a1: string, rendas_operacoes_arrendamento_mercantil_a2: string, rendas_operacoes_com_tvm_a3: string, rendas_operacoes_instrumentos_financeiros_derivativos_a4: string, resultado_operacoes_cambio_a5: string, rendas_aplicacoes_compulsorias_a6: string, receitas_intermediacao_financeira_soma_a1_a2_a3_a4_a5_a6: string, despesas_captacao_b1: string, despesas_obrigacoes_por_emprestimos_e_repasses_b2: string, despesas_operacoes_arrendamento_mercantil_b3: string, resultado_operacoes_cambio_b4: string, resultado_de_provisao_para_creditos_dificil_liquidacao_b5: string, despesas__intermediacao_financeira_soma_b1_b2_b3_b4_b5: string, resultao_intermediacao_financeira_c_soma_a_b: string, rendas_prestacao_servico_d1: string, rendas_tarifas_bancarias_d2: string, despesas_de_pessoal_d3: string, despesas_administrativas_d4: string, despesas_tributarias_d5: string, resultado_de_participacoes_d6: string, outras_receitas_operacionais_d7: string, outras_receitas_operacionais_d8: string, soma_d1_d2_d3_d4_d5_d6_d7_d8: string, resultado_operacional_soma_c_d: string, resultado_nao_operacional_f: string, g: string, imposto_renda_contribuicao_social_h: string, participacao_lucros_i: string, lucro_liquido_soma_g_h_i: string, juros_capital_social_cooperativas_k: string]"
      ]
     },
     "execution_count": 2,
     "metadata": {},
     "output_type": "execute_result"
    }
   ],
   "source": [
    "spark = SparkSession.builder.appName(\"finance_data_processing\")\\\n",
    ".config(\"spark.jars\",\"/home/daiane/Downloads/postgresql-42.7.3.jar\").getOrCreate()\n",
    "\n",
    "df_demonstracao_result = G.table_to_df(\"finance_raw_data\", \"demonstracao_resultado_receita_lucro\", spark)\n",
    "df_demonstracao_result.persist()\n",
    "\n",
    "# df_temp = df_demonstracao_result_.withColumn(\"data\", F.to_date(F.col(\"data\"), \"MM/yyyy\"))\n",
    "\n",
    "# last_date = df_temp.agg(F.max(\"data\")).collect()[0][0]\n",
    "\n",
    "# last_date_str = last_date.strftime(\"%m/%Y\")\n",
    "\n",
    "\n",
    "# df_demonstracao_result = df_demonstracao_result_.filter(F.col(\"data\") == last_date_str)\n",
    "# df_demonstracao_result.persist()\n",
    "\n",
    "# print(last_date)\n",
    "# print(last_date_str)\n",
    "\n",
    "\n",
    "# dfSample_demonstracao_result = df_demonstracao_result.sample(False, 0.1).limit(30)\n",
    "# table = tabulate(dfSample_demonstracao_result.collect(), headers=dfSample_demonstracao_result.columns, tablefmt='html')\n",
    "\n",
    "# display(HTML(table))\n",
    "# print(dfSample_demonstracao_result.count())\n",
    "# dfSample_demonstracao_result.printSchema()\n",
    "\n"
   ]
  },
  {
   "cell_type": "code",
   "execution_count": 3,
   "id": "d34878eb-46d3-459e-929b-49c8f6c00618",
   "metadata": {
    "scrolled": true
   },
   "outputs": [
    {
     "data": {
      "text/plain": [
       "DataFrame[data: string, codigo_cadastro_bacen: string, codigo_sisbacen: string, codigo_pais_sede: string, nome_pais_sede: string, nome_uf_sede: string, codigo_municipio_sede: string, nome_municipio_sede: string, nome_entidade: string, nome_entidade_nao_formatado: string, cnpj: string, cnpj_raiz: string, codigo_situacao: string, descricao_situacao: string, codigo_tipo_entidade_segmento: string, nome_tipo_entidade: string, codigo_natureza_juridica: string, descricao_natureza_juridica: string, codigo_esfera_publica: string, nome_reduzido: string, sigla_entidade: string, nome_fantasia: string, empresa_publica: string]"
      ]
     },
     "execution_count": 3,
     "metadata": {},
     "output_type": "execute_result"
    }
   ],
   "source": [
    "df_info_cadastral = G.table_to_df(\"finance_raw_data\", \"info_cadastral_entidades\", spark)\n",
    "df_info_cadastral.persist()\n",
    "\n",
    "# dfSample_info_cadastral_entidades = df_info_cadastra l.sample(False, 0.1).limit(30)\n",
    "# table = tabulate(dfSample_info_cadastral_entidades.collect(), headers=dfSample_info_cadastral_entidades.columns, tablefmt='html')\n",
    "# display(HTML(table))\n",
    "\n",
    "# df_info_cadastral.count()\n",
    "# dfSample_info_cadastral_entidades.printSchema()\n"
   ]
  },
  {
   "cell_type": "code",
   "execution_count": 4,
   "id": "fbb624b1-9cdd-42e0-9ff3-68fb3b89d990",
   "metadata": {
    "scrolled": true
   },
   "outputs": [],
   "source": [
    "df_info_cadastral_select = df_info_cadastral.select(\"cnpj\", \"data\", \"cnpj_raiz\", \"codigo_sisbacen\", \"nome_tipo_entidade\", \"descricao_situacao\", \"nome_entidade\", \"nome_fantasia\")\n",
    "\n",
    "# a = df_info_cadastral_select.sample(False, 0.1).limit(50)\n",
    "# table = tabulate(a.collect(), headers=a.columns, tablefmt='html')\n",
    "# df_info_cadastral_select.filter(df_info_cadastral_select[\"cnpj\"].isNull()).count()\n",
    "# display(HTML(table))\n"
   ]
  },
  {
   "cell_type": "markdown",
   "id": "2b836308-4542-4593-a583-92d08ee08011",
   "metadata": {},
   "source": [
    "### Duplicação"
   ]
  },
  {
   "cell_type": "code",
   "execution_count": 10,
   "id": "2dd041e0-d8c8-455e-a082-b6e504b01a65",
   "metadata": {},
   "outputs": [
    {
     "name": "stdout",
     "output_type": "stream",
     "text": [
      "root\n",
      " |-- cnpj: string (nullable = true)\n",
      " |-- data: string (nullable = true)\n",
      " |-- cnpj_raiz: string (nullable = true)\n",
      " |-- codigo_sisbacen: string (nullable = true)\n",
      " |-- nome_tipo_entidade: string (nullable = true)\n",
      " |-- descricao_situacao: string (nullable = true)\n",
      " |-- nome_entidade: string (nullable = true)\n",
      " |-- nome_fantasia: string (nullable = true)\n",
      "\n",
      "root\n",
      " |-- instituicao: string (nullable = true)\n",
      " |-- codigo: string (nullable = true)\n",
      " |-- conglomerado: string (nullable = true)\n",
      " |-- codigo_conglomerado_financeiro: string (nullable = true)\n",
      " |-- codigo_conglomerado_prudencial: string (nullable = true)\n",
      " |-- tcb: string (nullable = true)\n",
      " |-- tc: string (nullable = true)\n",
      " |-- ti: string (nullable = true)\n",
      " |-- cidade: string (nullable = true)\n",
      " |-- uf: string (nullable = true)\n",
      " |-- data_trimestral: string (nullable = true)\n",
      " |-- rendas_operacoes_credito_a1: string (nullable = true)\n",
      " |-- rendas_operacoes_arrendamento_mercantil_a2: string (nullable = true)\n",
      " |-- rendas_operacoes_com_tvm_a3: string (nullable = true)\n",
      " |-- rendas_operacoes_instrumentos_financeiros_derivativos_a4: string (nullable = true)\n",
      " |-- resultado_operacoes_cambio_a5: string (nullable = true)\n",
      " |-- rendas_aplicacoes_compulsorias_a6: string (nullable = true)\n",
      " |-- receitas_intermediacao_financeira_soma_a1_a2_a3_a4_a5_a6: string (nullable = true)\n",
      " |-- despesas_captacao_b1: string (nullable = true)\n",
      " |-- despesas_obrigacoes_por_emprestimos_e_repasses_b2: string (nullable = true)\n",
      " |-- despesas_operacoes_arrendamento_mercantil_b3: string (nullable = true)\n",
      " |-- resultado_operacoes_cambio_b4: string (nullable = true)\n",
      " |-- resultado_de_provisao_para_creditos_dificil_liquidacao_b5: string (nullable = true)\n",
      " |-- despesas__intermediacao_financeira_soma_b1_b2_b3_b4_b5: string (nullable = true)\n",
      " |-- resultao_intermediacao_financeira_c_soma_a_b: string (nullable = true)\n",
      " |-- rendas_prestacao_servico_d1: string (nullable = true)\n",
      " |-- rendas_tarifas_bancarias_d2: string (nullable = true)\n",
      " |-- despesas_de_pessoal_d3: string (nullable = true)\n",
      " |-- despesas_administrativas_d4: string (nullable = true)\n",
      " |-- despesas_tributarias_d5: string (nullable = true)\n",
      " |-- resultado_de_participacoes_d6: string (nullable = true)\n",
      " |-- outras_receitas_operacionais_d7: string (nullable = true)\n",
      " |-- outras_receitas_operacionais_d8: string (nullable = true)\n",
      " |-- soma_d1_d2_d3_d4_d5_d6_d7_d8: string (nullable = true)\n",
      " |-- resultado_operacional_soma_c_d: string (nullable = true)\n",
      " |-- resultado_nao_operacional_f: string (nullable = true)\n",
      " |-- g: string (nullable = true)\n",
      " |-- imposto_renda_contribuicao_social_h: string (nullable = true)\n",
      " |-- participacao_lucros_i: string (nullable = true)\n",
      " |-- lucro_liquido_soma_g_h_i: string (nullable = true)\n",
      " |-- juros_capital_social_cooperativas_k: string (nullable = true)\n",
      "\n"
     ]
    }
   ],
   "source": [
    "# df_info_cadastral\n",
    "\n",
    "columns_info = df_info_cadastral_select.columns\n",
    "columns_info.remove(\"data\")\n",
    "\n",
    "df_unique_info_ = df_info_cadastral_select.dropDuplicates(subset=columns_info)\n",
    "\n",
    "# df_demonstracao_result\n",
    "\n",
    "columns_demonstracao = df_demonstracao_result.columns\n",
    "columns_demonstracao.remove(\"data\")\n",
    "\n",
    "df_formatado = df_demonstracao_result.withColumnRenamed(\"data\", \"data_trimestral\").withColumn(\"codigo\", F.lpad(df_demonstracao_result[\"codigo\"], 8, '0'))\n",
    "\n",
    "df_unique_demonstracao_ = df_formatado.dropDuplicates(subset=columns_demonstracao)\n",
    "\n",
    "df_unique_info_.printSchema()\n",
    "df_unique_demonstracao_.printSchema()\n",
    "\n"
   ]
  },
  {
   "cell_type": "markdown",
   "id": "7034cebf-01ca-4240-9f2c-ca6b4a87a6ff",
   "metadata": {},
   "source": [
    "### Remover acentos"
   ]
  },
  {
   "cell_type": "code",
   "execution_count": 6,
   "id": "f5fbe04c-5658-4dba-8d6b-b4ea594f0302",
   "metadata": {},
   "outputs": [],
   "source": [
    "def clean_accent_(texto):\n",
    "    return unidecode(texto) if texto else None\n",
    "\n",
    "clean_accent = F.udf(clean_accent_, F.StringType())\n",
    "\n",
    "df_unique_info = df_unique_info_.select([F.upper(F.trim(clean_accent(F.col(column)))).alias(column) for column in df_unique_info_.columns])\n",
    "\n",
    "df_unique_demonstracao = df_unique_demonstracao_.select([F.upper(F.trim(clean_accent(F.col(column)))).alias(column) for column in df_unique_demonstracao_.columns])"
   ]
  },
  {
   "cell_type": "code",
   "execution_count": 9,
   "id": "80ef2a40-1af5-49fc-94ff-0b8fc223ae34",
   "metadata": {},
   "outputs": [
    {
     "name": "stderr",
     "output_type": "stream",
     "text": [
      "24/07/18 17:09:42 WARN TaskSetManager: Stage 60 contains a task of very large size (12111 KiB). The maximum recommended task size is 1000 KiB.\n",
      "24/07/18 17:09:44 WARN TaskSetManager: Stage 61 contains a task of very large size (11648 KiB). The maximum recommended task size is 1000 KiB.\n",
      "                                                                                \r"
     ]
    },
    {
     "name": "stdout",
     "output_type": "stream",
     "text": [
      "0\n"
     ]
    },
    {
     "name": "stderr",
     "output_type": "stream",
     "text": [
      "24/07/18 17:09:48 WARN TaskSetManager: Stage 68 contains a task of very large size (12111 KiB). The maximum recommended task size is 1000 KiB.\n",
      "24/07/18 17:09:49 WARN TaskSetManager: Stage 69 contains a task of very large size (11648 KiB). The maximum recommended task size is 1000 KiB.\n",
      "                                                                                \r"
     ]
    },
    {
     "name": "stdout",
     "output_type": "stream",
     "text": [
      "2357\n"
     ]
    },
    {
     "name": "stderr",
     "output_type": "stream",
     "text": [
      "24/07/18 17:09:54 WARN TaskSetManager: Stage 77 contains a task of very large size (12111 KiB). The maximum recommended task size is 1000 KiB.\n",
      "24/07/18 17:09:54 WARN TaskSetManager: Stage 78 contains a task of very large size (11648 KiB). The maximum recommended task size is 1000 KiB.\n",
      "                                                                                \r"
     ]
    },
    {
     "name": "stdout",
     "output_type": "stream",
     "text": [
      "9698\n"
     ]
    },
    {
     "name": "stderr",
     "output_type": "stream",
     "text": [
      "24/07/18 17:10:00 WARN TaskSetManager: Stage 86 contains a task of very large size (12111 KiB). The maximum recommended task size is 1000 KiB.\n",
      "24/07/18 17:10:00 WARN TaskSetManager: Stage 87 contains a task of very large size (11648 KiB). The maximum recommended task size is 1000 KiB.\n",
      "[Stage 96:===================>                                      (1 + 2) / 3]\r"
     ]
    },
    {
     "name": "stdout",
     "output_type": "stream",
     "text": [
      "total 12055\n"
     ]
    },
    {
     "name": "stderr",
     "output_type": "stream",
     "text": [
      "                                                                                \r"
     ]
    }
   ],
   "source": [
    "df_join_ = df_unique_info.join(df_unique_demonstracao, df_unique_info[\"cnpj_raiz\"] == F.trim(df_unique_demonstracao[\"codigo\"]), \"full_outer\")\\\n",
    ".select(df_unique_demonstracao[\"instituicao\"], df_unique_demonstracao[\"tc\"], df_unique_demonstracao[\"conglomerado\"], df_unique_demonstracao[\"codigo\"],\\\n",
    "        *df_unique_info.columns)\n",
    "\n",
    "df_join = df_join_.dropDuplicates()\n",
    "\n",
    "# Filtrar registros que estão apenas no DataFrame \"demonstracao_result\"\n",
    "only_demonstracao_result = df_join.filter(\n",
    "    F.col(\"nome_entidade\").isNull() &\n",
    "    F.col(\"instituicao\").isNotNull() &\n",
    "    (F.trim(F.col(\"instituicao\")) != \"\")\n",
    ")\n",
    "\n",
    "# Filtrar registros que estão apenas no DataFrame \"info_cadastral\"\n",
    "only_info_cadastral = df_join.filter(\n",
    "    F.col(\"instituicao\").isNull() &\n",
    "    F.col(\"nome_entidade\").isNotNull() &\n",
    "    (F.trim(F.col(\"nome_entidade\")) != \"\")\n",
    ")\n",
    "\n",
    "# Filtrar registros que estão presentes em ambos DataFrames\n",
    "intersecao = df_join.filter(\n",
    "    F.col(\"instituicao\").isNotNull() &\n",
    "    (F.trim(F.col(\"instituicao\")) != \"\") &\n",
    "    F.col(\"nome_entidade\").isNotNull() &\n",
    "    (F.trim(F.col(\"nome_entidade\")) != \"\")\n",
    ")\n",
    "print(only_demonstracao_result.count())\n",
    "\n",
    "print(only_info_cadastral.count())\n",
    "\n",
    "print(intersecao.count())\n",
    "\n",
    "print(\"total\", df_join.count())\n",
    "\n",
    "\n",
    "# testee = df_sem_acento.filter(F.col(\"nome_entidade\") == \"COOPERATIVA DE CRÉDITO RURAL COM INTERAÇÃO SOLIDÁRIA DE CASTRO - CRESOL CASTRO\")\n",
    "\n",
    "# table = tabulate(testee.collect(), headers=testee.columns, tablefmt='html')\n",
    "# display(HTML(table))\n",
    "\n"
   ]
  },
  {
   "cell_type": "code",
   "execution_count": 61,
   "id": "2d8f9918-019d-488c-9cd7-9abf17db79d8",
   "metadata": {
    "editable": true,
    "scrolled": true,
    "slideshow": {
     "slide_type": ""
    },
    "tags": []
   },
   "outputs": [
    {
     "name": "stderr",
     "output_type": "stream",
     "text": [
      "24/07/18 15:42:29 WARN TaskSetManager: Stage 371 contains a task of very large size (12111 KiB). The maximum recommended task size is 1000 KiB.\n",
      "24/07/18 15:42:29 WARN TaskSetManager: Stage 372 contains a task of very large size (11648 KiB). The maximum recommended task size is 1000 KiB.\n",
      "24/07/18 15:42:32 WARN TaskSetManager: Stage 377 contains a task of very large size (12111 KiB). The maximum recommended task size is 1000 KiB.\n",
      "24/07/18 15:42:33 WARN TaskSetManager: Stage 378 contains a task of very large size (11648 KiB). The maximum recommended task size is 1000 KiB.\n",
      "24/07/18 15:42:36 WARN TaskSetManager: Stage 383 contains a task of very large size (12111 KiB). The maximum recommended task size is 1000 KiB.\n",
      "24/07/18 15:42:37 WARN TaskSetManager: Stage 384 contains a task of very large size (11648 KiB). The maximum recommended task size is 1000 KiB.\n",
      "                                                                                \r"
     ]
    },
    {
     "data": {
      "text/html": [
       "<table>\n",
       "<thead>\n",
       "<tr></tr>\n",
       "</thead>\n",
       "<tbody>\n",
       "</tbody>\n",
       "</table>"
      ],
      "text/plain": [
       "<IPython.core.display.HTML object>"
      ]
     },
     "metadata": {},
     "output_type": "display_data"
    },
    {
     "data": {
      "text/html": [
       "<table>\n",
       "<thead>\n",
       "<tr><th>instituicao  </th><th>tc  </th><th>conglomerado  </th><th>codigo  </th><th style=\"text-align: right;\">          cnpj</th><th>data      </th><th style=\"text-align: right;\">  cnpj_raiz</th><th>codigo_sisbacen  </th><th>nome_tipo_entidade                                </th><th>descricao_situacao                       </th><th>nome_entidade                                                                                    </th><th>nome_fantasia                           </th></tr>\n",
       "</thead>\n",
       "<tbody>\n",
       "<tr><td>             </td><td>    </td><td>              </td><td>        </td><td style=\"text-align: right;\">10664027000132</td><td>2024-05-23</td><td style=\"text-align: right;\">   10664027</td><td>                 </td><td>Sociedade Corretora de TVM                        </td><td>Cancelada/Encerrada                      </td><td>ABERTURA CORRETORA DE CAMBIO E VALORES MOBILIARIOS LTDA                                          </td><td>                                        </td></tr>\n",
       "<tr><td>             </td><td>    </td><td>              </td><td>        </td><td style=\"text-align: right;\">11547213000154</td><td>2024-05-23</td><td style=\"text-align: right;\">   11547213</td><td>                 </td><td>Administradora de Consórcio                       </td><td>Cancelada/Encerrada                      </td><td>ALMEIDA ADMINISTRACAO DE CONSORCIOS LTDA - IMPEDIDA CRIAR NOVOS GRUPOS                           </td><td>                                        </td></tr>\n",
       "<tr><td>             </td><td>    </td><td>              </td><td>        </td><td style=\"text-align: right;\">33756370000102</td><td>2024-05-23</td><td style=\"text-align: right;\">   33756370</td><td>                 </td><td>Sociedade Corretora de TVM                        </td><td>Cancelada/Encerrada                      </td><td>ARIJU S/A CORRETORA DE CAMBIO, TITULOS E VALORES MOBILIARIOS                                     </td><td>                                        </td></tr>\n",
       "<tr><td>             </td><td>    </td><td>              </td><td>        </td><td style=\"text-align: right;\">17338450000191</td><td>2024-05-23</td><td style=\"text-align: right;\">   17338450</td><td>                 </td><td>Sociedade Distribuidora de TVM                    </td><td>Regime Especial Encerrado                </td><td>ASTRA DISTRIBUIDORA DE TITULOS E VALORES MOBILIARIOS LTDA                                        </td><td>ASTRA DIST. TITLS. VALS. MOBILIARIOS LTD</td></tr>\n",
       "<tr><td>             </td><td>    </td><td>              </td><td>        </td><td style=\"text-align: right;\">38726063000100</td><td>2024-05-23</td><td style=\"text-align: right;\">   38726063</td><td>                 </td><td>Administradora de Consórcio                       </td><td>Cancelada/Encerrada                      </td><td>AUTO &amp; MOVEL CONSORCIOS LTDA                                                                     </td><td>                                        </td></tr>\n",
       "<tr><td>             </td><td>    </td><td>              </td><td>        </td><td style=\"text-align: right;\">15208309000149</td><td>2024-05-23</td><td style=\"text-align: right;\">   15208309</td><td>                 </td><td>Sociedade de Crédito, Financiamento e Investimento</td><td>Cancelada/Encerrada                      </td><td>BAHIA LUCRO S/A - CREDITO, FINANCIAMENTO E INVESTIMENTOS                                         </td><td>                                        </td></tr>\n",
       "<tr><td>             </td><td>    </td><td>              </td><td>        </td><td style=\"text-align: right;\">61415428000190</td><td>2024-05-23</td><td style=\"text-align: right;\">   61415428</td><td>                 </td><td>Banco Múltiplo                                    </td><td>Cancelada/Encerrada                      </td><td>BANCO DE TOKYO S.A.                                                                              </td><td>                                        </td></tr>\n",
       "<tr><td>             </td><td>    </td><td>              </td><td>        </td><td style=\"text-align: right;\">45666609000132</td><td>2024-05-23</td><td style=\"text-align: right;\">   45666609</td><td>                 </td><td>Banco Comercial Estrangeiro - Filial no país      </td><td>Cancelada/Encerrada                      </td><td>BANCO HISPANO AMERICANO S.A.                                                                     </td><td>                                        </td></tr>\n",
       "<tr><td>             </td><td>    </td><td>              </td><td>        </td><td style=\"text-align: right;\">60700556000465</td><td>2024-05-23</td><td style=\"text-align: right;\">   60700556</td><td>                 </td><td>Banco Múltiplo                                    </td><td>Cancelada/Encerrada                      </td><td>BANCO SANTANDER NOROESTE S.A.                                                                    </td><td>                                        </td></tr>\n",
       "<tr><td>             </td><td>    </td><td>              </td><td>        </td><td style=\"text-align: right;\">74419714000175</td><td>2024-05-23</td><td style=\"text-align: right;\">   74419714</td><td>                 </td><td>Banco de Investimento                             </td><td>Cancelada/Encerrada                      </td><td>BANCO SINTESE DE INVESTIMENTO S.A.                                                               </td><td>                                        </td></tr>\n",
       "<tr><td>             </td><td>    </td><td>              </td><td>        </td><td style=\"text-align: right;\">33801796000130</td><td>2024-05-23</td><td style=\"text-align: right;\">   33801796</td><td>                 </td><td>Banco de Investimento                             </td><td>Cancelada/Encerrada                      </td><td>BANERJ - BANCO DE INVESTIMENTOS S/A                                                              </td><td>                                        </td></tr>\n",
       "<tr><td>             </td><td>    </td><td>              </td><td>        </td><td style=\"text-align: right;\">59233502000105</td><td>2024-05-23</td><td style=\"text-align: right;\">   59233502</td><td>                 </td><td>Banco de Investimento                             </td><td>Cancelada/Encerrada                      </td><td>BBA-CREDITANSTALT BANCO DE INVESTIMENTO S/A                                                      </td><td>                                        </td></tr>\n",
       "<tr><td>             </td><td>    </td><td>              </td><td>        </td><td style=\"text-align: right;\">68327295000149</td><td>2024-05-23</td><td style=\"text-align: right;\">   68327295</td><td>                 </td><td>Administradora de Consórcio                       </td><td>Cancelada/Encerrada                      </td><td>BEMFACIL ADMINISTRADORA DE CONSORCIOS S/C LTDA                                                   </td><td>                                        </td></tr>\n",
       "<tr><td>             </td><td>    </td><td>              </td><td>        </td><td style=\"text-align: right;\">50603067000199</td><td>2024-05-23</td><td style=\"text-align: right;\">   50603067</td><td>                 </td><td>                                                  </td><td>Falta de integridade referencial na fonte</td><td>CARMOTO PARTICIPACOES E INTERMEDIACOES DE BENS MOVEIS LTDA                                       </td><td>CARMOTO                                 </td></tr>\n",
       "<tr><td>             </td><td>    </td><td>              </td><td>        </td><td style=\"text-align: right;\">21593744000137</td><td>2024-05-23</td><td style=\"text-align: right;\">   21593744</td><td>                 </td><td>Sociedade Distribuidora de TVM                    </td><td>Cancelada/Encerrada                      </td><td>CEDISVAL DISTRIBUIDORA DE TITULOS E VALORES MOBILIARIOS LTDA                                     </td><td>                                        </td></tr>\n",
       "<tr><td>             </td><td>    </td><td>              </td><td>        </td><td style=\"text-align: right;\">33858630000150</td><td>2024-05-23</td><td style=\"text-align: right;\">   33858630</td><td>                 </td><td>Sociedade Distribuidora de TVM                    </td><td>Cancelada/Encerrada                      </td><td>CEDRO DISTRIBUIDORA DE TÍTULOS E VALORES MOBILIÁRIOS LTDA                                        </td><td>                                        </td></tr>\n",
       "<tr><td>             </td><td>    </td><td>              </td><td>        </td><td style=\"text-align: right;\">61606976000105</td><td>2024-05-23</td><td style=\"text-align: right;\">   61606976</td><td>                 </td><td>                                                  </td><td>Falta de integridade referencial na fonte</td><td>CNDP PARTICIPACOES LTDA                                                                          </td><td>                                        </td></tr>\n",
       "<tr><td>             </td><td>    </td><td>              </td><td>        </td><td style=\"text-align: right;\">25693912000117</td><td>2024-05-23</td><td style=\"text-align: right;\">   25693912</td><td>                 </td><td>Administradora de Consórcio                       </td><td>Cancelada/Encerrada                      </td><td>CONSÓRCIO NORTE SUL LTDA - IMPEDIDA CRIAR NOVOS GRUPOS                                           </td><td>                                        </td></tr>\n",
       "<tr><td>             </td><td>    </td><td>              </td><td>        </td><td style=\"text-align: right;\">88655261000190</td><td>2024-05-23</td><td style=\"text-align: right;\">   88655261</td><td>                 </td><td>Sociedade Distribuidora de TVM                    </td><td>Cancelada/Encerrada                      </td><td>CONTE DISTRIBUIDORA DE TITULOS E VALORES MOBILIARIOS LTDA                                        </td><td>                                        </td></tr>\n",
       "<tr><td>             </td><td>    </td><td>              </td><td>        </td><td style=\"text-align: right;\">28952679000138</td><td>2024-05-23</td><td style=\"text-align: right;\">   28952679</td><td>                 </td><td>Cooperativa de Crédito                            </td><td>Cancelada/Encerrada                      </td><td>COOPERATIVA DE CREDITO DOS LAVRADORES DE CANA DE ACUCAR DO ESTADO DO RIO JANEIRO LTDA-COOPERCREDI</td><td>                                        </td></tr>\n",
       "<tr><td>             </td><td>    </td><td>              </td><td>        </td><td style=\"text-align: right;\">36904191000163</td><td>2024-05-23</td><td style=\"text-align: right;\">   36904191</td><td>                 </td><td>Cooperativa de Crédito                            </td><td>Cancelada/Encerrada                      </td><td>COOPERATIVA DE CREDITO RURAL DE ALTA FLORESTA LTDA.                                              </td><td>                                        </td></tr>\n",
       "<tr><td>             </td><td>    </td><td>              </td><td>        </td><td style=\"text-align: right;\">86739414000152</td><td>2024-05-23</td><td style=\"text-align: right;\">   86739414</td><td>                 </td><td>Cooperativa de Crédito                            </td><td>Cancelada/Encerrada                      </td><td>COOPERATIVA DE CREDITO RURAL DE DUQUE DE CAXIAS LTDA                                             </td><td>                                        </td></tr>\n",
       "<tr><td>             </td><td>    </td><td>              </td><td>        </td><td style=\"text-align: right;\">32470924000148</td><td>2024-05-23</td><td style=\"text-align: right;\">   32470924</td><td>                 </td><td>Cooperativa de Crédito                            </td><td>Cancelada/Encerrada                      </td><td>COOPERATIVA DE CREDITO RURAL DE ITAGUACU - SICOOB ITAGUACU                                       </td><td>                                        </td></tr>\n",
       "<tr><td>             </td><td>    </td><td>              </td><td>        </td><td style=\"text-align: right;\">36513018000134</td><td>2024-05-23</td><td style=\"text-align: right;\">   36513018</td><td>                 </td><td>Cooperativa de Crédito                            </td><td>Cancelada/Encerrada                      </td><td>COOPERATIVA DE CREDITO RURAL DE RESENDE LTDA                                                     </td><td>                                        </td></tr>\n",
       "<tr><td>             </td><td>    </td><td>              </td><td>        </td><td style=\"text-align: right;\">05003587000106</td><td>2024-05-23</td><td style=\"text-align: right;\">   05003587</td><td>                 </td><td>Cooperativa de Crédito                            </td><td>Cancelada/Encerrada                      </td><td>COOPERATIVA DE CREDITO RURAL DE SANTANA DO LIVRAMENTO LTDA                                       </td><td>                                        </td></tr>\n",
       "<tr><td>             </td><td>    </td><td>              </td><td>        </td><td style=\"text-align: right;\">26408153000166</td><td>2024-05-23</td><td style=\"text-align: right;\">   26408153</td><td>                 </td><td>Cooperativa de Crédito                            </td><td>Cancelada/Encerrada                      </td><td>COOPERATIVA DE CREDITO RURAL DE SIDROLANDIA LTDA                                                 </td><td>                                        </td></tr>\n",
       "<tr><td>             </td><td>    </td><td>              </td><td>        </td><td style=\"text-align: right;\">              </td><td>2024-05-23</td><td style=\"text-align: right;\">           </td><td>                 </td><td>Cooperativa de Crédito                            </td><td>Cancelada/Encerrada                      </td><td>COOPERATIVA DE CRÉDITO DOS FORNECEDORES/FUNCIONÁRIOS DA PREFEITURA MUNICIPAL DE PAULINIA         </td><td>                                        </td></tr>\n",
       "<tr><td>             </td><td>    </td><td>              </td><td>        </td><td style=\"text-align: right;\">09418427000189</td><td>2024-05-23</td><td style=\"text-align: right;\">   09418427</td><td>                 </td><td>Cooperativa de Crédito                            </td><td>Cancelada/Encerrada                      </td><td>COOPERATIVA DE CRÉDITO MÚTUO DOS SÓCIOS DA ASSOCIAÇÃO DOS CICLISTAS CEARENSES LTDA               </td><td>                                        </td></tr>\n",
       "<tr><td>             </td><td>    </td><td>              </td><td>        </td><td style=\"text-align: right;\">91692186000142</td><td>2024-05-23</td><td style=\"text-align: right;\">   91692186</td><td>                 </td><td>Cooperativa de Crédito                            </td><td>Cancelada/Encerrada                      </td><td>COOPERATIVA DE ECONOMIA E CREDITO MUTUO DOS EMPREGADOS DA FIRMA HAAS LTDA                        </td><td>                                        </td></tr>\n",
       "<tr><td>             </td><td>    </td><td>              </td><td>        </td><td style=\"text-align: right;\">14882179000162</td><td>2024-05-23</td><td style=\"text-align: right;\">   14882179</td><td>                 </td><td>Cooperativa de Crédito                            </td><td>Cancelada/Encerrada                      </td><td>COOPERATIVA DE ECONOMIA E CREDITO MUTUO DOS FUNCIONARIOS DAS EMPRESAS ITAU EM CORUMBA LTDA       </td><td>                                        </td></tr>\n",
       "</tbody>\n",
       "</table>"
      ],
      "text/plain": [
       "<IPython.core.display.HTML object>"
      ]
     },
     "metadata": {},
     "output_type": "display_data"
    },
    {
     "data": {
      "text/html": [
       "<table>\n",
       "<thead>\n",
       "<tr><th>instituicao                                                                     </th><th style=\"text-align: right;\">  tc</th><th>conglomerado                   </th><th style=\"text-align: right;\">  codigo</th><th style=\"text-align: right;\">          cnpj</th><th>data      </th><th style=\"text-align: right;\">  cnpj_raiz</th><th style=\"text-align: right;\">  codigo_sisbacen</th><th>nome_tipo_entidade                                         </th><th>descricao_situacao                       </th><th>nome_entidade                                                                   </th><th>nome_fantasia                                  </th></tr>\n",
       "</thead>\n",
       "<tbody>\n",
       "<tr><td>QUANTO NETWORK INSTITUICAO DE PAGAMENTO LTDA.                                   </td><td style=\"text-align: right;\">   2</td><td>QUANTO NETWORK IP - PRUDENCIAL </td><td style=\"text-align: right;\">42064545</td><td style=\"text-align: right;\">42064545000101</td><td>2024-05-23</td><td style=\"text-align: right;\">   42064545</td><td style=\"text-align: right;\">            00005</td><td>Instituição de Pagamento                                   </td><td>Autorizada em Atividade                  </td><td>QUANTO NETWORK INSTITUICAO DE PAGAMENTO LTDA.                                   </td><td>QUANTO                                         </td></tr>\n",
       "<tr><td>BLU INSTITUIÇÃO DE PAGAMENTO LTDA.                                              </td><td style=\"text-align: right;\">   2</td><td>BLU IP - PRUDENCIAL            </td><td style=\"text-align: right;\">10506341</td><td style=\"text-align: right;\">10506341000197</td><td>2024-05-23</td><td style=\"text-align: right;\">   10506341</td><td style=\"text-align: right;\">            00059</td><td>Instituição de Pagamento                                   </td><td>Autorizada em Atividade                  </td><td>BLU INSTITUIÇÃO DE PAGAMENTO LTDA.                                              </td><td>BLU IP                                         </td></tr>\n",
       "<tr><td>ZOOP TECNOLOGIA &amp; INSTITUICAO DE PAGAMENTO S.A.                                 </td><td style=\"text-align: right;\">   2</td><td>ZOOP TECNOLOGIA IP - PRUDENCIAL</td><td style=\"text-align: right;\">19468242</td><td style=\"text-align: right;\">19468242000213</td><td>2024-05-23</td><td style=\"text-align: right;\">   19468242</td><td style=\"text-align: right;\">            00137</td><td>Instituição de Pagamento                                   </td><td>Autorizada em Atividade                  </td><td>ZOOP TECNOLOGIA &amp; INSTITUICAO DE PAGAMENTO S.A.                                 </td><td>ZOOP TECNOLOGIA &amp; INSTITUIÇÃO DE PAGAMENTO S.A.</td></tr>\n",
       "<tr><td>BANCO BANERJ S.A.                                                               </td><td style=\"text-align: right;\">   2</td><td>ITAU                           </td><td style=\"text-align: right;\">33885724</td><td style=\"text-align: right;\">33885724000119</td><td>2024-05-23</td><td style=\"text-align: right;\">   33885724</td><td style=\"text-align: right;\">            04029</td><td>Banco Múltiplo                                             </td><td>Autorizada em Atividade                  </td><td>BANCO ITAÚ CONSIGNADO S.A.                                                      </td><td>BANCO ITAÚ CONSIGNADO S.A.                     </td></tr>\n",
       "<tr><td>BANCO ITAÚ BMG CONSIGNADO S.A.                                                  </td><td style=\"text-align: right;\">   2</td><td>ITAU                           </td><td style=\"text-align: right;\">33885724</td><td style=\"text-align: right;\">33885724000119</td><td>2024-05-23</td><td style=\"text-align: right;\">   33885724</td><td style=\"text-align: right;\">            04029</td><td>Banco Múltiplo                                             </td><td>Autorizada em Atividade                  </td><td>BANCO ITAÚ CONSIGNADO S.A.                                                      </td><td>BANCO ITAÚ CONSIGNADO S.A.                     </td></tr>\n",
       "<tr><td>UBS PACTUAL CORRETORA DE TÍTULOS E VALORES MOBILIÁRIOS S.A.                     </td><td style=\"text-align: right;\">   3</td><td>UBS PACTUAL                    </td><td style=\"text-align: right;\">43815158</td><td style=\"text-align: right;\">43815158000122</td><td>2024-05-23</td><td style=\"text-align: right;\">   43815158</td><td style=\"text-align: right;\">            05211</td><td>Sociedade Corretora de TVM                                 </td><td>Autorizada em Atividade                  </td><td>BTG PACTUAL CORRETORA DE TÍTULOS E VALORES MOBILIÁRIOS S.A.                     </td><td>BTG PACTUAL CTVM S.A.                          </td></tr>\n",
       "<tr><td>BTG PACTUAL CORRETORA DE TÍTULOS E VALORES MOBILIÁRIOS S.A.                     </td><td style=\"text-align: right;\">   2</td><td>BTG PACTUAL                    </td><td style=\"text-align: right;\">43815158</td><td style=\"text-align: right;\">43815158000122</td><td>2024-05-23</td><td style=\"text-align: right;\">   43815158</td><td style=\"text-align: right;\">            05211</td><td>Sociedade Corretora de TVM                                 </td><td>Autorizada em Atividade                  </td><td>BTG PACTUAL CORRETORA DE TÍTULOS E VALORES MOBILIÁRIOS S.A.                     </td><td>BTG PACTUAL CTVM S.A.                          </td></tr>\n",
       "<tr><td>BANCO GE CAPITAL S.A.                                                           </td><td style=\"text-align: right;\">   2</td><td>BMG                            </td><td style=\"text-align: right;\">62421979</td><td style=\"text-align: right;\">62421979000129</td><td>2024-05-23</td><td style=\"text-align: right;\">   62421979</td><td style=\"text-align: right;\">            05233</td><td>Banco Múltiplo                                             </td><td>Autorizada em Atividade                  </td><td>BANCO CIFRA S.A.                                                                </td><td>BANCO CIFRA                                    </td></tr>\n",
       "<tr><td>BANCO LETSBANK S.A.                                                             </td><td style=\"text-align: right;\">   2</td><td>BANCO VOITER - PRUDENCIAL      </td><td style=\"text-align: right;\">58497702</td><td style=\"text-align: right;\">58497702000102</td><td>2024-05-23</td><td style=\"text-align: right;\">   58497702</td><td style=\"text-align: right;\">            05630</td><td>Banco Múltiplo                                             </td><td>Autorizada em Atividade                  </td><td>BANCO LETSBANK S.A.                                                             </td><td>LETSBANK                                       </td></tr>\n",
       "<tr><td>BANCO ITAUBANK S.A.                                                             </td><td style=\"text-align: right;\">   2</td><td>ITAU - PRUDENCIAL              </td><td style=\"text-align: right;\">60394079</td><td style=\"text-align: right;\">60394079000104</td><td>2024-05-23</td><td style=\"text-align: right;\">   60394079</td><td style=\"text-align: right;\">            06479</td><td>Banco Múltiplo                                             </td><td>Autorizada em Atividade                  </td><td>BANCO ITAUBANK S.A.                                                             </td><td>ITAUBANK                                       </td></tr>\n",
       "<tr><td>COMPANHIA AMERICA DO SUL DE ARRENDAMENTO MERCANTIL                              </td><td style=\"text-align: right;\">   3</td><td>SUDAMERIS                      </td><td style=\"text-align: right;\">62307848</td><td style=\"text-align: right;\">62307848000115</td><td>2024-05-23</td><td style=\"text-align: right;\">   62307848</td><td style=\"text-align: right;\">            08336</td><td>Banco Múltiplo                                             </td><td>Autorizada em Atividade                  </td><td>BANCO RCI BRASIL S.A.                                                           </td><td>MOBILIZE FINANCIAL SERVICES                    </td></tr>\n",
       "<tr><td>J&amp;F DISTRIBUIDORA DE TÍTULOS E VALORES MOBILIÁRIOS LTDA                         </td><td style=\"text-align: right;\">   2</td><td>BANCO ORIGINAL - PRUDENCIAL    </td><td style=\"text-align: right;\">07138049</td><td style=\"text-align: right;\">07138049000154</td><td>2024-05-23</td><td style=\"text-align: right;\">   07138049</td><td style=\"text-align: right;\">            12261</td><td>Sociedade Distribuidora de TVM                             </td><td>Autorizada em Atividade                  </td><td>PICPAY INVEST DISTRIBUIDORA DE TÍTULOS E VALORES MOBILIÁRIOS LTDA               </td><td>PICPAY INVEST                                  </td></tr>\n",
       "<tr><td>SANTANDER ASSET MANAGEMENT DISTRIBUIDORA DE TÍTULOS E VALORES MOBILIÁRIOS LTDA. </td><td style=\"text-align: right;\">   3</td><td>SANTANDER BANESPA              </td><td style=\"text-align: right;\">73159642</td><td style=\"text-align: right;\">73159642000101</td><td>2024-05-23</td><td style=\"text-align: right;\">   73159642</td><td style=\"text-align: right;\">            24475</td><td>Sociedade Distribuidora de TVM                             </td><td>Cancelada/Encerrada                      </td><td>SANTANDER ASSET MANAGEMENT DISTRIBUIDORA DE TÍTULOS E VALORES MOBILIÁRIOS LTDA. </td><td>SANTANDER BANESPA                              </td></tr>\n",
       "<tr><td>WESTERN UNION CORRETORA DE CÂMBIO S.A.                                          </td><td style=\"text-align: right;\">   3</td><td>WESTERN UNION - PRUDENCIAL     </td><td style=\"text-align: right;\">13728156</td><td style=\"text-align: right;\">13728156009515</td><td>2024-05-23</td><td style=\"text-align: right;\">   13728156</td><td style=\"text-align: right;\">            28996</td><td>Sociedade Corretora de Câmbio                              </td><td>Autorizada em Atividade                  </td><td>WESTERN UNION CORRETORA DE CÂMBIO S.A.                                          </td><td>WESTERN UNION CORRETORA                        </td></tr>\n",
       "<tr><td>BANCO LOSANGO S.A. - BANCO MÚLTIPLO                                             </td><td style=\"text-align: right;\">   3</td><td>HSBC                           </td><td style=\"text-align: right;\">33254319</td><td style=\"text-align: right;\">33254319008420</td><td>2024-05-23</td><td style=\"text-align: right;\">   33254319</td><td style=\"text-align: right;\">            31168</td><td>Banco Múltiplo                                             </td><td>Autorizada em Atividade                  </td><td>BANCO LOSANGO S.A. - BANCO MÚLTIPLO                                             </td><td>BANCO LOSANGO S.A.                             </td></tr>\n",
       "<tr><td>BANCO OURINVEST S.A.                                                            </td><td style=\"text-align: right;\">   2</td><td>OURINVEST                      </td><td style=\"text-align: right;\">78632767</td><td style=\"text-align: right;\">78632767000120</td><td>2024-05-23</td><td style=\"text-align: right;\">   78632767</td><td style=\"text-align: right;\">            31712</td><td>Banco Múltiplo                                             </td><td>Autorizada em Atividade                  </td><td>BANCO OURINVEST S.A.                                                            </td><td>OURIBANK                                       </td></tr>\n",
       "<tr><td>COINVALORES DISTRIBUIDORA DE TÍTULOS E VALORES MOBILIÁRIOS LTDA                 </td><td style=\"text-align: right;\">   2</td><td>COINVALORES                    </td><td style=\"text-align: right;\">59148775</td><td style=\"text-align: right;\">59148775000151</td><td>2024-05-23</td><td style=\"text-align: right;\">   59148775</td><td style=\"text-align: right;\">            37096</td><td>Administradora de Fundos não sujeita a autorização pelo BCB</td><td>Falta de integridade referencial na fonte</td><td>COINVEST SERVICOS E NEGOCIOS LTDA.                                              </td><td>COINVEST EMPREENDIMENTOS                       </td></tr>\n",
       "<tr><td>FRIZZO PECUNIA - DISTRIBUIDORA DE TÍTULOS E VALORES MOBILIÁRIOS LTDA.           </td><td style=\"text-align: right;\">   2</td><td>PECUNIA                        </td><td style=\"text-align: right;\">62264924</td><td style=\"text-align: right;\">62264924000152</td><td>2024-05-23</td><td style=\"text-align: right;\">   62264924</td><td style=\"text-align: right;\">            37541</td><td>Sociedade Distribuidora de TVM                             </td><td>Autorizada em Atividade                  </td><td>CP &amp; FRIZZO - DISTRIBUIDORA DE TÍTULOS E VALORES MOBILIÁRIOS LTDA               </td><td>CP &amp; FRIZZO - DTVM LTDA                        </td></tr>\n",
       "<tr><td>BTG PACTUAL ASSET MANAGEMENT S.A. DISTRIBUIDORA DE TÍTULOS E VALORES MOBILIÁRIOS</td><td style=\"text-align: right;\">   2</td><td>BTG PACTUAL                    </td><td style=\"text-align: right;\">29650082</td><td style=\"text-align: right;\">29650082000363</td><td>2024-05-23</td><td style=\"text-align: right;\">   29650082</td><td style=\"text-align: right;\">            37811</td><td>Sociedade Distribuidora de TVM                             </td><td>Autorizada em Atividade                  </td><td>BTG PACTUAL ASSET MANAGEMENT S.A. DISTRIBUIDORA DE TÍTULOS E VALORES MOBILIÁRIOS</td><td>BTG PACTUAL ASSET MANAGEMENT S.A. DTVM         </td></tr>\n",
       "<tr><td>PACTUAL S.A.-DISTRIBUIDORA DE TITULOS E VALORES MOBILIARIOS                     </td><td style=\"text-align: right;\">   2</td><td>PACTUAL                        </td><td style=\"text-align: right;\">29650082</td><td style=\"text-align: right;\">29650082000363</td><td>2024-05-23</td><td style=\"text-align: right;\">   29650082</td><td style=\"text-align: right;\">            37811</td><td>Sociedade Distribuidora de TVM                             </td><td>Autorizada em Atividade                  </td><td>BTG PACTUAL ASSET MANAGEMENT S.A. DISTRIBUIDORA DE TÍTULOS E VALORES MOBILIÁRIOS</td><td>BTG PACTUAL ASSET MANAGEMENT S.A. DTVM         </td></tr>\n",
       "<tr><td>BANCO OLÉ CONSIGNADO S.A.                                                       </td><td style=\"text-align: right;\">   3</td><td>SANTANDER                      </td><td style=\"text-align: right;\">71371686</td><td style=\"text-align: right;\">71371686000175</td><td>2024-05-23</td><td style=\"text-align: right;\">   71371686</td><td style=\"text-align: right;\">            38022</td><td>Banco Múltiplo                                             </td><td>Cancelada/Encerrada                      </td><td>BANCO OLÉ CONSIGNADO S.A.                                                       </td><td>OLÉ CONSIGNADO                                 </td></tr>\n",
       "<tr><td>BMP SOCIEDADE DE CRÉDITO DIRETO S.A                                             </td><td style=\"text-align: right;\">   2</td><td>BMP SCMEPP LTDA - PRUDENCIAL   </td><td style=\"text-align: right;\">34337707</td><td style=\"text-align: right;\">34337707000100</td><td>2024-05-23</td><td style=\"text-align: right;\">   34337707</td><td style=\"text-align: right;\">            42687</td><td>Sociedade de Crédito Direto                                </td><td>Autorizada em Atividade                  </td><td>BMP SOCIEDADE DE CRÉDITO DIRETO S.A                                             </td><td>BMP                                            </td></tr>\n",
       "<tr><td>DMCARD SOCIEDADE DE CRÉDITO DIRETO S.A.                                         </td><td style=\"text-align: right;\">   2</td><td>DMCARD SCD - PRUDENCIAL        </td><td style=\"text-align: right;\">37555231</td><td style=\"text-align: right;\">37555231000171</td><td>2024-05-23</td><td style=\"text-align: right;\">   37555231</td><td style=\"text-align: right;\">            42823</td><td>Sociedade de Crédito Direto                                </td><td>Autorizada em Atividade                  </td><td>DM SOCIEDADE DE CRÉDITO DIRETO S.A.                                             </td><td>DM                                             </td></tr>\n",
       "<tr><td>ADIQ SOLUCOES DE PAGAMENTO S.A.                                                 </td><td style=\"text-align: right;\">   2</td><td>BS2 - PRUDENCIAL               </td><td style=\"text-align: right;\">20520298</td><td style=\"text-align: right;\">20520298000178</td><td>2024-05-23</td><td style=\"text-align: right;\">   20520298</td><td style=\"text-align: right;\">            42872</td><td>Instituição de Pagamento                                   </td><td>Autorizada em Atividade                  </td><td>ADIQ INSTITUIÇÃO DE PAGAMENTO S.A.                                              </td><td>ADIQ SOLUÇÕES DE PAGAMENTO                     </td></tr>\n",
       "<tr><td>CREDIFIT SOCIEDADE DE CRÉDITO DIRETO S.A.                                       </td><td style=\"text-align: right;\">   2</td><td>CREDIFIT SCD - PRUDENCIAL      </td><td style=\"text-align: right;\">39676772</td><td style=\"text-align: right;\">39676772000183</td><td>2024-05-23</td><td style=\"text-align: right;\">   39676772</td><td style=\"text-align: right;\">            42935</td><td>Sociedade de Crédito Direto                                </td><td>Autorizada em Atividade                  </td><td>CREDIFIT SOCIEDADE DE CRÉDITO DIRETO S.A.                                       </td><td>CREDIFIT                                       </td></tr>\n",
       "<tr><td>QISTA S.A. - CRÉDITO, FINANCIAMENTO E INVESTIMENTO                              </td><td style=\"text-align: right;\">   2</td><td>QISTA S.A. CFI - PRUDENCIAL    </td><td style=\"text-align: right;\">36583700</td><td style=\"text-align: right;\">36583700000101</td><td>2024-05-23</td><td style=\"text-align: right;\">   36583700</td><td style=\"text-align: right;\">            43205</td><td>Sociedade de Crédito, Financiamento e Investimento         </td><td>Autorizada em Atividade                  </td><td>QISTA S.A. - CRÉDITO, FINANCIAMENTO E INVESTIMENTO                              </td><td>QISTA                                          </td></tr>\n",
       "<tr><td>INTER AMERICAN EXPRESS ARRENDAMENTO MERCANTIL S.A.                              </td><td style=\"text-align: right;\">   3</td><td>INTER AMEX                     </td><td style=\"text-align: right;\">27098060</td><td style=\"text-align: right;\">27098060000145</td><td>2024-05-23</td><td style=\"text-align: right;\">   27098060</td><td style=\"text-align: right;\">            53049</td><td>Banco Múltiplo                                             </td><td>Autorizada em Atividade                  </td><td>BANCO DIGIO S.A.                                                                </td><td>BANCO CBSS                                     </td></tr>\n",
       "<tr><td>CCB BRASIL ARRENDAMENTO MERCANTIL S/A.                                          </td><td style=\"text-align: right;\">   3</td><td>CCB - PRUDENCIAL               </td><td style=\"text-align: right;\">69720910</td><td style=\"text-align: right;\">69720910000145</td><td>2024-05-23</td><td style=\"text-align: right;\">   69720910</td><td style=\"text-align: right;\">            53124</td><td>Sociedade de Arrendamento Mercantil                        </td><td>Autorizada em Atividade                  </td><td>CCB BRASIL ARRENDAMENTO MERCANTIL S/A.                                          </td><td>CCB LEASING                                    </td></tr>\n",
       "<tr><td>FATOR S/A - CORRETORA DE VALORES                                                </td><td style=\"text-align: right;\">   2</td><td>FATOR                          </td><td style=\"text-align: right;\">63062749</td><td style=\"text-align: right;\">63062749000183</td><td>2024-05-23</td><td style=\"text-align: right;\">   63062749</td><td style=\"text-align: right;\">            57095</td><td>Sociedade Corretora de TVM                                 </td><td>Autorizada em Atividade                  </td><td>FXC CORRETORA DE VALORES S.A.                                                   </td><td>FXC CV S.A.                                    </td></tr>\n",
       "<tr><td>FXC CORRETORA DE VALORES S.A.                                                   </td><td style=\"text-align: right;\">   2</td><td>BTG PACTUAL - PRUDENCIAL       </td><td style=\"text-align: right;\">63062749</td><td style=\"text-align: right;\">63062749000183</td><td>2024-05-23</td><td style=\"text-align: right;\">   63062749</td><td style=\"text-align: right;\">            57095</td><td>Sociedade Corretora de TVM                                 </td><td>Autorizada em Atividade                  </td><td>FXC CORRETORA DE VALORES S.A.                                                   </td><td>FXC CV S.A.                                    </td></tr>\n",
       "</tbody>\n",
       "</table>"
      ],
      "text/plain": [
       "<IPython.core.display.HTML object>"
      ]
     },
     "metadata": {},
     "output_type": "display_data"
    }
   ],
   "source": [
    "sample_only_demonstracao_result = only_demonstracao_result.sample(False, 0.1).limit(30)\n",
    "\n",
    "tb_only_demonstracao_result = tabulate(only_demonstracao_result.collect(), headers=only_demonstracao_result.columns, tablefmt='html')\n",
    "\n",
    "sample_only_info_cadastral = only_info_cadastral.sample(False, 0.1).limit(30)\n",
    "\n",
    "tb_only_info_cadastral = tabulate(sample_only_info_cadastral.collect(), headers=sample_only_info_cadastral.columns, tablefmt='html')\n",
    "\n",
    "sample_intersecao =intersecao.sample(False, 0.1).limit(30)\n",
    "\n",
    "tb_intersecao = tabulate(sample_intersecao.collect(), headers=sample_intersecao.columns, tablefmt='html')\n",
    "\n",
    "display(HTML(tb_only_demonstracao_result))\n",
    "display(HTML(tb_only_info_cadastral))\n",
    "display(HTML(tb_intersecao))\n",
    "\n"
   ]
  },
  {
   "cell_type": "code",
   "execution_count": 13,
   "id": "596c374b-e32d-4fc4-bac1-28f7b7576005",
   "metadata": {
    "scrolled": true
   },
   "outputs": [
    {
     "name": "stdout",
     "output_type": "stream",
     "text": [
      "root\n",
      " |-- instituicao: string (nullable = true)\n",
      " |-- tc: string (nullable = true)\n",
      " |-- conglomerado: string (nullable = true)\n",
      " |-- codigo: string (nullable = true)\n",
      " |-- cnpj: string (nullable = true)\n",
      " |-- data: string (nullable = true)\n",
      " |-- cnpj_raiz: string (nullable = true)\n",
      " |-- codigo_sisbacen: string (nullable = true)\n",
      " |-- nome_tipo_entidade: string (nullable = true)\n",
      " |-- descricao_situacao: string (nullable = true)\n",
      " |-- nome_entidade: string (nullable = true)\n",
      " |-- nome_fantasia: string (nullable = true)\n",
      "\n"
     ]
    },
    {
     "name": "stderr",
     "output_type": "stream",
     "text": [
      "24/07/18 17:15:04 WARN TaskSetManager: Stage 110 contains a task of very large size (12111 KiB). The maximum recommended task size is 1000 KiB.\n",
      "24/07/18 17:15:04 WARN TaskSetManager: Stage 111 contains a task of very large size (11648 KiB). The maximum recommended task size is 1000 KiB.\n",
      "                                                                                \r"
     ]
    },
    {
     "data": {
      "text/html": [
       "<table>\n",
       "<thead>\n",
       "<tr><th>instituicao                                                                            </th><th style=\"text-align: right;\">  tc</th><th>conglomerado                                   </th><th style=\"text-align: right;\">  codigo</th><th style=\"text-align: right;\">          cnpj</th><th>data      </th><th style=\"text-align: right;\">  cnpj_raiz</th><th style=\"text-align: right;\">  codigo_sisbacen</th><th>nome_tipo_entidade                                         </th><th>descricao_situacao                       </th><th>nome_entidade                                                                         </th><th>nome_fantasia                           </th></tr>\n",
       "</thead>\n",
       "<tbody>\n",
       "<tr><td>CATERPILLAR FINANCIAL S.A. ARRENDAMENTO MERCANTIL                                      </td><td style=\"text-align: right;\">   3</td><td>CATERPILLAR                                    </td><td style=\"text-align: right;\">02658435</td><td style=\"text-align: right;\">02658435000153</td><td>2024-05-23</td><td style=\"text-align: right;\">   02658435</td><td style=\"text-align: right;\">            53154</td><td>Banco Múltiplo                                             </td><td>Autorizada em Atividade                  </td><td>BANCO CATERPILLAR S.A.                                                                </td><td>BANCO CATERPILLAR S.A.                  </td></tr>\n",
       "<tr><td>BANCO PRIME DE INVESTIMENTO S.A.                                                       </td><td style=\"text-align: right;\">   2</td><td>PRIME                                          </td><td style=\"text-align: right;\">45246410</td><td style=\"text-align: right;\">45246410000155</td><td>2024-05-23</td><td style=\"text-align: right;\">   45246410</td><td style=\"text-align: right;\">            31710</td><td>Banco Múltiplo                                             </td><td>Autorizada em Atividade                  </td><td>BANCO GENIAL S.A.                                                                     </td><td>PLURAL BANCO                            </td></tr>\n",
       "<tr><td>CM CAPITAL MARKETS CORRETORA DE CAMBIO LTDA                                            </td><td style=\"text-align: right;\">   3</td><td>CM CAPITAL MARKETS                             </td><td style=\"text-align: right;\">02671743</td><td style=\"text-align: right;\">02671743000119</td><td>2024-06-12</td><td style=\"text-align: right;\">   02671743</td><td style=\"text-align: right;\">            57538</td><td>Sociedade Distribuidora de TVM                             </td><td>Autorizada em Atividade                  </td><td>BANVOX DISTRIBUIDORA DE TÍTULOS E VALORES MOBILIÁRIOS LTDA                            </td><td>BANVOX DTVM                             </td></tr>\n",
       "<tr><td>BANCO FINAXIS S.A.                                                                     </td><td style=\"text-align: right;\">   2</td><td>FINAXIS - PRUDENCIAL                           </td><td style=\"text-align: right;\">11758741</td><td style=\"text-align: right;\">11758741000152</td><td>2024-05-23</td><td style=\"text-align: right;\">   11758741</td><td style=\"text-align: right;\">            27731</td><td>Banco Comercial                                            </td><td>Autorizada em Atividade                  </td><td>BANCO FINAXIS S.A.                                                                    </td><td>BANCO FINAXIS S.A.                      </td></tr>\n",
       "<tr><td>BANCO INDUSVAL S.A.                                                                    </td><td style=\"text-align: right;\">   2</td><td>INDUSVAL                                       </td><td style=\"text-align: right;\">61024352</td><td style=\"text-align: right;\">61024352000171</td><td>2024-05-23</td><td style=\"text-align: right;\">   61024352</td><td style=\"text-align: right;\">            05653</td><td>Banco Múltiplo                                             </td><td>Autorizada em Atividade                  </td><td>BANCO VOITER S.A.                                                                     </td><td>VOITER                                  </td></tr>\n",
       "<tr><td>BANKPAR BANCO MÚLTIPLO S.A.                                                            </td><td style=\"text-align: right;\">   2</td><td>BRADESCO                                       </td><td style=\"text-align: right;\">59438325</td><td style=\"text-align: right;\">59438325000101</td><td>2024-05-23</td><td style=\"text-align: right;\">   59438325</td><td style=\"text-align: right;\">            07204</td><td>Banco Múltiplo                                             </td><td>Cancelada/Encerrada                      </td><td>BANCO BRADESCO CARTÕES S.A.                                                           </td><td>BRADESCO CARTÕES                        </td></tr>\n",
       "<tr><td>STONE SOCIEDADE DE CRÉDITO DIRETO S.A.                                                 </td><td style=\"text-align: right;\">   2</td><td>STONE PAGAMENTOS - PRUDENCIAL                  </td><td style=\"text-align: right;\">34590184</td><td style=\"text-align: right;\">34590184000109</td><td>2024-05-23</td><td style=\"text-align: right;\">   34590184</td><td style=\"text-align: right;\">            42504</td><td>Sociedade de Crédito Direto                                </td><td>Autorizada em Atividade                  </td><td>STONE SOCIEDADE DE CRÉDITO DIRETO S.A.                                                </td><td>STONE SCD                               </td></tr>\n",
       "<tr><td>SAFRA DISTRIBUIDORA DE TITULOS E VALORES MOBILIARIOS LTDA                              </td><td style=\"text-align: right;\">   2</td><td>SAFRA                                          </td><td style=\"text-align: right;\">62180047</td><td style=\"text-align: right;\">62180047000131</td><td>2024-05-23</td><td style=\"text-align: right;\">   62180047</td><td style=\"text-align: right;\">            37383</td><td>Sociedade Distribuidora de TVM                             </td><td>Cancelada/Encerrada                      </td><td>SAFRA ASSET MANAGEMENT LTDA                                                           </td><td>SAFRA ASSET MANAGEMENT                  </td></tr>\n",
       "<tr><td>M18 INSTITUIÇÃO DE PAGAMENTO S.A.                                                      </td><td style=\"text-align: right;\">   2</td><td>M18 IP - PRUDENCIAL                            </td><td style=\"text-align: right;\">22575466</td><td style=\"text-align: right;\">22575466000158</td><td>2024-05-23</td><td style=\"text-align: right;\">   22575466</td><td style=\"text-align: right;\">            41921</td><td>Instituição de Pagamento                                   </td><td>Autorizada em Atividade                  </td><td>SRM BANK INSTITUIÇÃO DE PAGAMENTO S/A                                                 </td><td>SRM BANK                                </td></tr>\n",
       "<tr><td>SANTANDER SECURITIES (BRASIL)CORRETORA DE VALORES MOBILIÁRIOS S.A.                     </td><td style=\"text-align: right;\">   3</td><td>SANTANDER                                      </td><td style=\"text-align: right;\">61733515</td><td style=\"text-align: right;\">61733515000195</td><td>2024-05-23</td><td style=\"text-align: right;\">   61733515</td><td style=\"text-align: right;\">            57054</td><td>Sociedade Corretora de TVM                                 </td><td>Cancelada/Encerrada                      </td><td>SANTANDER SECURITIES (BRASIL)CORRETORA DE VALORES MOBILIÁRIOS S.A.                    </td><td>SANTANDER SECURITIES CVM                </td></tr>\n",
       "<tr><td>BANCO PSA FINANCE BRASIL S.A.                                                          </td><td style=\"text-align: right;\">   3</td><td>SANTANDER                                      </td><td style=\"text-align: right;\">03502961</td><td style=\"text-align: right;\">03502961000192</td><td>2024-05-23</td><td style=\"text-align: right;\">   03502961</td><td style=\"text-align: right;\">            10567</td><td>Sociedade de Crédito, Financiamento e Investimento         </td><td>Autorizada em Atividade                  </td><td>STELLANTIS FINANCIAMENTOS SOCIEDADE DE CRÉDITO, FINANCIAMENTO E INVESTIMENTO S.A      </td><td>STELLANTIS FINANCIAMENTOS               </td></tr>\n",
       "<tr><td>OZ CORRETORA DE CÂMBIO S.A.                                                            </td><td style=\"text-align: right;\">   2</td><td>OZ CC - PRUDENCIAL                             </td><td style=\"text-align: right;\">04062902</td><td style=\"text-align: right;\">04062902000103</td><td>2024-05-23</td><td style=\"text-align: right;\">   04062902</td><td style=\"text-align: right;\">            12407</td><td>Sociedade Corretora de Câmbio                              </td><td>Autorizada em Atividade                  </td><td>OZ CORRETORA DE CÂMBIO S.A.                                                           </td><td>OZ CÂMBIO                               </td></tr>\n",
       "<tr><td>FISERV DO BRASIL  INSTITUIÇÃO DE PAGAMENTO LTDA                                        </td><td style=\"text-align: right;\">   2</td><td>FISERV DO BRASIL IP - PRUDENCIAL               </td><td style=\"text-align: right;\">04962772</td><td style=\"text-align: right;\">04962772000165</td><td>2024-05-23</td><td style=\"text-align: right;\">   04962772</td><td style=\"text-align: right;\">            00042</td><td>Instituição de Pagamento                                   </td><td>Autorizada em Atividade                  </td><td>FISERV DO BRASIL  INSTITUIÇÃO DE PAGAMENTO LTDA                                       </td><td>FISERV                                  </td></tr>\n",
       "<tr><td>LECCA DISTRIBUIDORA DE TITULOS E VALORES MOBILIARIOS LTDA                              </td><td style=\"text-align: right;\">   2</td><td>LECCA                                          </td><td style=\"text-align: right;\">07138049</td><td style=\"text-align: right;\">07138049000154</td><td>2024-05-23</td><td style=\"text-align: right;\">   07138049</td><td style=\"text-align: right;\">            12261</td><td>Sociedade Distribuidora de TVM                             </td><td>Autorizada em Atividade                  </td><td>PICPAY INVEST DISTRIBUIDORA DE TÍTULOS E VALORES MOBILIÁRIOS LTDA                     </td><td>PICPAY INVEST                           </td></tr>\n",
       "<tr><td>TYCOON TECHNOLOGY INSTITUICAO DE PAGAMENTO S.A                                         </td><td style=\"text-align: right;\">   2</td><td>TYCOON TECHNOLOGY IP - PRUDENCIAL              </td><td style=\"text-align: right;\">26615279</td><td style=\"text-align: right;\">26615279000101</td><td>2024-05-23</td><td style=\"text-align: right;\">   26615279</td><td style=\"text-align: right;\">            00124</td><td>Instituição de Pagamento                                   </td><td>Autorizada em Atividade                  </td><td>TYCOON TECHNOLOGY INSTITUICAO DE PAGAMENTO S.A                                        </td><td>ZEIT                                    </td></tr>\n",
       "<tr><td>NU FINANCEIRA S.A. - SOCIEDADE DE CRÉDITO, FINANCIAMENTO E INVESTIMENTO                </td><td style=\"text-align: right;\">   2</td><td>NU PAGAMENTOS - PRUDENCIAL                     </td><td style=\"text-align: right;\">30680829</td><td style=\"text-align: right;\">30680829000143</td><td>2024-05-23</td><td style=\"text-align: right;\">   30680829</td><td style=\"text-align: right;\">            41593</td><td>Sociedade de Crédito, Financiamento e Investimento         </td><td>Autorizada em Atividade                  </td><td>NU FINANCEIRA S.A. - SOCIEDADE DE CRÉDITO, FINANCIAMENTO E INVESTIMENTO               </td><td>NUBANK                                  </td></tr>\n",
       "<tr><td>HARMONIA DISTRIBUIDORA DE TÍTULOS E VALORES MOBILIÁRIOS S.A.                           </td><td style=\"text-align: right;\">   2</td><td>GREEN ALTERNATIVE INVESTMENTS DTVM - PRUDENCIAL</td><td style=\"text-align: right;\">37800856</td><td style=\"text-align: right;\">37800856000151</td><td>2024-05-23</td><td style=\"text-align: right;\">   37800856</td><td style=\"text-align: right;\">            43383</td><td>Sociedade Distribuidora de TVM                             </td><td>Autorizada em Atividade                  </td><td>GREEN ALTERNATIVE INVESTMENTS DISTRIBUIDORA DE TÍTULOS E VALORES MOBILIÁRIOS S.A.     </td><td>GREEN ALTERNATIVE INVESTMENTS DTVM S.A. </td></tr>\n",
       "<tr><td>ACG INSTITUIÇÃO DE PAGAMENTO S.A.                                                      </td><td style=\"text-align: right;\">   2</td><td>ACG IP - PRUDENCIAL                            </td><td style=\"text-align: right;\">10868663</td><td style=\"text-align: right;\">10868663000186</td><td>2024-05-23</td><td style=\"text-align: right;\">   10868663</td><td style=\"text-align: right;\">            00012</td><td>Instituição de Pagamento                                   </td><td>Autorizada em Atividade                  </td><td>ACG INSTITUIÇÃO DE PAGAMENTO S.A.                                                     </td><td>ACG ADMINISTRADORA DE CARTÕES S/A       </td></tr>\n",
       "<tr><td>BANCO BANERJ S.A.                                                                      </td><td style=\"text-align: right;\">   2</td><td>ITAU                                           </td><td style=\"text-align: right;\">33885724</td><td style=\"text-align: right;\">33885724000119</td><td>2024-05-23</td><td style=\"text-align: right;\">   33885724</td><td style=\"text-align: right;\">            04029</td><td>Banco Múltiplo                                             </td><td>Autorizada em Atividade                  </td><td>BANCO ITAÚ CONSIGNADO S.A.                                                            </td><td>BANCO ITAÚ CONSIGNADO S.A.              </td></tr>\n",
       "<tr><td>CCB BRASIL ARRENDAMENTO MERCANTIL S/A                                                  </td><td style=\"text-align: right;\">   3</td><td>CCB - PRUDENCIAL                               </td><td style=\"text-align: right;\">69720910</td><td style=\"text-align: right;\">69720910000145</td><td>2024-05-23</td><td style=\"text-align: right;\">   69720910</td><td style=\"text-align: right;\">            53124</td><td>Sociedade de Arrendamento Mercantil                        </td><td>Autorizada em Atividade                  </td><td>CCB BRASIL ARRENDAMENTO MERCANTIL S/A.                                                </td><td>CCB LEASING                             </td></tr>\n",
       "<tr><td>ESPÍRITO SANTO SERVIÇOS FINANCEIROS DISTRIBUIDORA DE TÍTULOS E VALORES MOBILIÁRIOS S.A.</td><td style=\"text-align: right;\">   3</td><td>BES                                            </td><td style=\"text-align: right;\">11406965</td><td style=\"text-align: right;\">11406965000103</td><td>2024-05-23</td><td style=\"text-align: right;\">   11406965</td><td style=\"text-align: right;\">            27703</td><td>Sociedade Distribuidora de TVM                             </td><td>Autorizada em Atividade                  </td><td>HAITONG DO BRASIL DISTRIBUIDORA DE TÍTULOS E VALORES MOBILIÁRIOS S.A.                 </td><td>ESPÍRITO SANTO SERVIÇOS FINANCEIROS DTVM</td></tr>\n",
       "<tr><td>NEON CORRETORA DE TÍTULOS E VALORES MOBILIÁRIOS S.A.                                   </td><td style=\"text-align: right;\">   2</td><td>NEON PAGAMENTOS IP - PRUDENCIAL                </td><td style=\"text-align: right;\">61723847</td><td style=\"text-align: right;\">61723847000199</td><td>2024-05-23</td><td style=\"text-align: right;\">   61723847</td><td style=\"text-align: right;\">            57161</td><td>Sociedade Corretora de TVM                                 </td><td>Autorizada em Atividade                  </td><td>NEON CORRETORA DE TÍTULOS E VALORES MOBILIÁRIOS S.A.                                  </td><td>MAGLIANO                                </td></tr>\n",
       "<tr><td>TRINUS CAPITAL DISTRIBUIDORA DE TÍTULOS E VALORES MOBILIÁRIOS S.A.                     </td><td style=\"text-align: right;\">   2</td><td>TRINUS CAPITAL DTVM - PRUDENCIAL               </td><td style=\"text-align: right;\">02276653</td><td style=\"text-align: right;\">02276653000123</td><td>2024-05-23</td><td style=\"text-align: right;\">   02276653</td><td style=\"text-align: right;\">            24072</td><td>Sociedade Distribuidora de TVM                             </td><td>Autorizada em Atividade                  </td><td>TRINUS CAPITAL DISTRIBUIDORA DE TÍTULOS E VALORES MOBILIÁRIOS S.A.                    </td><td>BAHIA DTVM                              </td></tr>\n",
       "<tr><td>ASPECIR - SOCIEDADE DE CRÉDITO AO MICROEMPREENDEDOR E À EMPRESA DE PEQUENO PORTE LTDA. </td><td style=\"text-align: right;\">   2</td><td>ASPECIR SCMEPP LTDA. - PRUDENCIAL              </td><td style=\"text-align: right;\">05289612</td><td style=\"text-align: right;\">05289612000160</td><td>2024-05-23</td><td style=\"text-align: right;\">   05289612</td><td style=\"text-align: right;\">            16688</td><td>Sociedade de Crédito ao Microempreendedor                  </td><td>Autorizada em Atividade                  </td><td>ASPECIR - SOCIEDADE DE CRÉDITO AO MICROEMPREENDEDOR E À EMPRESA DE PEQUENO PORTE LTDA.</td><td>ASPECIR EMPRÉSTIMOS                     </td></tr>\n",
       "<tr><td>PORTOSEG S.A. - CREDITO, FINANCIAMENTO E INVESTIMENTO                                  </td><td style=\"text-align: right;\">   2</td><td>PORTO SEGURO - PRUDENCIAL                      </td><td style=\"text-align: right;\">04862600</td><td style=\"text-align: right;\">04862600000110</td><td>2024-05-23</td><td style=\"text-align: right;\">   04862600</td><td style=\"text-align: right;\">            15554</td><td>Sociedade de Crédito, Financiamento e Investimento         </td><td>Autorizada em Atividade                  </td><td>PORTOSEG S.A. - CREDITO, FINANCIAMENTO E INVESTIMENTO                                 </td><td>PORTO SEGURO                            </td></tr>\n",
       "<tr><td>ADIQ SOLUCOES DE PAGAMENTO S.A.                                                        </td><td style=\"text-align: right;\">   2</td><td>BS2 - PRUDENCIAL                               </td><td style=\"text-align: right;\">20520298</td><td style=\"text-align: right;\">20520298000178</td><td>2024-05-23</td><td style=\"text-align: right;\">   20520298</td><td style=\"text-align: right;\">            42872</td><td>Instituição de Pagamento                                   </td><td>Autorizada em Atividade                  </td><td>ADIQ INSTITUIÇÃO DE PAGAMENTO S.A.                                                    </td><td>ADIQ SOLUÇÕES DE PAGAMENTO              </td></tr>\n",
       "<tr><td>MONEY PLUS SOCIEDADE DE CRÉDITO AO MICROEMPREENDEDOR E A EMPRESA DE PEQUENO PORTE LTDA.</td><td style=\"text-align: right;\">   2</td><td>MONEY PLUS                                     </td><td style=\"text-align: right;\">11581339</td><td style=\"text-align: right;\">11581339000145</td><td>2024-05-23</td><td style=\"text-align: right;\">   11581339</td><td style=\"text-align: right;\">            27360</td><td>Sociedade de Crédito ao Microempreendedor                  </td><td>Autorizada em Atividade                  </td><td>BMP SOCIEDADE DE CRÉDITO AO MICROEMPREENDEDOR E A EMPRESA DE PEQUENO PORTE LTDA.      </td><td>BMP SCM                                 </td></tr>\n",
       "<tr><td>ALESTA SOCIEDADE DE CREDITO DIRETO S.A.                                                </td><td style=\"text-align: right;\">   2</td><td>ALESTA SOCIEDADE DE CREDITO DIRETO - PRUDENCIAL</td><td style=\"text-align: right;\">38316293</td><td style=\"text-align: right;\">38316293000193</td><td>2024-05-23</td><td style=\"text-align: right;\">   38316293</td><td style=\"text-align: right;\">            43934</td><td>Sociedade de Crédito Direto                                </td><td>Autorizada em Atividade                  </td><td>ALESTA SOCIEDADE DE CREDITO DIRETO S.A.                                               </td><td>ALESTA                                  </td></tr>\n",
       "<tr><td>COINVALORES DISTRIBUIDORA DE TÍTULOS E VALORES MOBILIÁRIOS LTDA                        </td><td style=\"text-align: right;\">   2</td><td>COINVALORES                                    </td><td style=\"text-align: right;\">59148775</td><td style=\"text-align: right;\">59148775000151</td><td>2024-05-23</td><td style=\"text-align: right;\">   59148775</td><td style=\"text-align: right;\">            37096</td><td>Administradora de Fundos não sujeita a autorização pelo BCB</td><td>Falta de integridade referencial na fonte</td><td>COINVEST SERVICOS E NEGOCIOS LTDA.                                                    </td><td>COINVEST EMPREENDIMENTOS                </td></tr>\n",
       "<tr><td>ASAAS GESTAO FINANCEIRA S.A.                                                           </td><td style=\"text-align: right;\">   2</td><td>ASAAS GESTAO FINANCEIRA IP - PRUDENCIAL        </td><td style=\"text-align: right;\">19540550</td><td style=\"text-align: right;\">19540550000121</td><td>2024-05-23</td><td style=\"text-align: right;\">   19540550</td><td style=\"text-align: right;\">            43384</td><td>Instituição de Pagamento                                   </td><td>Autorizada em Atividade                  </td><td>ASAAS GESTÃO FINANCEIRA INSTITUIÇÃO DE PAGAMENTO S.A.                                 </td><td>ASAAS GESTÃO FINANCEIRA S.A.            </td></tr>\n",
       "</tbody>\n",
       "</table>"
      ],
      "text/plain": [
       "<IPython.core.display.HTML object>"
      ]
     },
     "metadata": {},
     "output_type": "display_data"
    }
   ],
   "source": [
    "df_join.printSchema()\n",
    "df_join_sample = df_join.sample(False, 0.1).limit(30)\n",
    "\n",
    "tb = tabulate(df_join_sample.collect(), headers=df_join_sample.columns, tablefmt='html')\n",
    "\n",
    "display(HTML(tb))"
   ]
  },
  {
   "cell_type": "code",
   "execution_count": null,
   "id": "07955860-1353-4d69-bd17-d8ebbeedcc65",
   "metadata": {},
   "outputs": [],
   "source": []
  },
  {
   "cell_type": "code",
   "execution_count": 39,
   "id": "dcf099c1-d111-4192-9f8c-432f0206774d",
   "metadata": {},
   "outputs": [
    {
     "name": "stdout",
     "output_type": "stream",
     "text": [
      "['codigo_cadastro_bacen', 'codigo_sisbacen', 'codigo_pais_sede', 'nome_pais_sede', 'nome_uf_sede', 'codigo_municipio_sede', 'nome_municipio_sede', 'nome_entidade', 'nome_entidade_nao_formatado', 'cnpj', 'cnpj_raiz', 'codigo_situacao', 'descricao_situacao', 'codigo_tipo_entidade_segmento', 'nome_tipo_entidade', 'codigo_natureza_juridica', 'descricao_natureza_juridica', 'codigo_esfera_publica', 'nome_reduzido', 'sigla_entidade', 'nome_fantasia', 'empresa_publica']\n",
      "<class 'list'>\n"
     ]
    }
   ],
   "source": [
    "\n",
    "\n"
   ]
  },
  {
   "cell_type": "code",
   "execution_count": 58,
   "id": "4da53cf3-fdba-4846-b52f-0c6a50177a79",
   "metadata": {},
   "outputs": [
    {
     "name": "stdout",
     "output_type": "stream",
     "text": [
      "+--------+\n",
      "|codigo  |\n",
      "+--------+\n",
      "|00000001|\n",
      "|00000123|\n",
      "|00012345|\n",
      "|12345678|\n",
      "+--------+\n",
      "\n"
     ]
    }
   ],
   "source": [
    "data = [(\"1\",), (\"123\",), (\"12345\",), (\"12345678\",)]\n",
    "columns = [\"codigo\"]\n",
    "df = spark.createDataFrame(data, columns)\n",
    "\n",
    "# Adicionar zeros à esquerda para que todos os valores na coluna \"codigo\" tenham exatamente 8 dígitos\n",
    "df_formatado = df.withColumn(\"codigo\", F.lpad(df[\"codigo\"], 8, '0'))\n",
    "\n",
    "# Exibir o DataFrame formatado\n",
    "df_formatado.show(truncate=False)"
   ]
  },
  {
   "cell_type": "code",
   "execution_count": null,
   "id": "942c9ffc-b78d-42a0-920e-365249ec4eba",
   "metadata": {},
   "outputs": [],
   "source": []
  }
 ],
 "metadata": {
  "kernelspec": {
   "display_name": "Python 3 (ipykernel)",
   "language": "python",
   "name": "python3"
  },
  "language_info": {
   "codemirror_mode": {
    "name": "ipython",
    "version": 3
   },
   "file_extension": ".py",
   "mimetype": "text/x-python",
   "name": "python",
   "nbconvert_exporter": "python",
   "pygments_lexer": "ipython3",
   "version": "3.11.7"
  }
 },
 "nbformat": 4,
 "nbformat_minor": 5
}
