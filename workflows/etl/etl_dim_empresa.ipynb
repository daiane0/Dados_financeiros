{
 "cells": [
  {
   "cell_type": "code",
   "execution_count": 1,
   "id": "3115815c-4a18-4001-afee-6c5ae8456f6a",
   "metadata": {},
   "outputs": [],
   "source": [
    "from pyspark.sql import SparkSession\n",
    "from pyspark.sql import functions as F\n",
    "from pyspark.sql import types as T\n",
    "import generate_df as G\n",
    "from IPython.display import display, HTML\n",
    "from tabulate import tabulate\n",
    "from unidecode import unidecode\n"
   ]
  },
  {
   "cell_type": "code",
   "execution_count": 2,
   "id": "599a6418-6f7c-49a2-9c0d-eeb5b6ddebec",
   "metadata": {},
   "outputs": [
    {
     "name": "stderr",
     "output_type": "stream",
     "text": [
      "24/07/22 15:00:30 WARN Utils: Your hostname, victor-Lenovo-ideapad-330-15IKB resolves to a loopback address: 127.0.1.1; using 192.168.0.125 instead (on interface wlp2s0)\n",
      "24/07/22 15:00:30 WARN Utils: Set SPARK_LOCAL_IP if you need to bind to another address\n",
      "24/07/22 15:00:31 WARN NativeCodeLoader: Unable to load native-hadoop library for your platform... using builtin-java classes where applicable\n",
      "Setting default log level to \"WARN\".\n",
      "To adjust logging level use sc.setLogLevel(newLevel). For SparkR, use setLogLevel(newLevel).\n"
     ]
    }
   ],
   "source": [
    "spark = SparkSession.builder.appName(\"finance_data_processing\")\\\n",
    ".config(\"spark.jars\",\"/home/daiane/Downloads/postgresql-42.7.3.jar\").getOrCreate()\n"
   ]
  },
  {
   "cell_type": "code",
   "execution_count": 3,
   "id": "e81ed59a-dbff-4aa4-a4d0-f81696d6a5c3",
   "metadata": {},
   "outputs": [],
   "source": [
    "def cnpj_completo(cnpj_base_input):\n",
    "    #adiciona \"0001\" e calcula dígitos verificadores, retorna cnpj com 14 dígitos\n",
    "    pesos1 = [5, 4, 3, 2, 9, 8, 7, 6, 5, 4, 3, 2]\n",
    "    pesos2 = [6, 5, 4, 3, 2, 9, 8, 7, 6, 5, 4, 3, 2]\n",
    "\n",
    "    cnpj1 = cnpj_base_input + \"0001\"\n",
    "    cnpj_base = cnpj1.zfill(12)\n",
    "\n",
    "    #1° dígito verficador\n",
    "    soma1 = sum(int(digito) * peso for digito, peso in zip(cnpj_base, pesos1))\n",
    "    resto1 = soma1 % 11\n",
    "    digito1 = 0 if resto1 < 2 else 11 - resto1\n",
    "\n",
    "    #2° dígito verificador\n",
    "    soma2 = sum(int(digito) * peso for digito, peso in zip(cnpj_base + str(digito1), pesos2))\n",
    "    resto2 = soma2 % 11\n",
    "    digito2 = 0 if resto2 < 2 else 11 - resto2\n",
    "\n",
    "    cnpj = cnpj_base  + str(digito1) + str(digito2)\n",
    "    return cnpj\n",
    "\n",
    "cnpj_udf = F.udf(cnpj_completo, T.StringType())\n"
   ]
  },
  {
   "cell_type": "code",
   "execution_count": 4,
   "id": "31eb7cfc-6d96-459f-bcb2-8b65a22f2e18",
   "metadata": {
    "scrolled": true
   },
   "outputs": [
    {
     "name": "stderr",
     "output_type": "stream",
     "text": [
      "24/07/22 15:01:56 WARN SparkStringUtils: Truncated the string representation of a plan since it was too large. This behavior can be adjusted by setting 'spark.sql.debug.maxToStringFields'.\n",
      "24/07/22 15:01:58 WARN TaskSetManager: Stage 0 contains a task of very large size (11648 KiB). The maximum recommended task size is 1000 KiB.\n",
      "24/07/22 15:02:07 WARN TaskSetManager: Stage 1 contains a task of very large size (11648 KiB). The maximum recommended task size is 1000 KiB.\n",
      "24/07/22 15:02:18 WARN TaskSetManager: Stage 2 contains a task of very large size (11648 KiB). The maximum recommended task size is 1000 KiB.\n",
      "                                                                                \r"
     ]
    },
    {
     "data": {
      "text/html": [
       "<table>\n",
       "<thead>\n",
       "<tr><th>instituicao                                                                                      </th><th style=\"text-align: right;\">  codigo</th><th>conglomerado  </th><th style=\"text-align: right;\">  codigo_conglomerado_financeiro</th><th>codigo_conglomerado_prudencial  </th><th>tcb  </th><th style=\"text-align: right;\">  tc</th><th style=\"text-align: right;\">  ti</th><th>cidade                 </th><th>uf  </th><th style=\"text-align: right;\">  rendas_operacoes_credito_a1</th><th style=\"text-align: right;\">  rendas_operacoes_arrendamento_mercantil_a2</th><th style=\"text-align: right;\">  rendas_operacoes_com_tvm_a3</th><th style=\"text-align: right;\">  rendas_operacoes_instrumentos_financeiros_derivativos_a4</th><th style=\"text-align: right;\">  resultado_operacoes_cambio_a5</th><th style=\"text-align: right;\">  rendas_aplicacoes_compulsorias_a6</th><th>receitas_intermediacao_financeira_soma_a1_a2_a3_a4_a5_a6  </th><th style=\"text-align: right;\">  despesas_captacao_b1</th><th style=\"text-align: right;\">  despesas_obrigacoes_por_emprestimos_e_repasses_b2</th><th style=\"text-align: right;\">  despesas_operacoes_arrendamento_mercantil_b3</th><th style=\"text-align: right;\">  resultado_operacoes_cambio_b4</th><th style=\"text-align: right;\">  resultado_de_provisao_para_creditos_dificil_liquidacao_b5</th><th>despesas__intermediacao_financeira_soma_b1_b2_b3_b4_b5  </th><th style=\"text-align: right;\">  resultao_intermediacao_financeira_c_soma_a_b</th><th style=\"text-align: right;\">  rendas_prestacao_servico_d1</th><th style=\"text-align: right;\">  rendas_tarifas_bancarias_d2</th><th style=\"text-align: right;\">  despesas_de_pessoal_d3</th><th style=\"text-align: right;\">  despesas_administrativas_d4</th><th style=\"text-align: right;\">  despesas_tributarias_d5</th><th style=\"text-align: right;\">  resultado_de_participacoes_d6</th><th style=\"text-align: right;\">  outras_receitas_operacionais_d7</th><th style=\"text-align: right;\">  outras_receitas_operacionais_d8</th><th style=\"text-align: right;\">  soma_d1_d2_d3_d4_d5_d6_d7_d8</th><th style=\"text-align: right;\">  resultado_operacional_soma_c_d</th><th style=\"text-align: right;\">  resultado_nao_operacional_f</th><th style=\"text-align: right;\">      g</th><th style=\"text-align: right;\">  imposto_renda_contribuicao_social_h</th><th style=\"text-align: right;\">  participacao_lucros_i</th><th style=\"text-align: right;\">  lucro_liquido_soma_g_h_i</th><th style=\"text-align: right;\">  juros_capital_social_cooperativas_k</th><th>data_trimestral  </th><th style=\"text-align: right;\">  cnpj_completo</th></tr>\n",
       "</thead>\n",
       "<tbody>\n",
       "<tr><td>SAFRA LEASING S.A. ARRENDAMENTO MERCANTIL                                                        </td><td style=\"text-align: right;\">62063177</td><td>SAFRA         </td><td style=\"text-align: right;\">                           10083</td><td>                                </td><td>n1   </td><td style=\"text-align: right;\">   2</td><td style=\"text-align: right;\">  19</td><td>SAO PAULO              </td><td>SP  </td><td style=\"text-align: right;\">                        5.856</td><td style=\"text-align: right;\">                                     677.285</td><td style=\"text-align: right;\">                      899.635</td><td style=\"text-align: right;\">                                                    -5.59 </td><td style=\"text-align: right;\">                           0   </td><td style=\"text-align: right;\">                              0    </td><td>1.577.186                                                 </td><td style=\"text-align: right;\">              -834.522</td><td style=\"text-align: right;\">                                             -6.712</td><td style=\"text-align: right;\">                                      -648.661</td><td style=\"text-align: right;\">                          0    </td><td style=\"text-align: right;\">                                                     19.919</td><td>-1.469.976                                              </td><td style=\"text-align: right;\">                                       107.21 </td><td style=\"text-align: right;\">                       14    </td><td style=\"text-align: right;\">                        2    </td><td style=\"text-align: right;\">                  -3.282</td><td style=\"text-align: right;\">                       -3.358</td><td style=\"text-align: right;\">                   -3.982</td><td style=\"text-align: right;\">                          0    </td><td style=\"text-align: right;\">                            2.49 </td><td style=\"text-align: right;\">                          -58.496</td><td style=\"text-align: right;\">                       -66.611</td><td style=\"text-align: right;\">                          40.599</td><td style=\"text-align: right;\">                     -711    </td><td style=\"text-align: right;\"> 39.888</td><td style=\"text-align: right;\">                              -29.037</td><td style=\"text-align: right;\">                  0    </td><td style=\"text-align: right;\">                    10.851</td><td style=\"text-align: right;\">                                0    </td><td>2012-06-01       </td><td style=\"text-align: right;\"> 62063177000194</td></tr>\n",
       "<tr><td>BANCO J. SAFRA S.A.                                                                              </td><td style=\"text-align: right;\"> 3017677</td><td>SAFRA         </td><td style=\"text-align: right;\">                           10083</td><td>                                </td><td>b1   </td><td style=\"text-align: right;\">   2</td><td style=\"text-align: right;\">   8</td><td>SAO PAULO              </td><td>SP  </td><td style=\"text-align: right;\">                      684.166</td><td style=\"text-align: right;\">                                       0    </td><td style=\"text-align: right;\">                       55.261</td><td style=\"text-align: right;\">                                                   -69.543</td><td style=\"text-align: right;\">                           0   </td><td style=\"text-align: right;\">                             22.664</td><td>692.549                                                   </td><td style=\"text-align: right;\">              -367.2  </td><td style=\"text-align: right;\">                                            -43.938</td><td style=\"text-align: right;\">                                         0    </td><td style=\"text-align: right;\">                          0    </td><td style=\"text-align: right;\">                                                   -135.005</td><td>-546.143                                                </td><td style=\"text-align: right;\">                                       146.406</td><td style=\"text-align: right;\">                       72.266</td><td style=\"text-align: right;\">                       28.732</td><td style=\"text-align: right;\">                 -66.65 </td><td style=\"text-align: right;\">                      -57.067</td><td style=\"text-align: right;\">                  -22.446</td><td style=\"text-align: right;\">                          0    </td><td style=\"text-align: right;\">                           12.676</td><td style=\"text-align: right;\">                          -23.982</td><td style=\"text-align: right;\">                       -56.473</td><td style=\"text-align: right;\">                          89.933</td><td style=\"text-align: right;\">                     -710    </td><td style=\"text-align: right;\"> 89.223</td><td style=\"text-align: right;\">                              -82.385</td><td style=\"text-align: right;\">                  0    </td><td style=\"text-align: right;\">                     6.838</td><td style=\"text-align: right;\">                                0    </td><td>2012-06-01       </td><td style=\"text-align: right;\"> 03017677000120</td></tr>\n",
       "<tr><td>BANCO PINE S.A.                                                                                  </td><td style=\"text-align: right;\">62144175</td><td>PINE          </td><td style=\"text-align: right;\">                           50304</td><td>                                </td><td>b1   </td><td style=\"text-align: right;\">   2</td><td style=\"text-align: right;\">   8</td><td>SAO PAULO              </td><td>SP  </td><td style=\"text-align: right;\">                      202.385</td><td style=\"text-align: right;\">                                       0    </td><td style=\"text-align: right;\">                      284.576</td><td style=\"text-align: right;\">                                                    21.199</td><td style=\"text-align: right;\">                         114.53</td><td style=\"text-align: right;\">                              0    </td><td>622.689                                                   </td><td style=\"text-align: right;\">              -356.383</td><td style=\"text-align: right;\">                                            -89.744</td><td style=\"text-align: right;\">                                         0    </td><td style=\"text-align: right;\">                          0    </td><td style=\"text-align: right;\">                                                    -19.437</td><td>-465.564                                                </td><td style=\"text-align: right;\">                                       157.125</td><td style=\"text-align: right;\">                       24.406</td><td style=\"text-align: right;\">                        2.313</td><td style=\"text-align: right;\">                 -42.793</td><td style=\"text-align: right;\">                      -37.06 </td><td style=\"text-align: right;\">                   -3.704</td><td style=\"text-align: right;\">                         19.039</td><td style=\"text-align: right;\">                           31.947</td><td style=\"text-align: right;\">                          -13.195</td><td style=\"text-align: right;\">                       -19.046</td><td style=\"text-align: right;\">                         138.079</td><td style=\"text-align: right;\">                        4.326</td><td style=\"text-align: right;\">142.405</td><td style=\"text-align: right;\">                              -21.358</td><td style=\"text-align: right;\">                -28.986</td><td style=\"text-align: right;\">                    92.06 </td><td style=\"text-align: right;\">                              -30.008</td><td>2012-06-01       </td><td style=\"text-align: right;\"> 62144175000120</td></tr>\n",
       "<tr><td>PERNAMBUCANAS FINANCIADORA S.A. - CRÉDITO, FINANCIAMENTO E INVESTIMENTO                          </td><td style=\"text-align: right;\">43180355</td><td>PERNAMBUCANAS </td><td style=\"text-align: right;\">                           40699</td><td>                                </td><td>n1   </td><td style=\"text-align: right;\">   2</td><td style=\"text-align: right;\">  14</td><td>SAO PAULO              </td><td>SP  </td><td style=\"text-align: right;\">                      435.138</td><td style=\"text-align: right;\">                                       0    </td><td style=\"text-align: right;\">                        7.767</td><td style=\"text-align: right;\">                                                     0    </td><td style=\"text-align: right;\">                           0   </td><td style=\"text-align: right;\">                              0    </td><td>442.905                                                   </td><td style=\"text-align: right;\">               -21.897</td><td style=\"text-align: right;\">                                              0    </td><td style=\"text-align: right;\">                                         0    </td><td style=\"text-align: right;\">                         -1    </td><td style=\"text-align: right;\">                                                   -167.483</td><td>-189.381                                                </td><td style=\"text-align: right;\">                                       253.523</td><td style=\"text-align: right;\">                        2.596</td><td style=\"text-align: right;\">                       18.625</td><td style=\"text-align: right;\">                 -28.108</td><td style=\"text-align: right;\">                      -63.625</td><td style=\"text-align: right;\">                 -987    </td><td style=\"text-align: right;\">                       -127    </td><td style=\"text-align: right;\">                           22.509</td><td style=\"text-align: right;\">                          -57.997</td><td style=\"text-align: right;\">                      -107.114</td><td style=\"text-align: right;\">                         146.409</td><td style=\"text-align: right;\">                      -12    </td><td style=\"text-align: right;\">146.397</td><td style=\"text-align: right;\">                              -59.091</td><td style=\"text-align: right;\">                  0    </td><td style=\"text-align: right;\">                    87.306</td><td style=\"text-align: right;\">                                0    </td><td>2012-06-01       </td><td style=\"text-align: right;\"> 43180355000112</td></tr>\n",
       "<tr><td>BANCO REGIONAL DE DESENVOLVIMENTO DO EXTREMO SUL                                                 </td><td style=\"text-align: right;\">92816560</td><td>              </td><td style=\"text-align: right;\">                                </td><td>                                </td><td>b4   </td><td style=\"text-align: right;\">   1</td><td style=\"text-align: right;\">   5</td><td>PORTO ALEGRE           </td><td>RS  </td><td style=\"text-align: right;\">                      358.891</td><td style=\"text-align: right;\">                                       0    </td><td style=\"text-align: right;\">                       55.307</td><td style=\"text-align: right;\">                                                     0    </td><td style=\"text-align: right;\">                           0   </td><td style=\"text-align: right;\">                              0    </td><td>414.199                                                   </td><td style=\"text-align: right;\">                 0    </td><td style=\"text-align: right;\">                                           -198.207</td><td style=\"text-align: right;\">                                         0    </td><td style=\"text-align: right;\">                          0    </td><td style=\"text-align: right;\">                                                    -96.797</td><td>-295.004                                                </td><td style=\"text-align: right;\">                                       119.195</td><td style=\"text-align: right;\">                        5.705</td><td style=\"text-align: right;\">                        0    </td><td style=\"text-align: right;\">                 -56.901</td><td style=\"text-align: right;\">                      -16.143</td><td style=\"text-align: right;\">                   -7.212</td><td style=\"text-align: right;\">                          0    </td><td style=\"text-align: right;\">                           88.065</td><td style=\"text-align: right;\">                          -87    </td><td style=\"text-align: right;\">                       -73.487</td><td style=\"text-align: right;\">                          45.707</td><td style=\"text-align: right;\">                      499    </td><td style=\"text-align: right;\"> 46.206</td><td style=\"text-align: right;\">                              -14.599</td><td style=\"text-align: right;\">                  0    </td><td style=\"text-align: right;\">                    31.607</td><td style=\"text-align: right;\">                                0    </td><td>2012-06-01       </td><td style=\"text-align: right;\"> 92816560000137</td></tr>\n",
       "<tr><td>COMPANHIA DE ARRENDAMENTO MERCANTIL RCI BRASIL                                                   </td><td style=\"text-align: right;\">62307848</td><td>SANTANDER     </td><td style=\"text-align: right;\">                           30379</td><td>                                </td><td>n1   </td><td style=\"text-align: right;\">   3</td><td style=\"text-align: right;\">  19</td><td>SAO PAULO              </td><td>SP  </td><td style=\"text-align: right;\">                      722    </td><td style=\"text-align: right;\">                                     398.586</td><td style=\"text-align: right;\">                        2    </td><td style=\"text-align: right;\">                                                     0    </td><td style=\"text-align: right;\">                           0   </td><td style=\"text-align: right;\">                              0    </td><td>399.311                                                   </td><td style=\"text-align: right;\">               -34.951</td><td style=\"text-align: right;\">                                              0    </td><td style=\"text-align: right;\">                                      -333.647</td><td style=\"text-align: right;\">                          0    </td><td style=\"text-align: right;\">                                                     -4.949</td><td>-373.547                                                </td><td style=\"text-align: right;\">                                        25.763</td><td style=\"text-align: right;\">                        0    </td><td style=\"text-align: right;\">                       15.917</td><td style=\"text-align: right;\">                   0    </td><td style=\"text-align: right;\">                       -3.425</td><td style=\"text-align: right;\">                   -6.575</td><td style=\"text-align: right;\">                          0    </td><td style=\"text-align: right;\">                            4.737</td><td style=\"text-align: right;\">                          -19.331</td><td style=\"text-align: right;\">                        -8.677</td><td style=\"text-align: right;\">                          17.086</td><td style=\"text-align: right;\">                       51.004</td><td style=\"text-align: right;\"> 68.09 </td><td style=\"text-align: right;\">                              -27.244</td><td style=\"text-align: right;\">                  0    </td><td style=\"text-align: right;\">                    40.846</td><td style=\"text-align: right;\">                                0    </td><td>2012-06-01       </td><td style=\"text-align: right;\"> 62307848000115</td></tr>\n",
       "<tr><td>BCV - BANCO DE CRÉDITO E VAREJO S/A                                                              </td><td style=\"text-align: right;\">50585090</td><td>BMG           </td><td style=\"text-align: right;\">                           30290</td><td>                                </td><td>b1   </td><td style=\"text-align: right;\">   2</td><td style=\"text-align: right;\">   8</td><td>BELO HORIZONTE         </td><td>MG  </td><td style=\"text-align: right;\">                      192.838</td><td style=\"text-align: right;\">                                       0    </td><td style=\"text-align: right;\">                       60.949</td><td style=\"text-align: right;\">                                                    17.184</td><td style=\"text-align: right;\">                         520   </td><td style=\"text-align: right;\">                              0    </td><td>271.491                                                   </td><td style=\"text-align: right;\">              -126.626</td><td style=\"text-align: right;\">                                              0    </td><td style=\"text-align: right;\">                                         0    </td><td style=\"text-align: right;\">                          0    </td><td style=\"text-align: right;\">                                                     77.975</td><td>-48.650                                                 </td><td style=\"text-align: right;\">                                       222.841</td><td style=\"text-align: right;\">                      114    </td><td style=\"text-align: right;\">                      250    </td><td style=\"text-align: right;\">                  -6.133</td><td style=\"text-align: right;\">                      -73.109</td><td style=\"text-align: right;\">                   -9.235</td><td style=\"text-align: right;\">                          7.218</td><td style=\"text-align: right;\">                           14.126</td><td style=\"text-align: right;\">                          -52.808</td><td style=\"text-align: right;\">                      -119.575</td><td style=\"text-align: right;\">                         103.266</td><td style=\"text-align: right;\">                      147    </td><td style=\"text-align: right;\">103.413</td><td style=\"text-align: right;\">                              -38.244</td><td style=\"text-align: right;\">                 -1.563</td><td style=\"text-align: right;\">                    63.606</td><td style=\"text-align: right;\">                                0    </td><td>2012-06-01       </td><td style=\"text-align: right;\"> 50585090000106</td></tr>\n",
       "<tr><td>ASSOCIACAO DE POUPANCA E EMPRESTIMO - POUPEX                                                     </td><td style=\"text-align: right;\">  655522</td><td>              </td><td style=\"text-align: right;\">                                </td><td>                                </td><td>n1   </td><td style=\"text-align: right;\">   2</td><td style=\"text-align: right;\">  25</td><td>BRASILIA               </td><td>DF  </td><td style=\"text-align: right;\">                       88.637</td><td style=\"text-align: right;\">                                       0    </td><td style=\"text-align: right;\">                       77.954</td><td style=\"text-align: right;\">                                                     0    </td><td style=\"text-align: right;\">                           0   </td><td style=\"text-align: right;\">                             26.207</td><td>192.799                                                   </td><td style=\"text-align: right;\">              -114.479</td><td style=\"text-align: right;\">                                              0    </td><td style=\"text-align: right;\">                                         0    </td><td style=\"text-align: right;\">                          0    </td><td style=\"text-align: right;\">                                                     -3.772</td><td>-118.251                                                </td><td style=\"text-align: right;\">                                        74.548</td><td style=\"text-align: right;\">                        0    </td><td style=\"text-align: right;\">                        1.672</td><td style=\"text-align: right;\">                 -27.491</td><td style=\"text-align: right;\">                      -18.81 </td><td style=\"text-align: right;\">                   -5.713</td><td style=\"text-align: right;\">                          0    </td><td style=\"text-align: right;\">                          804    </td><td style=\"text-align: right;\">                           -9.077</td><td style=\"text-align: right;\">                       -58.614</td><td style=\"text-align: right;\">                          15.934</td><td style=\"text-align: right;\">                        2.824</td><td style=\"text-align: right;\"> 18.758</td><td style=\"text-align: right;\">                                0    </td><td style=\"text-align: right;\">                  0    </td><td style=\"text-align: right;\">                    18.758</td><td style=\"text-align: right;\">                                0    </td><td>2012-06-01       </td><td style=\"text-align: right;\"> 00655522000121</td></tr>\n",
       "<tr><td>BANCO INTERMEDIUM S/A                                                                            </td><td style=\"text-align: right;\">  416968</td><td>              </td><td style=\"text-align: right;\">                                </td><td>                                </td><td>b1   </td><td style=\"text-align: right;\">   2</td><td style=\"text-align: right;\">   8</td><td>BELO HORIZONTE         </td><td>MG  </td><td style=\"text-align: right;\">                       94.892</td><td style=\"text-align: right;\">                                       0    </td><td style=\"text-align: right;\">                       19.536</td><td style=\"text-align: right;\">                                                     0    </td><td style=\"text-align: right;\">                           0   </td><td style=\"text-align: right;\">                              0    </td><td>114.428                                                   </td><td style=\"text-align: right;\">               -33.358</td><td style=\"text-align: right;\">                                             -2    </td><td style=\"text-align: right;\">                                         0    </td><td style=\"text-align: right;\">                          0    </td><td style=\"text-align: right;\">                                                    -23.782</td><td>-57.142                                                 </td><td style=\"text-align: right;\">                                        57.285</td><td style=\"text-align: right;\">                        1.256</td><td style=\"text-align: right;\">                      992    </td><td style=\"text-align: right;\">                  -6.572</td><td style=\"text-align: right;\">                      -47.735</td><td style=\"text-align: right;\">                 -577    </td><td style=\"text-align: right;\">                          2.705</td><td style=\"text-align: right;\">                            3.564</td><td style=\"text-align: right;\">                           -2.714</td><td style=\"text-align: right;\">                       -49.082</td><td style=\"text-align: right;\">                           8.204</td><td style=\"text-align: right;\">                     -478    </td><td style=\"text-align: right;\">  7.725</td><td style=\"text-align: right;\">                             -767    </td><td style=\"text-align: right;\">                  0    </td><td style=\"text-align: right;\">                     6.958</td><td style=\"text-align: right;\">                               -3.335</td><td>2012-06-01       </td><td style=\"text-align: right;\"> 00416968000101</td></tr>\n",
       "<tr><td>BANCO CIFRA S/A                                                                                  </td><td style=\"text-align: right;\">62421979</td><td>BMG           </td><td style=\"text-align: right;\">                           30290</td><td>                                </td><td>b1   </td><td style=\"text-align: right;\">   2</td><td style=\"text-align: right;\">   8</td><td>BELO HORIZONTE         </td><td>MG  </td><td style=\"text-align: right;\">                      105.467</td><td style=\"text-align: right;\">                                       0    </td><td style=\"text-align: right;\">                      970    </td><td style=\"text-align: right;\">                                                     0    </td><td style=\"text-align: right;\">                           0   </td><td style=\"text-align: right;\">                              0    </td><td>106.437                                                   </td><td style=\"text-align: right;\">               -29.766</td><td style=\"text-align: right;\">                                              0    </td><td style=\"text-align: right;\">                                         0    </td><td style=\"text-align: right;\">                          0    </td><td style=\"text-align: right;\">                                                    -25.159</td><td>-54.926                                                 </td><td style=\"text-align: right;\">                                        51.511</td><td style=\"text-align: right;\">                      365    </td><td style=\"text-align: right;\">                       89    </td><td style=\"text-align: right;\">                  -9.414</td><td style=\"text-align: right;\">                      -40.632</td><td style=\"text-align: right;\">                   -3.065</td><td style=\"text-align: right;\">                          0    </td><td style=\"text-align: right;\">                           17.707</td><td style=\"text-align: right;\">                          -15.724</td><td style=\"text-align: right;\">                       -50.674</td><td style=\"text-align: right;\">                         837    </td><td style=\"text-align: right;\">                      120    </td><td style=\"text-align: right;\">957    </td><td style=\"text-align: right;\">                             -363    </td><td style=\"text-align: right;\">                  0    </td><td style=\"text-align: right;\">                   594    </td><td style=\"text-align: right;\">                                0    </td><td>2012-06-01       </td><td style=\"text-align: right;\"> 62421979000129</td></tr>\n",
       "<tr><td>COOPERATIVA CENTRAL DE CRÉDITO DOS ESTADOS DO PARANÁ E DE SÃO PAULO - CENTRAL SICREDI PR/SP      </td><td style=\"text-align: right;\">80230774</td><td>              </td><td style=\"text-align: right;\">                                </td><td>                                </td><td>b3C  </td><td style=\"text-align: right;\">   2</td><td style=\"text-align: right;\">   9</td><td>CURITIBA               </td><td>PR  </td><td style=\"text-align: right;\">                        1.699</td><td style=\"text-align: right;\">                                       0    </td><td style=\"text-align: right;\">                       97.794</td><td style=\"text-align: right;\">                                                     0    </td><td style=\"text-align: right;\">                           0   </td><td style=\"text-align: right;\">                              0    </td><td>99.493                                                    </td><td style=\"text-align: right;\">               -97.794</td><td style=\"text-align: right;\">                                            -13    </td><td style=\"text-align: right;\">                                         0    </td><td style=\"text-align: right;\">                          0    </td><td style=\"text-align: right;\">                                                    407    </td><td>-97.401                                                 </td><td style=\"text-align: right;\">                                         2.092</td><td style=\"text-align: right;\">                        0    </td><td style=\"text-align: right;\">                        0    </td><td style=\"text-align: right;\">                 -19.917</td><td style=\"text-align: right;\">                       45.102</td><td style=\"text-align: right;\">                    1    </td><td style=\"text-align: right;\">                        362    </td><td style=\"text-align: right;\">                            5.111</td><td style=\"text-align: right;\">                          -32.747</td><td style=\"text-align: right;\">                        -2.089</td><td style=\"text-align: right;\">                           3    </td><td style=\"text-align: right;\">                       -5    </td><td style=\"text-align: right;\"> -2    </td><td style=\"text-align: right;\">                                0    </td><td style=\"text-align: right;\">                  0    </td><td style=\"text-align: right;\">                    -2    </td><td style=\"text-align: right;\">                                0    </td><td>2012-06-01       </td><td style=\"text-align: right;\"> 80230774000148</td></tr>\n",
       "<tr><td>UNICARD BANCO MÚLTIPLO S.A.                                                                      </td><td style=\"text-align: right;\">61071387</td><td>ITAU          </td><td style=\"text-align: right;\">                           10069</td><td>                                </td><td>b1   </td><td style=\"text-align: right;\">   2</td><td style=\"text-align: right;\">   8</td><td>SAO PAULO              </td><td>SP  </td><td style=\"text-align: right;\">                        0    </td><td style=\"text-align: right;\">                                       0    </td><td style=\"text-align: right;\">                       84.204</td><td style=\"text-align: right;\">                                                     0    </td><td style=\"text-align: right;\">                           0   </td><td style=\"text-align: right;\">                              0    </td><td>84.204                                                    </td><td style=\"text-align: right;\">                -1.67 </td><td style=\"text-align: right;\">                                              0    </td><td style=\"text-align: right;\">                                         0    </td><td style=\"text-align: right;\">                          0    </td><td style=\"text-align: right;\">                                                      0    </td><td>-1.670                                                  </td><td style=\"text-align: right;\">                                        82.533</td><td style=\"text-align: right;\">                        0    </td><td style=\"text-align: right;\">                        0    </td><td style=\"text-align: right;\">                   0    </td><td style=\"text-align: right;\">                      -44    </td><td style=\"text-align: right;\">                   -3.878</td><td style=\"text-align: right;\">                         51.269</td><td style=\"text-align: right;\">                          780    </td><td style=\"text-align: right;\">                         -982    </td><td style=\"text-align: right;\">                        47.144</td><td style=\"text-align: right;\">                         129.678</td><td style=\"text-align: right;\">                        0    </td><td style=\"text-align: right;\">129.678</td><td style=\"text-align: right;\">                              -31.352</td><td style=\"text-align: right;\">                  0    </td><td style=\"text-align: right;\">                    98.326</td><td style=\"text-align: right;\">                                0    </td><td>2012-06-01       </td><td style=\"text-align: right;\"> 61071387000161</td></tr>\n",
       "<tr><td>COOPERATIVA DE CRÉDITO DOS PRODUTORES RURAIS E EMPRESÁRIOS DO INTERIOR PAULISTA                  </td><td style=\"text-align: right;\">71328769</td><td>              </td><td style=\"text-align: right;\">                                </td><td>                                </td><td>b3S  </td><td style=\"text-align: right;\">   2</td><td style=\"text-align: right;\">   9</td><td>SERTAOZINHO            </td><td>SP  </td><td style=\"text-align: right;\">                       52.465</td><td style=\"text-align: right;\">                                       0    </td><td style=\"text-align: right;\">                       22.248</td><td style=\"text-align: right;\">                                                   176    </td><td style=\"text-align: right;\">                           0   </td><td style=\"text-align: right;\">                              0    </td><td>74.888                                                    </td><td style=\"text-align: right;\">               -28.347</td><td style=\"text-align: right;\">                                            -15.269</td><td style=\"text-align: right;\">                                         0    </td><td style=\"text-align: right;\">                          0    </td><td style=\"text-align: right;\">                                                    -21.669</td><td>-65.285                                                 </td><td style=\"text-align: right;\">                                         9.603</td><td style=\"text-align: right;\">                      506    </td><td style=\"text-align: right;\">                        1.091</td><td style=\"text-align: right;\">                  -8.658</td><td style=\"text-align: right;\">                      -10.216</td><td style=\"text-align: right;\">                  -56    </td><td style=\"text-align: right;\">                          0    </td><td style=\"text-align: right;\">                           20.885</td><td style=\"text-align: right;\">                           -4.258</td><td style=\"text-align: right;\">                      -705    </td><td style=\"text-align: right;\">                           8.899</td><td style=\"text-align: right;\">                      -70    </td><td style=\"text-align: right;\">  8.829</td><td style=\"text-align: right;\">                              -39    </td><td style=\"text-align: right;\">                  0    </td><td style=\"text-align: right;\">                     8.79 </td><td style=\"text-align: right;\">                                0    </td><td>2012-06-01       </td><td style=\"text-align: right;\"> 71328769000181</td></tr>\n",
       "<tr><td>COOPERATIVA CENTRAL DE CRÉDITO DE MINAS GERAIS LTDA. - SICOOB CENTRAL CREDIMINAS                 </td><td style=\"text-align: right;\">25683434</td><td>              </td><td style=\"text-align: right;\">                                </td><td>                                </td><td>b3C  </td><td style=\"text-align: right;\">   2</td><td style=\"text-align: right;\">   9</td><td>BELO HORIZONTE         </td><td>MG  </td><td style=\"text-align: right;\">                        5.77 </td><td style=\"text-align: right;\">                                       0    </td><td style=\"text-align: right;\">                       63.013</td><td style=\"text-align: right;\">                                                    23    </td><td style=\"text-align: right;\">                           0   </td><td style=\"text-align: right;\">                              5.441</td><td>74.247                                                    </td><td style=\"text-align: right;\">               -59.726</td><td style=\"text-align: right;\">                                             -6.767</td><td style=\"text-align: right;\">                                         0    </td><td style=\"text-align: right;\">                          0    </td><td style=\"text-align: right;\">                                                   -821    </td><td>-67.313                                                 </td><td style=\"text-align: right;\">                                         6.934</td><td style=\"text-align: right;\">                       48    </td><td style=\"text-align: right;\">                        0    </td><td style=\"text-align: right;\">                  -9.591</td><td style=\"text-align: right;\">                       -3.985</td><td style=\"text-align: right;\">                   -5    </td><td style=\"text-align: right;\">                          3.982</td><td style=\"text-align: right;\">                           11.287</td><td style=\"text-align: right;\">                           -1.449</td><td style=\"text-align: right;\">                       288    </td><td style=\"text-align: right;\">                           7.222</td><td style=\"text-align: right;\">                        0    </td><td style=\"text-align: right;\">  7.222</td><td style=\"text-align: right;\">                                0    </td><td style=\"text-align: right;\">                  0    </td><td style=\"text-align: right;\">                     7.222</td><td style=\"text-align: right;\">                                0    </td><td>2012-06-01       </td><td style=\"text-align: right;\"> 25683434000164</td></tr>\n",
       "<tr><td>BB-BANCO DE INVESTIMENTO S/A                                                                     </td><td style=\"text-align: right;\">24933830</td><td>BB            </td><td style=\"text-align: right;\">                           49906</td><td>                                </td><td>b2   </td><td style=\"text-align: right;\">   1</td><td style=\"text-align: right;\">  13</td><td>BRASILIA               </td><td>DF  </td><td style=\"text-align: right;\">                        0    </td><td style=\"text-align: right;\">                                       0    </td><td style=\"text-align: right;\">                       62.463</td><td style=\"text-align: right;\">                                                  -790    </td><td style=\"text-align: right;\">                           0   </td><td style=\"text-align: right;\">                              0    </td><td>61.673                                                    </td><td style=\"text-align: right;\">              -148.386</td><td style=\"text-align: right;\">                                              0    </td><td style=\"text-align: right;\">                                         0    </td><td style=\"text-align: right;\">                          0    </td><td style=\"text-align: right;\">                                                    -11    </td><td>-148.398                                                </td><td style=\"text-align: right;\">                                       -86.724</td><td style=\"text-align: right;\">                      230.048</td><td style=\"text-align: right;\">                       16.791</td><td style=\"text-align: right;\">                 -16.962</td><td style=\"text-align: right;\">                      -22.852</td><td style=\"text-align: right;\">                  -26.126</td><td style=\"text-align: right;\">                        472.843</td><td style=\"text-align: right;\">                           20.515</td><td style=\"text-align: right;\">                          -46.742</td><td style=\"text-align: right;\">                       627.515</td><td style=\"text-align: right;\">                         540.79 </td><td style=\"text-align: right;\">                        2.051</td><td style=\"text-align: right;\">542.841</td><td style=\"text-align: right;\">                              -29.155</td><td style=\"text-align: right;\">                  0    </td><td style=\"text-align: right;\">                   513.687</td><td style=\"text-align: right;\">                                0    </td><td>2012-06-01       </td><td style=\"text-align: right;\"> 24933830000130</td></tr>\n",
       "<tr><td>BANCO CREDIT SUISSE (BRASIL) S.A.                                                                </td><td style=\"text-align: right;\">32062580</td><td>CREDIT SUISSE </td><td style=\"text-align: right;\">                           30771</td><td>                                </td><td>b1   </td><td style=\"text-align: right;\">   3</td><td style=\"text-align: right;\">   8</td><td>SAO PAULO              </td><td>SP  </td><td style=\"text-align: right;\">                       30.229</td><td style=\"text-align: right;\">                                       0    </td><td style=\"text-align: right;\">                       28.75 </td><td style=\"text-align: right;\">                                                    -6    </td><td style=\"text-align: right;\">                           0   </td><td style=\"text-align: right;\">                              0    </td><td>58.973                                                    </td><td style=\"text-align: right;\">               -37.004</td><td style=\"text-align: right;\">                                              0    </td><td style=\"text-align: right;\">                                         0    </td><td style=\"text-align: right;\">                          0    </td><td style=\"text-align: right;\">                                                    442    </td><td>-36.562                                                 </td><td style=\"text-align: right;\">                                        22.411</td><td style=\"text-align: right;\">                        0    </td><td style=\"text-align: right;\">                        0    </td><td style=\"text-align: right;\">                  -9.228</td><td style=\"text-align: right;\">                       -2.784</td><td style=\"text-align: right;\">                   -1.306</td><td style=\"text-align: right;\">                          0    </td><td style=\"text-align: right;\">                            1.352</td><td style=\"text-align: right;\">                         -497    </td><td style=\"text-align: right;\">                       -12.463</td><td style=\"text-align: right;\">                           9.948</td><td style=\"text-align: right;\">                        0    </td><td style=\"text-align: right;\">  9.948</td><td style=\"text-align: right;\">                               -3.64 </td><td style=\"text-align: right;\">               -500    </td><td style=\"text-align: right;\">                     5.808</td><td style=\"text-align: right;\">                                0    </td><td>2012-06-01       </td><td style=\"text-align: right;\"> 32062580000138</td></tr>\n",
       "<tr><td>STANDARD CHARTERED BANK (BRASIL) S.A. ? BANCO DE INVESTIMENTO                                    </td><td style=\"text-align: right;\">11932017</td><td>              </td><td style=\"text-align: right;\">                                </td><td>                                </td><td>b2   </td><td style=\"text-align: right;\">   3</td><td style=\"text-align: right;\">  13</td><td>SAO PAULO              </td><td>SP  </td><td style=\"text-align: right;\">                        0    </td><td style=\"text-align: right;\">                                       0    </td><td style=\"text-align: right;\">                       40.194</td><td style=\"text-align: right;\">                                                    18.312</td><td style=\"text-align: right;\">                           0   </td><td style=\"text-align: right;\">                              0    </td><td>58.506                                                    </td><td style=\"text-align: right;\">               -18.267</td><td style=\"text-align: right;\">                                             -1.216</td><td style=\"text-align: right;\">                                         0    </td><td style=\"text-align: right;\">                        -15.679</td><td style=\"text-align: right;\">                                                      0    </td><td>-35.163                                                 </td><td style=\"text-align: right;\">                                        23.343</td><td style=\"text-align: right;\">                       16.885</td><td style=\"text-align: right;\">                        0    </td><td style=\"text-align: right;\">                 -19.27 </td><td style=\"text-align: right;\">                       -6.887</td><td style=\"text-align: right;\">                   -2.474</td><td style=\"text-align: right;\">                          0    </td><td style=\"text-align: right;\">                          492    </td><td style=\"text-align: right;\">                         -212    </td><td style=\"text-align: right;\">                       -11.465</td><td style=\"text-align: right;\">                          11.877</td><td style=\"text-align: right;\">                        0    </td><td style=\"text-align: right;\"> 11.877</td><td style=\"text-align: right;\">                               -9.043</td><td style=\"text-align: right;\">                  0    </td><td style=\"text-align: right;\">                     2.835</td><td style=\"text-align: right;\">                                0    </td><td>2012-06-01       </td><td style=\"text-align: right;\"> 11932017000101</td></tr>\n",
       "<tr><td>AGIPLAN FINANCEIRA S.A. - CREDITO FINANCIAMENTO E INVESTIMENTO                                   </td><td style=\"text-align: right;\">13660104</td><td>              </td><td style=\"text-align: right;\">                                </td><td>                                </td><td>n1   </td><td style=\"text-align: right;\">   2</td><td style=\"text-align: right;\">  14</td><td>PORTO ALEGRE           </td><td>RS  </td><td style=\"text-align: right;\">                       51.969</td><td style=\"text-align: right;\">                                       0    </td><td style=\"text-align: right;\">                      306    </td><td style=\"text-align: right;\">                                                     0    </td><td style=\"text-align: right;\">                           0   </td><td style=\"text-align: right;\">                              0    </td><td>52.275                                                    </td><td style=\"text-align: right;\">                -2.424</td><td style=\"text-align: right;\">                                              0    </td><td style=\"text-align: right;\">                                         0    </td><td style=\"text-align: right;\">                          0    </td><td style=\"text-align: right;\">                                                    -12.102</td><td>-14.526                                                 </td><td style=\"text-align: right;\">                                        37.749</td><td style=\"text-align: right;\">                        0    </td><td style=\"text-align: right;\">                        1.34 </td><td style=\"text-align: right;\">                  -1.245</td><td style=\"text-align: right;\">                      -12.474</td><td style=\"text-align: right;\">                   -2.448</td><td style=\"text-align: right;\">                          0    </td><td style=\"text-align: right;\">                            3    </td><td style=\"text-align: right;\">                           -9    </td><td style=\"text-align: right;\">                       -14.833</td><td style=\"text-align: right;\">                          22.915</td><td style=\"text-align: right;\">                     -364    </td><td style=\"text-align: right;\"> 22.552</td><td style=\"text-align: right;\">                               -8.244</td><td style=\"text-align: right;\">                  0    </td><td style=\"text-align: right;\">                    14.307</td><td style=\"text-align: right;\">                             -388    </td><td>2012-06-01       </td><td style=\"text-align: right;\"> 13660104000174</td></tr>\n",
       "<tr><td>BANCO MONEO S.A.                                                                                 </td><td style=\"text-align: right;\"> 7441209</td><td>              </td><td style=\"text-align: right;\">                                </td><td>                                </td><td>b2   </td><td style=\"text-align: right;\">   2</td><td style=\"text-align: right;\">   8</td><td>CAXIAS DO SUL          </td><td>RS  </td><td style=\"text-align: right;\">                       41.399</td><td style=\"text-align: right;\">                                       0    </td><td style=\"text-align: right;\">                        2.28 </td><td style=\"text-align: right;\">                                                     0    </td><td style=\"text-align: right;\">                           0   </td><td style=\"text-align: right;\">                              0    </td><td>43.679                                                    </td><td style=\"text-align: right;\">                 0    </td><td style=\"text-align: right;\">                                            -17.175</td><td style=\"text-align: right;\">                                         0    </td><td style=\"text-align: right;\">                          0    </td><td style=\"text-align: right;\">                                                     -3.213</td><td>-20.387                                                 </td><td style=\"text-align: right;\">                                        23.292</td><td style=\"text-align: right;\">                        1.27 </td><td style=\"text-align: right;\">                      233    </td><td style=\"text-align: right;\">                  -4.066</td><td style=\"text-align: right;\">                       -1.908</td><td style=\"text-align: right;\">                   -1.314</td><td style=\"text-align: right;\">                          0    </td><td style=\"text-align: right;\">                          415    </td><td style=\"text-align: right;\">                         -698    </td><td style=\"text-align: right;\">                        -6.069</td><td style=\"text-align: right;\">                          17.223</td><td style=\"text-align: right;\">                      -56    </td><td style=\"text-align: right;\"> 17.167</td><td style=\"text-align: right;\">                               -7.466</td><td style=\"text-align: right;\">                  0    </td><td style=\"text-align: right;\">                     9.701</td><td style=\"text-align: right;\">                                0    </td><td>2012-06-01       </td><td style=\"text-align: right;\"> 07441209000130</td></tr>\n",
       "<tr><td>BANCO DE DESENVOLVIMENTO DO ESPIRITO SANTO S.A.                                                  </td><td style=\"text-align: right;\">28145829</td><td>              </td><td style=\"text-align: right;\">                                </td><td>                                </td><td>b4   </td><td style=\"text-align: right;\">   1</td><td style=\"text-align: right;\">   5</td><td>VITORIA                </td><td>ES  </td><td style=\"text-align: right;\">                       20.468</td><td style=\"text-align: right;\">                                       0    </td><td style=\"text-align: right;\">                       18.23 </td><td style=\"text-align: right;\">                                                     0    </td><td style=\"text-align: right;\">                           0   </td><td style=\"text-align: right;\">                              0    </td><td>38.698                                                    </td><td style=\"text-align: right;\">              -686    </td><td style=\"text-align: right;\">                                            -10.062</td><td style=\"text-align: right;\">                                         0    </td><td style=\"text-align: right;\">                          0    </td><td style=\"text-align: right;\">                                                    -11.261</td><td>-22.010                                                 </td><td style=\"text-align: right;\">                                        16.689</td><td style=\"text-align: right;\">                        1.725</td><td style=\"text-align: right;\">                        1.312</td><td style=\"text-align: right;\">                 -13.133</td><td style=\"text-align: right;\">                       -7.98 </td><td style=\"text-align: right;\">                   -1.667</td><td style=\"text-align: right;\">                          0    </td><td style=\"text-align: right;\">                            7.221</td><td style=\"text-align: right;\">                         -768    </td><td style=\"text-align: right;\">                       -13.291</td><td style=\"text-align: right;\">                           3.398</td><td style=\"text-align: right;\">                        1.034</td><td style=\"text-align: right;\">  4.432</td><td style=\"text-align: right;\">                               -4.38 </td><td style=\"text-align: right;\">                  0    </td><td style=\"text-align: right;\">                    52    </td><td style=\"text-align: right;\">                                0    </td><td>2012-06-01       </td><td style=\"text-align: right;\"> 28145829000100</td></tr>\n",
       "<tr><td>BANCO MÁXIMA S.A.                                                                                </td><td style=\"text-align: right;\">33923798</td><td>MÁXIMA        </td><td style=\"text-align: right;\">                           50201</td><td>                                </td><td>b1   </td><td style=\"text-align: right;\">   2</td><td style=\"text-align: right;\">   2</td><td>RIO DE JANEIRO         </td><td>RJ  </td><td style=\"text-align: right;\">                       14.531</td><td style=\"text-align: right;\">                                       0    </td><td style=\"text-align: right;\">                       13.745</td><td style=\"text-align: right;\">                                                     1.962</td><td style=\"text-align: right;\">                           0   </td><td style=\"text-align: right;\">                              0    </td><td>30.237                                                    </td><td style=\"text-align: right;\">               -29.758</td><td style=\"text-align: right;\">                                            -10    </td><td style=\"text-align: right;\">                                         0    </td><td style=\"text-align: right;\">                         -3    </td><td style=\"text-align: right;\">                                                     -3.82 </td><td>-33.591                                                 </td><td style=\"text-align: right;\">                                        -3.354</td><td style=\"text-align: right;\">                       61    </td><td style=\"text-align: right;\">                        5    </td><td style=\"text-align: right;\">                  -3.817</td><td style=\"text-align: right;\">                       -6.705</td><td style=\"text-align: right;\">                 -458    </td><td style=\"text-align: right;\">                          4.252</td><td style=\"text-align: right;\">                            1.164</td><td style=\"text-align: right;\">                         -252    </td><td style=\"text-align: right;\">                        -5.75 </td><td style=\"text-align: right;\">                          -9.104</td><td style=\"text-align: right;\">                        0    </td><td style=\"text-align: right;\"> -9.104</td><td style=\"text-align: right;\">                                5.505</td><td style=\"text-align: right;\">               -434    </td><td style=\"text-align: right;\">                    -4.033</td><td style=\"text-align: right;\">                                0    </td><td>2012-06-01       </td><td style=\"text-align: right;\"> 33923798000100</td></tr>\n",
       "<tr><td>BANCO DIBENS S.A.                                                                                </td><td style=\"text-align: right;\">61199881</td><td>ITAU          </td><td style=\"text-align: right;\">                           10069</td><td>                                </td><td>b1   </td><td style=\"text-align: right;\">   2</td><td style=\"text-align: right;\">   8</td><td>SAO PAULO              </td><td>SP  </td><td style=\"text-align: right;\">                        0    </td><td style=\"text-align: right;\">                                       0    </td><td style=\"text-align: right;\">                       28.939</td><td style=\"text-align: right;\">                                                     0    </td><td style=\"text-align: right;\">                           0   </td><td style=\"text-align: right;\">                              0    </td><td>28.939                                                    </td><td style=\"text-align: right;\">              -492    </td><td style=\"text-align: right;\">                                              0    </td><td style=\"text-align: right;\">                                         0    </td><td style=\"text-align: right;\">                          0    </td><td style=\"text-align: right;\">                                                      0    </td><td>-492                                                    </td><td style=\"text-align: right;\">                                        28.447</td><td style=\"text-align: right;\">                        0    </td><td style=\"text-align: right;\">                        0    </td><td style=\"text-align: right;\">                  -1.147</td><td style=\"text-align: right;\">                     -361    </td><td style=\"text-align: right;\">                   -1.392</td><td style=\"text-align: right;\">                          0    </td><td style=\"text-align: right;\">                            3.285</td><td style=\"text-align: right;\">                           -4.435</td><td style=\"text-align: right;\">                        -4.049</td><td style=\"text-align: right;\">                          24.397</td><td style=\"text-align: right;\">                      -21    </td><td style=\"text-align: right;\"> 24.377</td><td style=\"text-align: right;\">                               -8.349</td><td style=\"text-align: right;\">                  0    </td><td style=\"text-align: right;\">                    16.027</td><td style=\"text-align: right;\">                                0    </td><td>2012-06-01       </td><td style=\"text-align: right;\"> 61199881000106</td></tr>\n",
       "<tr><td>COOPERATIVA DE CRÉDITO DE LIVRE ADMISSÃO SUL-SERRANA DO ESPÍRITO SANTO                           </td><td style=\"text-align: right;\">  815319</td><td>              </td><td style=\"text-align: right;\">                                </td><td>                                </td><td>b3S  </td><td style=\"text-align: right;\">   2</td><td style=\"text-align: right;\">   9</td><td>VENDA NOVA DO IMIGRANTE</td><td>ES  </td><td style=\"text-align: right;\">                       22.331</td><td style=\"text-align: right;\">                                       0    </td><td style=\"text-align: right;\">                        4.829</td><td style=\"text-align: right;\">                                                     0    </td><td style=\"text-align: right;\">                           0   </td><td style=\"text-align: right;\">                              0    </td><td>27.160                                                    </td><td style=\"text-align: right;\">                -6.715</td><td style=\"text-align: right;\">                                             -1.429</td><td style=\"text-align: right;\">                                         0    </td><td style=\"text-align: right;\">                          0    </td><td style=\"text-align: right;\">                                                     -2.461</td><td>-10.604                                                 </td><td style=\"text-align: right;\">                                        16.556</td><td style=\"text-align: right;\">                        1.589</td><td style=\"text-align: right;\">                        2.666</td><td style=\"text-align: right;\">                  -5.788</td><td style=\"text-align: right;\">                       -6.05 </td><td style=\"text-align: right;\">                 -114    </td><td style=\"text-align: right;\">                          0    </td><td style=\"text-align: right;\">                          529    </td><td style=\"text-align: right;\">                         -675    </td><td style=\"text-align: right;\">                        -7.843</td><td style=\"text-align: right;\">                           8.712</td><td style=\"text-align: right;\">                       49    </td><td style=\"text-align: right;\">  8.761</td><td style=\"text-align: right;\">                              -62    </td><td style=\"text-align: right;\">                  0    </td><td style=\"text-align: right;\">                     8.699</td><td style=\"text-align: right;\">                                0    </td><td>2012-06-01       </td><td style=\"text-align: right;\"> 00815319000175</td></tr>\n",
       "<tr><td>COOPERATIVA DE CRÉDITO DE LIVRE ADMISSÃO DE ASSOCIADOS SÃO MIGUEL DO OESTE - SICOOB SÃO MIGUEL SC</td><td style=\"text-align: right;\">81607046</td><td>              </td><td style=\"text-align: right;\">                                </td><td>                                </td><td>b3S  </td><td style=\"text-align: right;\">   2</td><td style=\"text-align: right;\">   9</td><td>SAO MIGUEL D&#x27;OESTE     </td><td>SC  </td><td style=\"text-align: right;\">                       19.281</td><td style=\"text-align: right;\">                                       0    </td><td style=\"text-align: right;\">                        6.327</td><td style=\"text-align: right;\">                                                     0    </td><td style=\"text-align: right;\">                           0   </td><td style=\"text-align: right;\">                            115    </td><td>25.723                                                    </td><td style=\"text-align: right;\">                -7.47 </td><td style=\"text-align: right;\">                                             -1.579</td><td style=\"text-align: right;\">                                         0    </td><td style=\"text-align: right;\">                          0    </td><td style=\"text-align: right;\">                                                     -1.958</td><td>-11.007                                                 </td><td style=\"text-align: right;\">                                        14.716</td><td style=\"text-align: right;\">                        1.354</td><td style=\"text-align: right;\">                        1.092</td><td style=\"text-align: right;\">                  -4.254</td><td style=\"text-align: right;\">                       -2.761</td><td style=\"text-align: right;\">                  -50    </td><td style=\"text-align: right;\">                         23    </td><td style=\"text-align: right;\">                          165    </td><td style=\"text-align: right;\">                         -555    </td><td style=\"text-align: right;\">                        -4.986</td><td style=\"text-align: right;\">                           9.73 </td><td style=\"text-align: right;\">                      -17    </td><td style=\"text-align: right;\">  9.713</td><td style=\"text-align: right;\">                                0    </td><td style=\"text-align: right;\">                  0    </td><td style=\"text-align: right;\">                     9.713</td><td style=\"text-align: right;\">                                0    </td><td>2012-06-01       </td><td style=\"text-align: right;\"> 81607046000175</td></tr>\n",
       "<tr><td>COOPERATIVA DE CRÉDITO DE LIVRE ADMISSÃO DO SUDOESTE GOIANO                                      </td><td style=\"text-align: right;\">24795049</td><td>              </td><td style=\"text-align: right;\">                                </td><td>                                </td><td>b3S  </td><td style=\"text-align: right;\">   2</td><td style=\"text-align: right;\">   9</td><td>RIO VERDE              </td><td>GO  </td><td style=\"text-align: right;\">                       16.863</td><td style=\"text-align: right;\">                                       0    </td><td style=\"text-align: right;\">                        6.064</td><td style=\"text-align: right;\">                                                     0    </td><td style=\"text-align: right;\">                           0   </td><td style=\"text-align: right;\">                              0    </td><td>22.927                                                    </td><td style=\"text-align: right;\">                -3.578</td><td style=\"text-align: right;\">                                             -1.469</td><td style=\"text-align: right;\">                                         0    </td><td style=\"text-align: right;\">                          0    </td><td style=\"text-align: right;\">                                                   -766    </td><td>-5.813                                                  </td><td style=\"text-align: right;\">                                        17.113</td><td style=\"text-align: right;\">                      278    </td><td style=\"text-align: right;\">                      178    </td><td style=\"text-align: right;\">                  -3.265</td><td style=\"text-align: right;\">                       -3.402</td><td style=\"text-align: right;\">                  -37    </td><td style=\"text-align: right;\">                          0    </td><td style=\"text-align: right;\">                          352    </td><td style=\"text-align: right;\">                         -321    </td><td style=\"text-align: right;\">                        -6.216</td><td style=\"text-align: right;\">                          10.897</td><td style=\"text-align: right;\">                      218    </td><td style=\"text-align: right;\"> 11.115</td><td style=\"text-align: right;\">                              -34    </td><td style=\"text-align: right;\">                  0    </td><td style=\"text-align: right;\">                    11.081</td><td style=\"text-align: right;\">                                0    </td><td>2012-06-01       </td><td style=\"text-align: right;\"> 24795049000146</td></tr>\n",
       "<tr><td>COOPERATIVA DE CRÉDITO DE LIVRE ADMISSÃO DE ASSOCIADOS BOTUCARAÍ - SICREDI BOTUCARAÍ RS          </td><td style=\"text-align: right;\">87900601</td><td>              </td><td style=\"text-align: right;\">                                </td><td>                                </td><td>b3S  </td><td style=\"text-align: right;\">   2</td><td style=\"text-align: right;\">   9</td><td>SOLEDADE               </td><td>RS  </td><td style=\"text-align: right;\">                       16.611</td><td style=\"text-align: right;\">                                       0    </td><td style=\"text-align: right;\">                        5.478</td><td style=\"text-align: right;\">                                                     0    </td><td style=\"text-align: right;\">                           0   </td><td style=\"text-align: right;\">                             11    </td><td>22.100                                                    </td><td style=\"text-align: right;\">                -5.535</td><td style=\"text-align: right;\">                                             -1.744</td><td style=\"text-align: right;\">                                         0    </td><td style=\"text-align: right;\">                          0    </td><td style=\"text-align: right;\">                                                     -2.388</td><td>-9.667                                                  </td><td style=\"text-align: right;\">                                        12.433</td><td style=\"text-align: right;\">                        3.288</td><td style=\"text-align: right;\">                      880    </td><td style=\"text-align: right;\">                  -6.347</td><td style=\"text-align: right;\">                       -3.983</td><td style=\"text-align: right;\">                  -70    </td><td style=\"text-align: right;\">                          0    </td><td style=\"text-align: right;\">                            1.943</td><td style=\"text-align: right;\">                           -2.718</td><td style=\"text-align: right;\">                        -7.007</td><td style=\"text-align: right;\">                           5.425</td><td style=\"text-align: right;\">                        1    </td><td style=\"text-align: right;\">  5.426</td><td style=\"text-align: right;\">                             -335    </td><td style=\"text-align: right;\">                  0    </td><td style=\"text-align: right;\">                     5.091</td><td style=\"text-align: right;\">                                0    </td><td>2012-06-01       </td><td style=\"text-align: right;\"> 87900601000139</td></tr>\n",
       "<tr><td>COOPERATIVA DE CRÉDITO DE LIVRE ADMISSÃO SÃO CRISTOVÃO - SICREDI SÃO CRISTOVÃO - PR/SC           </td><td style=\"text-align: right;\">82065285</td><td>              </td><td style=\"text-align: right;\">                                </td><td>                                </td><td>b3S  </td><td style=\"text-align: right;\">   2</td><td style=\"text-align: right;\">   9</td><td>MARIOPOLIS             </td><td>PR  </td><td style=\"text-align: right;\">                       16.962</td><td style=\"text-align: right;\">                                       0    </td><td style=\"text-align: right;\">                        2.257</td><td style=\"text-align: right;\">                                                     0    </td><td style=\"text-align: right;\">                           0   </td><td style=\"text-align: right;\">                              1    </td><td>19.220                                                    </td><td style=\"text-align: right;\">                -3.369</td><td style=\"text-align: right;\">                                             -1.25 </td><td style=\"text-align: right;\">                                         0    </td><td style=\"text-align: right;\">                          0    </td><td style=\"text-align: right;\">                                                     -2.006</td><td>-6.625                                                  </td><td style=\"text-align: right;\">                                        12.595</td><td style=\"text-align: right;\">                        2.577</td><td style=\"text-align: right;\">                        1.067</td><td style=\"text-align: right;\">                  -6.2  </td><td style=\"text-align: right;\">                       -3.924</td><td style=\"text-align: right;\">                  -70    </td><td style=\"text-align: right;\">                          0    </td><td style=\"text-align: right;\">                            1.825</td><td style=\"text-align: right;\">                           -2.777</td><td style=\"text-align: right;\">                        -7.502</td><td style=\"text-align: right;\">                           5.092</td><td style=\"text-align: right;\">                      590    </td><td style=\"text-align: right;\">  5.683</td><td style=\"text-align: right;\">                             -251    </td><td style=\"text-align: right;\">                  0    </td><td style=\"text-align: right;\">                     5.432</td><td style=\"text-align: right;\">                                0    </td><td>2012-06-01       </td><td style=\"text-align: right;\"> 82065285000103</td></tr>\n",
       "<tr><td>COOPERATIVA DE CREDITO RURAL DE PRIMAVERA DO LESTE                                               </td><td style=\"text-align: right;\">26563270</td><td>              </td><td style=\"text-align: right;\">                                </td><td>                                </td><td>b3S  </td><td style=\"text-align: right;\">   2</td><td style=\"text-align: right;\">   9</td><td>PRIMAVERA DO LESTE     </td><td>MT  </td><td style=\"text-align: right;\">                       13.111</td><td style=\"text-align: right;\">                                       0    </td><td style=\"text-align: right;\">                        5.162</td><td style=\"text-align: right;\">                                                     0    </td><td style=\"text-align: right;\">                           0   </td><td style=\"text-align: right;\">                              0    </td><td>18.273                                                    </td><td style=\"text-align: right;\">                -8.374</td><td style=\"text-align: right;\">                                              0    </td><td style=\"text-align: right;\">                                         0    </td><td style=\"text-align: right;\">                          0    </td><td style=\"text-align: right;\">                                                     -3.535</td><td>-11.909                                                 </td><td style=\"text-align: right;\">                                         6.364</td><td style=\"text-align: right;\">                      102    </td><td style=\"text-align: right;\">                      129    </td><td style=\"text-align: right;\">                  -1.878</td><td style=\"text-align: right;\">                       -1.074</td><td style=\"text-align: right;\">                    0    </td><td style=\"text-align: right;\">                          0    </td><td style=\"text-align: right;\">                            0    </td><td style=\"text-align: right;\">                          -18    </td><td style=\"text-align: right;\">                        -2.738</td><td style=\"text-align: right;\">                           3.625</td><td style=\"text-align: right;\">                        1    </td><td style=\"text-align: right;\">  3.625</td><td style=\"text-align: right;\">                                0    </td><td style=\"text-align: right;\">                  0    </td><td style=\"text-align: right;\">                     3.625</td><td style=\"text-align: right;\">                                0    </td><td>2012-06-01       </td><td style=\"text-align: right;\"> 26563270000102</td></tr>\n",
       "<tr><td>COOPERATIVA DE CRÉDITO DE LIVRE ADMISSÃO DE ASSOCIADOS SUL CATARINENSE - SICOOB CREDISULCA SC    </td><td style=\"text-align: right;\">81367880</td><td>              </td><td style=\"text-align: right;\">                                </td><td>                                </td><td>b3S  </td><td style=\"text-align: right;\">   2</td><td style=\"text-align: right;\">   9</td><td>TURVO                  </td><td>SC  </td><td style=\"text-align: right;\">                       11.748</td><td style=\"text-align: right;\">                                       0    </td><td style=\"text-align: right;\">                        5.135</td><td style=\"text-align: right;\">                                                     0    </td><td style=\"text-align: right;\">                           0   </td><td style=\"text-align: right;\">                              0    </td><td>16.883                                                    </td><td style=\"text-align: right;\">                -4.403</td><td style=\"text-align: right;\">                                             -1.361</td><td style=\"text-align: right;\">                                         0    </td><td style=\"text-align: right;\">                          0    </td><td style=\"text-align: right;\">                                                     -1.347</td><td>-7.110                                                  </td><td style=\"text-align: right;\">                                         9.773</td><td style=\"text-align: right;\">                      689    </td><td style=\"text-align: right;\">                        1.412</td><td style=\"text-align: right;\">                  -2.641</td><td style=\"text-align: right;\">                       -3.775</td><td style=\"text-align: right;\">                  -41    </td><td style=\"text-align: right;\">                          0    </td><td style=\"text-align: right;\">                           17    </td><td style=\"text-align: right;\">                         -181    </td><td style=\"text-align: right;\">                        -4.52 </td><td style=\"text-align: right;\">                           5.253</td><td style=\"text-align: right;\">                      -65    </td><td style=\"text-align: right;\">  5.188</td><td style=\"text-align: right;\">                                0    </td><td style=\"text-align: right;\">                  0    </td><td style=\"text-align: right;\">                     5.188</td><td style=\"text-align: right;\">                                0    </td><td>2012-06-01       </td><td style=\"text-align: right;\"> 81367880000130</td></tr>\n",
       "<tr><td>CREDIT SUISSE (BRASIL) DISTRIBUIDORA DE TÍTULOS E VALORES MOBILIÁRIOS S.A.                       </td><td style=\"text-align: right;\">30121792</td><td>CREDIT SUISSE </td><td style=\"text-align: right;\">                           30771</td><td>                                </td><td>n2   </td><td style=\"text-align: right;\">   3</td><td style=\"text-align: right;\">  16</td><td>SAO PAULO              </td><td>SP  </td><td style=\"text-align: right;\">                        0    </td><td style=\"text-align: right;\">                                       0    </td><td style=\"text-align: right;\">                       15.984</td><td style=\"text-align: right;\">                                                     0    </td><td style=\"text-align: right;\">                           0   </td><td style=\"text-align: right;\">                              0    </td><td>15.984                                                    </td><td style=\"text-align: right;\">                 0    </td><td style=\"text-align: right;\">                                              0    </td><td style=\"text-align: right;\">                                         0    </td><td style=\"text-align: right;\">                          0    </td><td style=\"text-align: right;\">                                                      0    </td><td>0                                                       </td><td style=\"text-align: right;\">                                        15.984</td><td style=\"text-align: right;\">                        8.509</td><td style=\"text-align: right;\">                        0    </td><td style=\"text-align: right;\">                  -9.233</td><td style=\"text-align: right;\">                     -862    </td><td style=\"text-align: right;\">                   -1.366</td><td style=\"text-align: right;\">                          0    </td><td style=\"text-align: right;\">                           63    </td><td style=\"text-align: right;\">                         -197    </td><td style=\"text-align: right;\">                        -3.087</td><td style=\"text-align: right;\">                          12.897</td><td style=\"text-align: right;\">                        0    </td><td style=\"text-align: right;\"> 12.897</td><td style=\"text-align: right;\">                               -5.444</td><td style=\"text-align: right;\">               -406    </td><td style=\"text-align: right;\">                     7.047</td><td style=\"text-align: right;\">                                0    </td><td>2012-06-01       </td><td style=\"text-align: right;\"> 30121792000113</td></tr>\n",
       "</tbody>\n",
       "</table>"
      ],
      "text/plain": [
       "<IPython.core.display.HTML object>"
      ]
     },
     "metadata": {},
     "output_type": "display_data"
    }
   ],
   "source": [
    "df_demonstracao_result_ = G.table_to_df(\"finance_raw_data\", \"demonstracao_resultado_receita_lucro\", spark)\n",
    "df_demonstracao_result_.persist()\n",
    "\n",
    "df_date_with_day = df_demonstracao_result_.withColumn(\"data_format_d\", F.concat(F.lit(\"01/\"), df_demonstracao_result_[\"data\"]))\n",
    "\n",
    "df_date_format = df_date_with_day.withColumn(\"data_format_d\", F.to_date(df_date_with_day[\"data_format_d\"], \"dd/MM/yyyy\"))\n",
    "df_demonstracao_result = df_date_format.withColumn(\"cnpj_completo\", cnpj_udf(df_date_format[\"codigo\"]))\n",
    "\n",
    "df_demonstracao_result = df_demonstracao_result.drop(\"data\").filter(F.col(\"data_format_d\").isNotNull())\n",
    "\n",
    "df_demonstracao_result = df_demonstracao_result.withColumnRenamed(\"data_format_d\", \"data_trimestral\")\n",
    "\n",
    "\n",
    "df_demonstracao_result.persist()\n",
    "\n",
    "\n",
    "t2 = df_demonstracao_result.sample(False, 0.1).limit(30)\n",
    "# t = dfSample_demonstracao_result.withColumn(\"cnpj_completo\", cnpj_udf(dfSample_demonstracao_result[\"codigo\"]))\n",
    "\n",
    "# t2 = t.select(\"instituicao\", \"codigo\", \"cnpj_completo\")\n",
    "table = tabulate(t2.collect(), headers=t2.columns, tablefmt='html')\n",
    "\n",
    "# t2.printSchema()\n",
    "display(HTML(table))\n",
    "# print(dfSample_demonstracao_result.count())\n",
    "\n",
    "\n"
   ]
  },
  {
   "cell_type": "code",
   "execution_count": null,
   "id": "742f6277-b1c4-4828-933a-ba366663400f",
   "metadata": {},
   "outputs": [],
   "source": []
  },
  {
   "cell_type": "code",
   "execution_count": 5,
   "id": "d34878eb-46d3-459e-929b-49c8f6c00618",
   "metadata": {
    "scrolled": true
   },
   "outputs": [
    {
     "data": {
      "text/plain": [
       "DataFrame[data: string, codigo_cadastro_bacen: string, codigo_sisbacen: string, codigo_pais_sede: string, nome_pais_sede: string, nome_uf_sede: string, codigo_municipio_sede: string, nome_municipio_sede: string, nome_entidade: string, nome_entidade_nao_formatado: string, cnpj: string, cnpj_raiz: string, codigo_situacao: string, descricao_situacao: string, codigo_tipo_entidade_segmento: string, nome_tipo_entidade: string, codigo_natureza_juridica: string, descricao_natureza_juridica: string, codigo_esfera_publica: string, nome_reduzido: string, sigla_entidade: string, nome_fantasia: string, empresa_publica: string]"
      ]
     },
     "execution_count": 5,
     "metadata": {},
     "output_type": "execute_result"
    }
   ],
   "source": [
    "df_info_cadastral = G.table_to_df(\"finance_raw_data\", \"info_cadastral_entidades\", spark)\n",
    "df_info_cadastral.persist()\n",
    "\n",
    "# dfSample_info_cadastral_entidades = df_info_cadastra l.sample(False, 0.1).limit(30)\n",
    "# table = tabulate(dfSample_info_cadastral_entidades.collect(), headers=dfSample_info_cadastral_entidades.columns, tablefmt='html')\n",
    "# display(HTML(table))\n",
    "\n",
    "# df_info_cadastral.count()\n",
    "# dfSample_info_cadastral_entidades.printSchema()\n"
   ]
  },
  {
   "cell_type": "code",
   "execution_count": 6,
   "id": "fbb624b1-9cdd-42e0-9ff3-68fb3b89d990",
   "metadata": {
    "scrolled": true
   },
   "outputs": [
    {
     "name": "stdout",
     "output_type": "stream",
     "text": [
      "root\n",
      " |-- cnpj: string (nullable = true)\n",
      " |-- cnpj_raiz: string (nullable = true)\n",
      " |-- codigo_sisbacen: string (nullable = true)\n",
      " |-- nome_tipo_entidade: string (nullable = true)\n",
      " |-- descricao_situacao: string (nullable = true)\n",
      " |-- nome_entidade: string (nullable = true)\n",
      " |-- nome_fantasia: string (nullable = true)\n",
      " |-- data_format: date (nullable = true)\n",
      "\n"
     ]
    }
   ],
   "source": [
    "df_info_cadastral_select_ = df_info_cadastral.select(\"cnpj\", \"data\", \"cnpj_raiz\", \"codigo_sisbacen\", \"nome_tipo_entidade\", \"descricao_situacao\", \"nome_entidade\", \"nome_fantasia\")\n",
    "\n",
    "\n",
    "df_info_cadastral_select = df_info_cadastral_select_.withColumn(\"data_format\", F.to_date(df_info_cadastral_select_[\"data\"], \"yyyy-MM-dd\"))\n",
    "df_info_cadastral_select = df_info_cadastral_select.drop(\"data\")\n",
    "# a = df_info_cadastral_select.sample(False, 0.1).limit(50)\n",
    "# table = tabulate(a.collect(), headers=a.columns, tablefmt='html')\n",
    "# df_info_cadastral_select.filter(df_info_cadastral_select[\"cnpj\"].isNull()).count()\n",
    "# display(HTML(table))\n",
    "\n",
    "df_info_cadastral_select.printSchema()\n"
   ]
  },
  {
   "cell_type": "markdown",
   "id": "2b836308-4542-4593-a583-92d08ee08011",
   "metadata": {},
   "source": [
    "### Duplicação"
   ]
  },
  {
   "cell_type": "code",
   "execution_count": 7,
   "id": "2dd041e0-d8c8-455e-a082-b6e504b01a65",
   "metadata": {
    "scrolled": true
   },
   "outputs": [
    {
     "name": "stdout",
     "output_type": "stream",
     "text": [
      "root\n",
      " |-- cnpj: string (nullable = true)\n",
      " |-- cnpj_raiz: string (nullable = true)\n",
      " |-- codigo_sisbacen: string (nullable = true)\n",
      " |-- nome_tipo_entidade: string (nullable = true)\n",
      " |-- descricao_situacao: string (nullable = true)\n",
      " |-- nome_entidade: string (nullable = true)\n",
      " |-- nome_fantasia: string (nullable = true)\n",
      " |-- data_format: date (nullable = true)\n",
      " |-- ano_info: integer (nullable = true)\n",
      " |-- mes_info: integer (nullable = true)\n",
      "\n",
      "root\n",
      " |-- instituicao: string (nullable = true)\n",
      " |-- codigo: string (nullable = true)\n",
      " |-- conglomerado: string (nullable = true)\n",
      " |-- codigo_conglomerado_financeiro: string (nullable = true)\n",
      " |-- codigo_conglomerado_prudencial: string (nullable = true)\n",
      " |-- tcb: string (nullable = true)\n",
      " |-- tc: string (nullable = true)\n",
      " |-- ti: string (nullable = true)\n",
      " |-- cidade: string (nullable = true)\n",
      " |-- uf: string (nullable = true)\n",
      " |-- rendas_operacoes_credito_a1: string (nullable = true)\n",
      " |-- rendas_operacoes_arrendamento_mercantil_a2: string (nullable = true)\n",
      " |-- rendas_operacoes_com_tvm_a3: string (nullable = true)\n",
      " |-- rendas_operacoes_instrumentos_financeiros_derivativos_a4: string (nullable = true)\n",
      " |-- resultado_operacoes_cambio_a5: string (nullable = true)\n",
      " |-- rendas_aplicacoes_compulsorias_a6: string (nullable = true)\n",
      " |-- receitas_intermediacao_financeira_soma_a1_a2_a3_a4_a5_a6: string (nullable = true)\n",
      " |-- despesas_captacao_b1: string (nullable = true)\n",
      " |-- despesas_obrigacoes_por_emprestimos_e_repasses_b2: string (nullable = true)\n",
      " |-- despesas_operacoes_arrendamento_mercantil_b3: string (nullable = true)\n",
      " |-- resultado_operacoes_cambio_b4: string (nullable = true)\n",
      " |-- resultado_de_provisao_para_creditos_dificil_liquidacao_b5: string (nullable = true)\n",
      " |-- despesas__intermediacao_financeira_soma_b1_b2_b3_b4_b5: string (nullable = true)\n",
      " |-- resultao_intermediacao_financeira_c_soma_a_b: string (nullable = true)\n",
      " |-- rendas_prestacao_servico_d1: string (nullable = true)\n",
      " |-- rendas_tarifas_bancarias_d2: string (nullable = true)\n",
      " |-- despesas_de_pessoal_d3: string (nullable = true)\n",
      " |-- despesas_administrativas_d4: string (nullable = true)\n",
      " |-- despesas_tributarias_d5: string (nullable = true)\n",
      " |-- resultado_de_participacoes_d6: string (nullable = true)\n",
      " |-- outras_receitas_operacionais_d7: string (nullable = true)\n",
      " |-- outras_receitas_operacionais_d8: string (nullable = true)\n",
      " |-- soma_d1_d2_d3_d4_d5_d6_d7_d8: string (nullable = true)\n",
      " |-- resultado_operacional_soma_c_d: string (nullable = true)\n",
      " |-- resultado_nao_operacional_f: string (nullable = true)\n",
      " |-- g: string (nullable = true)\n",
      " |-- imposto_renda_contribuicao_social_h: string (nullable = true)\n",
      " |-- participacao_lucros_i: string (nullable = true)\n",
      " |-- lucro_liquido_soma_g_h_i: string (nullable = true)\n",
      " |-- juros_capital_social_cooperativas_k: string (nullable = true)\n",
      " |-- data_trimestral: date (nullable = true)\n",
      " |-- cnpj_completo: string (nullable = true)\n",
      " |-- ano: integer (nullable = true)\n",
      " |-- mes: integer (nullable = true)\n",
      "\n"
     ]
    }
   ],
   "source": [
    "# df_info_cadastral\n",
    "\n",
    "df_info_ordered = df_info_cadastral_select.orderBy(F.col(\"cnpj\").asc())\n",
    "\n",
    "columns_info = df_info_ordered.columns\n",
    "columns_info.remove(\"data_format\")\n",
    "\n",
    "df_unique_info_ = df_info_ordered.dropDuplicates(subset=columns_info)\n",
    "\n",
    "# df_demonstracao_result\n",
    "\n",
    "df_demonstracao_ordered = df_demonstracao_result.orderBy(F.col(\"cnpj_completo\").asc())\n",
    "columns_demonstracao = df_demonstracao_result.columns\n",
    "columns_demonstracao.remove(\"data_trimestral\")\n",
    "\n",
    "\n",
    "df_unique_demonstracao_ = df_demonstracao_ordered.dropDuplicates(subset=columns_demonstracao)\n",
    "\n",
    "\n",
    "# sample_info = df_unique_info_.sample(False, 0.1).limit(50)\n",
    "\n",
    "# sample_info = df_unique_info_.filter(F.col(\"cnpj_raiz\") == '00000000')\n",
    "\n",
    "# tb_info = tabulate(sample_info.collect(), headers=sample_info.columns, tablefmt='html')\n",
    "# display(HTML(tb_info))\n",
    "\n",
    "# df1 = df_unique_info_.select(\"cnpj\", \"cnpj_raiz\", \"data_format\").limit(30)\n",
    "# df2 = df_unique_demonstracao_.select(\"instituicao\", \"cnpj_completo\", \"data_trimestral\").limit(30)\n",
    "\n",
    "df_unique_info_ = df_unique_info_.withColumn(\"ano_info\", F.year(\"data_format\")).withColumn(\"mes_info\", F.month(\"data_format\"))\n",
    "df_unique_demonstracao_ = df_unique_demonstracao_.withColumn(\"ano\", F.year(\"data_trimestral\")).withColumn(\"mes\", F.month(\"data_trimestral\"))\n",
    "\n",
    "df_unique_info_.printSchema()\n",
    "df_unique_demonstracao_.printSchema()\n",
    "\n",
    "# tb1 = tabulate(df1.collect(), headers=df1.columns, tablefmt='html')\n",
    "# display(HTML(tb1))\n",
    "\n",
    "# tb2 = tabulate(df2.collect(), headers=df2.columns, tablefmt='html')\n",
    "# display(HTML(tb2))\n",
    "\n"
   ]
  },
  {
   "cell_type": "markdown",
   "id": "7034cebf-01ca-4240-9f2c-ca6b4a87a6ff",
   "metadata": {},
   "source": [
    "### Remover acentos"
   ]
  },
  {
   "cell_type": "code",
   "execution_count": 13,
   "id": "f5fbe04c-5658-4dba-8d6b-b4ea594f0302",
   "metadata": {},
   "outputs": [],
   "source": [
    "def clean_accent_(texto):\n",
    "    return unidecode(texto) if texto else None\n",
    "\n",
    "clean_accent = F.udf(clean_accent_, F.StringType())\n",
    "\n",
    "col_info = [\"nome_tipo_entidade\", \"descricao_situacao\", \"nome_entidade\", \"nome_fantasia\"]\n",
    "col_demonstracao = [\"instituicao\", \"conglomerado\", \"tcb\", \"tc\", \"ti\", \"cidade\", \"uf\"]\n",
    "\n",
    "df_unique_info = df_unique_info_.select([F.upper(F.trim(clean_accent(F.col(column)))).alias(column) for column in col_info])\n",
    "\n",
    "df_unique_demonstracao = df_unique_demonstracao_.select([F.upper(F.trim(clean_accent(F.col(column)))).alias(column) for column in col_demonstracao])\n",
    "\n",
    "# df_unique_demonstracao.printSchema()"
   ]
  },
  {
   "cell_type": "code",
   "execution_count": 14,
   "id": "80ef2a40-1af5-49fc-94ff-0b8fc223ae34",
   "metadata": {},
   "outputs": [
    {
     "name": "stderr",
     "output_type": "stream",
     "text": [
      "24/07/22 15:15:17 WARN TaskSetManager: Stage 12 contains a task of very large size (12111 KiB). The maximum recommended task size is 1000 KiB.\n",
      "24/07/22 15:15:18 WARN TaskSetManager: Stage 13 contains a task of very large size (12111 KiB). The maximum recommended task size is 1000 KiB.\n",
      "24/07/22 15:15:18 WARN TaskSetManager: Stage 14 contains a task of very large size (11648 KiB). The maximum recommended task size is 1000 KiB.\n",
      "24/07/22 15:15:20 WARN TaskSetManager: Stage 15 contains a task of very large size (11648 KiB). The maximum recommended task size is 1000 KiB.\n",
      "                                                                                \r"
     ]
    },
    {
     "name": "stdout",
     "output_type": "stream",
     "text": [
      "9653\n"
     ]
    },
    {
     "name": "stderr",
     "output_type": "stream",
     "text": [
      "24/07/22 15:15:27 WARN TaskSetManager: Stage 35 contains a task of very large size (12111 KiB). The maximum recommended task size is 1000 KiB.\n",
      "24/07/22 15:15:28 WARN TaskSetManager: Stage 36 contains a task of very large size (12111 KiB). The maximum recommended task size is 1000 KiB.\n",
      "24/07/22 15:15:28 WARN TaskSetManager: Stage 37 contains a task of very large size (11648 KiB). The maximum recommended task size is 1000 KiB.\n",
      "24/07/22 15:15:30 WARN TaskSetManager: Stage 38 contains a task of very large size (11648 KiB). The maximum recommended task size is 1000 KiB.\n",
      "                                                                                \r"
     ]
    },
    {
     "name": "stdout",
     "output_type": "stream",
     "text": [
      "5593\n"
     ]
    },
    {
     "name": "stderr",
     "output_type": "stream",
     "text": [
      "24/07/22 15:15:35 WARN TaskSetManager: Stage 46 contains a task of very large size (11648 KiB). The maximum recommended task size is 1000 KiB.\n",
      "24/07/22 15:15:37 WARN TaskSetManager: Stage 47 contains a task of very large size (11648 KiB). The maximum recommended task size is 1000 KiB.\n",
      "24/07/22 15:15:38 WARN TaskSetManager: Stage 48 contains a task of very large size (12111 KiB). The maximum recommended task size is 1000 KiB.\n",
      "24/07/22 15:15:39 WARN TaskSetManager: Stage 49 contains a task of very large size (12111 KiB). The maximum recommended task size is 1000 KiB.\n",
      "                                                                                \r"
     ]
    },
    {
     "name": "stdout",
     "output_type": "stream",
     "text": [
      "0\n"
     ]
    },
    {
     "name": "stderr",
     "output_type": "stream",
     "text": [
      "24/07/22 15:15:43 WARN TaskSetManager: Stage 57 contains a task of very large size (12111 KiB). The maximum recommended task size is 1000 KiB.\n",
      "24/07/22 15:15:44 WARN TaskSetManager: Stage 58 contains a task of very large size (12111 KiB). The maximum recommended task size is 1000 KiB.\n",
      "24/07/22 15:15:44 WARN TaskSetManager: Stage 59 contains a task of very large size (11648 KiB). The maximum recommended task size is 1000 KiB.\n",
      "24/07/22 15:15:45 WARN TaskSetManager: Stage 60 contains a task of very large size (11648 KiB). The maximum recommended task size is 1000 KiB.\n",
      "[Stage 69:==============>                                           (1 + 3) / 4]\r"
     ]
    },
    {
     "name": "stdout",
     "output_type": "stream",
     "text": [
      "total 15246\n"
     ]
    },
    {
     "name": "stderr",
     "output_type": "stream",
     "text": [
      "                                                                                \r"
     ]
    }
   ],
   "source": [
    "df_unique_info = df_unique_info_\n",
    "df_unique_demonstracao = df_unique_demonstracao_\n",
    "\n",
    "\n",
    "df_join_ = df_unique_info.join(\n",
    "    df_unique_demonstracao,\n",
    "    (df_unique_info[\"cnpj_raiz\"] == df_unique_demonstracao[\"codigo\"]) &\n",
    "    (df_unique_info[\"ano_info\"] == df_unique_demonstracao[\"ano\"]) &\n",
    "    (df_unique_info[\"mes_info\"] == df_unique_demonstracao[\"mes\"]),\n",
    "    \"full_outer\"\n",
    ").select(\n",
    "    df_unique_demonstracao[\"instituicao\"],\n",
    "    df_unique_demonstracao[\"tc\"],\n",
    "    df_unique_demonstracao[\"conglomerado\"],\n",
    "    df_unique_demonstracao[\"cnpj_completo\"],\n",
    "    *df_unique_info.columns\n",
    ")\n",
    "\n",
    "\n",
    "df_join = df_join_.dropDuplicates()\n",
    "\n",
    "# Filtrar registros que estão apenas no DataFrame \"demonstracao_result\"\n",
    "only_demonstracao_result = df_join.filter(\n",
    "    F.col(\"nome_entidade\").isNull() &\n",
    "    F.col(\"instituicao\").isNotNull() &\n",
    "    (F.trim(F.col(\"instituicao\")) != \"\")\n",
    ")\n",
    "\n",
    "# Filtrar registros que estão apenas no DataFrame \"info_cadastral\"\n",
    "only_info_cadastral = df_join.filter(\n",
    "    F.col(\"instituicao\").isNull() &\n",
    "    F.col(\"nome_entidade\").isNotNull() &\n",
    "    (F.trim(F.col(\"nome_entidade\")) != \"\")\n",
    ")\n",
    "\n",
    "# Filtrar registros que estão presentes em ambos DataFrames\n",
    "intersecao = df_join.filter(\n",
    "    F.col(\"instituicao\").isNotNull() &\n",
    "    (F.trim(F.col(\"instituicao\")) != \"\") &\n",
    "    F.col(\"nome_entidade\").isNotNull() &\n",
    "    (F.trim(F.col(\"nome_entidade\")) != \"\")\n",
    ")\n",
    "print(only_demonstracao_result.count())\n",
    "\n",
    "print(only_info_cadastral.count())\n",
    "\n",
    "print(intersecao.count())\n",
    "\n",
    "print(\"total\", df_join.count())\n",
    "\n",
    "\n",
    "# testee = df_sem_acento.filter(F.col(\"nome_entidade\") == \"COOPERATIVA DE CRÉDITO RURAL COM INTERAÇÃO SOLIDÁRIA DE CASTRO - CRESOL CASTRO\")\n",
    "\n",
    "# table = tabulate(testee.collect(), headers=testee.columns, tablefmt='html')\n",
    "# display(HTML(table))\n",
    "\n"
   ]
  },
  {
   "cell_type": "code",
   "execution_count": 61,
   "id": "2d8f9918-019d-488c-9cd7-9abf17db79d8",
   "metadata": {
    "editable": true,
    "scrolled": true,
    "slideshow": {
     "slide_type": ""
    },
    "tags": []
   },
   "outputs": [
    {
     "name": "stderr",
     "output_type": "stream",
     "text": [
      "24/07/18 15:42:29 WARN TaskSetManager: Stage 371 contains a task of very large size (12111 KiB). The maximum recommended task size is 1000 KiB.\n",
      "24/07/18 15:42:29 WARN TaskSetManager: Stage 372 contains a task of very large size (11648 KiB). The maximum recommended task size is 1000 KiB.\n",
      "24/07/18 15:42:32 WARN TaskSetManager: Stage 377 contains a task of very large size (12111 KiB). The maximum recommended task size is 1000 KiB.\n",
      "24/07/18 15:42:33 WARN TaskSetManager: Stage 378 contains a task of very large size (11648 KiB). The maximum recommended task size is 1000 KiB.\n",
      "24/07/18 15:42:36 WARN TaskSetManager: Stage 383 contains a task of very large size (12111 KiB). The maximum recommended task size is 1000 KiB.\n",
      "24/07/18 15:42:37 WARN TaskSetManager: Stage 384 contains a task of very large size (11648 KiB). The maximum recommended task size is 1000 KiB.\n",
      "                                                                                \r"
     ]
    },
    {
     "data": {
      "text/html": [
       "<table>\n",
       "<thead>\n",
       "<tr></tr>\n",
       "</thead>\n",
       "<tbody>\n",
       "</tbody>\n",
       "</table>"
      ],
      "text/plain": [
       "<IPython.core.display.HTML object>"
      ]
     },
     "metadata": {},
     "output_type": "display_data"
    },
    {
     "data": {
      "text/html": [
       "<table>\n",
       "<thead>\n",
       "<tr><th>instituicao  </th><th>tc  </th><th>conglomerado  </th><th>codigo  </th><th style=\"text-align: right;\">          cnpj</th><th>data      </th><th style=\"text-align: right;\">  cnpj_raiz</th><th>codigo_sisbacen  </th><th>nome_tipo_entidade                                </th><th>descricao_situacao                       </th><th>nome_entidade                                                                                    </th><th>nome_fantasia                           </th></tr>\n",
       "</thead>\n",
       "<tbody>\n",
       "<tr><td>             </td><td>    </td><td>              </td><td>        </td><td style=\"text-align: right;\">10664027000132</td><td>2024-05-23</td><td style=\"text-align: right;\">   10664027</td><td>                 </td><td>Sociedade Corretora de TVM                        </td><td>Cancelada/Encerrada                      </td><td>ABERTURA CORRETORA DE CAMBIO E VALORES MOBILIARIOS LTDA                                          </td><td>                                        </td></tr>\n",
       "<tr><td>             </td><td>    </td><td>              </td><td>        </td><td style=\"text-align: right;\">11547213000154</td><td>2024-05-23</td><td style=\"text-align: right;\">   11547213</td><td>                 </td><td>Administradora de Consórcio                       </td><td>Cancelada/Encerrada                      </td><td>ALMEIDA ADMINISTRACAO DE CONSORCIOS LTDA - IMPEDIDA CRIAR NOVOS GRUPOS                           </td><td>                                        </td></tr>\n",
       "<tr><td>             </td><td>    </td><td>              </td><td>        </td><td style=\"text-align: right;\">33756370000102</td><td>2024-05-23</td><td style=\"text-align: right;\">   33756370</td><td>                 </td><td>Sociedade Corretora de TVM                        </td><td>Cancelada/Encerrada                      </td><td>ARIJU S/A CORRETORA DE CAMBIO, TITULOS E VALORES MOBILIARIOS                                     </td><td>                                        </td></tr>\n",
       "<tr><td>             </td><td>    </td><td>              </td><td>        </td><td style=\"text-align: right;\">17338450000191</td><td>2024-05-23</td><td style=\"text-align: right;\">   17338450</td><td>                 </td><td>Sociedade Distribuidora de TVM                    </td><td>Regime Especial Encerrado                </td><td>ASTRA DISTRIBUIDORA DE TITULOS E VALORES MOBILIARIOS LTDA                                        </td><td>ASTRA DIST. TITLS. VALS. MOBILIARIOS LTD</td></tr>\n",
       "<tr><td>             </td><td>    </td><td>              </td><td>        </td><td style=\"text-align: right;\">38726063000100</td><td>2024-05-23</td><td style=\"text-align: right;\">   38726063</td><td>                 </td><td>Administradora de Consórcio                       </td><td>Cancelada/Encerrada                      </td><td>AUTO &amp; MOVEL CONSORCIOS LTDA                                                                     </td><td>                                        </td></tr>\n",
       "<tr><td>             </td><td>    </td><td>              </td><td>        </td><td style=\"text-align: right;\">15208309000149</td><td>2024-05-23</td><td style=\"text-align: right;\">   15208309</td><td>                 </td><td>Sociedade de Crédito, Financiamento e Investimento</td><td>Cancelada/Encerrada                      </td><td>BAHIA LUCRO S/A - CREDITO, FINANCIAMENTO E INVESTIMENTOS                                         </td><td>                                        </td></tr>\n",
       "<tr><td>             </td><td>    </td><td>              </td><td>        </td><td style=\"text-align: right;\">61415428000190</td><td>2024-05-23</td><td style=\"text-align: right;\">   61415428</td><td>                 </td><td>Banco Múltiplo                                    </td><td>Cancelada/Encerrada                      </td><td>BANCO DE TOKYO S.A.                                                                              </td><td>                                        </td></tr>\n",
       "<tr><td>             </td><td>    </td><td>              </td><td>        </td><td style=\"text-align: right;\">45666609000132</td><td>2024-05-23</td><td style=\"text-align: right;\">   45666609</td><td>                 </td><td>Banco Comercial Estrangeiro - Filial no país      </td><td>Cancelada/Encerrada                      </td><td>BANCO HISPANO AMERICANO S.A.                                                                     </td><td>                                        </td></tr>\n",
       "<tr><td>             </td><td>    </td><td>              </td><td>        </td><td style=\"text-align: right;\">60700556000465</td><td>2024-05-23</td><td style=\"text-align: right;\">   60700556</td><td>                 </td><td>Banco Múltiplo                                    </td><td>Cancelada/Encerrada                      </td><td>BANCO SANTANDER NOROESTE S.A.                                                                    </td><td>                                        </td></tr>\n",
       "<tr><td>             </td><td>    </td><td>              </td><td>        </td><td style=\"text-align: right;\">74419714000175</td><td>2024-05-23</td><td style=\"text-align: right;\">   74419714</td><td>                 </td><td>Banco de Investimento                             </td><td>Cancelada/Encerrada                      </td><td>BANCO SINTESE DE INVESTIMENTO S.A.                                                               </td><td>                                        </td></tr>\n",
       "<tr><td>             </td><td>    </td><td>              </td><td>        </td><td style=\"text-align: right;\">33801796000130</td><td>2024-05-23</td><td style=\"text-align: right;\">   33801796</td><td>                 </td><td>Banco de Investimento                             </td><td>Cancelada/Encerrada                      </td><td>BANERJ - BANCO DE INVESTIMENTOS S/A                                                              </td><td>                                        </td></tr>\n",
       "<tr><td>             </td><td>    </td><td>              </td><td>        </td><td style=\"text-align: right;\">59233502000105</td><td>2024-05-23</td><td style=\"text-align: right;\">   59233502</td><td>                 </td><td>Banco de Investimento                             </td><td>Cancelada/Encerrada                      </td><td>BBA-CREDITANSTALT BANCO DE INVESTIMENTO S/A                                                      </td><td>                                        </td></tr>\n",
       "<tr><td>             </td><td>    </td><td>              </td><td>        </td><td style=\"text-align: right;\">68327295000149</td><td>2024-05-23</td><td style=\"text-align: right;\">   68327295</td><td>                 </td><td>Administradora de Consórcio                       </td><td>Cancelada/Encerrada                      </td><td>BEMFACIL ADMINISTRADORA DE CONSORCIOS S/C LTDA                                                   </td><td>                                        </td></tr>\n",
       "<tr><td>             </td><td>    </td><td>              </td><td>        </td><td style=\"text-align: right;\">50603067000199</td><td>2024-05-23</td><td style=\"text-align: right;\">   50603067</td><td>                 </td><td>                                                  </td><td>Falta de integridade referencial na fonte</td><td>CARMOTO PARTICIPACOES E INTERMEDIACOES DE BENS MOVEIS LTDA                                       </td><td>CARMOTO                                 </td></tr>\n",
       "<tr><td>             </td><td>    </td><td>              </td><td>        </td><td style=\"text-align: right;\">21593744000137</td><td>2024-05-23</td><td style=\"text-align: right;\">   21593744</td><td>                 </td><td>Sociedade Distribuidora de TVM                    </td><td>Cancelada/Encerrada                      </td><td>CEDISVAL DISTRIBUIDORA DE TITULOS E VALORES MOBILIARIOS LTDA                                     </td><td>                                        </td></tr>\n",
       "<tr><td>             </td><td>    </td><td>              </td><td>        </td><td style=\"text-align: right;\">33858630000150</td><td>2024-05-23</td><td style=\"text-align: right;\">   33858630</td><td>                 </td><td>Sociedade Distribuidora de TVM                    </td><td>Cancelada/Encerrada                      </td><td>CEDRO DISTRIBUIDORA DE TÍTULOS E VALORES MOBILIÁRIOS LTDA                                        </td><td>                                        </td></tr>\n",
       "<tr><td>             </td><td>    </td><td>              </td><td>        </td><td style=\"text-align: right;\">61606976000105</td><td>2024-05-23</td><td style=\"text-align: right;\">   61606976</td><td>                 </td><td>                                                  </td><td>Falta de integridade referencial na fonte</td><td>CNDP PARTICIPACOES LTDA                                                                          </td><td>                                        </td></tr>\n",
       "<tr><td>             </td><td>    </td><td>              </td><td>        </td><td style=\"text-align: right;\">25693912000117</td><td>2024-05-23</td><td style=\"text-align: right;\">   25693912</td><td>                 </td><td>Administradora de Consórcio                       </td><td>Cancelada/Encerrada                      </td><td>CONSÓRCIO NORTE SUL LTDA - IMPEDIDA CRIAR NOVOS GRUPOS                                           </td><td>                                        </td></tr>\n",
       "<tr><td>             </td><td>    </td><td>              </td><td>        </td><td style=\"text-align: right;\">88655261000190</td><td>2024-05-23</td><td style=\"text-align: right;\">   88655261</td><td>                 </td><td>Sociedade Distribuidora de TVM                    </td><td>Cancelada/Encerrada                      </td><td>CONTE DISTRIBUIDORA DE TITULOS E VALORES MOBILIARIOS LTDA                                        </td><td>                                        </td></tr>\n",
       "<tr><td>             </td><td>    </td><td>              </td><td>        </td><td style=\"text-align: right;\">28952679000138</td><td>2024-05-23</td><td style=\"text-align: right;\">   28952679</td><td>                 </td><td>Cooperativa de Crédito                            </td><td>Cancelada/Encerrada                      </td><td>COOPERATIVA DE CREDITO DOS LAVRADORES DE CANA DE ACUCAR DO ESTADO DO RIO JANEIRO LTDA-COOPERCREDI</td><td>                                        </td></tr>\n",
       "<tr><td>             </td><td>    </td><td>              </td><td>        </td><td style=\"text-align: right;\">36904191000163</td><td>2024-05-23</td><td style=\"text-align: right;\">   36904191</td><td>                 </td><td>Cooperativa de Crédito                            </td><td>Cancelada/Encerrada                      </td><td>COOPERATIVA DE CREDITO RURAL DE ALTA FLORESTA LTDA.                                              </td><td>                                        </td></tr>\n",
       "<tr><td>             </td><td>    </td><td>              </td><td>        </td><td style=\"text-align: right;\">86739414000152</td><td>2024-05-23</td><td style=\"text-align: right;\">   86739414</td><td>                 </td><td>Cooperativa de Crédito                            </td><td>Cancelada/Encerrada                      </td><td>COOPERATIVA DE CREDITO RURAL DE DUQUE DE CAXIAS LTDA                                             </td><td>                                        </td></tr>\n",
       "<tr><td>             </td><td>    </td><td>              </td><td>        </td><td style=\"text-align: right;\">32470924000148</td><td>2024-05-23</td><td style=\"text-align: right;\">   32470924</td><td>                 </td><td>Cooperativa de Crédito                            </td><td>Cancelada/Encerrada                      </td><td>COOPERATIVA DE CREDITO RURAL DE ITAGUACU - SICOOB ITAGUACU                                       </td><td>                                        </td></tr>\n",
       "<tr><td>             </td><td>    </td><td>              </td><td>        </td><td style=\"text-align: right;\">36513018000134</td><td>2024-05-23</td><td style=\"text-align: right;\">   36513018</td><td>                 </td><td>Cooperativa de Crédito                            </td><td>Cancelada/Encerrada                      </td><td>COOPERATIVA DE CREDITO RURAL DE RESENDE LTDA                                                     </td><td>                                        </td></tr>\n",
       "<tr><td>             </td><td>    </td><td>              </td><td>        </td><td style=\"text-align: right;\">05003587000106</td><td>2024-05-23</td><td style=\"text-align: right;\">   05003587</td><td>                 </td><td>Cooperativa de Crédito                            </td><td>Cancelada/Encerrada                      </td><td>COOPERATIVA DE CREDITO RURAL DE SANTANA DO LIVRAMENTO LTDA                                       </td><td>                                        </td></tr>\n",
       "<tr><td>             </td><td>    </td><td>              </td><td>        </td><td style=\"text-align: right;\">26408153000166</td><td>2024-05-23</td><td style=\"text-align: right;\">   26408153</td><td>                 </td><td>Cooperativa de Crédito                            </td><td>Cancelada/Encerrada                      </td><td>COOPERATIVA DE CREDITO RURAL DE SIDROLANDIA LTDA                                                 </td><td>                                        </td></tr>\n",
       "<tr><td>             </td><td>    </td><td>              </td><td>        </td><td style=\"text-align: right;\">              </td><td>2024-05-23</td><td style=\"text-align: right;\">           </td><td>                 </td><td>Cooperativa de Crédito                            </td><td>Cancelada/Encerrada                      </td><td>COOPERATIVA DE CRÉDITO DOS FORNECEDORES/FUNCIONÁRIOS DA PREFEITURA MUNICIPAL DE PAULINIA         </td><td>                                        </td></tr>\n",
       "<tr><td>             </td><td>    </td><td>              </td><td>        </td><td style=\"text-align: right;\">09418427000189</td><td>2024-05-23</td><td style=\"text-align: right;\">   09418427</td><td>                 </td><td>Cooperativa de Crédito                            </td><td>Cancelada/Encerrada                      </td><td>COOPERATIVA DE CRÉDITO MÚTUO DOS SÓCIOS DA ASSOCIAÇÃO DOS CICLISTAS CEARENSES LTDA               </td><td>                                        </td></tr>\n",
       "<tr><td>             </td><td>    </td><td>              </td><td>        </td><td style=\"text-align: right;\">91692186000142</td><td>2024-05-23</td><td style=\"text-align: right;\">   91692186</td><td>                 </td><td>Cooperativa de Crédito                            </td><td>Cancelada/Encerrada                      </td><td>COOPERATIVA DE ECONOMIA E CREDITO MUTUO DOS EMPREGADOS DA FIRMA HAAS LTDA                        </td><td>                                        </td></tr>\n",
       "<tr><td>             </td><td>    </td><td>              </td><td>        </td><td style=\"text-align: right;\">14882179000162</td><td>2024-05-23</td><td style=\"text-align: right;\">   14882179</td><td>                 </td><td>Cooperativa de Crédito                            </td><td>Cancelada/Encerrada                      </td><td>COOPERATIVA DE ECONOMIA E CREDITO MUTUO DOS FUNCIONARIOS DAS EMPRESAS ITAU EM CORUMBA LTDA       </td><td>                                        </td></tr>\n",
       "</tbody>\n",
       "</table>"
      ],
      "text/plain": [
       "<IPython.core.display.HTML object>"
      ]
     },
     "metadata": {},
     "output_type": "display_data"
    },
    {
     "data": {
      "text/html": [
       "<table>\n",
       "<thead>\n",
       "<tr><th>instituicao                                                                     </th><th style=\"text-align: right;\">  tc</th><th>conglomerado                   </th><th style=\"text-align: right;\">  codigo</th><th style=\"text-align: right;\">          cnpj</th><th>data      </th><th style=\"text-align: right;\">  cnpj_raiz</th><th style=\"text-align: right;\">  codigo_sisbacen</th><th>nome_tipo_entidade                                         </th><th>descricao_situacao                       </th><th>nome_entidade                                                                   </th><th>nome_fantasia                                  </th></tr>\n",
       "</thead>\n",
       "<tbody>\n",
       "<tr><td>QUANTO NETWORK INSTITUICAO DE PAGAMENTO LTDA.                                   </td><td style=\"text-align: right;\">   2</td><td>QUANTO NETWORK IP - PRUDENCIAL </td><td style=\"text-align: right;\">42064545</td><td style=\"text-align: right;\">42064545000101</td><td>2024-05-23</td><td style=\"text-align: right;\">   42064545</td><td style=\"text-align: right;\">            00005</td><td>Instituição de Pagamento                                   </td><td>Autorizada em Atividade                  </td><td>QUANTO NETWORK INSTITUICAO DE PAGAMENTO LTDA.                                   </td><td>QUANTO                                         </td></tr>\n",
       "<tr><td>BLU INSTITUIÇÃO DE PAGAMENTO LTDA.                                              </td><td style=\"text-align: right;\">   2</td><td>BLU IP - PRUDENCIAL            </td><td style=\"text-align: right;\">10506341</td><td style=\"text-align: right;\">10506341000197</td><td>2024-05-23</td><td style=\"text-align: right;\">   10506341</td><td style=\"text-align: right;\">            00059</td><td>Instituição de Pagamento                                   </td><td>Autorizada em Atividade                  </td><td>BLU INSTITUIÇÃO DE PAGAMENTO LTDA.                                              </td><td>BLU IP                                         </td></tr>\n",
       "<tr><td>ZOOP TECNOLOGIA &amp; INSTITUICAO DE PAGAMENTO S.A.                                 </td><td style=\"text-align: right;\">   2</td><td>ZOOP TECNOLOGIA IP - PRUDENCIAL</td><td style=\"text-align: right;\">19468242</td><td style=\"text-align: right;\">19468242000213</td><td>2024-05-23</td><td style=\"text-align: right;\">   19468242</td><td style=\"text-align: right;\">            00137</td><td>Instituição de Pagamento                                   </td><td>Autorizada em Atividade                  </td><td>ZOOP TECNOLOGIA &amp; INSTITUICAO DE PAGAMENTO S.A.                                 </td><td>ZOOP TECNOLOGIA &amp; INSTITUIÇÃO DE PAGAMENTO S.A.</td></tr>\n",
       "<tr><td>BANCO BANERJ S.A.                                                               </td><td style=\"text-align: right;\">   2</td><td>ITAU                           </td><td style=\"text-align: right;\">33885724</td><td style=\"text-align: right;\">33885724000119</td><td>2024-05-23</td><td style=\"text-align: right;\">   33885724</td><td style=\"text-align: right;\">            04029</td><td>Banco Múltiplo                                             </td><td>Autorizada em Atividade                  </td><td>BANCO ITAÚ CONSIGNADO S.A.                                                      </td><td>BANCO ITAÚ CONSIGNADO S.A.                     </td></tr>\n",
       "<tr><td>BANCO ITAÚ BMG CONSIGNADO S.A.                                                  </td><td style=\"text-align: right;\">   2</td><td>ITAU                           </td><td style=\"text-align: right;\">33885724</td><td style=\"text-align: right;\">33885724000119</td><td>2024-05-23</td><td style=\"text-align: right;\">   33885724</td><td style=\"text-align: right;\">            04029</td><td>Banco Múltiplo                                             </td><td>Autorizada em Atividade                  </td><td>BANCO ITAÚ CONSIGNADO S.A.                                                      </td><td>BANCO ITAÚ CONSIGNADO S.A.                     </td></tr>\n",
       "<tr><td>UBS PACTUAL CORRETORA DE TÍTULOS E VALORES MOBILIÁRIOS S.A.                     </td><td style=\"text-align: right;\">   3</td><td>UBS PACTUAL                    </td><td style=\"text-align: right;\">43815158</td><td style=\"text-align: right;\">43815158000122</td><td>2024-05-23</td><td style=\"text-align: right;\">   43815158</td><td style=\"text-align: right;\">            05211</td><td>Sociedade Corretora de TVM                                 </td><td>Autorizada em Atividade                  </td><td>BTG PACTUAL CORRETORA DE TÍTULOS E VALORES MOBILIÁRIOS S.A.                     </td><td>BTG PACTUAL CTVM S.A.                          </td></tr>\n",
       "<tr><td>BTG PACTUAL CORRETORA DE TÍTULOS E VALORES MOBILIÁRIOS S.A.                     </td><td style=\"text-align: right;\">   2</td><td>BTG PACTUAL                    </td><td style=\"text-align: right;\">43815158</td><td style=\"text-align: right;\">43815158000122</td><td>2024-05-23</td><td style=\"text-align: right;\">   43815158</td><td style=\"text-align: right;\">            05211</td><td>Sociedade Corretora de TVM                                 </td><td>Autorizada em Atividade                  </td><td>BTG PACTUAL CORRETORA DE TÍTULOS E VALORES MOBILIÁRIOS S.A.                     </td><td>BTG PACTUAL CTVM S.A.                          </td></tr>\n",
       "<tr><td>BANCO GE CAPITAL S.A.                                                           </td><td style=\"text-align: right;\">   2</td><td>BMG                            </td><td style=\"text-align: right;\">62421979</td><td style=\"text-align: right;\">62421979000129</td><td>2024-05-23</td><td style=\"text-align: right;\">   62421979</td><td style=\"text-align: right;\">            05233</td><td>Banco Múltiplo                                             </td><td>Autorizada em Atividade                  </td><td>BANCO CIFRA S.A.                                                                </td><td>BANCO CIFRA                                    </td></tr>\n",
       "<tr><td>BANCO LETSBANK S.A.                                                             </td><td style=\"text-align: right;\">   2</td><td>BANCO VOITER - PRUDENCIAL      </td><td style=\"text-align: right;\">58497702</td><td style=\"text-align: right;\">58497702000102</td><td>2024-05-23</td><td style=\"text-align: right;\">   58497702</td><td style=\"text-align: right;\">            05630</td><td>Banco Múltiplo                                             </td><td>Autorizada em Atividade                  </td><td>BANCO LETSBANK S.A.                                                             </td><td>LETSBANK                                       </td></tr>\n",
       "<tr><td>BANCO ITAUBANK S.A.                                                             </td><td style=\"text-align: right;\">   2</td><td>ITAU - PRUDENCIAL              </td><td style=\"text-align: right;\">60394079</td><td style=\"text-align: right;\">60394079000104</td><td>2024-05-23</td><td style=\"text-align: right;\">   60394079</td><td style=\"text-align: right;\">            06479</td><td>Banco Múltiplo                                             </td><td>Autorizada em Atividade                  </td><td>BANCO ITAUBANK S.A.                                                             </td><td>ITAUBANK                                       </td></tr>\n",
       "<tr><td>COMPANHIA AMERICA DO SUL DE ARRENDAMENTO MERCANTIL                              </td><td style=\"text-align: right;\">   3</td><td>SUDAMERIS                      </td><td style=\"text-align: right;\">62307848</td><td style=\"text-align: right;\">62307848000115</td><td>2024-05-23</td><td style=\"text-align: right;\">   62307848</td><td style=\"text-align: right;\">            08336</td><td>Banco Múltiplo                                             </td><td>Autorizada em Atividade                  </td><td>BANCO RCI BRASIL S.A.                                                           </td><td>MOBILIZE FINANCIAL SERVICES                    </td></tr>\n",
       "<tr><td>J&amp;F DISTRIBUIDORA DE TÍTULOS E VALORES MOBILIÁRIOS LTDA                         </td><td style=\"text-align: right;\">   2</td><td>BANCO ORIGINAL - PRUDENCIAL    </td><td style=\"text-align: right;\">07138049</td><td style=\"text-align: right;\">07138049000154</td><td>2024-05-23</td><td style=\"text-align: right;\">   07138049</td><td style=\"text-align: right;\">            12261</td><td>Sociedade Distribuidora de TVM                             </td><td>Autorizada em Atividade                  </td><td>PICPAY INVEST DISTRIBUIDORA DE TÍTULOS E VALORES MOBILIÁRIOS LTDA               </td><td>PICPAY INVEST                                  </td></tr>\n",
       "<tr><td>SANTANDER ASSET MANAGEMENT DISTRIBUIDORA DE TÍTULOS E VALORES MOBILIÁRIOS LTDA. </td><td style=\"text-align: right;\">   3</td><td>SANTANDER BANESPA              </td><td style=\"text-align: right;\">73159642</td><td style=\"text-align: right;\">73159642000101</td><td>2024-05-23</td><td style=\"text-align: right;\">   73159642</td><td style=\"text-align: right;\">            24475</td><td>Sociedade Distribuidora de TVM                             </td><td>Cancelada/Encerrada                      </td><td>SANTANDER ASSET MANAGEMENT DISTRIBUIDORA DE TÍTULOS E VALORES MOBILIÁRIOS LTDA. </td><td>SANTANDER BANESPA                              </td></tr>\n",
       "<tr><td>WESTERN UNION CORRETORA DE CÂMBIO S.A.                                          </td><td style=\"text-align: right;\">   3</td><td>WESTERN UNION - PRUDENCIAL     </td><td style=\"text-align: right;\">13728156</td><td style=\"text-align: right;\">13728156009515</td><td>2024-05-23</td><td style=\"text-align: right;\">   13728156</td><td style=\"text-align: right;\">            28996</td><td>Sociedade Corretora de Câmbio                              </td><td>Autorizada em Atividade                  </td><td>WESTERN UNION CORRETORA DE CÂMBIO S.A.                                          </td><td>WESTERN UNION CORRETORA                        </td></tr>\n",
       "<tr><td>BANCO LOSANGO S.A. - BANCO MÚLTIPLO                                             </td><td style=\"text-align: right;\">   3</td><td>HSBC                           </td><td style=\"text-align: right;\">33254319</td><td style=\"text-align: right;\">33254319008420</td><td>2024-05-23</td><td style=\"text-align: right;\">   33254319</td><td style=\"text-align: right;\">            31168</td><td>Banco Múltiplo                                             </td><td>Autorizada em Atividade                  </td><td>BANCO LOSANGO S.A. - BANCO MÚLTIPLO                                             </td><td>BANCO LOSANGO S.A.                             </td></tr>\n",
       "<tr><td>BANCO OURINVEST S.A.                                                            </td><td style=\"text-align: right;\">   2</td><td>OURINVEST                      </td><td style=\"text-align: right;\">78632767</td><td style=\"text-align: right;\">78632767000120</td><td>2024-05-23</td><td style=\"text-align: right;\">   78632767</td><td style=\"text-align: right;\">            31712</td><td>Banco Múltiplo                                             </td><td>Autorizada em Atividade                  </td><td>BANCO OURINVEST S.A.                                                            </td><td>OURIBANK                                       </td></tr>\n",
       "<tr><td>COINVALORES DISTRIBUIDORA DE TÍTULOS E VALORES MOBILIÁRIOS LTDA                 </td><td style=\"text-align: right;\">   2</td><td>COINVALORES                    </td><td style=\"text-align: right;\">59148775</td><td style=\"text-align: right;\">59148775000151</td><td>2024-05-23</td><td style=\"text-align: right;\">   59148775</td><td style=\"text-align: right;\">            37096</td><td>Administradora de Fundos não sujeita a autorização pelo BCB</td><td>Falta de integridade referencial na fonte</td><td>COINVEST SERVICOS E NEGOCIOS LTDA.                                              </td><td>COINVEST EMPREENDIMENTOS                       </td></tr>\n",
       "<tr><td>FRIZZO PECUNIA - DISTRIBUIDORA DE TÍTULOS E VALORES MOBILIÁRIOS LTDA.           </td><td style=\"text-align: right;\">   2</td><td>PECUNIA                        </td><td style=\"text-align: right;\">62264924</td><td style=\"text-align: right;\">62264924000152</td><td>2024-05-23</td><td style=\"text-align: right;\">   62264924</td><td style=\"text-align: right;\">            37541</td><td>Sociedade Distribuidora de TVM                             </td><td>Autorizada em Atividade                  </td><td>CP &amp; FRIZZO - DISTRIBUIDORA DE TÍTULOS E VALORES MOBILIÁRIOS LTDA               </td><td>CP &amp; FRIZZO - DTVM LTDA                        </td></tr>\n",
       "<tr><td>BTG PACTUAL ASSET MANAGEMENT S.A. DISTRIBUIDORA DE TÍTULOS E VALORES MOBILIÁRIOS</td><td style=\"text-align: right;\">   2</td><td>BTG PACTUAL                    </td><td style=\"text-align: right;\">29650082</td><td style=\"text-align: right;\">29650082000363</td><td>2024-05-23</td><td style=\"text-align: right;\">   29650082</td><td style=\"text-align: right;\">            37811</td><td>Sociedade Distribuidora de TVM                             </td><td>Autorizada em Atividade                  </td><td>BTG PACTUAL ASSET MANAGEMENT S.A. DISTRIBUIDORA DE TÍTULOS E VALORES MOBILIÁRIOS</td><td>BTG PACTUAL ASSET MANAGEMENT S.A. DTVM         </td></tr>\n",
       "<tr><td>PACTUAL S.A.-DISTRIBUIDORA DE TITULOS E VALORES MOBILIARIOS                     </td><td style=\"text-align: right;\">   2</td><td>PACTUAL                        </td><td style=\"text-align: right;\">29650082</td><td style=\"text-align: right;\">29650082000363</td><td>2024-05-23</td><td style=\"text-align: right;\">   29650082</td><td style=\"text-align: right;\">            37811</td><td>Sociedade Distribuidora de TVM                             </td><td>Autorizada em Atividade                  </td><td>BTG PACTUAL ASSET MANAGEMENT S.A. DISTRIBUIDORA DE TÍTULOS E VALORES MOBILIÁRIOS</td><td>BTG PACTUAL ASSET MANAGEMENT S.A. DTVM         </td></tr>\n",
       "<tr><td>BANCO OLÉ CONSIGNADO S.A.                                                       </td><td style=\"text-align: right;\">   3</td><td>SANTANDER                      </td><td style=\"text-align: right;\">71371686</td><td style=\"text-align: right;\">71371686000175</td><td>2024-05-23</td><td style=\"text-align: right;\">   71371686</td><td style=\"text-align: right;\">            38022</td><td>Banco Múltiplo                                             </td><td>Cancelada/Encerrada                      </td><td>BANCO OLÉ CONSIGNADO S.A.                                                       </td><td>OLÉ CONSIGNADO                                 </td></tr>\n",
       "<tr><td>BMP SOCIEDADE DE CRÉDITO DIRETO S.A                                             </td><td style=\"text-align: right;\">   2</td><td>BMP SCMEPP LTDA - PRUDENCIAL   </td><td style=\"text-align: right;\">34337707</td><td style=\"text-align: right;\">34337707000100</td><td>2024-05-23</td><td style=\"text-align: right;\">   34337707</td><td style=\"text-align: right;\">            42687</td><td>Sociedade de Crédito Direto                                </td><td>Autorizada em Atividade                  </td><td>BMP SOCIEDADE DE CRÉDITO DIRETO S.A                                             </td><td>BMP                                            </td></tr>\n",
       "<tr><td>DMCARD SOCIEDADE DE CRÉDITO DIRETO S.A.                                         </td><td style=\"text-align: right;\">   2</td><td>DMCARD SCD - PRUDENCIAL        </td><td style=\"text-align: right;\">37555231</td><td style=\"text-align: right;\">37555231000171</td><td>2024-05-23</td><td style=\"text-align: right;\">   37555231</td><td style=\"text-align: right;\">            42823</td><td>Sociedade de Crédito Direto                                </td><td>Autorizada em Atividade                  </td><td>DM SOCIEDADE DE CRÉDITO DIRETO S.A.                                             </td><td>DM                                             </td></tr>\n",
       "<tr><td>ADIQ SOLUCOES DE PAGAMENTO S.A.                                                 </td><td style=\"text-align: right;\">   2</td><td>BS2 - PRUDENCIAL               </td><td style=\"text-align: right;\">20520298</td><td style=\"text-align: right;\">20520298000178</td><td>2024-05-23</td><td style=\"text-align: right;\">   20520298</td><td style=\"text-align: right;\">            42872</td><td>Instituição de Pagamento                                   </td><td>Autorizada em Atividade                  </td><td>ADIQ INSTITUIÇÃO DE PAGAMENTO S.A.                                              </td><td>ADIQ SOLUÇÕES DE PAGAMENTO                     </td></tr>\n",
       "<tr><td>CREDIFIT SOCIEDADE DE CRÉDITO DIRETO S.A.                                       </td><td style=\"text-align: right;\">   2</td><td>CREDIFIT SCD - PRUDENCIAL      </td><td style=\"text-align: right;\">39676772</td><td style=\"text-align: right;\">39676772000183</td><td>2024-05-23</td><td style=\"text-align: right;\">   39676772</td><td style=\"text-align: right;\">            42935</td><td>Sociedade de Crédito Direto                                </td><td>Autorizada em Atividade                  </td><td>CREDIFIT SOCIEDADE DE CRÉDITO DIRETO S.A.                                       </td><td>CREDIFIT                                       </td></tr>\n",
       "<tr><td>QISTA S.A. - CRÉDITO, FINANCIAMENTO E INVESTIMENTO                              </td><td style=\"text-align: right;\">   2</td><td>QISTA S.A. CFI - PRUDENCIAL    </td><td style=\"text-align: right;\">36583700</td><td style=\"text-align: right;\">36583700000101</td><td>2024-05-23</td><td style=\"text-align: right;\">   36583700</td><td style=\"text-align: right;\">            43205</td><td>Sociedade de Crédito, Financiamento e Investimento         </td><td>Autorizada em Atividade                  </td><td>QISTA S.A. - CRÉDITO, FINANCIAMENTO E INVESTIMENTO                              </td><td>QISTA                                          </td></tr>\n",
       "<tr><td>INTER AMERICAN EXPRESS ARRENDAMENTO MERCANTIL S.A.                              </td><td style=\"text-align: right;\">   3</td><td>INTER AMEX                     </td><td style=\"text-align: right;\">27098060</td><td style=\"text-align: right;\">27098060000145</td><td>2024-05-23</td><td style=\"text-align: right;\">   27098060</td><td style=\"text-align: right;\">            53049</td><td>Banco Múltiplo                                             </td><td>Autorizada em Atividade                  </td><td>BANCO DIGIO S.A.                                                                </td><td>BANCO CBSS                                     </td></tr>\n",
       "<tr><td>CCB BRASIL ARRENDAMENTO MERCANTIL S/A.                                          </td><td style=\"text-align: right;\">   3</td><td>CCB - PRUDENCIAL               </td><td style=\"text-align: right;\">69720910</td><td style=\"text-align: right;\">69720910000145</td><td>2024-05-23</td><td style=\"text-align: right;\">   69720910</td><td style=\"text-align: right;\">            53124</td><td>Sociedade de Arrendamento Mercantil                        </td><td>Autorizada em Atividade                  </td><td>CCB BRASIL ARRENDAMENTO MERCANTIL S/A.                                          </td><td>CCB LEASING                                    </td></tr>\n",
       "<tr><td>FATOR S/A - CORRETORA DE VALORES                                                </td><td style=\"text-align: right;\">   2</td><td>FATOR                          </td><td style=\"text-align: right;\">63062749</td><td style=\"text-align: right;\">63062749000183</td><td>2024-05-23</td><td style=\"text-align: right;\">   63062749</td><td style=\"text-align: right;\">            57095</td><td>Sociedade Corretora de TVM                                 </td><td>Autorizada em Atividade                  </td><td>FXC CORRETORA DE VALORES S.A.                                                   </td><td>FXC CV S.A.                                    </td></tr>\n",
       "<tr><td>FXC CORRETORA DE VALORES S.A.                                                   </td><td style=\"text-align: right;\">   2</td><td>BTG PACTUAL - PRUDENCIAL       </td><td style=\"text-align: right;\">63062749</td><td style=\"text-align: right;\">63062749000183</td><td>2024-05-23</td><td style=\"text-align: right;\">   63062749</td><td style=\"text-align: right;\">            57095</td><td>Sociedade Corretora de TVM                                 </td><td>Autorizada em Atividade                  </td><td>FXC CORRETORA DE VALORES S.A.                                                   </td><td>FXC CV S.A.                                    </td></tr>\n",
       "</tbody>\n",
       "</table>"
      ],
      "text/plain": [
       "<IPython.core.display.HTML object>"
      ]
     },
     "metadata": {},
     "output_type": "display_data"
    }
   ],
   "source": [
    "sample_only_demonstracao_result = only_demonstracao_result.sample(False, 0.1).limit(30)\n",
    "\n",
    "tb_only_demonstracao_result = tabulate(only_demonstracao_result.collect(), headers=only_demonstracao_result.columns, tablefmt='html')\n",
    "\n",
    "sample_only_info_cadastral = only_info_cadastral.sample(False, 0.1).limit(30)\n",
    "\n",
    "tb_only_info_cadastral = tabulate(sample_only_info_cadastral.collect(), headers=sample_only_info_cadastral.columns, tablefmt='html')\n",
    "\n",
    "sample_intersecao =intersecao.sample(False, 0.1).limit(30)\n",
    "\n",
    "tb_intersecao = tabulate(sample_intersecao.collect(), headers=sample_intersecao.columns, tablefmt='html')\n",
    "\n",
    "display(HTML(tb_only_demonstracao_result))\n",
    "display(HTML(tb_only_info_cadastral))\n",
    "display(HTML(tb_intersecao))\n",
    "\n"
   ]
  },
  {
   "cell_type": "code",
   "execution_count": 13,
   "id": "596c374b-e32d-4fc4-bac1-28f7b7576005",
   "metadata": {
    "scrolled": true
   },
   "outputs": [
    {
     "name": "stdout",
     "output_type": "stream",
     "text": [
      "root\n",
      " |-- instituicao: string (nullable = true)\n",
      " |-- tc: string (nullable = true)\n",
      " |-- conglomerado: string (nullable = true)\n",
      " |-- codigo: string (nullable = true)\n",
      " |-- cnpj: string (nullable = true)\n",
      " |-- data: string (nullable = true)\n",
      " |-- cnpj_raiz: string (nullable = true)\n",
      " |-- codigo_sisbacen: string (nullable = true)\n",
      " |-- nome_tipo_entidade: string (nullable = true)\n",
      " |-- descricao_situacao: string (nullable = true)\n",
      " |-- nome_entidade: string (nullable = true)\n",
      " |-- nome_fantasia: string (nullable = true)\n",
      "\n"
     ]
    },
    {
     "name": "stderr",
     "output_type": "stream",
     "text": [
      "24/07/18 17:15:04 WARN TaskSetManager: Stage 110 contains a task of very large size (12111 KiB). The maximum recommended task size is 1000 KiB.\n",
      "24/07/18 17:15:04 WARN TaskSetManager: Stage 111 contains a task of very large size (11648 KiB). The maximum recommended task size is 1000 KiB.\n",
      "                                                                                \r"
     ]
    },
    {
     "data": {
      "text/html": [
       "<table>\n",
       "<thead>\n",
       "<tr><th>instituicao                                                                            </th><th style=\"text-align: right;\">  tc</th><th>conglomerado                                   </th><th style=\"text-align: right;\">  codigo</th><th style=\"text-align: right;\">          cnpj</th><th>data      </th><th style=\"text-align: right;\">  cnpj_raiz</th><th style=\"text-align: right;\">  codigo_sisbacen</th><th>nome_tipo_entidade                                         </th><th>descricao_situacao                       </th><th>nome_entidade                                                                         </th><th>nome_fantasia                           </th></tr>\n",
       "</thead>\n",
       "<tbody>\n",
       "<tr><td>CATERPILLAR FINANCIAL S.A. ARRENDAMENTO MERCANTIL                                      </td><td style=\"text-align: right;\">   3</td><td>CATERPILLAR                                    </td><td style=\"text-align: right;\">02658435</td><td style=\"text-align: right;\">02658435000153</td><td>2024-05-23</td><td style=\"text-align: right;\">   02658435</td><td style=\"text-align: right;\">            53154</td><td>Banco Múltiplo                                             </td><td>Autorizada em Atividade                  </td><td>BANCO CATERPILLAR S.A.                                                                </td><td>BANCO CATERPILLAR S.A.                  </td></tr>\n",
       "<tr><td>BANCO PRIME DE INVESTIMENTO S.A.                                                       </td><td style=\"text-align: right;\">   2</td><td>PRIME                                          </td><td style=\"text-align: right;\">45246410</td><td style=\"text-align: right;\">45246410000155</td><td>2024-05-23</td><td style=\"text-align: right;\">   45246410</td><td style=\"text-align: right;\">            31710</td><td>Banco Múltiplo                                             </td><td>Autorizada em Atividade                  </td><td>BANCO GENIAL S.A.                                                                     </td><td>PLURAL BANCO                            </td></tr>\n",
       "<tr><td>CM CAPITAL MARKETS CORRETORA DE CAMBIO LTDA                                            </td><td style=\"text-align: right;\">   3</td><td>CM CAPITAL MARKETS                             </td><td style=\"text-align: right;\">02671743</td><td style=\"text-align: right;\">02671743000119</td><td>2024-06-12</td><td style=\"text-align: right;\">   02671743</td><td style=\"text-align: right;\">            57538</td><td>Sociedade Distribuidora de TVM                             </td><td>Autorizada em Atividade                  </td><td>BANVOX DISTRIBUIDORA DE TÍTULOS E VALORES MOBILIÁRIOS LTDA                            </td><td>BANVOX DTVM                             </td></tr>\n",
       "<tr><td>BANCO FINAXIS S.A.                                                                     </td><td style=\"text-align: right;\">   2</td><td>FINAXIS - PRUDENCIAL                           </td><td style=\"text-align: right;\">11758741</td><td style=\"text-align: right;\">11758741000152</td><td>2024-05-23</td><td style=\"text-align: right;\">   11758741</td><td style=\"text-align: right;\">            27731</td><td>Banco Comercial                                            </td><td>Autorizada em Atividade                  </td><td>BANCO FINAXIS S.A.                                                                    </td><td>BANCO FINAXIS S.A.                      </td></tr>\n",
       "<tr><td>BANCO INDUSVAL S.A.                                                                    </td><td style=\"text-align: right;\">   2</td><td>INDUSVAL                                       </td><td style=\"text-align: right;\">61024352</td><td style=\"text-align: right;\">61024352000171</td><td>2024-05-23</td><td style=\"text-align: right;\">   61024352</td><td style=\"text-align: right;\">            05653</td><td>Banco Múltiplo                                             </td><td>Autorizada em Atividade                  </td><td>BANCO VOITER S.A.                                                                     </td><td>VOITER                                  </td></tr>\n",
       "<tr><td>BANKPAR BANCO MÚLTIPLO S.A.                                                            </td><td style=\"text-align: right;\">   2</td><td>BRADESCO                                       </td><td style=\"text-align: right;\">59438325</td><td style=\"text-align: right;\">59438325000101</td><td>2024-05-23</td><td style=\"text-align: right;\">   59438325</td><td style=\"text-align: right;\">            07204</td><td>Banco Múltiplo                                             </td><td>Cancelada/Encerrada                      </td><td>BANCO BRADESCO CARTÕES S.A.                                                           </td><td>BRADESCO CARTÕES                        </td></tr>\n",
       "<tr><td>STONE SOCIEDADE DE CRÉDITO DIRETO S.A.                                                 </td><td style=\"text-align: right;\">   2</td><td>STONE PAGAMENTOS - PRUDENCIAL                  </td><td style=\"text-align: right;\">34590184</td><td style=\"text-align: right;\">34590184000109</td><td>2024-05-23</td><td style=\"text-align: right;\">   34590184</td><td style=\"text-align: right;\">            42504</td><td>Sociedade de Crédito Direto                                </td><td>Autorizada em Atividade                  </td><td>STONE SOCIEDADE DE CRÉDITO DIRETO S.A.                                                </td><td>STONE SCD                               </td></tr>\n",
       "<tr><td>SAFRA DISTRIBUIDORA DE TITULOS E VALORES MOBILIARIOS LTDA                              </td><td style=\"text-align: right;\">   2</td><td>SAFRA                                          </td><td style=\"text-align: right;\">62180047</td><td style=\"text-align: right;\">62180047000131</td><td>2024-05-23</td><td style=\"text-align: right;\">   62180047</td><td style=\"text-align: right;\">            37383</td><td>Sociedade Distribuidora de TVM                             </td><td>Cancelada/Encerrada                      </td><td>SAFRA ASSET MANAGEMENT LTDA                                                           </td><td>SAFRA ASSET MANAGEMENT                  </td></tr>\n",
       "<tr><td>M18 INSTITUIÇÃO DE PAGAMENTO S.A.                                                      </td><td style=\"text-align: right;\">   2</td><td>M18 IP - PRUDENCIAL                            </td><td style=\"text-align: right;\">22575466</td><td style=\"text-align: right;\">22575466000158</td><td>2024-05-23</td><td style=\"text-align: right;\">   22575466</td><td style=\"text-align: right;\">            41921</td><td>Instituição de Pagamento                                   </td><td>Autorizada em Atividade                  </td><td>SRM BANK INSTITUIÇÃO DE PAGAMENTO S/A                                                 </td><td>SRM BANK                                </td></tr>\n",
       "<tr><td>SANTANDER SECURITIES (BRASIL)CORRETORA DE VALORES MOBILIÁRIOS S.A.                     </td><td style=\"text-align: right;\">   3</td><td>SANTANDER                                      </td><td style=\"text-align: right;\">61733515</td><td style=\"text-align: right;\">61733515000195</td><td>2024-05-23</td><td style=\"text-align: right;\">   61733515</td><td style=\"text-align: right;\">            57054</td><td>Sociedade Corretora de TVM                                 </td><td>Cancelada/Encerrada                      </td><td>SANTANDER SECURITIES (BRASIL)CORRETORA DE VALORES MOBILIÁRIOS S.A.                    </td><td>SANTANDER SECURITIES CVM                </td></tr>\n",
       "<tr><td>BANCO PSA FINANCE BRASIL S.A.                                                          </td><td style=\"text-align: right;\">   3</td><td>SANTANDER                                      </td><td style=\"text-align: right;\">03502961</td><td style=\"text-align: right;\">03502961000192</td><td>2024-05-23</td><td style=\"text-align: right;\">   03502961</td><td style=\"text-align: right;\">            10567</td><td>Sociedade de Crédito, Financiamento e Investimento         </td><td>Autorizada em Atividade                  </td><td>STELLANTIS FINANCIAMENTOS SOCIEDADE DE CRÉDITO, FINANCIAMENTO E INVESTIMENTO S.A      </td><td>STELLANTIS FINANCIAMENTOS               </td></tr>\n",
       "<tr><td>OZ CORRETORA DE CÂMBIO S.A.                                                            </td><td style=\"text-align: right;\">   2</td><td>OZ CC - PRUDENCIAL                             </td><td style=\"text-align: right;\">04062902</td><td style=\"text-align: right;\">04062902000103</td><td>2024-05-23</td><td style=\"text-align: right;\">   04062902</td><td style=\"text-align: right;\">            12407</td><td>Sociedade Corretora de Câmbio                              </td><td>Autorizada em Atividade                  </td><td>OZ CORRETORA DE CÂMBIO S.A.                                                           </td><td>OZ CÂMBIO                               </td></tr>\n",
       "<tr><td>FISERV DO BRASIL  INSTITUIÇÃO DE PAGAMENTO LTDA                                        </td><td style=\"text-align: right;\">   2</td><td>FISERV DO BRASIL IP - PRUDENCIAL               </td><td style=\"text-align: right;\">04962772</td><td style=\"text-align: right;\">04962772000165</td><td>2024-05-23</td><td style=\"text-align: right;\">   04962772</td><td style=\"text-align: right;\">            00042</td><td>Instituição de Pagamento                                   </td><td>Autorizada em Atividade                  </td><td>FISERV DO BRASIL  INSTITUIÇÃO DE PAGAMENTO LTDA                                       </td><td>FISERV                                  </td></tr>\n",
       "<tr><td>LECCA DISTRIBUIDORA DE TITULOS E VALORES MOBILIARIOS LTDA                              </td><td style=\"text-align: right;\">   2</td><td>LECCA                                          </td><td style=\"text-align: right;\">07138049</td><td style=\"text-align: right;\">07138049000154</td><td>2024-05-23</td><td style=\"text-align: right;\">   07138049</td><td style=\"text-align: right;\">            12261</td><td>Sociedade Distribuidora de TVM                             </td><td>Autorizada em Atividade                  </td><td>PICPAY INVEST DISTRIBUIDORA DE TÍTULOS E VALORES MOBILIÁRIOS LTDA                     </td><td>PICPAY INVEST                           </td></tr>\n",
       "<tr><td>TYCOON TECHNOLOGY INSTITUICAO DE PAGAMENTO S.A                                         </td><td style=\"text-align: right;\">   2</td><td>TYCOON TECHNOLOGY IP - PRUDENCIAL              </td><td style=\"text-align: right;\">26615279</td><td style=\"text-align: right;\">26615279000101</td><td>2024-05-23</td><td style=\"text-align: right;\">   26615279</td><td style=\"text-align: right;\">            00124</td><td>Instituição de Pagamento                                   </td><td>Autorizada em Atividade                  </td><td>TYCOON TECHNOLOGY INSTITUICAO DE PAGAMENTO S.A                                        </td><td>ZEIT                                    </td></tr>\n",
       "<tr><td>NU FINANCEIRA S.A. - SOCIEDADE DE CRÉDITO, FINANCIAMENTO E INVESTIMENTO                </td><td style=\"text-align: right;\">   2</td><td>NU PAGAMENTOS - PRUDENCIAL                     </td><td style=\"text-align: right;\">30680829</td><td style=\"text-align: right;\">30680829000143</td><td>2024-05-23</td><td style=\"text-align: right;\">   30680829</td><td style=\"text-align: right;\">            41593</td><td>Sociedade de Crédito, Financiamento e Investimento         </td><td>Autorizada em Atividade                  </td><td>NU FINANCEIRA S.A. - SOCIEDADE DE CRÉDITO, FINANCIAMENTO E INVESTIMENTO               </td><td>NUBANK                                  </td></tr>\n",
       "<tr><td>HARMONIA DISTRIBUIDORA DE TÍTULOS E VALORES MOBILIÁRIOS S.A.                           </td><td style=\"text-align: right;\">   2</td><td>GREEN ALTERNATIVE INVESTMENTS DTVM - PRUDENCIAL</td><td style=\"text-align: right;\">37800856</td><td style=\"text-align: right;\">37800856000151</td><td>2024-05-23</td><td style=\"text-align: right;\">   37800856</td><td style=\"text-align: right;\">            43383</td><td>Sociedade Distribuidora de TVM                             </td><td>Autorizada em Atividade                  </td><td>GREEN ALTERNATIVE INVESTMENTS DISTRIBUIDORA DE TÍTULOS E VALORES MOBILIÁRIOS S.A.     </td><td>GREEN ALTERNATIVE INVESTMENTS DTVM S.A. </td></tr>\n",
       "<tr><td>ACG INSTITUIÇÃO DE PAGAMENTO S.A.                                                      </td><td style=\"text-align: right;\">   2</td><td>ACG IP - PRUDENCIAL                            </td><td style=\"text-align: right;\">10868663</td><td style=\"text-align: right;\">10868663000186</td><td>2024-05-23</td><td style=\"text-align: right;\">   10868663</td><td style=\"text-align: right;\">            00012</td><td>Instituição de Pagamento                                   </td><td>Autorizada em Atividade                  </td><td>ACG INSTITUIÇÃO DE PAGAMENTO S.A.                                                     </td><td>ACG ADMINISTRADORA DE CARTÕES S/A       </td></tr>\n",
       "<tr><td>BANCO BANERJ S.A.                                                                      </td><td style=\"text-align: right;\">   2</td><td>ITAU                                           </td><td style=\"text-align: right;\">33885724</td><td style=\"text-align: right;\">33885724000119</td><td>2024-05-23</td><td style=\"text-align: right;\">   33885724</td><td style=\"text-align: right;\">            04029</td><td>Banco Múltiplo                                             </td><td>Autorizada em Atividade                  </td><td>BANCO ITAÚ CONSIGNADO S.A.                                                            </td><td>BANCO ITAÚ CONSIGNADO S.A.              </td></tr>\n",
       "<tr><td>CCB BRASIL ARRENDAMENTO MERCANTIL S/A                                                  </td><td style=\"text-align: right;\">   3</td><td>CCB - PRUDENCIAL                               </td><td style=\"text-align: right;\">69720910</td><td style=\"text-align: right;\">69720910000145</td><td>2024-05-23</td><td style=\"text-align: right;\">   69720910</td><td style=\"text-align: right;\">            53124</td><td>Sociedade de Arrendamento Mercantil                        </td><td>Autorizada em Atividade                  </td><td>CCB BRASIL ARRENDAMENTO MERCANTIL S/A.                                                </td><td>CCB LEASING                             </td></tr>\n",
       "<tr><td>ESPÍRITO SANTO SERVIÇOS FINANCEIROS DISTRIBUIDORA DE TÍTULOS E VALORES MOBILIÁRIOS S.A.</td><td style=\"text-align: right;\">   3</td><td>BES                                            </td><td style=\"text-align: right;\">11406965</td><td style=\"text-align: right;\">11406965000103</td><td>2024-05-23</td><td style=\"text-align: right;\">   11406965</td><td style=\"text-align: right;\">            27703</td><td>Sociedade Distribuidora de TVM                             </td><td>Autorizada em Atividade                  </td><td>HAITONG DO BRASIL DISTRIBUIDORA DE TÍTULOS E VALORES MOBILIÁRIOS S.A.                 </td><td>ESPÍRITO SANTO SERVIÇOS FINANCEIROS DTVM</td></tr>\n",
       "<tr><td>NEON CORRETORA DE TÍTULOS E VALORES MOBILIÁRIOS S.A.                                   </td><td style=\"text-align: right;\">   2</td><td>NEON PAGAMENTOS IP - PRUDENCIAL                </td><td style=\"text-align: right;\">61723847</td><td style=\"text-align: right;\">61723847000199</td><td>2024-05-23</td><td style=\"text-align: right;\">   61723847</td><td style=\"text-align: right;\">            57161</td><td>Sociedade Corretora de TVM                                 </td><td>Autorizada em Atividade                  </td><td>NEON CORRETORA DE TÍTULOS E VALORES MOBILIÁRIOS S.A.                                  </td><td>MAGLIANO                                </td></tr>\n",
       "<tr><td>TRINUS CAPITAL DISTRIBUIDORA DE TÍTULOS E VALORES MOBILIÁRIOS S.A.                     </td><td style=\"text-align: right;\">   2</td><td>TRINUS CAPITAL DTVM - PRUDENCIAL               </td><td style=\"text-align: right;\">02276653</td><td style=\"text-align: right;\">02276653000123</td><td>2024-05-23</td><td style=\"text-align: right;\">   02276653</td><td style=\"text-align: right;\">            24072</td><td>Sociedade Distribuidora de TVM                             </td><td>Autorizada em Atividade                  </td><td>TRINUS CAPITAL DISTRIBUIDORA DE TÍTULOS E VALORES MOBILIÁRIOS S.A.                    </td><td>BAHIA DTVM                              </td></tr>\n",
       "<tr><td>ASPECIR - SOCIEDADE DE CRÉDITO AO MICROEMPREENDEDOR E À EMPRESA DE PEQUENO PORTE LTDA. </td><td style=\"text-align: right;\">   2</td><td>ASPECIR SCMEPP LTDA. - PRUDENCIAL              </td><td style=\"text-align: right;\">05289612</td><td style=\"text-align: right;\">05289612000160</td><td>2024-05-23</td><td style=\"text-align: right;\">   05289612</td><td style=\"text-align: right;\">            16688</td><td>Sociedade de Crédito ao Microempreendedor                  </td><td>Autorizada em Atividade                  </td><td>ASPECIR - SOCIEDADE DE CRÉDITO AO MICROEMPREENDEDOR E À EMPRESA DE PEQUENO PORTE LTDA.</td><td>ASPECIR EMPRÉSTIMOS                     </td></tr>\n",
       "<tr><td>PORTOSEG S.A. - CREDITO, FINANCIAMENTO E INVESTIMENTO                                  </td><td style=\"text-align: right;\">   2</td><td>PORTO SEGURO - PRUDENCIAL                      </td><td style=\"text-align: right;\">04862600</td><td style=\"text-align: right;\">04862600000110</td><td>2024-05-23</td><td style=\"text-align: right;\">   04862600</td><td style=\"text-align: right;\">            15554</td><td>Sociedade de Crédito, Financiamento e Investimento         </td><td>Autorizada em Atividade                  </td><td>PORTOSEG S.A. - CREDITO, FINANCIAMENTO E INVESTIMENTO                                 </td><td>PORTO SEGURO                            </td></tr>\n",
       "<tr><td>ADIQ SOLUCOES DE PAGAMENTO S.A.                                                        </td><td style=\"text-align: right;\">   2</td><td>BS2 - PRUDENCIAL                               </td><td style=\"text-align: right;\">20520298</td><td style=\"text-align: right;\">20520298000178</td><td>2024-05-23</td><td style=\"text-align: right;\">   20520298</td><td style=\"text-align: right;\">            42872</td><td>Instituição de Pagamento                                   </td><td>Autorizada em Atividade                  </td><td>ADIQ INSTITUIÇÃO DE PAGAMENTO S.A.                                                    </td><td>ADIQ SOLUÇÕES DE PAGAMENTO              </td></tr>\n",
       "<tr><td>MONEY PLUS SOCIEDADE DE CRÉDITO AO MICROEMPREENDEDOR E A EMPRESA DE PEQUENO PORTE LTDA.</td><td style=\"text-align: right;\">   2</td><td>MONEY PLUS                                     </td><td style=\"text-align: right;\">11581339</td><td style=\"text-align: right;\">11581339000145</td><td>2024-05-23</td><td style=\"text-align: right;\">   11581339</td><td style=\"text-align: right;\">            27360</td><td>Sociedade de Crédito ao Microempreendedor                  </td><td>Autorizada em Atividade                  </td><td>BMP SOCIEDADE DE CRÉDITO AO MICROEMPREENDEDOR E A EMPRESA DE PEQUENO PORTE LTDA.      </td><td>BMP SCM                                 </td></tr>\n",
       "<tr><td>ALESTA SOCIEDADE DE CREDITO DIRETO S.A.                                                </td><td style=\"text-align: right;\">   2</td><td>ALESTA SOCIEDADE DE CREDITO DIRETO - PRUDENCIAL</td><td style=\"text-align: right;\">38316293</td><td style=\"text-align: right;\">38316293000193</td><td>2024-05-23</td><td style=\"text-align: right;\">   38316293</td><td style=\"text-align: right;\">            43934</td><td>Sociedade de Crédito Direto                                </td><td>Autorizada em Atividade                  </td><td>ALESTA SOCIEDADE DE CREDITO DIRETO S.A.                                               </td><td>ALESTA                                  </td></tr>\n",
       "<tr><td>COINVALORES DISTRIBUIDORA DE TÍTULOS E VALORES MOBILIÁRIOS LTDA                        </td><td style=\"text-align: right;\">   2</td><td>COINVALORES                                    </td><td style=\"text-align: right;\">59148775</td><td style=\"text-align: right;\">59148775000151</td><td>2024-05-23</td><td style=\"text-align: right;\">   59148775</td><td style=\"text-align: right;\">            37096</td><td>Administradora de Fundos não sujeita a autorização pelo BCB</td><td>Falta de integridade referencial na fonte</td><td>COINVEST SERVICOS E NEGOCIOS LTDA.                                                    </td><td>COINVEST EMPREENDIMENTOS                </td></tr>\n",
       "<tr><td>ASAAS GESTAO FINANCEIRA S.A.                                                           </td><td style=\"text-align: right;\">   2</td><td>ASAAS GESTAO FINANCEIRA IP - PRUDENCIAL        </td><td style=\"text-align: right;\">19540550</td><td style=\"text-align: right;\">19540550000121</td><td>2024-05-23</td><td style=\"text-align: right;\">   19540550</td><td style=\"text-align: right;\">            43384</td><td>Instituição de Pagamento                                   </td><td>Autorizada em Atividade                  </td><td>ASAAS GESTÃO FINANCEIRA INSTITUIÇÃO DE PAGAMENTO S.A.                                 </td><td>ASAAS GESTÃO FINANCEIRA S.A.            </td></tr>\n",
       "</tbody>\n",
       "</table>"
      ],
      "text/plain": [
       "<IPython.core.display.HTML object>"
      ]
     },
     "metadata": {},
     "output_type": "display_data"
    }
   ],
   "source": [
    "df_join.printSchema()\n",
    "df_join_sample = df_join.sample(False, 0.1).limit(30)\n",
    "\n",
    "tb = tabulate(df_join_sample.collect(), headers=df_join_sample.columns, tablefmt='html')\n",
    "\n",
    "display(HTML(tb))"
   ]
  },
  {
   "cell_type": "code",
   "execution_count": null,
   "id": "07955860-1353-4d69-bd17-d8ebbeedcc65",
   "metadata": {},
   "outputs": [],
   "source": []
  },
  {
   "cell_type": "code",
   "execution_count": 39,
   "id": "dcf099c1-d111-4192-9f8c-432f0206774d",
   "metadata": {},
   "outputs": [
    {
     "name": "stdout",
     "output_type": "stream",
     "text": [
      "['codigo_cadastro_bacen', 'codigo_sisbacen', 'codigo_pais_sede', 'nome_pais_sede', 'nome_uf_sede', 'codigo_municipio_sede', 'nome_municipio_sede', 'nome_entidade', 'nome_entidade_nao_formatado', 'cnpj', 'cnpj_raiz', 'codigo_situacao', 'descricao_situacao', 'codigo_tipo_entidade_segmento', 'nome_tipo_entidade', 'codigo_natureza_juridica', 'descricao_natureza_juridica', 'codigo_esfera_publica', 'nome_reduzido', 'sigla_entidade', 'nome_fantasia', 'empresa_publica']\n",
      "<class 'list'>\n"
     ]
    }
   ],
   "source": [
    "\n",
    "\n"
   ]
  },
  {
   "cell_type": "code",
   "execution_count": 58,
   "id": "4da53cf3-fdba-4846-b52f-0c6a50177a79",
   "metadata": {},
   "outputs": [
    {
     "name": "stdout",
     "output_type": "stream",
     "text": [
      "+--------+\n",
      "|codigo  |\n",
      "+--------+\n",
      "|00000001|\n",
      "|00000123|\n",
      "|00012345|\n",
      "|12345678|\n",
      "+--------+\n",
      "\n"
     ]
    }
   ],
   "source": [
    "data = [(\"1\",), (\"123\",), (\"12345\",), (\"12345678\",)]\n",
    "columns = [\"codigo\"]\n",
    "df = spark.createDataFrame(data, columns)\n",
    "\n",
    "# Adicionar zeros à esquerda para que todos os valores na coluna \"codigo\" tenham exatamente 8 dígitos\n",
    "df_formatado = df.withColumn(\"codigo\", F.lpad(df[\"codigo\"], 8, '0'))\n",
    "\n",
    "# Exibir o DataFrame formatado\n",
    "df_formatado.show(truncate=False)"
   ]
  },
  {
   "cell_type": "code",
   "execution_count": null,
   "id": "942c9ffc-b78d-42a0-920e-365249ec4eba",
   "metadata": {},
   "outputs": [],
   "source": []
  }
 ],
 "metadata": {
  "kernelspec": {
   "display_name": "Python 3 (ipykernel)",
   "language": "python",
   "name": "python3"
  },
  "language_info": {
   "codemirror_mode": {
    "name": "ipython",
    "version": 3
   },
   "file_extension": ".py",
   "mimetype": "text/x-python",
   "name": "python",
   "nbconvert_exporter": "python",
   "pygments_lexer": "ipython3",
   "version": "3.11.7"
  }
 },
 "nbformat": 4,
 "nbformat_minor": 5
}
